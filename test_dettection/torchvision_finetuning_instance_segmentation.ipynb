{
  "cells": [
    {
      "cell_type": "markdown",
      "metadata": {
        "id": "DfPPQ6ztJhv4"
      },
      "source": [
        "# TorchVision Instance Segmentation Finetuning Tutorial\n",
        "\n",
        "For this tutorial, we will be finetuning a pre-trained [Mask R-CNN](https://arxiv.org/abs/1703.06870) model in the [*Penn-Fudan Database for Pedestrian Detection and Segmentation*](https://www.cis.upenn.edu/~jshi/ped_html/). It contains 170 images with 345 instances of pedestrians, and we will use it to illustrate how to use the new features in torchvision in order to train an instance segmentation model on a custom dataset.\n",
        "\n",
        "First, we need to install `pycocotools`. This library will be used for computing the evaluation metrics following the COCO metric for intersection over union."
      ]
    },
    {
      "cell_type": "code",
      "execution_count": 1,
      "metadata": {
        "colab": {
          "base_uri": "https://localhost:8080/"
        },
        "id": "DBIoe_tHTQgV",
        "outputId": "e53cd259-fd7a-4193-b6fb-280559d1cc16"
      },
      "outputs": [],
      "source": [
        "# # %%shell\n",
        "\n",
        "# pip install cython\n",
        "# # Install pycocotools, the version by default in Colab\n",
        "# # has a bug fixed in https://github.com/cocodataset/cocoapi/pull/354\n",
        "# pip install -U 'git+https://github.com/cocodataset/cocoapi.git#subdirectory=PythonAPI'"
      ]
    },
    {
      "cell_type": "markdown",
      "metadata": {
        "id": "5Sd4jlGp2eLm"
      },
      "source": [
        "## Defining the Dataset\n",
        "\n",
        "The [torchvision reference scripts for training object detection, instance segmentation and person keypoint detection](https://github.com/pytorch/vision/tree/v0.3.0/references/detection) allows for easily supporting adding new custom datasets.\n",
        "The dataset should inherit from the standard `torch.utils.data.Dataset` class, and implement `__len__` and `__getitem__`.\n",
        "\n",
        "The only specificity that we require is that the dataset `__getitem__` should return:\n",
        "\n",
        "* image: a PIL Image of size (H, W)\n",
        "* target: a dict containing the following fields\n",
        "    * `boxes` (`FloatTensor[N, 4]`): the coordinates of the `N` bounding boxes in `[x0, y0, x1, y1]` format, ranging from `0` to `W` and `0` to `H`\n",
        "    * `labels` (`Int64Tensor[N]`): the label for each bounding box\n",
        "    * `image_id` (`Int64Tensor[1]`): an image identifier. It should be unique between all the images in the dataset, and is used during evaluation\n",
        "    * `area` (`Tensor[N]`): The area of the bounding box. This is used during evaluation with the COCO metric, to separate the metric scores between small, medium and large boxes.\n",
        "    * `iscrowd` (`UInt8Tensor[N]`): instances with `iscrowd=True` will be ignored during evaluation.\n",
        "    * (optionally) `masks` (`UInt8Tensor[N, H, W]`): The segmentation masks for each one of the objects\n",
        "    * (optionally) `keypoints` (`FloatTensor[N, K, 3]`): For each one of the `N` objects, it contains the `K` keypoints in `[x, y, visibility]` format, defining the object. `visibility=0` means that the keypoint is not visible. Note that for data augmentation, the notion of flipping a keypoint is dependent on the data representation, and you should probably adapt `references/detection/transforms.py` for your new keypoint representation\n",
        "\n",
        "If your model returns the above methods, they will make it work for both training and evaluation, and will use the evaluation scripts from pycocotools.\n",
        "\n",
        "\n",
        "One note on the labels. The model considers class 0 as background. If your dataset does not contain the background class, you should not have 0 in your labels. For example, assuming you have just two classes, cat and dog, you can define 1 (not 0) to represent cats and 2 to represent dogs. So, for instance, if one of the images has both classes, your labels tensor should look like [1,2].\n",
        "\n",
        "Additionally, if you want to use aspect ratio grouping during training (so that each batch only contains images with similar aspect ratio), then it is recommended to also implement a `get_height_and_width` method, which returns the height and the width of the image. If this method is not provided, we query all elements of the dataset via `__getitem__` , which loads the image in memory and is slower than if a custom method is provided.\n"
      ]
    },
    {
      "cell_type": "markdown",
      "metadata": {
        "id": "bX0rqK-A3Nbl"
      },
      "source": [
        "### Writing a custom dataset for Penn-Fudan\n",
        "\n",
        "Let's write a dataset for the Penn-Fudan dataset.\n",
        "\n",
        "First, let's download and extract the data, present in a zip file at https://www.cis.upenn.edu/~jshi/ped_html/PennFudanPed.zip"
      ]
    },
    {
      "cell_type": "code",
      "execution_count": 2,
      "metadata": {},
      "outputs": [],
      "source": [
        "# !pip install pip install pycocotools"
      ]
    },
    {
      "cell_type": "code",
      "execution_count": 3,
      "metadata": {
        "colab": {
          "base_uri": "https://localhost:8080/"
        },
        "id": "_t4TBwhHTdkd",
        "outputId": "4036aadb-ce4f-401c-aea7-afcf035b3e2d"
      },
      "outputs": [],
      "source": [
        "# %%shell\n",
        "\n",
        "# # download the Penn-Fudan dataset\n",
        "# wget https://www.cis.upenn.edu/~jshi/ped_html/PennFudanPed.zip .\n",
        "# # extract it in the current folder\n",
        "# unzip PennFudanPed.zip"
      ]
    },
    {
      "cell_type": "markdown",
      "metadata": {
        "id": "WfwuU-jI3j93"
      },
      "source": [
        "Let's have a look at the dataset and how it is layed down.\n",
        "\n",
        "The data is structured as follows\n",
        "```\n",
        "PennFudanPed/\n",
        "  PedMasks/\n",
        "    FudanPed00001_mask.png\n",
        "    FudanPed00002_mask.png\n",
        "    FudanPed00003_mask.png\n",
        "    FudanPed00004_mask.png\n",
        "    ...\n",
        "  PNGImages/\n",
        "    FudanPed00001.png\n",
        "    FudanPed00002.png\n",
        "    FudanPed00003.png\n",
        "    FudanPed00004.png\n",
        "```\n",
        "\n",
        "Here is one example of an image in the dataset, with its corresponding instance segmentation mask"
      ]
    },
    {
      "cell_type": "code",
      "execution_count": 4,
      "metadata": {
        "colab": {
          "base_uri": "https://localhost:8080/",
          "height": 553
        },
        "id": "LDjuVFgexFfh",
        "outputId": "ce4d60dc-8159-4b01-d26b-d11f3518f18d"
      },
      "outputs": [],
      "source": [
        "# from PIL import Image\n",
        "# Image.open('PennFudanPed/PNGImages/FudanPed00001.png')"
      ]
    },
    {
      "cell_type": "code",
      "execution_count": 5,
      "metadata": {
        "colab": {
          "base_uri": "https://localhost:8080/",
          "height": 553
        },
        "id": "cFHKCvCTxiff",
        "outputId": "320d38e4-8609-43eb-b7ad-51ea9bce3b8e"
      },
      "outputs": [],
      "source": [
        "# mask = Image.open('PennFudanPed/PedMasks/FudanPed00001_mask.png')\n",
        "# # each mask instance has a different color, from zero to N, where\n",
        "# # N is the number of instances. In order to make visualization easier,\n",
        "# # let's adda color palette to the mask.\n",
        "# mask.putpalette([\n",
        "#     0, 0, 0, # black background\n",
        "#     255, 0, 0, # index 1 is red\n",
        "#     255, 255, 0, # index 2 is yellow\n",
        "#     255, 153, 0, # index 3 is orange\n",
        "# ])\n",
        "# mask"
      ]
    },
    {
      "cell_type": "markdown",
      "metadata": {
        "id": "C9Ee5NV54Dmj"
      },
      "source": [
        "So each image has a corresponding segmentation mask, where each color correspond to a different instance. Let's write a `torch.utils.data.Dataset` class for this dataset."
      ]
    },
    {
      "cell_type": "code",
      "execution_count": 6,
      "metadata": {},
      "outputs": [],
      "source": [
        "from pathlib import Path\n",
        "thispath = Path.cwd().resolve()\n",
        "import sys; sys.path.insert(0, str(thispath.parent))"
      ]
    },
    {
      "cell_type": "code",
      "execution_count": 7,
      "metadata": {
        "id": "mTgWtixZTs3X"
      },
      "outputs": [
        {
          "name": "stderr",
          "output_type": "stream",
          "text": [
            "/home/vzalevskyi/projects/calc-det/deep_learning/dataset/dataset.py:43: DtypeWarning: Columns (15,16) have mixed types.Specify dtype option on import or set low_memory=False.\n",
            "  super(INBreast_Dataset_pytorch, self).__init__(\n"
          ]
        },
        {
          "data": {
            "text/plain": [
              "(tensor([[[  1.5882,   0.9969,   1.6692,  ...,   0.6242,   1.2318,   1.3776],\n",
              "          [  1.3371,   1.2399,   1.2723,  ...,   1.3290,   1.4343,   1.5963],\n",
              "          [  1.3695,   1.0860,   1.3452,  ...,   1.0212,   1.4100,   1.6530],\n",
              "          ...,\n",
              "          [ -0.8662,  -0.7042,  -0.6313,  ..., -11.2669, -11.2669, -11.2669],\n",
              "          [ -0.3883,  -0.5827,  -0.7042,  ..., -11.2669, -11.2669, -11.2669],\n",
              "          [ -0.3640,  -0.7528,  -0.6394,  ..., -11.2669, -11.2669, -11.2669]],\n",
              " \n",
              "         [[  1.5882,   0.9969,   1.6692,  ...,   0.6242,   1.2318,   1.3776],\n",
              "          [  1.3371,   1.2399,   1.2723,  ...,   1.3290,   1.4343,   1.5963],\n",
              "          [  1.3695,   1.0860,   1.3452,  ...,   1.0212,   1.4100,   1.6530],\n",
              "          ...,\n",
              "          [ -0.8662,  -0.7042,  -0.6313,  ..., -11.2669, -11.2669, -11.2669],\n",
              "          [ -0.3883,  -0.5827,  -0.7042,  ..., -11.2669, -11.2669, -11.2669],\n",
              "          [ -0.3640,  -0.7528,  -0.6394,  ..., -11.2669, -11.2669, -11.2669]],\n",
              " \n",
              "         [[  1.5882,   0.9969,   1.6692,  ...,   0.6242,   1.2318,   1.3776],\n",
              "          [  1.3371,   1.2399,   1.2723,  ...,   1.3290,   1.4343,   1.5963],\n",
              "          [  1.3695,   1.0860,   1.3452,  ...,   1.0212,   1.4100,   1.6530],\n",
              "          ...,\n",
              "          [ -0.8662,  -0.7042,  -0.6313,  ..., -11.2669, -11.2669, -11.2669],\n",
              "          [ -0.3883,  -0.5827,  -0.7042,  ..., -11.2669, -11.2669, -11.2669],\n",
              "          [ -0.3640,  -0.7528,  -0.6394,  ..., -11.2669, -11.2669, -11.2669]]]),\n",
              " {'boxes': tensor([[ 85., 155.,  99., 169.]]), 'labels': tensor([1])})"
            ]
          },
          "execution_count": 7,
          "metadata": {},
          "output_type": "execute_result"
        }
      ],
      "source": [
        "from deep_learning.dataset.dataset import INBreast_Dataset_pytorch\n",
        "dataset_train = INBreast_Dataset_pytorch(\n",
        "    partitions = ['train'],\n",
        "    extract_patches = False,\n",
        "    delete_previous = False,\n",
        "    extract_patches_method = 'all',\n",
        "    patch_size = 224,\n",
        "    stride = 100,\n",
        "    min_breast_fraction_roi = 0.7,\n",
        "    n_jobs = -1,\n",
        "    cropped_imgs = True,\n",
        "    ignore_diameter_px = 15,\n",
        "    neg_to_pos_ratio = None,\n",
        "    balancing_seed = 0,\n",
        "    normalization = 'z_score',\n",
        "    get_lesion_bboxes = True,\n",
        "    for_detection_net = True\n",
        ")\n",
        "\n",
        "dataset_val = INBreast_Dataset_pytorch(\n",
        "    partitions = ['validation'],\n",
        "    extract_patches = False,\n",
        "    delete_previous = False,\n",
        "    extract_patches_method = 'all',\n",
        "    patch_size = 224,\n",
        "    stride = 100,\n",
        "    min_breast_fraction_roi = 0.7,\n",
        "    n_jobs = -1,\n",
        "    cropped_imgs = True,\n",
        "    ignore_diameter_px = 15,\n",
        "    neg_to_pos_ratio = None,\n",
        "    balancing_seed = 0,\n",
        "    normalization = 'z_score',\n",
        "    get_lesion_bboxes = True,\n",
        "    for_detection_net = True\n",
        ")\n",
        "\n",
        "dataset_val[0]"
      ]
    },
    {
      "cell_type": "markdown",
      "metadata": {
        "id": "J6f3ZOTJ4Km9"
      },
      "source": [
        "That's all for the dataset. Let's see how the outputs are structured for this dataset"
      ]
    },
    {
      "cell_type": "markdown",
      "metadata": {
        "id": "lWOhcsir9Ahx"
      },
      "source": [
        "So we can see that by default, the dataset returns a `PIL.Image` and a dictionary\n",
        "containing several fields, including `boxes`, `labels` and `masks`."
      ]
    },
    {
      "cell_type": "markdown",
      "metadata": {
        "id": "RoAEkUgn4uEq"
      },
      "source": [
        "## Defining your model\n",
        "\n",
        "In this tutorial, we will be using [Mask R-CNN](https://arxiv.org/abs/1703.06870), which is based on top of [Faster R-CNN](https://arxiv.org/abs/1506.01497). Faster R-CNN is a model that predicts both bounding boxes and class scores for potential objects in the image.\n",
        "\n",
        "![Faster R-CNN](https://raw.githubusercontent.com/pytorch/vision/temp-tutorial/tutorials/tv_image03.png)\n",
        "\n",
        "Mask R-CNN adds an extra branch into Faster R-CNN, which also predicts segmentation masks for each instance.\n",
        "\n",
        "![Mask R-CNN](https://raw.githubusercontent.com/pytorch/vision/temp-tutorial/tutorials/tv_image04.png)\n",
        "\n",
        "There are two common situations where one might want to modify one of the available models in torchvision modelzoo.\n",
        "The first is when we want to start from a pre-trained model, and just finetune the last layer. The other is when we want to replace the backbone of the model with a different one (for faster predictions, for example).\n",
        "\n",
        "Let's go see how we would do one or another in the following sections.\n",
        "\n",
        "\n",
        "### 1 - Finetuning from a pretrained model\n",
        "\n",
        "Let's suppose that you want to start from a model pre-trained on COCO and want to finetune it for your particular classes. Here is a possible way of doing it:\n",
        "```\n",
        "import torchvision\n",
        "from torchvision.models.detection.faster_rcnn import FastRCNNPredictor\n",
        "\n",
        "# load a model pre-trained pre-trained on COCO\n",
        "model = torchvision.models.detection.fasterrcnn_resnet50_fpn(pretrained=True)\n",
        "\n",
        "# replace the classifier with a new one, that has\n",
        "# num_classes which is user-defined\n",
        "num_classes = 2  # 1 class (person) + background\n",
        "# get number of input features for the classifier\n",
        "in_features = model.roi_heads.box_predictor.cls_score.in_features\n",
        "# replace the pre-trained head with a new one\n",
        "model.roi_heads.box_predictor = FastRCNNPredictor(in_features, num_classes) \n",
        "```\n",
        "\n",
        "### 2 - Modifying the model to add a different backbone\n",
        "\n",
        "Another common situation arises when the user wants to replace the backbone of a detection\n",
        "model with a different one. For example, the current default backbone (ResNet-50) might be too big for some applications, and smaller models might be necessary.\n",
        "\n",
        "Here is how we would go into leveraging the functions provided by torchvision to modify a backbone.\n",
        "\n",
        "```\n",
        "import torchvision\n",
        "from torchvision.models.detection import FasterRCNN\n",
        "from torchvision.models.detection.rpn import AnchorGenerator\n",
        "\n",
        "# load a pre-trained model for classification and return\n",
        "# only the features\n",
        "backbone = torchvision.models.mobilenet_v2(pretrained=True).features\n",
        "# FasterRCNN needs to know the number of\n",
        "# output channels in a backbone. For mobilenet_v2, it's 1280\n",
        "# so we need to add it here\n",
        "backbone.out_channels = 1280\n",
        "\n",
        "# let's make the RPN generate 5 x 3 anchors per spatial\n",
        "# location, with 5 different sizes and 3 different aspect\n",
        "# ratios. We have a Tuple[Tuple[int]] because each feature\n",
        "# map could potentially have different sizes and\n",
        "# aspect ratios \n",
        "anchor_generator = AnchorGenerator(sizes=((32, 64, 128, 256, 512),),\n",
        "                                   aspect_ratios=((0.5, 1.0, 2.0),))\n",
        "\n",
        "# let's define what are the feature maps that we will\n",
        "# use to perform the region of interest cropping, as well as\n",
        "# the size of the crop after rescaling.\n",
        "# if your backbone returns a Tensor, featmap_names is expected to\n",
        "# be [0]. More generally, the backbone should return an\n",
        "# OrderedDict[Tensor], and in featmap_names you can choose which\n",
        "# feature maps to use.\n",
        "roi_pooler = torchvision.ops.MultiScaleRoIAlign(featmap_names=[0],\n",
        "                                                output_size=7,\n",
        "                                                sampling_ratio=2)\n",
        "\n",
        "# put the pieces together inside a FasterRCNN model\n",
        "model = FasterRCNN(backbone,\n",
        "                   num_classes=2,\n",
        "                   rpn_anchor_generator=anchor_generator,\n",
        "                   box_roi_pool=roi_pooler)\n",
        "```\n",
        "\n",
        "### An Instance segmentation model for PennFudan Dataset\n",
        "\n",
        "In our case, we want to fine-tune from a pre-trained model, given that our dataset is very small. So we will be following approach number 1.\n",
        "\n",
        "Here we want to also compute the instance segmentation masks, so we will be using Mask R-CNN:"
      ]
    },
    {
      "cell_type": "code",
      "execution_count": 8,
      "metadata": {
        "id": "YjNHjVMOyYlH"
      },
      "outputs": [],
      "source": [
        "import torchvision\n",
        "from torchvision.models.detection.faster_rcnn import FastRCNNPredictor\n",
        "from torchvision.models.detection.mask_rcnn import MaskRCNNPredictor\n",
        "\n",
        "from torchvision.models.detection import FasterRCNN\n",
        "from torchvision.models.detection.rpn import AnchorGenerator\n",
        "      \n",
        "def get_instance_segmentation_model(num_classes):\n",
        "    # load an instance segmentation model pre-trained on COCO\n",
        "    # load a pre-trained model for classification and return\n",
        "    # only the features\n",
        "    backbone = torchvision.models.mobilenet_v2(pretrained=True).features\n",
        "    # FasterRCNN needs to know the number of\n",
        "    # output channels in a backbone. For mobilenet_v2, it's 1280\n",
        "    # so we need to add it here\n",
        "    backbone.out_channels = 1280\n",
        "\n",
        "    # let's make the RPN generate 5 x 3 anchors per spatial\n",
        "    # location, with 5 different sizes and 3 different aspect\n",
        "    # ratios. We have a Tuple[Tuple[int]] because each feature\n",
        "    # map could potentially have different sizes and\n",
        "    # aspect ratios \n",
        "    anchor_generator = AnchorGenerator(sizes=((14, 32),),\n",
        "                                    aspect_ratios=((1.0),))\n",
        "\n",
        "    # let's define what are the feature maps that we will\n",
        "    # use to perform the region of interest cropping, as well as\n",
        "    # the size of the crop after rescaling.\n",
        "    # if your backbone returns a Tensor, featmap_names is expected to\n",
        "    # be [0]. More generally, the backbone should return an\n",
        "    # OrderedDict[Tensor], and in featmap_names you can choose which\n",
        "    # feature maps to use.\n",
        "    roi_pooler = torchvision.ops.MultiScaleRoIAlign(featmap_names=['0'],\n",
        "                                                    output_size=7,\n",
        "                                                sampling_ratio=2)\n",
        "\n",
        "    # put the pieces together inside a FasterRCNN model\n",
        "    model = FasterRCNN(backbone,\n",
        "                    num_classes=2,\n",
        "                    rpn_anchor_generator=anchor_generator,\n",
        "                    box_roi_pool=roi_pooler)\n",
        "\n",
        "    return model"
      ]
    },
    {
      "cell_type": "markdown",
      "metadata": {
        "id": "-WXLwePV5ieP"
      },
      "source": [
        "That's it, this will make model be ready to be trained and evaluated on our custom dataset.\n",
        "\n",
        "## Training and evaluation functions\n",
        "\n",
        "In `references/detection/,` we have a number of helper functions to simplify training and evaluating detection models.\n",
        "Here, we will use `references/detection/engine.py`, `references/detection/utils.py` and `references/detection/transforms.py`.\n",
        "\n",
        "Let's copy those files (and their dependencies) in here so that they are available in the notebook"
      ]
    },
    {
      "cell_type": "code",
      "execution_count": 9,
      "metadata": {
        "colab": {
          "base_uri": "https://localhost:8080/"
        },
        "id": "UYDb7PBw55b-",
        "outputId": "9e6fc497-b832-4fa6-e70d-030a7fadd02d"
      },
      "outputs": [],
      "source": [
        "\n",
        "# # Download TorchVision repo to use some files from\n",
        "# # references/detection\n",
        "# !git clone https://github.com/pytorch/vision.git\n",
        "# !cd vision\n",
        "# !git checkout v0.8.2\n",
        "# !\n",
        "# !cp references/detection/utils.py ../\n",
        "# !cp references/detection/transforms.py ../\n",
        "# !cp references/detection/coco_eval.py ../\n",
        "# !cp references/detection/engine.py ../\n",
        "# !cp references/detection/coco_utils.py ../"
      ]
    },
    {
      "cell_type": "markdown",
      "metadata": {
        "id": "2u9e_pdv54nG"
      },
      "source": [
        "\n",
        "\n",
        "Let's write some helper functions for data augmentation / transformation, which leverages the functions in `refereces/detection` that we have just copied:\n"
      ]
    },
    {
      "cell_type": "code",
      "execution_count": 10,
      "metadata": {
        "id": "l79ivkwKy357"
      },
      "outputs": [],
      "source": [
        "from engine import train_one_epoch, evaluate\n",
        "import utils\n",
        "import transforms as T\n",
        "\n",
        "\n",
        "def get_transform(train):\n",
        "    transforms = []\n",
        "    # converts the image, a PIL image, into a PyTorch Tensor\n",
        "    transforms.append(T.ToTensor())\n",
        "    if train:\n",
        "        # during training, randomly flip the training images\n",
        "        # and ground-truth for data augmentation\n",
        "        transforms.append(T.RandomHorizontalFlip(0.5))\n",
        "    return T.Compose(transforms)"
      ]
    },
    {
      "cell_type": "markdown",
      "metadata": {
        "id": "ovjC81FZfWat"
      },
      "source": [
        "#### Testing forward() method \n",
        "\n",
        "Before iterating over the dataset, it’s good to see what the model expects during training and inference time on sample data.\n"
      ]
    },
    {
      "cell_type": "code",
      "execution_count": 11,
      "metadata": {
        "colab": {
          "base_uri": "https://localhost:8080/"
        },
        "id": "6-NFR--2fXV3",
        "outputId": "44e69832-dc5b-457d-c035-d05643e4c2bc"
      },
      "outputs": [],
      "source": [
        "# model = torchvision.models.detection.fasterrcnn_resnet50_fpn(pretrained=True)\n",
        "# dataset = PennFudanDataset('PennFudanPed', get_transform(train=True))\n",
        "# data_loader = torch.utils.data.DataLoader(\n",
        "#     dataset, batch_size=2, shuffle=True, num_workers=4,\n",
        "#     collate_fn=utils.collate_fn\n",
        "# )\n",
        "# # For Training\n",
        "# images,targets = next(iter(data_loader))\n",
        "# images = list(image for image in images)\n",
        "# targets = [{k: v for k, v in t.items()} for t in targets]\n",
        "# output = model(images,targets)   # Returns losses and detections\n",
        "# # For inference\n",
        "# model.eval()\n",
        "# x = [torch.rand(3, 300, 400), torch.rand(3, 500, 400)]\n",
        "# predictions = model(x)           # Returns predictions\n",
        "\n"
      ]
    },
    {
      "cell_type": "markdown",
      "metadata": {
        "id": "FzCLqiZk-sjf"
      },
      "source": [
        "#### Note that we do not need to add a mean/std normalization nor image rescaling in the data transforms, as those are handled internally by the Mask R-CNN model."
      ]
    },
    {
      "cell_type": "markdown",
      "metadata": {
        "id": "3YFJGJxk6XEs"
      },
      "source": [
        "### Putting everything together\n",
        "\n",
        "We now have the dataset class, the models and the data transforms. Let's instantiate them"
      ]
    },
    {
      "cell_type": "code",
      "execution_count": 12,
      "metadata": {},
      "outputs": [],
      "source": [
        "import torch"
      ]
    },
    {
      "cell_type": "code",
      "execution_count": 17,
      "metadata": {},
      "outputs": [],
      "source": [
        "def collate_fn(batch):\n",
        "    return tuple(zip(*batch))\n",
        "\n",
        "from torch.utils.data import DataLoader\n",
        "data_loader = DataLoader(dataset_val, batch_size=128, shuffle=True, sampler=None, collate_fn=collate_fn,\n",
        "           batch_sampler=None, num_workers=4, pin_memory=True, drop_last=False)\n",
        "\n",
        "data_loader_test = DataLoader(dataset_val, batch_size=128, shuffle=True, sampler=None, collate_fn=collate_fn,\n",
        "           batch_sampler=None, num_workers=4, pin_memory=True, drop_last=False)"
      ]
    },
    {
      "cell_type": "code",
      "execution_count": 14,
      "metadata": {
        "colab": {
          "base_uri": "https://localhost:8080/"
        },
        "id": "a5dGaIezze3y",
        "outputId": "7ad33796-78e2-4956-9b0f-00cd11c5339f"
      },
      "outputs": [],
      "source": [
        "# # use our dataset and defined transformations\n",
        "# dataset = dataset_val#PennFudanDataset('PennFudanPed', get_transform(train=True))\n",
        "# dataset_test = dataset_val# PennFudanDataset('PennFudanPed', get_transform(train=False))\n",
        "\n",
        "# # split the dataset in train and test set\n",
        "# torch.manual_seed(1)\n",
        "# indices = torch.randperm(len(dataset)).tolist()\n",
        "# dataset = torch.utils.data.Subset(dataset, indices[:-50])\n",
        "# dataset_test = torch.utils.data.Subset(dataset_test, indices[-50:])\n",
        "\n",
        "# # define training and validation data loaders\n",
        "# data_loader = torch.utils.data.DataLoader(\n",
        "#     dataset, batch_size=2, shuffle=True, num_workers=4,\n",
        "#     collate_fn=utils.collate_fn)\n",
        "\n",
        "# data_loader_test = torch.utils.data.DataLoader(\n",
        "#     dataset_test, batch_size=1, shuffle=False, num_workers=4,\n",
        "#     collate_fn=utils.collate_fn)"
      ]
    },
    {
      "cell_type": "markdown",
      "metadata": {
        "id": "L5yvZUprj4ZN"
      },
      "source": [
        "Now let's instantiate the model and the optimizer"
      ]
    },
    {
      "cell_type": "code",
      "execution_count": 18,
      "metadata": {
        "id": "zoenkCj18C4h"
      },
      "outputs": [],
      "source": [
        "device = torch.device('cuda') if torch.cuda.is_available() else torch.device('cpu')\n",
        "\n",
        "# our dataset has two classes only - background and person\n",
        "num_classes = 2\n",
        "\n",
        "# get the model using our helper function\n",
        "model = get_instance_segmentation_model(num_classes)\n",
        "# move model to the right device\n",
        "model.to(device)\n",
        "\n",
        "# construct an optimizer\n",
        "params = [p for p in model.parameters() if p.requires_grad]\n",
        "optimizer = torch.optim.SGD(params, lr=0.005,\n",
        "                            momentum=0.9, weight_decay=0.0005)\n",
        "\n",
        "# and a learning rate scheduler which decreases the learning rate by\n",
        "# 10x every 3 epochs\n",
        "lr_scheduler = torch.optim.lr_scheduler.StepLR(optimizer,\n",
        "                                               step_size=3,\n",
        "                                               gamma=0.1)"
      ]
    },
    {
      "cell_type": "markdown",
      "metadata": {
        "id": "XAd56lt4kDxc"
      },
      "source": [
        "And now let's train the model for 10 epochs, evaluating at the end of every epoch."
      ]
    },
    {
      "cell_type": "code",
      "execution_count": 19,
      "metadata": {
        "colab": {
          "base_uri": "https://localhost:8080/",
          "height": 470
        },
        "id": "at-h4OWK0aoc",
        "outputId": "6b7e5715-c873-4449-c667-1417647ca984"
      },
      "outputs": [
        {
          "name": "stderr",
          "output_type": "stream",
          "text": [
            "/home/vzalevskyi/anaconda3/lib/python3.9/site-packages/torch/autocast_mode.py:162: UserWarning: User provided device_type of 'cuda', but CUDA is not available. Disabling\n",
            "  warnings.warn('User provided device_type of \\'cuda\\', but CUDA is not available. Disabling')\n"
          ]
        }
      ],
      "source": [
        "# let's train it for 10 epochs\n",
        "from torch.optim.lr_scheduler import StepLR\n",
        "num_epochs = 10\n",
        "\n",
        "for epoch in range(num_epochs):\n",
        "    # train for one epoch, printing every 10 iterations\n",
        "    train_one_epoch(model, optimizer, data_loader, device, epoch, print_freq=10)\n",
        "    # update the learning rate\n",
        "    lr_scheduler.step()\n",
        "    # evaluate on the test dataset\n",
        "    evaluate(model, data_loader_test, device=device)"
      ]
    },
    {
      "cell_type": "markdown",
      "metadata": {
        "id": "Z6mYGFLxkO8F"
      },
      "source": [
        "Now that training has finished, let's have a look at what it actually predicts in a test image"
      ]
    },
    {
      "cell_type": "code",
      "execution_count": null,
      "metadata": {
        "id": "YHwIdxH76uPj"
      },
      "outputs": [],
      "source": [
        "# pick one image from the test set\n",
        "img, _ = dataset_test[0]\n",
        "# put the model in evaluation mode\n",
        "model.eval()\n",
        "with torch.no_grad():\n",
        "    prediction = model([img.to(device)])"
      ]
    },
    {
      "cell_type": "markdown",
      "metadata": {
        "id": "DmN602iKsuey"
      },
      "source": [
        "Printing the prediction shows that we have a list of dictionaries. Each element of the list corresponds to a different image. As we have a single image, there is a single dictionary in the list.\n",
        "The dictionary contains the predictions for the image we passed. In this case, we can see that it contains `boxes`, `labels`, `masks` and `scores` as fields."
      ]
    },
    {
      "cell_type": "code",
      "execution_count": null,
      "metadata": {
        "id": "Lkmb3qUu6zw3"
      },
      "outputs": [],
      "source": [
        "prediction"
      ]
    },
    {
      "cell_type": "markdown",
      "metadata": {
        "id": "RwT21rzotFbH"
      },
      "source": [
        "Let's inspect the image and the predicted segmentation masks.\n",
        "\n",
        "For that, we need to convert the image, which has been rescaled to 0-1 and had the channels flipped so that we have it in `[C, H, W]` format."
      ]
    },
    {
      "cell_type": "code",
      "execution_count": null,
      "metadata": {
        "id": "bpqN9t1u7B2J"
      },
      "outputs": [],
      "source": [
        "Image.fromarray(img.mul(255).permute(1, 2, 0).byte().numpy())"
      ]
    },
    {
      "cell_type": "markdown",
      "metadata": {
        "id": "M58J3O9OtT1G"
      },
      "source": [
        "And let's now visualize the top predicted segmentation mask. The masks are predicted as `[N, 1, H, W]`, where `N` is the number of predictions, and are probability maps between 0-1."
      ]
    },
    {
      "cell_type": "code",
      "execution_count": null,
      "metadata": {
        "id": "5v5S3bm07SO1"
      },
      "outputs": [],
      "source": [
        "Image.fromarray(prediction[0]['masks'][0, 0].mul(255).byte().cpu().numpy())"
      ]
    },
    {
      "cell_type": "markdown",
      "metadata": {
        "id": "0EZCVtCPunrT"
      },
      "source": [
        "Looks pretty good!\n",
        "\n",
        "## Wrapping up\n",
        "\n",
        "In this tutorial, you have learned how to create your own training pipeline for instance segmentation models, on a custom dataset.\n",
        "For that, you wrote a `torch.utils.data.Dataset` class that returns the images and the ground truth boxes and segmentation masks. You also leveraged a Mask R-CNN model pre-trained on COCO train2017 in order to perform transfer learning on this new dataset.\n",
        "\n",
        "For a more complete example, which includes multi-machine / multi-gpu training, check `references/detection/train.py`, which is present in the [torchvision GitHub repo](https://github.com/pytorch/vision/tree/v0.8.2/references/detection). \n",
        "\n"
      ]
    }
  ],
  "metadata": {
    "accelerator": "GPU",
    "colab": {
      "collapsed_sections": [],
      "name": "torchvision_finetuning_instance_segmentation.ipynb",
      "provenance": []
    },
    "kernelspec": {
      "display_name": "Python 3.9.7 ('base')",
      "language": "python",
      "name": "python3"
    },
    "language_info": {
      "codemirror_mode": {
        "name": "ipython",
        "version": 3
      },
      "file_extension": ".py",
      "mimetype": "text/x-python",
      "name": "python",
      "nbconvert_exporter": "python",
      "pygments_lexer": "ipython3",
      "version": "3.9.7"
    },
    "vscode": {
      "interpreter": {
        "hash": "aab0ec0e679e9c9fe5e8a1739a642d8456688678f7924db8d58b62c9618a230e"
      }
    }
  },
  "nbformat": 4,
  "nbformat_minor": 0
}
