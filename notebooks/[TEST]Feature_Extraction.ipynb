{
 "cells": [
  {
   "cell_type": "markdown",
   "metadata": {},
   "source": [
    "## Feature Extaction Test"
   ]
  },
  {
   "cell_type": "code",
   "execution_count": 1,
   "metadata": {},
   "outputs": [],
   "source": [
    "import sys\n",
    "sys.path.insert(0, '..')\n",
    "from metrics.metrics import  quick_circle_comparison, circle_comparison\n",
    "from general_utils.plots import plot_bboxes_over_image, simple_im_show, simple_im_show2\n",
    "from metrics.metrics_utils import get_tp_fp_fn_center_patch_criteria\n",
    "from mc_candidate_proposal.hough_mc import HoughCalcificationDetection\n",
    "from mc_candidate_proposal.morphology_mc import MorphologyCalcificationDetection\n",
    "from feature_extraction.feature_extraction import CandidatesFeatureExtraction, CandidatesFeatureExtraction_MP\n",
    "from database.dataset import *\n",
    "import feature_extraction.haar_features.haar_modules as hm\n",
    "\n",
    "import pickle"
   ]
  },
  {
   "cell_type": "markdown",
   "metadata": {},
   "source": [
    "### Database initialization"
   ]
  },
  {
   "cell_type": "code",
   "execution_count": 2,
   "metadata": {},
   "outputs": [],
   "source": [
    "db = INBreast_Dataset(\n",
    "    return_lesions_mask=True,\n",
    "    level='image',\n",
    "    max_lesion_diam_mm=None,\n",
    "    partitions=['train', 'validation'],\n",
    "    min_breast_fraction_roi=0.5,\n",
    "    normalize=None,\n",
    "    n_jobs=-1,\n",
    "    use_muscle_mask=True\n",
    ")"
   ]
  },
  {
   "cell_type": "markdown",
   "metadata": {},
   "source": [
    "### Detectors Parameters and initialization"
   ]
  },
  {
   "cell_type": "code",
   "execution_count": 3,
   "metadata": {},
   "outputs": [],
   "source": [
    "hd = MorphologyCalcificationDetection(rbd_img_path='/home/vzalevskyi/projects/calc-det/data/recounstructed_by_dialation_img/new_rbd',\n",
    "                                      threshold=0.96, min_distance=6,\n",
    "                                      area=14*14, filter_muscle_region=True, )\n",
    "CENTER_CROP_PATCH = None\n",
    "PATCH_SIZE = 14\n",
    "\n",
    "GABOR_PARAMS = {'scale': 2, 'orientation': 3,\n",
    "                'max_freq': 0.2, 'ksize': (20, 20), 'sigma': 3}\n",
    "WAVELET_PARAMS = {'angles': [0, np.pi/4, np.pi/2]}\n",
    "\n",
    "\n",
    "# THIS IS FINAL HAAR\n",
    "path = (Path.cwd().parent)\n",
    "with open(path/'data/final_haar_400_feat_selection_GSM.p', 'rb') as f:\n",
    "    selection = pickle.load(f)\n",
    "    \n",
    "# ISTANTIATE the candidate Feature Extractor with the selected features.\n",
    "haar_params = {\n",
    "    'skimage': {\n",
    "        'feature_type': selection['skimage_haar_feature_types_sel'],\n",
    "        'feature_coord': selection['skimage_haar_feature_coords_sel']\n",
    "    },\n",
    "    'ours': {\n",
    "        'horizontal_feature_selection': selection['hor_feats_selection'].tolist(),\n",
    "        'rotated_feature_selection': selection['rot_feats_selection'].tolist(),\n",
    "        'rotated_feature_types': None,\n",
    "        'horizontal_feature_types': None\n",
    "    },\n",
    "    'patch_size': 14\n",
    "}\n",
    "\n",
    "cfe = CandidatesFeatureExtraction_MP(patch_size=PATCH_SIZE, fos=False, gabor_params=None,\n",
    "                                  wavelet_params=None, haar_params=haar_params)"
   ]
  },
  {
   "cell_type": "markdown",
   "metadata": {},
   "source": [
    "### Detector initialization"
   ]
  },
  {
   "cell_type": "code",
   "execution_count": 6,
   "metadata": {},
   "outputs": [],
   "source": [
    "db_range = list(range(len(db)))"
   ]
  },
  {
   "cell_type": "markdown",
   "metadata": {},
   "source": [
    "### FE"
   ]
  },
  {
   "cell_type": "code",
   "execution_count": 8,
   "metadata": {},
   "outputs": [
    {
     "name": "stderr",
     "output_type": "stream",
     "text": [
      "100%|██████████| 210/210 [17:09<00:00,  4.90s/it]\n"
     ]
    }
   ],
   "source": [
    "fdf = []\n",
    "fns_df = []\n",
    "for idx in tqdm(db_range[:]):\n",
    "    # extracting data\n",
    "    db_sample = db[idx]\n",
    "    image = db_sample['img']\n",
    "    image_id = db.df.iloc[idx].img_id\n",
    "    image_mask = db_sample['lesion_mask']\n",
    "    muscle_mask = db_sample['muscle_mask']\n",
    "    # candidate selection\n",
    "    candidates = hd.detect(image, image_id, muscle_mask)\n",
    "\n",
    "    # labeling of candidates:\n",
    "    tp, fp, fn = get_tp_fp_fn_center_patch_criteria(\n",
    "        candidates, image_mask, CENTER_CROP_PATCH, PATCH_SIZE)\n",
    "    candidates = pd.concat([tp, fp], axis=0, ignore_index=True)\n",
    "    \n",
    "    # Extracting features\n",
    "    labels = np.where(candidates.label.values == 'TP', True, False)\n",
    "    \n",
    "    # Avoid extracting features for repeted detections\n",
    "    X = candidates.drop_duplicates(subset='repeted_idxs')\n",
    "    X = cfe.extract_features(X.loc[:,['x','y','radius']].values.astype(int), image)\n",
    "\n",
    "    # Get features dfs\n",
    "    X = pd.DataFrame(data=X, columns=cfe.feature_names)\n",
    "    X.index = candidates.drop_duplicates(subset='repeted_idxs').index\n",
    "\n",
    "    res = X.loc[candidates.repeted_idxs.tolist(),:]\n",
    "    res['img_id'] = image_id\n",
    "    res['repeted_idxs'] = candidates.repeted_idxs.tolist()\n",
    "    res['matching_gt'] = candidates.matching_gt.tolist()\n",
    "    res['label'] = labels\n",
    "\n",
    "    # Generate a fn dataframe to compute frocs\n",
    "    fn['img_id'] = image_id\n",
    "    fns_df.append(fn)\n",
    "    fdf.append(res)\n",
    "    \n",
    "data = pd.concat(fdf, ignore_index=True)\n",
    "fns_df = pd.concat(fns_df, ignore_index=True)\n"
   ]
  },
  {
   "cell_type": "code",
   "execution_count": 9,
   "metadata": {},
   "outputs": [],
   "source": [
    "pd.to_pickle((data, fns_df), 'feature_sets/gmorph_HaarF_final.pkl')"
   ]
  },
  {
   "cell_type": "markdown",
   "metadata": {},
   "source": [
    "# REST"
   ]
  },
  {
   "cell_type": "code",
   "execution_count": 9,
   "metadata": {},
   "outputs": [],
   "source": [
    "hd = HoughCalcificationDetection()"
   ]
  },
  {
   "cell_type": "code",
   "execution_count": 11,
   "metadata": {},
   "outputs": [
    {
     "name": "stderr",
     "output_type": "stream",
     "text": [
      "100%|██████████| 1/1 [00:06<00:00,  6.70s/it]\n"
     ]
    }
   ],
   "source": [
    "fdf = []\n",
    "fns_df = []\n",
    "for idx in tqdm([130]):\n",
    "    # extracting data\n",
    "    db_sample = db[idx]\n",
    "    image = db_sample['img']\n",
    "    image_id = db.df.iloc[idx].img_id\n",
    "    image_mask = db_sample['lesion_mask']\n",
    "    muscle_mask = db_sample['muscle_mask']\n",
    "    # candidate selection\n",
    "    candidates = hd.detect(image, image_id, load_processed_images=True,\n",
    "                           hough2=False, muscle_mask=muscle_mask)[0]\n",
    "\n",
    "    # labeling of candidates:\n",
    "    tp, fp, fn = get_tp_fp_fn_center_patch_criteria(\n",
    "        candidates, image_mask, CENTER_CROP_PATCH, PATCH_SIZE)\n",
    "    candidates = pd.concat([tp, fp], axis=0, ignore_index=True)\n",
    "    \n",
    "    # Extracting features\n",
    "    labels = np.where(candidates.label.values == 'TP', True, False)\n",
    "    \n",
    "    # Avoid extracting features for repeted detections\n",
    "    X = candidates.drop_duplicates(subset='repeted_idxs')\n",
    "    X = cfe.extract_features(X.loc[:,['x','y','radius']].values.astype(int), image)\n",
    "\n",
    "    # Get features dfs\n",
    "    X = pd.DataFrame(data=X, columns=cfe.feature_names)\n",
    "    X.index = candidates.drop_duplicates(subset='repeted_idxs').index\n",
    "\n",
    "    res = X.loc[candidates.repeted_idxs.tolist(),:]\n",
    "    res['img_id'] = image_id\n",
    "    res['repeted_idxs'] = candidates.repeted_idxs.tolist()\n",
    "    res['matching_gt'] = candidates.matching_gt.tolist()\n",
    "    res['label'] = labels\n",
    "\n",
    "    # Generate a fn dataframe to compute frocs\n",
    "    fn['img_id'] = image_id\n",
    "    fns_df.append(fn)\n",
    "    fdf.append(res)\n",
    "    \n",
    "data = pd.concat(fdf, ignore_index=True)\n",
    "fns_df = pd.concat(fns_df, ignore_index=True)\n"
   ]
  },
  {
   "cell_type": "code",
   "execution_count": 15,
   "metadata": {},
   "outputs": [
    {
     "data": {
      "text/html": [
       "<div>\n",
       "<style scoped>\n",
       "    .dataframe tbody tr th:only-of-type {\n",
       "        vertical-align: middle;\n",
       "    }\n",
       "\n",
       "    .dataframe tbody tr th {\n",
       "        vertical-align: top;\n",
       "    }\n",
       "\n",
       "    .dataframe thead th {\n",
       "        text-align: right;\n",
       "    }\n",
       "</style>\n",
       "<table border=\"1\" class=\"dataframe\">\n",
       "  <thead>\n",
       "    <tr style=\"text-align: right;\">\n",
       "      <th></th>\n",
       "      <th>haar_0</th>\n",
       "      <th>haar_1</th>\n",
       "      <th>haar_2</th>\n",
       "      <th>haar_3</th>\n",
       "      <th>haar_4</th>\n",
       "      <th>haar_5</th>\n",
       "      <th>haar_6</th>\n",
       "      <th>haar_7</th>\n",
       "      <th>haar_8</th>\n",
       "      <th>haar_9</th>\n",
       "      <th>...</th>\n",
       "      <th>rot_haar_168</th>\n",
       "      <th>rot_haar_169</th>\n",
       "      <th>rot_haar_170</th>\n",
       "      <th>candidate_coordinates</th>\n",
       "      <th>patch_coordinates</th>\n",
       "      <th>img_id</th>\n",
       "      <th>repeted_idxs</th>\n",
       "      <th>matching_gt</th>\n",
       "      <th>label</th>\n",
       "      <th>str_cand_coord</th>\n",
       "    </tr>\n",
       "  </thead>\n",
       "  <tbody>\n",
       "    <tr>\n",
       "      <th>109</th>\n",
       "      <td>0.005346</td>\n",
       "      <td>0.069494</td>\n",
       "      <td>0.066999</td>\n",
       "      <td>-0.108339</td>\n",
       "      <td>0.125802</td>\n",
       "      <td>0.013899</td>\n",
       "      <td>0.064148</td>\n",
       "      <td>-0.075552</td>\n",
       "      <td>0.01675</td>\n",
       "      <td>0.040627</td>\n",
       "      <td>...</td>\n",
       "      <td>1.286529</td>\n",
       "      <td>-3.312901</td>\n",
       "      <td>2.127227</td>\n",
       "      <td>[451, 1182, 5]</td>\n",
       "      <td>((1175, 1189), (444, 458))</td>\n",
       "      <td>50994895</td>\n",
       "      <td>109</td>\n",
       "      <td>4.0</td>\n",
       "      <td>True</td>\n",
       "      <td>[451, 1182, 5]</td>\n",
       "    </tr>\n",
       "  </tbody>\n",
       "</table>\n",
       "<p>1 rows × 407 columns</p>\n",
       "</div>"
      ],
      "text/plain": [
       "       haar_0    haar_1    haar_2    haar_3    haar_4    haar_5    haar_6  \\\n",
       "109  0.005346  0.069494  0.066999 -0.108339  0.125802  0.013899  0.064148   \n",
       "\n",
       "       haar_7   haar_8    haar_9  ... rot_haar_168 rot_haar_169 rot_haar_170  \\\n",
       "109 -0.075552  0.01675  0.040627  ...     1.286529    -3.312901     2.127227   \n",
       "\n",
       "    candidate_coordinates           patch_coordinates    img_id repeted_idxs  \\\n",
       "109        [451, 1182, 5]  ((1175, 1189), (444, 458))  50994895          109   \n",
       "\n",
       "    matching_gt label  str_cand_coord  \n",
       "109         4.0  True  [451, 1182, 5]  \n",
       "\n",
       "[1 rows x 407 columns]"
      ]
     },
     "execution_count": 15,
     "metadata": {},
     "output_type": "execute_result"
    }
   ],
   "source": [
    "data['str_cand_coord'] = data.candidate_coordinates.astype(str)\n",
    "data[data.str_cand_coord == '[451, 1182, 5]']"
   ]
  },
  {
   "cell_type": "code",
   "execution_count": 16,
   "metadata": {},
   "outputs": [
    {
     "data": {
      "text/html": [
       "<div>\n",
       "<style scoped>\n",
       "    .dataframe tbody tr th:only-of-type {\n",
       "        vertical-align: middle;\n",
       "    }\n",
       "\n",
       "    .dataframe tbody tr th {\n",
       "        vertical-align: top;\n",
       "    }\n",
       "\n",
       "    .dataframe thead th {\n",
       "        text-align: right;\n",
       "    }\n",
       "</style>\n",
       "<table border=\"1\" class=\"dataframe\">\n",
       "  <thead>\n",
       "    <tr style=\"text-align: right;\">\n",
       "      <th></th>\n",
       "      <th>x</th>\n",
       "      <th>y</th>\n",
       "      <th>radius</th>\n",
       "      <th>label</th>\n",
       "      <th>repeted_idxs</th>\n",
       "      <th>matching_gt</th>\n",
       "    </tr>\n",
       "  </thead>\n",
       "  <tbody>\n",
       "    <tr>\n",
       "      <th>0</th>\n",
       "      <td>400</td>\n",
       "      <td>1189</td>\n",
       "      <td>8</td>\n",
       "      <td>TP</td>\n",
       "      <td>0</td>\n",
       "      <td>4</td>\n",
       "    </tr>\n",
       "    <tr>\n",
       "      <th>1</th>\n",
       "      <td>426</td>\n",
       "      <td>1187</td>\n",
       "      <td>9</td>\n",
       "      <td>TP</td>\n",
       "      <td>1</td>\n",
       "      <td>4</td>\n",
       "    </tr>\n",
       "    <tr>\n",
       "      <th>2</th>\n",
       "      <td>443</td>\n",
       "      <td>1316</td>\n",
       "      <td>8</td>\n",
       "      <td>TP</td>\n",
       "      <td>2</td>\n",
       "      <td>4</td>\n",
       "    </tr>\n",
       "    <tr>\n",
       "      <th>3</th>\n",
       "      <td>318</td>\n",
       "      <td>766</td>\n",
       "      <td>9</td>\n",
       "      <td>TP</td>\n",
       "      <td>3</td>\n",
       "      <td>5</td>\n",
       "    </tr>\n",
       "    <tr>\n",
       "      <th>4</th>\n",
       "      <td>363</td>\n",
       "      <td>847</td>\n",
       "      <td>9</td>\n",
       "      <td>TP</td>\n",
       "      <td>4</td>\n",
       "      <td>2</td>\n",
       "    </tr>\n",
       "    <tr>\n",
       "      <th>...</th>\n",
       "      <td>...</td>\n",
       "      <td>...</td>\n",
       "      <td>...</td>\n",
       "      <td>...</td>\n",
       "      <td>...</td>\n",
       "      <td>...</td>\n",
       "    </tr>\n",
       "    <tr>\n",
       "      <th>127</th>\n",
       "      <td>477</td>\n",
       "      <td>1194</td>\n",
       "      <td>5</td>\n",
       "      <td>TP</td>\n",
       "      <td>127</td>\n",
       "      <td>4</td>\n",
       "    </tr>\n",
       "    <tr>\n",
       "      <th>128</th>\n",
       "      <td>489</td>\n",
       "      <td>1247</td>\n",
       "      <td>4</td>\n",
       "      <td>TP</td>\n",
       "      <td>128</td>\n",
       "      <td>4</td>\n",
       "    </tr>\n",
       "    <tr>\n",
       "      <th>129</th>\n",
       "      <td>481</td>\n",
       "      <td>1206</td>\n",
       "      <td>3</td>\n",
       "      <td>TP</td>\n",
       "      <td>129</td>\n",
       "      <td>4</td>\n",
       "    </tr>\n",
       "    <tr>\n",
       "      <th>130</th>\n",
       "      <td>464</td>\n",
       "      <td>1228</td>\n",
       "      <td>4</td>\n",
       "      <td>TP</td>\n",
       "      <td>130</td>\n",
       "      <td>4</td>\n",
       "    </tr>\n",
       "    <tr>\n",
       "      <th>131</th>\n",
       "      <td>472</td>\n",
       "      <td>1352</td>\n",
       "      <td>2</td>\n",
       "      <td>TP</td>\n",
       "      <td>131</td>\n",
       "      <td>4</td>\n",
       "    </tr>\n",
       "  </tbody>\n",
       "</table>\n",
       "<p>132 rows × 6 columns</p>\n",
       "</div>"
      ],
      "text/plain": [
       "       x     y  radius label  repeted_idxs  matching_gt\n",
       "0    400  1189       8    TP             0            4\n",
       "1    426  1187       9    TP             1            4\n",
       "2    443  1316       8    TP             2            4\n",
       "3    318   766       9    TP             3            5\n",
       "4    363   847       9    TP             4            2\n",
       "..   ...   ...     ...   ...           ...          ...\n",
       "127  477  1194       5    TP           127            4\n",
       "128  489  1247       4    TP           128            4\n",
       "129  481  1206       3    TP           129            4\n",
       "130  464  1228       4    TP           130            4\n",
       "131  472  1352       2    TP           131            4\n",
       "\n",
       "[132 rows x 6 columns]"
      ]
     },
     "execution_count": 16,
     "metadata": {},
     "output_type": "execute_result"
    }
   ],
   "source": [
    "tp"
   ]
  },
  {
   "cell_type": "code",
   "execution_count": 17,
   "metadata": {},
   "outputs": [],
   "source": [
    "db_sample = db[idx]\n",
    "image = db_sample['img']\n",
    "image_id = db.df.iloc[idx].img_id\n",
    "image_mask = db_sample['lesion_mask']\n",
    "muscle_mask = db_sample['muscle_mask']\n",
    "# candidate selection\n",
    "candidates = hd.detect(image, image_id, load_processed_images=True,\n",
    "                        hough2=False, muscle_mask=muscle_mask)[0]\n",
    "\n",
    "# labeling of candidates:\n",
    "tp, fp, fn = get_tp_fp_fn_center_patch_criteria(\n",
    "    candidates, image_mask, CENTER_CROP_PATCH, PATCH_SIZE)"
   ]
  },
  {
   "cell_type": "code",
   "execution_count": 21,
   "metadata": {},
   "outputs": [
    {
     "data": {
      "text/html": [
       "<div>\n",
       "<style scoped>\n",
       "    .dataframe tbody tr th:only-of-type {\n",
       "        vertical-align: middle;\n",
       "    }\n",
       "\n",
       "    .dataframe tbody tr th {\n",
       "        vertical-align: top;\n",
       "    }\n",
       "\n",
       "    .dataframe thead th {\n",
       "        text-align: right;\n",
       "    }\n",
       "</style>\n",
       "<table border=\"1\" class=\"dataframe\">\n",
       "  <thead>\n",
       "    <tr style=\"text-align: right;\">\n",
       "      <th></th>\n",
       "      <th>x</th>\n",
       "      <th>y</th>\n",
       "      <th>radius</th>\n",
       "      <th>label</th>\n",
       "      <th>repeted_idxs</th>\n",
       "      <th>matching_gt</th>\n",
       "    </tr>\n",
       "  </thead>\n",
       "  <tbody>\n",
       "    <tr>\n",
       "      <th>109</th>\n",
       "      <td>451</td>\n",
       "      <td>1182</td>\n",
       "      <td>5</td>\n",
       "      <td>TP</td>\n",
       "      <td>109</td>\n",
       "      <td>4</td>\n",
       "    </tr>\n",
       "  </tbody>\n",
       "</table>\n",
       "</div>"
      ],
      "text/plain": [
       "       x     y  radius label  repeted_idxs  matching_gt\n",
       "109  451  1182       5    TP           109            4"
      ]
     },
     "execution_count": 21,
     "metadata": {},
     "output_type": "execute_result"
    }
   ],
   "source": [
    "tp[tp.x == 451]"
   ]
  },
  {
   "cell_type": "code",
   "execution_count": null,
   "metadata": {},
   "outputs": [],
   "source": [
    "get_tp_fp_fn_center_patch_criteria(\n",
    "    candidates, image_mask, CENTER_CROP_PATCH, PATCH_SIZE)"
   ]
  },
  {
   "cell_type": "code",
   "execution_count": 29,
   "metadata": {},
   "outputs": [
    {
     "data": {
      "text/plain": [
       "array([[ 451, 1182,    5],\n",
       "       [ 451,  907,    9]])"
      ]
     },
     "execution_count": 29,
     "metadata": {},
     "output_type": "execute_result"
    }
   ],
   "source": [
    "candidates[candidates[:,0] == 451]"
   ]
  },
  {
   "cell_type": "code",
   "execution_count": 30,
   "metadata": {},
   "outputs": [],
   "source": [
    "# labeling of candidates:\n",
    "tp, fp, fn = get_tp_fp_fn_center_patch_criteria(\n",
    "    candidates[candidates[:,0] == 451], image_mask, CENTER_CROP_PATCH, PATCH_SIZE)"
   ]
  },
  {
   "cell_type": "code",
   "execution_count": 32,
   "metadata": {},
   "outputs": [
    {
     "data": {
      "text/html": [
       "<div>\n",
       "<style scoped>\n",
       "    .dataframe tbody tr th:only-of-type {\n",
       "        vertical-align: middle;\n",
       "    }\n",
       "\n",
       "    .dataframe tbody tr th {\n",
       "        vertical-align: top;\n",
       "    }\n",
       "\n",
       "    .dataframe thead th {\n",
       "        text-align: right;\n",
       "    }\n",
       "</style>\n",
       "<table border=\"1\" class=\"dataframe\">\n",
       "  <thead>\n",
       "    <tr style=\"text-align: right;\">\n",
       "      <th></th>\n",
       "      <th>x</th>\n",
       "      <th>y</th>\n",
       "      <th>radius</th>\n",
       "      <th>label</th>\n",
       "      <th>repeted_idxs</th>\n",
       "      <th>matching_gt</th>\n",
       "    </tr>\n",
       "  </thead>\n",
       "  <tbody>\n",
       "    <tr>\n",
       "      <th>0</th>\n",
       "      <td>451</td>\n",
       "      <td>1182</td>\n",
       "      <td>5</td>\n",
       "      <td>TP</td>\n",
       "      <td>0</td>\n",
       "      <td>4</td>\n",
       "    </tr>\n",
       "  </tbody>\n",
       "</table>\n",
       "</div>"
      ],
      "text/plain": [
       "     x     y  radius label  repeted_idxs  matching_gt\n",
       "0  451  1182       5    TP             0            4"
      ]
     },
     "execution_count": 32,
     "metadata": {},
     "output_type": "execute_result"
    }
   ],
   "source": [
    "tp"
   ]
  },
  {
   "cell_type": "code",
   "execution_count": 38,
   "metadata": {},
   "outputs": [
    {
     "data": {
      "text/plain": [
       "array([[4, 4, 4, 4, 4, 4, 4, 4, 4, 4, 4, 4, 4, 4],\n",
       "       [4, 4, 4, 4, 4, 4, 4, 4, 4, 4, 4, 4, 4, 4],\n",
       "       [4, 4, 4, 4, 4, 4, 4, 4, 4, 4, 4, 4, 4, 4],\n",
       "       [4, 4, 4, 4, 4, 4, 4, 4, 4, 4, 4, 4, 4, 4],\n",
       "       [4, 4, 4, 4, 4, 4, 4, 4, 4, 4, 4, 4, 4, 4],\n",
       "       [4, 4, 4, 4, 4, 4, 4, 4, 4, 4, 4, 4, 4, 4],\n",
       "       [4, 4, 4, 4, 4, 4, 4, 4, 4, 4, 4, 4, 4, 4],\n",
       "       [4, 4, 4, 4, 4, 4, 4, 4, 4, 4, 4, 4, 4, 4],\n",
       "       [4, 4, 4, 4, 4, 4, 4, 4, 4, 4, 4, 4, 4, 4],\n",
       "       [4, 4, 4, 4, 4, 4, 4, 4, 4, 4, 4, 4, 4, 4],\n",
       "       [4, 4, 4, 4, 4, 4, 4, 4, 4, 4, 4, 4, 4, 4],\n",
       "       [4, 4, 4, 4, 4, 4, 4, 4, 4, 4, 4, 4, 4, 4],\n",
       "       [4, 4, 4, 4, 4, 4, 4, 4, 4, 4, 4, 4, 4, 4],\n",
       "       [4, 4, 4, 4, 4, 4, 4, 4, 4, 4, 4, 4, 4, 4]], dtype=uint8)"
      ]
     },
     "execution_count": 38,
     "metadata": {},
     "output_type": "execute_result"
    }
   ],
   "source": [
    "image_mask[1175:1189, 444:458]"
   ]
  },
  {
   "cell_type": "code",
   "execution_count": 37,
   "metadata": {},
   "outputs": [
    {
     "data": {
      "image/png": "[encoded data removed]",
      "text/plain": [
       "<Figure size 720x720 with 2 Axes>"
      ]
     },
     "metadata": {
      "needs_background": "light"
     },
     "output_type": "display_data"
    }
   ],
   "source": [
    "simple_im_show2(image[1175:1189, 444:458], image_mask[1175:1189, 444:458]>0)"
   ]
  },
  {
   "cell_type": "code",
   "execution_count": 44,
   "metadata": {},
   "outputs": [
    {
     "data": {
      "image/png": "[encoded data removed]",
      "text/plain": [
       "<Figure size 720x720 with 1 Axes>"
      ]
     },
     "metadata": {
      "needs_background": "light"
     },
     "output_type": "display_data"
    }
   ],
   "source": [
    "simple_im_show(image_mask>0)"
   ]
  },
  {
   "cell_type": "code",
   "execution_count": null,
   "metadata": {},
   "outputs": [],
   "source": [
    "pd.to_pickle((all_data_df, fns_df), 'feature_sets/hough2_all_feat_1pxsize.pkl')"
   ]
  },
  {
   "cell_type": "markdown",
   "metadata": {},
   "source": [
    "# Test|"
   ]
  },
  {
   "cell_type": "code",
   "execution_count": 4,
   "metadata": {},
   "outputs": [],
   "source": [
    "cfe = CandidatesFeatureExtraction(patch_size=PATCH_SIZE, fos=True, gabor_params=GABOR_PARAMS,\n",
    "                                  wavelet_params=WAVELET_PARAMS, haar_params=None)\n",
    "\n",
    "cfe_mp = CandidatesFeatureExtraction_MP(patch_size=PATCH_SIZE, fos=True, gabor_params=GABOR_PARAMS,\n",
    "                                  wavelet_params=WAVELET_PARAMS, haar_params=None)\n",
    "\n",
    "\n",
    "hd = HoughCalcificationDetection()\n"
   ]
  },
  {
   "cell_type": "code",
   "execution_count": 5,
   "metadata": {},
   "outputs": [],
   "source": [
    "idx = 0\n",
    "db_sample = db[idx]\n",
    "image = db_sample['img']\n",
    "image_id = db.df.iloc[idx].img_id\n",
    "image_mask = db_sample['lesion_mask']\n",
    "\n",
    "# candidate selection\n",
    "candidates = hd.detect(image, image_id, load_processed_images=True, hough2=True)[1]\n",
    "\n",
    "    # labeling of candidates:\n",
    "tp, fp, fn = get_tp_fp_fn_center_patch_criteria(\n",
    "    candidates, image_mask, None, PATCH_SIZE)"
   ]
  },
  {
   "cell_type": "code",
   "execution_count": 6,
   "metadata": {},
   "outputs": [
    {
     "data": {
      "text/plain": [
       "1776"
      ]
     },
     "execution_count": 6,
     "metadata": {},
     "output_type": "execute_result"
    }
   ],
   "source": [
    "len(candidates)"
   ]
  },
  {
   "cell_type": "code",
   "execution_count": 7,
   "metadata": {},
   "outputs": [],
   "source": [
    "# feature extraction\n",
    "X = cfe.extract_features(candidates, image)\n",
    "res = pd.DataFrame(X, columns=cfe.feature_names)"
   ]
  },
  {
   "cell_type": "code",
   "execution_count": 9,
   "metadata": {},
   "outputs": [],
   "source": [
    "cfe_mp.n_jobs = 8\n",
    "# feature extraction\n",
    "X2 = cfe_mp.extract_features(candidates, image)\n",
    "res2 = pd.DataFrame(X2, columns=cfe_mp.feature_names)"
   ]
  },
  {
   "cell_type": "code",
   "execution_count": null,
   "metadata": {},
   "outputs": [],
   "source": []
  }
 ],
 "metadata": {
  "interpreter": {
   "hash": "d785cc99391f1decae0a31664a2bc430e1bb802c6f8076d9d1b38f05ab7f6160"
  },
  "kernelspec": {
   "display_name": "Python 3.9.7 ('calc_det')",
   "language": "python",
   "name": "python3"
  },
  "language_info": {
   "codemirror_mode": {
    "name": "ipython",
    "version": 3
   },
   "file_extension": ".py",
   "mimetype": "text/x-python",
   "name": "python",
   "nbconvert_exporter": "python",
   "pygments_lexer": "ipython3",
   "version": "3.9.7"
  },
  "orig_nbformat": 4
 },
 "nbformat": 4,
 "nbformat_minor": 2
}
