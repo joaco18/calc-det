{
 "cells": [
  {
   "cell_type": "markdown",
   "metadata": {},
   "source": [
    "## Feature Extaction Test"
   ]
  },
  {
   "cell_type": "code",
   "execution_count": 1,
   "metadata": {},
   "outputs": [],
   "source": [
    "import sys\n",
    "sys.path.insert(0, '..')\n",
    "from metrics.metrics_utils import get_tp_fp_fn_center_patch_criteria\n",
    "from general_utils.plots import plot_bboxes_over_image, simple_im_show, simple_im_show2\n",
    "from mc_candidate_proposal.hough_mc import HoughCalcificationDetection\n",
    "from mc_candidate_proposal.morphology_mc import MorphologyCalcificationDetection\n",
    "from feature_extraction.feature_extraction import CandidatesFeatureExtraction, CandidatesFeatureExtraction_MP\n",
    "from database.dataset import *\n",
    "import feature_extraction.haar_features.haar_modules as hm\n",
    "\n",
    "import pickle"
   ]
  },
  {
   "cell_type": "markdown",
   "metadata": {},
   "source": [
    "### Database initialization"
   ]
  },
  {
   "cell_type": "code",
   "execution_count": 2,
   "metadata": {},
   "outputs": [],
   "source": [
    "db = INBreast_Dataset(\n",
    "    return_lesions_mask=True,\n",
    "    level='image',\n",
    "    max_lesion_diam_mm=None,\n",
    "    extract_patches=False,\n",
    "    partitions = ['train', 'validation'],\n",
    "    lesion_types = ['calcification', 'cluster'],\n",
    "    cropped_imgs = True,\n",
    "    keep_just_images_of_lesion_type = False,\n",
    "    use_muscle_mask=True,\n",
    "    ignore_diameter_px = 15\n",
    ")"
   ]
  },
  {
   "cell_type": "markdown",
   "metadata": {},
   "source": [
    "### Detectors Parameters and initialization"
   ]
  },
  {
   "cell_type": "code",
   "execution_count": 3,
   "metadata": {},
   "outputs": [],
   "source": [
    "hd = HoughCalcificationDetection()\n",
    "CENTER_CROP_PATCH = 14\n",
    "PATCH_SIZE = 14\n",
    "\n",
    "GABOR_PARAMS = {'scale': 2, 'orientation': 3,\n",
    "                'max_freq': 0.2, 'ksize': (20, 20), 'sigma': 3}\n",
    "WAVELET_PARAMS = {'angles': [0, np.pi/4, np.pi/2]}\n",
    "# HAAR_PARAMS = {\n",
    "#     'skimage': {\n",
    "#         'feature_type': [], 'feature_coord': []\n",
    "#     },\n",
    "#     'ours': {\n",
    "#         'horizontal_feature_types': [(hm.Feature3h3v, 3, 3)],\n",
    "#         'rotated_feature_types': None,\n",
    "#         'horizontal_feature_selection': None,\n",
    "#         'rotated_feature_selection': None,\n",
    "#     },\n",
    "#     'patch_size': PATCH_SIZE\n",
    "# }\n",
    "\n",
    "\n",
    "# # IS THIS FINAL HAAR? MAYBE\n",
    "# path = (Path.cwd().parent / f'feature_extraction/haar_features/')\n",
    "# with open(path/'final_feat_selection.p', 'rb') as f:\n",
    "#     selection = pickle.load(f)\n",
    "    \n",
    "# HAAR_PARAMS = {\n",
    "#     'skimage': {\n",
    "#         'feature_type': selection['skimage_haar_feature_types_sel'],\n",
    "#         'feature_coord': selection['skimage_haar_feature_coords_sel']\n",
    "#     },\n",
    "#     'ours': {\n",
    "#         'horizontal_feature_selection': selection['hor_feats_selection'].tolist(),\n",
    "#         'rotated_feature_selection': selection['rot_feats_selection'].tolist(),\n",
    "#         'rotated_feature_types': None,\n",
    "#         'horizontal_feature_types': None\n",
    "#     },\n",
    "#     'patch_size': 14\n",
    "# }\n",
    "\n",
    "cfe = CandidatesFeatureExtraction_MP(patch_size=PATCH_SIZE, fos=True, gabor_params=GABOR_PARAMS,\n",
    "                                  wavelet_params=WAVELET_PARAMS, haar_params=None, n_jobs=4)"
   ]
  },
  {
   "cell_type": "markdown",
   "metadata": {},
   "source": [
    "### Detector initialization"
   ]
  },
  {
   "cell_type": "code",
   "execution_count": 4,
   "metadata": {},
   "outputs": [],
   "source": [
    "db_range = list(range(len(db)))"
   ]
  },
  {
   "cell_type": "markdown",
   "metadata": {},
   "source": [
    "### FE"
   ]
  },
  {
   "cell_type": "markdown",
   "metadata": {},
   "source": [
    "### Hough"
   ]
  },
  {
   "cell_type": "code",
   "execution_count": 5,
   "metadata": {},
   "outputs": [
    {
     "name": "stderr",
     "output_type": "stream",
     "text": [
      "100%|██████████| 110/110 [1:55:41<00:00, 63.11s/it] \n"
     ]
    }
   ],
   "source": [
    "data_path = Path.cwd().parent.parent/'data/features/hough'\n",
    "\n",
    "fdf = []\n",
    "fns_df = []\n",
    "ingnored_df = []\n",
    "\n",
    "batch = 1\n",
    "\n",
    "for idx in tqdm(db_range[:110]):\n",
    "    # extracting data\n",
    "    db_sample = db[idx]\n",
    "    image = db_sample['img']\n",
    "    image_id = db.df.iloc[idx].img_id\n",
    "    image_mask = db_sample['lesion_mask']\n",
    "    muscle_mask = db_sample['muscle_mask']\n",
    "\n",
    "    # candidate selection\n",
    "    candidates = hd.detect(image, image_id, load_processed_images=True, hough2=False, muscle_mask=muscle_mask)[0]\n",
    "     # labeling of candidates:\n",
    "    tp, fp, fn, ignored_candidates = get_tp_fp_fn_center_patch_criteria(\n",
    "        candidates, image_mask, None, 14)\n",
    "    \n",
    "    candidates = pd.concat([tp, fp], axis=0, ignore_index=True)\n",
    "    \n",
    "    # Extracting features\n",
    "    labels = np.where(candidates.label.values == 'TP', True, False)\n",
    "    \n",
    "    X = candidates.drop_duplicates(subset='repeted_idxs')\n",
    "    X = cfe.extract_features(X.loc[:, ['x','y','radius']].values.astype(int), image)\n",
    "    \n",
    "    # Get features dfs\n",
    "    X = pd.DataFrame(data=X, columns=cfe.feature_names)\n",
    "    X.index = candidates.drop_duplicates(subset='repeted_idxs').index\n",
    "\n",
    "    res = X.loc[candidates.repeted_idxs.tolist(),:]\n",
    "    res['img_id'] = image_id\n",
    "    res['repeted_idxs'] = candidates.repeted_idxs.tolist()\n",
    "    res['matching_gt'] = candidates.matching_gt.tolist()\n",
    "    res['label'] = labels\n",
    "\n",
    "    # Generate a fn dataframe to compute frocs\n",
    "    fn['img_id'] = image_id\n",
    "    fns_df.append(fn)\n",
    "    fdf.append(res)\n",
    "    ingnored_df.append(ignored_candidates)\n",
    "    \n",
    "all_data_df = pd.concat(fdf, ignore_index=True)\n",
    "fns_df = pd.concat(fns_df, ignore_index=True)\n",
    "ingnored_df = pd.concat(ingnored_df, ignore_index=True)\n",
    "\n",
    "all_data_df.to_feather(str(data_path/f'all_data_df_{batch}.f'))\n",
    "fns_df.to_feather(str(data_path/f'fns_df_{batch}.f'))\n",
    "ingnored_df.to_feather(str(data_path/f'ingnored_df_{batch}.f'))"
   ]
  },
  {
   "cell_type": "code",
   "execution_count": 6,
   "metadata": {},
   "outputs": [],
   "source": [
    "del all_data_df\n",
    "del fns_df\n",
    "del fdf\n",
    "del ingnored_df"
   ]
  },
  {
   "cell_type": "code",
   "execution_count": 8,
   "metadata": {},
   "outputs": [
    {
     "name": "stderr",
     "output_type": "stream",
     "text": [
      "100%|██████████| 100/100 [1:50:09<00:00, 66.10s/it]\n"
     ]
    }
   ],
   "source": [
    "data_path = Path.cwd().parent.parent/'data/features/hough'\n",
    "\n",
    "fdf = []\n",
    "fns_df = []\n",
    "ingnored_df = []\n",
    "\n",
    "batch = 2\n",
    "\n",
    "for idx in tqdm(db_range[110:]):\n",
    "    # extracting data\n",
    "    db_sample = db[idx]\n",
    "    image = db_sample['img']\n",
    "    image_id = db.df.iloc[idx].img_id\n",
    "    image_mask = db_sample['lesion_mask']\n",
    "    muscle_mask = db_sample['muscle_mask']\n",
    "\n",
    "    # candidate selection\n",
    "    candidates = hd.detect(image, image_id, load_processed_images=True, hough2=False, muscle_mask=muscle_mask)[0]\n",
    "     # labeling of candidates:\n",
    "    tp, fp, fn, ignored_candidates = get_tp_fp_fn_center_patch_criteria(\n",
    "        candidates, image_mask, None, 14)\n",
    "    \n",
    "    candidates = pd.concat([tp, fp], axis=0, ignore_index=True)\n",
    "    \n",
    "    # Extracting features\n",
    "    labels = np.where(candidates.label.values == 'TP', True, False)\n",
    "    \n",
    "    X = candidates.drop_duplicates(subset='repeted_idxs')\n",
    "    X = cfe.extract_features(X.loc[:, ['x','y','radius']].values.astype(int), image)\n",
    "    \n",
    "    # Get features dfs\n",
    "    X = pd.DataFrame(data=X, columns=cfe.feature_names)\n",
    "    X.index = candidates.drop_duplicates(subset='repeted_idxs').index\n",
    "\n",
    "    res = X.loc[candidates.repeted_idxs.tolist(),:]\n",
    "    res['img_id'] = image_id\n",
    "    res['repeted_idxs'] = candidates.repeted_idxs.tolist()\n",
    "    res['matching_gt'] = candidates.matching_gt.tolist()\n",
    "    res['label'] = labels\n",
    "\n",
    "    # Generate a fn dataframe to compute frocs\n",
    "    fn['img_id'] = image_id\n",
    "    fns_df.append(fn)\n",
    "    fdf.append(res)\n",
    "    ingnored_df.append(ignored_candidates)\n",
    "    \n",
    "all_data_df = pd.concat(fdf, ignore_index=True)\n",
    "fns_df = pd.concat(fns_df, ignore_index=True)\n",
    "ingnored_df = pd.concat(ingnored_df, ignore_index=True)\n",
    "\n",
    "all_data_df.to_feather(str(data_path/f'all_data_df_{batch}.f'))\n",
    "fns_df.to_feather(str(data_path/f'fns_df_{batch}.f'))\n",
    "ingnored_df.to_feather(str(data_path/f'ingnored_df_{batch}.f'))"
   ]
  },
  {
   "cell_type": "markdown",
   "metadata": {},
   "source": [
    "### Morphology"
   ]
  },
  {
   "cell_type": "code",
   "execution_count": 5,
   "metadata": {},
   "outputs": [],
   "source": [
    "threshold = 0.95\n",
    "min_distance = 6\n",
    "area = 14\n",
    "rbd_p = '/home/vzalevskyi/projects/calc-det/data/recounstructed_by_dialation_img'\n",
    "md = MorphologyCalcificationDetection(rbd_p, threshold, min_distance, area*area, filter_muscle_region=True, store_intermediate=False)"
   ]
  },
  {
   "cell_type": "code",
   "execution_count": 6,
   "metadata": {},
   "outputs": [
    {
     "name": "stderr",
     "output_type": "stream",
     "text": [
      "100%|██████████| 110/110 [47:58<00:00, 26.17s/it]\n"
     ]
    }
   ],
   "source": [
    "data_path = Path.cwd().parent.parent/'data/features/morph'\n",
    "\n",
    "fdf = []\n",
    "fns_df = []\n",
    "ingnored_df = []\n",
    "\n",
    "batch = 1\n",
    "\n",
    "for idx in tqdm(db_range[:110]):\n",
    "    # extracting data\n",
    "    db_sample = db[idx]\n",
    "    image = db_sample['img']\n",
    "    image_id = db.df.iloc[idx].img_id\n",
    "    image_mask = db_sample['lesion_mask']\n",
    "    muscle_mask = db_sample['muscle_mask']\n",
    "\n",
    "    # candidate selection\n",
    "    candidates = md.detect(image, image_id, muscle_mask=muscle_mask)\n",
    "     # labeling of candidates:\n",
    "    tp, fp, fn, ignored_candidates = get_tp_fp_fn_center_patch_criteria(\n",
    "        candidates, image_mask, None, 14)\n",
    "    \n",
    "    candidates = pd.concat([tp, fp], axis=0, ignore_index=True)\n",
    "    \n",
    "    # Extracting features\n",
    "    labels = np.where(candidates.label.values == 'TP', True, False)\n",
    "    \n",
    "    X = candidates.drop_duplicates(subset='repeted_idxs')\n",
    "    X = cfe.extract_features(X.loc[:, ['x','y','radius']].values.astype(int), image)\n",
    "    \n",
    "    # Get features dfs\n",
    "    X = pd.DataFrame(data=X, columns=cfe.feature_names)\n",
    "    X.index = candidates.drop_duplicates(subset='repeted_idxs').index\n",
    "\n",
    "    res = X.loc[candidates.repeted_idxs.tolist(),:]\n",
    "    res['img_id'] = image_id\n",
    "    res['repeted_idxs'] = candidates.repeted_idxs.tolist()\n",
    "    res['matching_gt'] = candidates.matching_gt.tolist()\n",
    "    res['label'] = labels\n",
    "\n",
    "    # Generate a fn dataframe to compute frocs\n",
    "    fn['img_id'] = image_id\n",
    "    fns_df.append(fn)\n",
    "    fdf.append(res)\n",
    "    ingnored_df.append(ignored_candidates)\n",
    "    \n",
    "all_data_df = pd.concat(fdf, ignore_index=True)\n",
    "fns_df = pd.concat(fns_df, ignore_index=True)\n",
    "ingnored_df = pd.concat(ingnored_df, ignore_index=True)\n",
    "\n",
    "all_data_df.to_feather(str(data_path/f'all_data_df_{batch}.f'))\n",
    "fns_df.to_feather(str(data_path/f'fns_df_{batch}.f'))\n",
    "ingnored_df.to_feather(str(data_path/f'ingnored_df_{batch}.f'))"
   ]
  },
  {
   "cell_type": "code",
   "execution_count": 7,
   "metadata": {},
   "outputs": [],
   "source": [
    "del all_data_df\n",
    "del fns_df\n",
    "del fdf\n",
    "del ingnored_df"
   ]
  },
  {
   "cell_type": "code",
   "execution_count": 8,
   "metadata": {},
   "outputs": [
    {
     "name": "stderr",
     "output_type": "stream",
     "text": [
      "100%|██████████| 100/100 [47:24<00:00, 28.44s/it]\n"
     ]
    }
   ],
   "source": [
    "data_path = Path.cwd().parent.parent/'data/features/morph'\n",
    "\n",
    "fdf = []\n",
    "fns_df = []\n",
    "ingnored_df = []\n",
    "\n",
    "batch = 2\n",
    "\n",
    "for idx in tqdm(db_range[110:]):\n",
    "    # extracting data\n",
    "    db_sample = db[idx]\n",
    "    image = db_sample['img']\n",
    "    image_id = db.df.iloc[idx].img_id\n",
    "    image_mask = db_sample['lesion_mask']\n",
    "    muscle_mask = db_sample['muscle_mask']\n",
    "\n",
    "    # candidate selection\n",
    "    candidates = md.detect(image, image_id, muscle_mask=muscle_mask)\n",
    "     # labeling of candidates:\n",
    "    tp, fp, fn, ignored_candidates = get_tp_fp_fn_center_patch_criteria(\n",
    "        candidates, image_mask, None, 14)\n",
    "    \n",
    "    candidates = pd.concat([tp, fp], axis=0, ignore_index=True)\n",
    "    \n",
    "    # Extracting features\n",
    "    labels = np.where(candidates.label.values == 'TP', True, False)\n",
    "    \n",
    "    X = candidates.drop_duplicates(subset='repeted_idxs')\n",
    "    X = cfe.extract_features(X.loc[:, ['x','y','radius']].values.astype(int), image)\n",
    "    \n",
    "    # Get features dfs\n",
    "    X = pd.DataFrame(data=X, columns=cfe.feature_names)\n",
    "    X.index = candidates.drop_duplicates(subset='repeted_idxs').index\n",
    "\n",
    "    res = X.loc[candidates.repeted_idxs.tolist(),:]\n",
    "    res['img_id'] = image_id\n",
    "    res['repeted_idxs'] = candidates.repeted_idxs.tolist()\n",
    "    res['matching_gt'] = candidates.matching_gt.tolist()\n",
    "    res['label'] = labels\n",
    "\n",
    "    # Generate a fn dataframe to compute frocs\n",
    "    fn['img_id'] = image_id\n",
    "    fns_df.append(fn)\n",
    "    fdf.append(res)\n",
    "    ingnored_df.append(ignored_candidates)\n",
    "    \n",
    "all_data_df = pd.concat(fdf, ignore_index=True)\n",
    "fns_df = pd.concat(fns_df, ignore_index=True)\n",
    "ingnored_df = pd.concat(ingnored_df, ignore_index=True)\n",
    "\n",
    "all_data_df.to_feather(str(data_path/f'all_data_df_{batch}.f'))\n",
    "fns_df.to_feather(str(data_path/f'fns_df_{batch}.f'))\n",
    "ingnored_df.to_feather(str(data_path/f'ingnored_df_{batch}.f'))"
   ]
  },
  {
   "cell_type": "code",
   "execution_count": null,
   "metadata": {},
   "outputs": [],
   "source": []
  }
 ],
 "metadata": {
  "interpreter": {
   "hash": "d785cc99391f1decae0a31664a2bc430e1bb802c6f8076d9d1b38f05ab7f6160"
  },
  "kernelspec": {
   "display_name": "Python 3.9.7 ('calc_det')",
   "language": "python",
   "name": "python3"
  },
  "language_info": {
   "codemirror_mode": {
    "name": "ipython",
    "version": 3
   },
   "file_extension": ".py",
   "mimetype": "text/x-python",
   "name": "python",
   "nbconvert_exporter": "python",
   "pygments_lexer": "ipython3",
   "version": "3.9.7"
  },
  "orig_nbformat": 4
 },
 "nbformat": 4,
 "nbformat_minor": 2
}
