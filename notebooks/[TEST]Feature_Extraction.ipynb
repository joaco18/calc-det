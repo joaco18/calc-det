{
 "cells": [
  {
   "cell_type": "markdown",
   "metadata": {},
   "source": [
    "## Feature Extaction Test"
   ]
  },
  {
   "cell_type": "code",
   "execution_count": 1,
   "metadata": {},
   "outputs": [],
   "source": [
    "import sys\n",
    "sys.path.insert(0, '..')\n",
    "from metrics.metrics import  quick_circle_comparison, circle_comparison\n",
    "from general_utils.plots import plot_bboxes_over_image, simple_im_show, simple_im_show2\n",
    "from metrics.metrics_utils import get_tp_fp_fn_center_patch_criteria\n",
    "from mc_candidate_proposal.hough_mc import HoughCalcificationDetection\n",
    "from feature_extraction.feature_extraction import CandidatesFeatureExtraction, CandidatesFeatureExtraction_MP\n",
    "from database.dataset import *\n",
    "import feature_extraction.haar_features.haar_modules as hm\n",
    "\n",
    "import pickle"
   ]
  },
  {
   "cell_type": "markdown",
   "metadata": {},
   "source": [
    "### Database initialization"
   ]
  },
  {
   "cell_type": "code",
   "execution_count": 2,
   "metadata": {},
   "outputs": [],
   "source": [
    "db = INBreast_Dataset(\n",
    "    return_lesions_mask=True,\n",
    "    level='image',\n",
    "    max_lesion_diam_mm=None,\n",
    "    partitions=['train', 'validation'],\n",
    "    min_breast_fraction_roi=0.5,\n",
    "    normalize=None,\n",
    "    n_jobs=-1,\n",
    "    use_muscle_mask=True\n",
    ")"
   ]
  },
  {
   "cell_type": "markdown",
   "metadata": {},
   "source": [
    "### Detectors Parameters and initialization"
   ]
  },
  {
   "cell_type": "code",
   "execution_count": 3,
   "metadata": {},
   "outputs": [],
   "source": [
    "hd = HoughCalcificationDetection()\n",
    "CENTER_CROP_PATCH = 14\n",
    "PATCH_SIZE = 14\n",
    "\n",
    "GABOR_PARAMS = {'scale': 2, 'orientation': 3,\n",
    "                'max_freq': 0.2, 'ksize': (20, 20), 'sigma': 3}\n",
    "WAVELET_PARAMS = {'angles': [0, np.pi/4, np.pi/2]}\n",
    "HAAR_PARAMS = {\n",
    "    'skimage': {\n",
    "        'feature_type': [], 'feature_coord': []\n",
    "    },\n",
    "    'ours': {\n",
    "        'horizontal_feature_types': [(hm.Feature3h3v, 3, 3)],\n",
    "        'rotated_feature_types': None,\n",
    "        'horizontal_feature_selection': None,\n",
    "        'rotated_feature_selection': None,\n",
    "    },\n",
    "    'patch_size': PATCH_SIZE\n",
    "}\n",
    "\n",
    "\n",
    "# IS THIS FINAL HAAR? MAYBE\n",
    "path = (Path.cwd().parent / f'feature_extraction/haar_features/')\n",
    "with open(path/'final_feat_selection.p', 'rb') as f:\n",
    "    selection = pickle.load(f)\n",
    "    \n",
    "HAAR_PARAMS = {\n",
    "    'skimage': {\n",
    "        'feature_type': selection['skimage_haar_feature_types_sel'],\n",
    "        'feature_coord': selection['skimage_haar_feature_coords_sel']\n",
    "    },\n",
    "    'ours': {\n",
    "        'horizontal_feature_selection': selection['hor_feats_selection'].tolist(),\n",
    "        'rotated_feature_selection': selection['rot_feats_selection'].tolist(),\n",
    "        'rotated_feature_types': None,\n",
    "        'horizontal_feature_types': None\n",
    "    },\n",
    "    'patch_size': 14\n",
    "}\n",
    "\n",
    "cfe = CandidatesFeatureExtraction(patch_size=PATCH_SIZE, fos=True, gabor_params=GABOR_PARAMS,\n",
    "                                  wavelet_params=WAVELET_PARAMS, haar_params=HAAR_PARAMS)"
   ]
  },
  {
   "cell_type": "markdown",
   "metadata": {},
   "source": [
    "### Detector initialization"
   ]
  },
  {
   "cell_type": "markdown",
   "metadata": {},
   "source": [
    "### FE"
   ]
  },
  {
   "cell_type": "code",
   "execution_count": 4,
   "metadata": {},
   "outputs": [
    {
     "name": "stderr",
     "output_type": "stream",
     "text": [
      "100%|██████████| 154/154 [3:14:59<00:00, 75.97s/it]   \n"
     ]
    }
   ],
   "source": [
    "fdf = []\n",
    "fns_df = []\n",
    "for idx in tqdm(range(len(db))):\n",
    "    # extracting data\n",
    "    db_sample = db[idx]\n",
    "    image = db_sample['img']\n",
    "    image_id = db.df.iloc[idx].img_id\n",
    "    image_mask = db_sample['lesion_mask']\n",
    "\n",
    "    # candidate selection\n",
    "    candidates = hd.detect(image, image_id, load_processed_images=True, hough2=False)[0]\n",
    "\n",
    "     # labeling of candidates:\n",
    "    tp, fp, fn = utils.get_tp_fp_fn_center_patch_criteria(\n",
    "        candidates, image_mask, None, PATCH_SIZE)\n",
    "    \n",
    "    candidates = tp + fp\n",
    "    labels = np.array([True] * len(tp) + [False] * len(fp))\n",
    "    \n",
    "    # feature extraction\n",
    "    X = cfe.extract_features(candidates, image)\n",
    "    res = pd.DataFrame(X, columns=cfe.feature_names)\n",
    "    \n",
    "    res['img_id'] = image_id\n",
    "    res['labels'] = labels\n",
    "\n",
    "    \n",
    "    # Generate a fn dataframe to compute frocs\n",
    "    fn_df = pd.DataFrame(fn, columns=['x', 'y', 'radius'])\n",
    "    fn_df['labels'] = 'FN'\n",
    "    fn_df['img_id'] = image_id\n",
    "    fns_df.append(fn_df)\n",
    "    fdf.append(res)\n",
    "\n",
    "all_data_df = pd.concat(fdf, ignore_index=True)\n",
    "fns_df = pd.concat(fns_df, ignore_index=True)"
   ]
  },
  {
   "cell_type": "code",
   "execution_count": 5,
   "metadata": {},
   "outputs": [],
   "source": [
    "pd.to_pickle((all_data_df, fns_df), 'feature_sets/hough1_all_feat_1pxsize.pkl')"
   ]
  },
  {
   "cell_type": "code",
   "execution_count": 6,
   "metadata": {},
   "outputs": [
    {
     "name": "stderr",
     "output_type": "stream",
     "text": [
      "100%|██████████| 154/154 [46:18<00:00, 18.04s/it]\n"
     ]
    }
   ],
   "source": [
    "fdf = []\n",
    "fns_df = []\n",
    "for idx in tqdm(range(len(db))):\n",
    "    # extracting data\n",
    "    db_sample = db[idx]\n",
    "    image = db_sample['img']\n",
    "    image_id = db.df.iloc[idx].img_id\n",
    "    image_mask = db_sample['lesion_mask']\n",
    "\n",
    "    # candidate selection\n",
    "    candidates = hd.detect(image, image_id, load_processed_images=True, hough2=True)[1]\n",
    "\n",
    "     # labeling of candidates:\n",
    "    tp, fp, fn = utils.get_tp_fp_fn_center_patch_criteria(\n",
    "        candidates, image_mask, None, PATCH_SIZE)\n",
    "    \n",
    "    candidates = tp + fp\n",
    "    labels = np.array([True] * len(tp) + [False] * len(fp))\n",
    "    \n",
    "    # feature extraction\n",
    "    X = cfe.extract_features(candidates, image)\n",
    "    res = pd.DataFrame(X, columns=cfe.feature_names)\n",
    "    \n",
    "    res['img_id'] = image_id\n",
    "    res['labels'] = labels\n",
    "\n",
    "    \n",
    "    # Generate a fn dataframe to compute frocs\n",
    "    fn_df = pd.DataFrame(fn, columns=['x', 'y', 'radius'])\n",
    "    fn_df['labels'] = 'FN'\n",
    "    fn_df['img_id'] = image_id\n",
    "    fns_df.append(fn_df)\n",
    "    fdf.append(res)\n",
    "\n",
    "all_data_df = pd.concat(fdf, ignore_index=True)\n",
    "fns_df = pd.concat(fns_df, ignore_index=True)"
   ]
  },
  {
   "cell_type": "code",
   "execution_count": null,
   "metadata": {},
   "outputs": [],
   "source": [
    "pd.to_pickle((all_data_df, fns_df), 'feature_sets/hough2_all_feat_1pxsize.pkl')"
   ]
  },
  {
   "cell_type": "markdown",
   "metadata": {},
   "source": [
    "# Test|"
   ]
  },
  {
   "cell_type": "code",
   "execution_count": 4,
   "metadata": {},
   "outputs": [],
   "source": [
    "cfe = CandidatesFeatureExtraction(patch_size=PATCH_SIZE, fos=True, gabor_params=GABOR_PARAMS,\n",
    "                                  wavelet_params=WAVELET_PARAMS, haar_params=None)\n",
    "\n",
    "cfe_mp = CandidatesFeatureExtraction_MP(patch_size=PATCH_SIZE, fos=True, gabor_params=GABOR_PARAMS,\n",
    "                                  wavelet_params=WAVELET_PARAMS, haar_params=None)\n",
    "\n",
    "\n",
    "hd = HoughCalcificationDetection()\n"
   ]
  },
  {
   "cell_type": "code",
   "execution_count": 5,
   "metadata": {},
   "outputs": [],
   "source": [
    "idx = 0\n",
    "db_sample = db[idx]\n",
    "image = db_sample['img']\n",
    "image_id = db.df.iloc[idx].img_id\n",
    "image_mask = db_sample['lesion_mask']\n",
    "\n",
    "# candidate selection\n",
    "candidates = hd.detect(image, image_id, load_processed_images=True, hough2=True)[1]\n",
    "\n",
    "    # labeling of candidates:\n",
    "tp, fp, fn = get_tp_fp_fn_center_patch_criteria(\n",
    "    candidates, image_mask, None, PATCH_SIZE)"
   ]
  },
  {
   "cell_type": "code",
   "execution_count": 6,
   "metadata": {},
   "outputs": [
    {
     "data": {
      "text/plain": [
       "1776"
      ]
     },
     "execution_count": 6,
     "metadata": {},
     "output_type": "execute_result"
    }
   ],
   "source": [
    "len(candidates)"
   ]
  },
  {
   "cell_type": "code",
   "execution_count": 7,
   "metadata": {},
   "outputs": [],
   "source": [
    "# feature extraction\n",
    "X = cfe.extract_features(candidates, image)\n",
    "res = pd.DataFrame(X, columns=cfe.feature_names)"
   ]
  },
  {
   "cell_type": "code",
   "execution_count": 9,
   "metadata": {},
   "outputs": [],
   "source": [
    "cfe_mp.n_jobs = 8\n",
    "# feature extraction\n",
    "X2 = cfe_mp.extract_features(candidates, image)\n",
    "res2 = pd.DataFrame(X2, columns=cfe_mp.feature_names)"
   ]
  },
  {
   "cell_type": "code",
   "execution_count": null,
   "metadata": {},
   "outputs": [],
   "source": []
  }
 ],
 "metadata": {
  "interpreter": {
   "hash": "d785cc99391f1decae0a31664a2bc430e1bb802c6f8076d9d1b38f05ab7f6160"
  },
  "kernelspec": {
   "display_name": "Python 3.9.7 ('calc_det')",
   "language": "python",
   "name": "python3"
  },
  "language_info": {
   "codemirror_mode": {
    "name": "ipython",
    "version": 3
   },
   "file_extension": ".py",
   "mimetype": "text/x-python",
   "name": "python",
   "nbconvert_exporter": "python",
   "pygments_lexer": "ipython3",
   "version": "3.9.7"
  },
  "orig_nbformat": 4
 },
 "nbformat": 4,
 "nbformat_minor": 2
}
