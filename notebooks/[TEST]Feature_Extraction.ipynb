{
 "cells": [
  {
   "cell_type": "markdown",
   "metadata": {},
   "source": [
    "## Feature Extaction Test"
   ]
  },
  {
   "cell_type": "code",
   "execution_count": 1,
   "metadata": {},
   "outputs": [],
   "source": [
    "import sys\n",
    "sys.path.insert(0, '..')\n",
    "from metrics.metrics_utils import get_tp_fp_fn_center_patch_criteria\n",
    "from general_utils.plots import plot_bboxes_over_image, simple_im_show, simple_im_show2\n",
    "from mc_candidate_proposal.hough_mc import HoughCalcificationDetection\n",
    "from mc_candidate_proposal.morphology_mc import MorphologyCalcificationDetection\n",
    "from feature_extraction.feature_extraction import CandidatesFeatureExtraction, CandidatesFeatureExtraction_MP\n",
    "from database.dataset import *\n",
    "import feature_extraction.haar_features.haar_modules as hm\n",
    "\n",
    "import pickle"
   ]
  },
  {
   "cell_type": "markdown",
   "metadata": {},
   "source": [
    "### Database initialization"
   ]
  },
  {
   "cell_type": "code",
   "execution_count": 2,
   "metadata": {},
   "outputs": [],
   "source": [
    "db = INBreast_Dataset(\n",
    "    return_lesions_mask=True,\n",
    "    level='image',\n",
    "    max_lesion_diam_mm=None,\n",
    "    extract_patches=False,\n",
    "    partitions = ['train', 'validation'],\n",
    "    lesion_types = ['calcification', 'cluster'],\n",
    "    cropped_imgs = True,\n",
    "    keep_just_images_of_lesion_type = False,\n",
    "    use_muscle_mask=True,\n",
    "    ignore_diameter_px = 15\n",
    ")"
   ]
  },
  {
   "cell_type": "markdown",
   "metadata": {},
   "source": [
    "### Detectors Parameters and initialization"
   ]
  },
  {
   "cell_type": "code",
   "execution_count": 3,
   "metadata": {},
   "outputs": [],
   "source": [
    "hd = HoughCalcificationDetection()\n",
    "CENTER_CROP_PATCH = 14\n",
    "PATCH_SIZE = 14\n",
    "\n",
    "GABOR_PARAMS = {'scale': 2, 'orientation': 3,\n",
    "                'max_freq': 0.2, 'ksize': (20, 20), 'sigma': 3}\n",
    "WAVELET_PARAMS = {'angles': [0, np.pi/4, np.pi/2]}\n",
    "# HAAR_PARAMS = {\n",
    "#     'skimage': {\n",
    "#         'feature_type': [], 'feature_coord': []\n",
    "#     },\n",
    "#     'ours': {\n",
    "#         'horizontal_feature_types': [(hm.Feature3h3v, 3, 3)],\n",
    "#         'rotated_feature_types': None,\n",
    "#         'horizontal_feature_selection': None,\n",
    "#         'rotated_feature_selection': None,\n",
    "#     },\n",
    "#     'patch_size': PATCH_SIZE\n",
    "# }\n",
    "\n",
    "\n",
    "# # IS THIS FINAL HAAR? MAYBE\n",
    "# path = (Path.cwd().parent / f'feature_extraction/haar_features/')\n",
    "# with open(path/'final_feat_selection.p', 'rb') as f:\n",
    "#     selection = pickle.load(f)\n",
    "    \n",
    "# HAAR_PARAMS = {\n",
    "#     'skimage': {\n",
    "#         'feature_type': selection['skimage_haar_feature_types_sel'],\n",
    "#         'feature_coord': selection['skimage_haar_feature_coords_sel']\n",
    "#     },\n",
    "#     'ours': {\n",
    "#         'horizontal_feature_selection': selection['hor_feats_selection'].tolist(),\n",
    "#         'rotated_feature_selection': selection['rot_feats_selection'].tolist(),\n",
    "#         'rotated_feature_types': None,\n",
    "#         'horizontal_feature_types': None\n",
    "#     },\n",
    "#     'patch_size': 14\n",
    "# }\n",
    "\n",
    "cfe = CandidatesFeatureExtraction_MP(patch_size=PATCH_SIZE, fos=True, gabor_params=GABOR_PARAMS,\n",
    "                                  wavelet_params=WAVELET_PARAMS, haar_params=None, n_jobs=4)"
   ]
  },
  {
   "cell_type": "markdown",
   "metadata": {},
   "source": [
    "### Detector initialization"
   ]
  },
  {
   "cell_type": "code",
   "execution_count": 4,
   "metadata": {},
   "outputs": [],
   "source": [
    "db_range = list(range(len(db)))"
   ]
  },
  {
   "cell_type": "markdown",
   "metadata": {},
   "source": [
    "## FE"
   ]
  },
  {
   "cell_type": "markdown",
   "metadata": {},
   "source": [
    "### Hough"
   ]
  },
  {
   "cell_type": "code",
   "execution_count": 6,
   "metadata": {},
   "outputs": [],
   "source": [
    "with open('/home/vzalevskyi/projects/calc-det/data/final_haar_500_feat_selection_hough.p', 'rb') as f:\n",
    "    selection = pickle.load(f)\n",
    "    \n",
    "HAAR_PARAMS = {\n",
    "    'skimage': {\n",
    "        'feature_type': selection['skimage_haar_feature_types_sel'],\n",
    "        'feature_coord': selection['skimage_haar_feature_coords_sel']\n",
    "    },\n",
    "    'ours': {\n",
    "        'horizontal_feature_selection': selection['hor_feats_selection'].tolist(),\n",
    "        'rotated_feature_selection': selection['rot_feats_selection'].tolist(),\n",
    "        'rotated_feature_types': None,\n",
    "        'horizontal_feature_types': None\n",
    "    },\n",
    "    'patch_size': 14\n",
    "}\n",
    "\n",
    "cfe = CandidatesFeatureExtraction_MP(patch_size=PATCH_SIZE, fos=False, gabor_params=None,\n",
    "                                  wavelet_params=None, haar_params=HAAR_PARAMS, n_jobs=4)"
   ]
  },
  {
   "cell_type": "code",
   "execution_count": 7,
   "metadata": {},
   "outputs": [
    {
     "name": "stderr",
     "output_type": "stream",
     "text": [
      "100%|██████████| 110/110 [16:49<00:00,  9.18s/it]\n"
     ]
    }
   ],
   "source": [
    "data_path = Path.cwd().parent.parent/'data/features/hough'\n",
    "\n",
    "fdf = []\n",
    "fns_df = []\n",
    "ingnored_df = []\n",
    "\n",
    "batch = 1\n",
    "\n",
    "for idx in tqdm(db_range[:110]):\n",
    "    # extracting data\n",
    "    db_sample = db[idx]\n",
    "    image = db_sample['img']\n",
    "    image_id = db.df.iloc[idx].img_id\n",
    "    image_mask = db_sample['lesion_mask']\n",
    "    muscle_mask = db_sample['muscle_mask']\n",
    "\n",
    "    # candidate selection\n",
    "    candidates = hd.detect(image, image_id, load_processed_images=True, hough2=False, muscle_mask=muscle_mask)\n",
    "     # labeling of candidates:\n",
    "    tp, fp, fn, ignored_candidates = get_tp_fp_fn_center_patch_criteria(\n",
    "        candidates, image_mask, None, 14)\n",
    "    \n",
    "    candidates = pd.concat([tp, fp], axis=0, ignore_index=True)\n",
    "    \n",
    "    # Extracting features\n",
    "    labels = np.where(candidates.label.values == 'TP', True, False)\n",
    "    \n",
    "    X = candidates.drop_duplicates(subset='repeted_idxs')\n",
    "    X = cfe.extract_features(X.loc[:, ['x','y','radius']].values.astype(int), image)\n",
    "    \n",
    "    # Get features dfs\n",
    "    X = pd.DataFrame(data=X, columns=cfe.feature_names)\n",
    "    X.index = candidates.drop_duplicates(subset='repeted_idxs').index\n",
    "\n",
    "    res = X.loc[candidates.repeted_idxs.tolist(),:]\n",
    "    res['img_id'] = image_id\n",
    "    res['repeted_idxs'] = candidates.repeted_idxs.tolist()\n",
    "    res['matching_gt'] = candidates.matching_gt.tolist()\n",
    "    res['label'] = labels\n",
    "\n",
    "    # Generate a fn dataframe to compute frocs\n",
    "    fn['img_id'] = image_id\n",
    "    fns_df.append(fn)\n",
    "    fdf.append(res)\n",
    "    ingnored_df.append(ignored_candidates)\n",
    "    \n",
    "all_data_df = pd.concat(fdf, ignore_index=True)\n",
    "fns_df = pd.concat(fns_df, ignore_index=True)\n",
    "ingnored_df = pd.concat(ingnored_df, ignore_index=True)\n",
    "\n",
    "all_data_df.to_feather(str(data_path/f'all_data_df_{batch}_haar.f'))\n",
    "fns_df.to_feather(str(data_path/f'fns_df_{batch}_haar.f'))\n",
    "ingnored_df.to_feather(str(data_path/f'ingnored_df_{batch}_haar.f'))"
   ]
  },
  {
   "cell_type": "code",
   "execution_count": 8,
   "metadata": {},
   "outputs": [],
   "source": [
    "del all_data_df\n",
    "del fns_df\n",
    "del fdf\n",
    "del ingnored_df"
   ]
  },
  {
   "cell_type": "code",
   "execution_count": 9,
   "metadata": {},
   "outputs": [
    {
     "name": "stderr",
     "output_type": "stream",
     "text": [
      "100%|██████████| 100/100 [15:42<00:00,  9.43s/it]\n"
     ]
    }
   ],
   "source": [
    "data_path = Path.cwd().parent.parent/'data/features/hough'\n",
    "\n",
    "fdf = []\n",
    "fns_df = []\n",
    "ingnored_df = []\n",
    "\n",
    "batch = 2\n",
    "\n",
    "for idx in tqdm(db_range[110:]):\n",
    "    # extracting data\n",
    "    db_sample = db[idx]\n",
    "    image = db_sample['img']\n",
    "    image_id = db.df.iloc[idx].img_id\n",
    "    image_mask = db_sample['lesion_mask']\n",
    "    muscle_mask = db_sample['muscle_mask']\n",
    "\n",
    "    # candidate selection\n",
    "    candidates = hd.detect(image, image_id, load_processed_images=True, hough2=False, muscle_mask=muscle_mask)\n",
    "     # labeling of candidates:\n",
    "    tp, fp, fn, ignored_candidates = get_tp_fp_fn_center_patch_criteria(\n",
    "        candidates, image_mask, None, 14)\n",
    "    \n",
    "    candidates = pd.concat([tp, fp], axis=0, ignore_index=True)\n",
    "    \n",
    "    # Extracting features\n",
    "    labels = np.where(candidates.label.values == 'TP', True, False)\n",
    "    \n",
    "    X = candidates.drop_duplicates(subset='repeted_idxs')\n",
    "    X = cfe.extract_features(X.loc[:, ['x','y','radius']].values.astype(int), image)\n",
    "    \n",
    "    # Get features dfs\n",
    "    X = pd.DataFrame(data=X, columns=cfe.feature_names)\n",
    "    X.index = candidates.drop_duplicates(subset='repeted_idxs').index\n",
    "\n",
    "    res = X.loc[candidates.repeted_idxs.tolist(),:]\n",
    "    res['img_id'] = image_id\n",
    "    res['repeted_idxs'] = candidates.repeted_idxs.tolist()\n",
    "    res['matching_gt'] = candidates.matching_gt.tolist()\n",
    "    res['label'] = labels\n",
    "\n",
    "    # Generate a fn dataframe to compute frocs\n",
    "    fn['img_id'] = image_id\n",
    "    fns_df.append(fn)\n",
    "    fdf.append(res)\n",
    "    ingnored_df.append(ignored_candidates)\n",
    "    \n",
    "all_data_df = pd.concat(fdf, ignore_index=True)\n",
    "fns_df = pd.concat(fns_df, ignore_index=True)\n",
    "ingnored_df = pd.concat(ingnored_df, ignore_index=True)\n",
    "\n",
    "all_data_df.to_feather(str(data_path/f'all_data_df_{batch}_haar.f'))\n",
    "fns_df.to_feather(str(data_path/f'fns_df_{batch}_haar.f'))\n",
    "ingnored_df.to_feather(str(data_path/f'ingnored_df_{batch}_haar.f'))"
   ]
  },
  {
   "cell_type": "code",
   "execution_count": 10,
   "metadata": {},
   "outputs": [
    {
     "name": "stdout",
     "output_type": "stream",
     "text": [
      "General train+val sensitivity: 0.8771626297577855\n",
      "General val sensitivity: 0.9083333333333333\n"
     ]
    }
   ],
   "source": [
    "val_img_ids = set(db.df.img_id[db.df.partition == 'validation'].unique())\n",
    "normal_img_ids = set(db.get_normal_imgs_ids())\n",
    "\n",
    "validation_mask = all_data_df.img_id.isin(val_img_ids)\n",
    "validation_normals_mask = all_data_df.img_id.isin(normal_img_ids&val_img_ids)\n",
    "normals_mask = all_data_df.img_id.isin(normal_img_ids)\n",
    "\n",
    "print(f'General train+val sensitivity: {all_data_df.label.sum()/(all_data_df.label.sum() + len(fns_df))}')\n",
    "print(f'General val sensitivity: {all_data_df[validation_mask].label.sum()/(all_data_df[validation_mask].label.sum() + len(fns_df[fns_df.img_id.isin(val_img_ids)]))}')"
   ]
  },
  {
   "cell_type": "markdown",
   "metadata": {},
   "source": [
    "### Morphology"
   ]
  },
  {
   "cell_type": "code",
   "execution_count": 5,
   "metadata": {},
   "outputs": [],
   "source": [
    "threshold = 0.95\n",
    "min_distance = 6\n",
    "area = 14\n",
    "rbd_p = '/home/vzalevskyi/projects/calc-det/data/recounstructed_by_dialation_img'\n",
    "md = MorphologyCalcificationDetection(rbd_p, threshold, min_distance, area*area, filter_muscle_region=True, store_intermediate=False)"
   ]
  },
  {
   "cell_type": "code",
   "execution_count": 7,
   "metadata": {},
   "outputs": [],
   "source": [
    "CENTER_CROP_PATCH = 14\n",
    "PATCH_SIZE = 14\n",
    "\n",
    "GABOR_PARAMS = {'scale': 2, 'orientation': 3,\n",
    "                'max_freq': 0.2, 'ksize': (20, 20), 'sigma': 3}\n",
    "WAVELET_PARAMS = {'angles': [0, np.pi/4, np.pi/2]}\n",
    "\n",
    "\n",
    "\n",
    "with open('/home/vzalevskyi/projects/calc-det/data/final_haar_500_feat_selection_gsm.p', 'rb') as f:\n",
    "    selection = pickle.load(f)\n",
    "    \n",
    "HAAR_PARAMS = {\n",
    "    'skimage': {\n",
    "        'feature_type': selection['skimage_haar_feature_types_sel'],\n",
    "        'feature_coord': selection['skimage_haar_feature_coords_sel']\n",
    "    },\n",
    "    'ours': {\n",
    "        'horizontal_feature_selection': selection['hor_feats_selection'].tolist(),\n",
    "        'rotated_feature_selection': selection['rot_feats_selection'].tolist(),\n",
    "        'rotated_feature_types': None,\n",
    "        'horizontal_feature_types': None\n",
    "    },\n",
    "    'patch_size': 14\n",
    "}\n",
    "\n",
    "cfe = CandidatesFeatureExtraction_MP(patch_size=PATCH_SIZE, fos=True, gabor_params=GABOR_PARAMS,\n",
    "                                  wavelet_params=WAVELET_PARAMS, haar_params=HAAR_PARAMS, n_jobs=4)"
   ]
  },
  {
   "cell_type": "code",
   "execution_count": 8,
   "metadata": {},
   "outputs": [
    {
     "name": "stderr",
     "output_type": "stream",
     "text": [
      "100%|██████████| 210/210 [2:25:38<00:00, 41.61s/it]  \n"
     ]
    }
   ],
   "source": [
    "data_path = Path.cwd().parent.parent/'data/features/morph'\n",
    "\n",
    "fdf = []\n",
    "fns_df = []\n",
    "ingnored_df = []\n",
    "\n",
    "batch = 1\n",
    "\n",
    "for idx in tqdm(db_range[:]):\n",
    "    # extracting data\n",
    "    db_sample = db[idx]\n",
    "    image = db_sample['img']\n",
    "    image_id = db.df.iloc[idx].img_id\n",
    "    image_mask = db_sample['lesion_mask']\n",
    "    muscle_mask = db_sample['muscle_mask']\n",
    "\n",
    "    # candidate selection\n",
    "    candidates = md.detect(image, image_id, muscle_mask=muscle_mask)\n",
    "     # labeling of candidates:\n",
    "    tp, fp, fn, ignored_candidates = get_tp_fp_fn_center_patch_criteria(\n",
    "        candidates, image_mask, None, 14)\n",
    "    \n",
    "    candidates = pd.concat([tp, fp], axis=0, ignore_index=True)\n",
    "    \n",
    "    # Extracting features\n",
    "    labels = np.where(candidates.label.values == 'TP', True, False)\n",
    "    \n",
    "    X = candidates.drop_duplicates(subset='repeted_idxs')\n",
    "    X = cfe.extract_features(X.loc[:, ['x','y','radius']].values.astype(int), image)\n",
    "    \n",
    "    # Get features dfs\n",
    "    X = pd.DataFrame(data=X, columns=cfe.feature_names)\n",
    "    X.index = candidates.drop_duplicates(subset='repeted_idxs').index\n",
    "\n",
    "    res = X.loc[candidates.repeted_idxs.tolist(),:]\n",
    "    res['img_id'] = image_id\n",
    "    res['repeted_idxs'] = candidates.repeted_idxs.tolist()\n",
    "    res['matching_gt'] = candidates.matching_gt.tolist()\n",
    "    res['label'] = labels\n",
    "\n",
    "    # Generate a fn dataframe to compute frocs\n",
    "    fn['img_id'] = image_id\n",
    "    fns_df.append(fn)\n",
    "    fdf.append(res)\n",
    "    ingnored_df.append(ignored_candidates)\n",
    "    \n",
    "all_data_df = pd.concat(fdf, ignore_index=True)\n",
    "fns_df = pd.concat(fns_df, ignore_index=True)\n",
    "ingnored_df = pd.concat(ingnored_df, ignore_index=True)\n",
    "\n",
    "all_data_df.to_feather(str(data_path/f'all_data_df_{batch}.f'))\n",
    "fns_df.to_feather(str(data_path/f'fns_df_{batch}.f'))\n",
    "ingnored_df.to_feather(str(data_path/f'ingnored_df_{batch}.f'))"
   ]
  },
  {
   "cell_type": "code",
   "execution_count": 16,
   "metadata": {},
   "outputs": [
    {
     "name": "stdout",
     "output_type": "stream",
     "text": [
      "General train+val sensitivity: 0.8089813800657174\n",
      "General val sensitivity: 0.7985611510791367\n"
     ]
    }
   ],
   "source": [
    "val_img_ids = set(db.df.img_id[db.df.partition == 'validation'].unique())\n",
    "normal_img_ids = set(db.get_normal_imgs_ids())\n",
    "\n",
    "validation_mask = all_data_df.img_id.isin(val_img_ids)\n",
    "validation_normals_mask = all_data_df.img_id.isin(normal_img_ids&val_img_ids)\n",
    "normals_mask = all_data_df.img_id.isin(normal_img_ids)\n",
    "\n",
    "print(f'General train+val sensitivity: {all_data_df.label.sum()/(all_data_df.label.sum() + len(fns_df))}')\n",
    "print(f'General val sensitivity: {all_data_df[validation_mask].label.sum()/(all_data_df[validation_mask].label.sum() + len(fns_df[fns_df.img_id.isin(val_img_ids)]))}')"
   ]
  },
  {
   "cell_type": "markdown",
   "metadata": {},
   "source": [
    "## Merging batches"
   ]
  },
  {
   "cell_type": "markdown",
   "metadata": {},
   "source": [
    "Merging differnet batches of features"
   ]
  },
  {
   "cell_type": "code",
   "execution_count": 3,
   "metadata": {},
   "outputs": [],
   "source": [
    "features_data1 = pd.read_feather('/home/vzalevskyi/projects/data/features/hough/final_features_hough1.f')\n",
    "features_data2 = pd.read_feather('/home/vzalevskyi/projects/data/features/hough/final_features_hough2.f')\n",
    "\n",
    "features_data = pd.concat([features_data1, features_data2])\n",
    "\n",
    "del features_data1\n",
    "del features_data2\n",
    "\n",
    "features_data.reset_index().drop(columns=['index']).to_feather('/home/vzalevskyi/projects/data/features/hough/features_hough.f')\n"
   ]
  },
  {
   "cell_type": "code",
   "execution_count": 7,
   "metadata": {},
   "outputs": [],
   "source": [
    "fnsdf1 =  pd.read_feather('/home/vzalevskyi/projects/data/features/hough/fns_df_1.f')\n",
    "fnsdf2 =  pd.read_feather('/home/vzalevskyi/projects/data/features/hough/fns_df_2.f')\n",
    "\n",
    "ignored1 = pd.read_feather('/home/vzalevskyi/projects/data/features/hough/ingnored_df_1.f')\n",
    "ignored2 = pd.read_feather('/home/vzalevskyi/projects/data/features/hough/ingnored_df_2.f')\n",
    "\n",
    "fnsdf = pd.concat([fnsdf1, fnsdf2]).reset_index().drop(columns=['index'])\n",
    "ignored = pd.concat([ignored1, ignored2]).reset_index().drop(columns=['index'])\n",
    "\n",
    "fnsdf.to_feather('/home/vzalevskyi/projects/data/features/hough/fnsdf_hough.f')\n",
    "ignored.to_feather('/home/vzalevskyi/projects/data/features/hough/ignored_hough.f')"
   ]
  },
  {
   "cell_type": "markdown",
   "metadata": {},
   "source": [
    "Merging haar features to rest of features"
   ]
  },
  {
   "cell_type": "code",
   "execution_count": 6,
   "metadata": {},
   "outputs": [],
   "source": [
    "# used to merge batches of features, ignore\n",
    "# features_data1 = pd.read_feather('/home/vzalevskyi/projects/data/features/hough/all_data_df_2.f')\n",
    "# features_data1_haar = pd.read_feather('/home/vzalevskyi/projects/data/features/hough/all_data_df_2_haar.f')\n",
    "\n",
    "\n",
    "# merged_data = features_data1.merge(features_data1_haar, on=['img_id', 'repeted_idxs', 'matching_gt'], how='inner', suffixes=(None, '_y'), validate='one_to_one')\n",
    "# merged_data = merged_data.drop(columns=[x for x in merged_data.columns if '_y' in x])\n",
    "\n",
    "# merged_data.to_feather('/home/vzalevskyi/projects/data/features/hough/final_features_hough2.f')\n",
    "\n",
    "# fns_df_rest = pd.read_feather('/home/vzalevskyi/projects/data/features/hough/fns_df_1.f')\n",
    "# fns_df_haar = pd.read_feather('/home/vzalevskyi/projects/data/features/hough/fns_df_1_haar.f')\n",
    "\n",
    "# fns_df_rest == fns_df_haar"
   ]
  },
  {
   "cell_type": "code",
   "execution_count": null,
   "metadata": {},
   "outputs": [],
   "source": []
  }
 ],
 "metadata": {
  "interpreter": {
   "hash": "d785cc99391f1decae0a31664a2bc430e1bb802c6f8076d9d1b38f05ab7f6160"
  },
  "kernelspec": {
   "display_name": "Python 3.9.7 ('calc_det')",
   "language": "python",
   "name": "python3"
  },
  "language_info": {
   "codemirror_mode": {
    "name": "ipython",
    "version": 3
   },
   "file_extension": ".py",
   "mimetype": "text/x-python",
   "name": "python",
   "nbconvert_exporter": "python",
   "pygments_lexer": "ipython3",
   "version": "3.9.7"
  },
  "orig_nbformat": 4
 },
 "nbformat": 4,
 "nbformat_minor": 2
}
