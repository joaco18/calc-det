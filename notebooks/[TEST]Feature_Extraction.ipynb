{
 "cells": [
  {
   "cell_type": "markdown",
   "metadata": {},
   "source": [
    "## Feature Extaction Test"
   ]
  },
  {
   "cell_type": "code",
   "execution_count": 1,
   "metadata": {},
   "outputs": [],
   "source": [
    "import sys\n",
    "sys.path.insert(0, '..')\n",
    "from metrics.metrics import  quick_circle_comparison, circle_comparison\n",
    "from general_utils.plots import plot_bboxes_over_image, simple_im_show, simple_im_show2\n",
    "from metrics.metrics_utils import get_tp_fp_fn_center_patch_criteria\n",
    "from mc_candidate_proposal.hough_mc import HoughCalcificationDetection\n",
    "from mc_candidate_proposal.morphology_mc import MorphologyCalcificationDetection\n",
    "from feature_extraction.feature_extraction import CandidatesFeatureExtraction, CandidatesFeatureExtraction_MP\n",
    "from database.dataset import *\n",
    "import feature_extraction.haar_features.haar_modules as hm\n",
    "\n",
    "import pickle"
   ]
  },
  {
   "cell_type": "markdown",
   "metadata": {},
   "source": [
    "### Database initialization"
   ]
  },
  {
   "cell_type": "code",
   "execution_count": 2,
   "metadata": {},
   "outputs": [],
   "source": [
    "db = INBreast_Dataset(\n",
    "    return_lesions_mask=True,\n",
    "    level='image',\n",
    "    max_lesion_diam_mm=None,\n",
    "    partitions=['train', 'validation'],\n",
    "    min_breast_fraction_roi=0.5,\n",
    "    normalize=None,\n",
    "    n_jobs=-1,\n",
    "    use_muscle_mask=True\n",
    ")"
   ]
  },
  {
   "cell_type": "markdown",
   "metadata": {},
   "source": [
    "### Detectors Parameters and initialization"
   ]
  },
  {
   "cell_type": "code",
   "execution_count": 5,
   "metadata": {},
   "outputs": [],
   "source": [
    "hd = MorphologyCalcificationDetection(rbd_img_path='/home/vzalevskyi/projects/calc-det/data/recounstructed_by_dialation_img/new_rbd',\n",
    "                                      threshold=0.96, min_distance=6,\n",
    "                                      area=14*14, filter_muscle_region=True, )\n",
    "CENTER_CROP_PATCH = None\n",
    "PATCH_SIZE = 14\n",
    "\n",
    "GABOR_PARAMS = {'scale': 2, 'orientation': 3,\n",
    "                'max_freq': 0.2, 'ksize': (20, 20), 'sigma': 3}\n",
    "WAVELET_PARAMS = {'angles': [0, np.pi/4, np.pi/2]}\n",
    "\n",
    "\n",
    "# THIS IS FINAL HAAR\n",
    "path = (Path.cwd().parent)\n",
    "with open(path/'data/final_haar_400_feat_selection_GSM.p', 'rb') as f:\n",
    "    selection = pickle.load(f)\n",
    "    \n",
    "# ISTANTIATE the candidate Feature Extractor with the selected features.\n",
    "haar_params = {\n",
    "    'skimage': {\n",
    "        'feature_type': selection['skimage_haar_feature_types_sel'],\n",
    "        'feature_coord': selection['skimage_haar_feature_coords_sel']\n",
    "    },\n",
    "    'ours': {\n",
    "        'horizontal_feature_selection': selection['hor_feats_selection'].tolist(),\n",
    "        'rotated_feature_selection': selection['rot_feats_selection'].tolist(),\n",
    "        'rotated_feature_types': None,\n",
    "        'horizontal_feature_types': None\n",
    "    },\n",
    "    'patch_size': 14\n",
    "}\n",
    "\n",
    "cfe = CandidatesFeatureExtraction_MP(patch_size=PATCH_SIZE, fos=False, gabor_params=None,\n",
    "                                  wavelet_params=None, haar_params=haar_params)"
   ]
  },
  {
   "cell_type": "markdown",
   "metadata": {},
   "source": [
    "### Detector initialization"
   ]
  },
  {
   "cell_type": "code",
   "execution_count": 6,
   "metadata": {},
   "outputs": [],
   "source": [
    "db_range = list(range(len(db)))"
   ]
  },
  {
   "cell_type": "markdown",
   "metadata": {},
   "source": [
    "### FE"
   ]
  },
  {
   "cell_type": "code",
   "execution_count": 8,
   "metadata": {},
   "outputs": [
    {
     "name": "stderr",
     "output_type": "stream",
     "text": [
      "100%|██████████| 210/210 [17:09<00:00,  4.90s/it]\n"
     ]
    }
   ],
   "source": [
    "fdf = []\n",
    "fns_df = []\n",
    "for idx in tqdm(db_range[:]):\n",
    "    # extracting data\n",
    "    db_sample = db[idx]\n",
    "    image = db_sample['img']\n",
    "    image_id = db.df.iloc[idx].img_id\n",
    "    image_mask = db_sample['lesion_mask']\n",
    "    muscle_mask = db_sample['muscle_mask']\n",
    "    # candidate selection\n",
    "    candidates = hd.detect(image, image_id, muscle_mask)\n",
    "\n",
    "    # labeling of candidates:\n",
    "    tp, fp, fn = get_tp_fp_fn_center_patch_criteria(\n",
    "        candidates, image_mask, CENTER_CROP_PATCH, PATCH_SIZE)\n",
    "    candidates = pd.concat([tp, fp], axis=0, ignore_index=True)\n",
    "    \n",
    "    # Extracting features\n",
    "    labels = np.where(candidates.label.values == 'TP', True, False)\n",
    "    \n",
    "    # Avoid extracting features for repeted detections\n",
    "    X = candidates.drop_duplicates(subset='repeted_idxs')\n",
    "    X = cfe.extract_features(X.loc[:,['x','y','radius']].values.astype(int), image)\n",
    "\n",
    "    # Get features dfs\n",
    "    X = pd.DataFrame(data=X, columns=cfe.feature_names)\n",
    "    X.index = candidates.drop_duplicates(subset='repeted_idxs').index\n",
    "\n",
    "    res = X.loc[candidates.repeted_idxs.tolist(),:]\n",
    "    res['img_id'] = image_id\n",
    "    res['repeted_idxs'] = candidates.repeted_idxs.tolist()\n",
    "    res['matching_gt'] = candidates.matching_gt.tolist()\n",
    "    res['label'] = labels\n",
    "\n",
    "    # Generate a fn dataframe to compute frocs\n",
    "    fn['img_id'] = image_id\n",
    "    fns_df.append(fn)\n",
    "    fdf.append(res)\n",
    "    \n",
    "data = pd.concat(fdf, ignore_index=True)\n",
    "fns_df = pd.concat(fns_df, ignore_index=True)\n"
   ]
  },
  {
   "cell_type": "code",
   "execution_count": 9,
   "metadata": {},
   "outputs": [],
   "source": [
    "pd.to_pickle((data, fns_df), 'feature_sets/gmorph_HaarF_final.pkl')"
   ]
  },
  {
   "cell_type": "markdown",
   "metadata": {},
   "source": [
    "# REST"
   ]
  },
  {
   "cell_type": "code",
   "execution_count": 6,
   "metadata": {},
   "outputs": [
    {
     "name": "stderr",
     "output_type": "stream",
     "text": [
      "100%|██████████| 154/154 [46:18<00:00, 18.04s/it]\n"
     ]
    }
   ],
   "source": [
    "fdf = []\n",
    "fns_df = []\n",
    "for idx in tqdm(range(len(db))):\n",
    "    # extracting data\n",
    "    db_sample = db[idx]\n",
    "    image = db_sample['img']\n",
    "    image_id = db.df.iloc[idx].img_id\n",
    "    image_mask = db_sample['lesion_mask']\n",
    "\n",
    "    # candidate selection\n",
    "    candidates = hd.detect(image, image_id, load_processed_images=True, hough2=True)[1]\n",
    "\n",
    "     # labeling of candidates:\n",
    "    tp, fp, fn = utils.get_tp_fp_fn_center_patch_criteria(\n",
    "        candidates, image_mask, None, PATCH_SIZE)\n",
    "    \n",
    "    candidates = tp + fp\n",
    "    labels = np.array([True] * len(tp) + [False] * len(fp))\n",
    "    \n",
    "    # feature extraction\n",
    "    X = cfe.extract_features(candidates, image)\n",
    "    res = pd.DataFrame(X, columns=cfe.feature_names)\n",
    "    \n",
    "    res['img_id'] = image_id\n",
    "    res['labels'] = labels\n",
    "\n",
    "    \n",
    "    # Generate a fn dataframe to compute frocs\n",
    "    fn_df = pd.DataFrame(fn, columns=['x', 'y', 'radius'])\n",
    "    fn_df['labels'] = 'FN'\n",
    "    fn_df['img_id'] = image_id\n",
    "    fns_df.append(fn_df)\n",
    "    fdf.append(res)\n",
    "\n",
    "all_data_df = pd.concat(fdf, ignore_index=True)\n",
    "fns_df = pd.concat(fns_df, ignore_index=True)"
   ]
  },
  {
   "cell_type": "code",
   "execution_count": null,
   "metadata": {},
   "outputs": [],
   "source": [
    "pd.to_pickle((all_data_df, fns_df), 'feature_sets/hough2_all_feat_1pxsize.pkl')"
   ]
  },
  {
   "cell_type": "markdown",
   "metadata": {},
   "source": [
    "# Test|"
   ]
  },
  {
   "cell_type": "code",
   "execution_count": 4,
   "metadata": {},
   "outputs": [],
   "source": [
    "cfe = CandidatesFeatureExtraction(patch_size=PATCH_SIZE, fos=True, gabor_params=GABOR_PARAMS,\n",
    "                                  wavelet_params=WAVELET_PARAMS, haar_params=None)\n",
    "\n",
    "cfe_mp = CandidatesFeatureExtraction_MP(patch_size=PATCH_SIZE, fos=True, gabor_params=GABOR_PARAMS,\n",
    "                                  wavelet_params=WAVELET_PARAMS, haar_params=None)\n",
    "\n",
    "\n",
    "hd = HoughCalcificationDetection()\n"
   ]
  },
  {
   "cell_type": "code",
   "execution_count": 5,
   "metadata": {},
   "outputs": [],
   "source": [
    "idx = 0\n",
    "db_sample = db[idx]\n",
    "image = db_sample['img']\n",
    "image_id = db.df.iloc[idx].img_id\n",
    "image_mask = db_sample['lesion_mask']\n",
    "\n",
    "# candidate selection\n",
    "candidates = hd.detect(image, image_id, load_processed_images=True, hough2=True)[1]\n",
    "\n",
    "    # labeling of candidates:\n",
    "tp, fp, fn = get_tp_fp_fn_center_patch_criteria(\n",
    "    candidates, image_mask, None, PATCH_SIZE)"
   ]
  },
  {
   "cell_type": "code",
   "execution_count": 6,
   "metadata": {},
   "outputs": [
    {
     "data": {
      "text/plain": [
       "1776"
      ]
     },
     "execution_count": 6,
     "metadata": {},
     "output_type": "execute_result"
    }
   ],
   "source": [
    "len(candidates)"
   ]
  },
  {
   "cell_type": "code",
   "execution_count": 7,
   "metadata": {},
   "outputs": [],
   "source": [
    "# feature extraction\n",
    "X = cfe.extract_features(candidates, image)\n",
    "res = pd.DataFrame(X, columns=cfe.feature_names)"
   ]
  },
  {
   "cell_type": "code",
   "execution_count": 9,
   "metadata": {},
   "outputs": [],
   "source": [
    "cfe_mp.n_jobs = 8\n",
    "# feature extraction\n",
    "X2 = cfe_mp.extract_features(candidates, image)\n",
    "res2 = pd.DataFrame(X2, columns=cfe_mp.feature_names)"
   ]
  },
  {
   "cell_type": "code",
   "execution_count": null,
   "metadata": {},
   "outputs": [],
   "source": []
  }
 ],
 "metadata": {
  "interpreter": {
   "hash": "d785cc99391f1decae0a31664a2bc430e1bb802c6f8076d9d1b38f05ab7f6160"
  },
  "kernelspec": {
   "display_name": "Python 3.9.7 ('calc_det')",
   "language": "python",
   "name": "python3"
  },
  "language_info": {
   "codemirror_mode": {
    "name": "ipython",
    "version": 3
   },
   "file_extension": ".py",
   "mimetype": "text/x-python",
   "name": "python",
   "nbconvert_exporter": "python",
   "pygments_lexer": "ipython3",
   "version": "3.9.7"
  },
  "orig_nbformat": 4
 },
 "nbformat": 4,
 "nbformat_minor": 2
}
