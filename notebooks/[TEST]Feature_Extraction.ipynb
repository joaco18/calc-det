{
 "cells": [
  {
   "cell_type": "markdown",
   "metadata": {},
   "source": [
    "## Feature Extaction Test"
   ]
  },
  {
   "cell_type": "code",
   "execution_count": 1,
   "metadata": {},
   "outputs": [
    {
     "name": "stderr",
     "output_type": "stream",
     "text": [
      "INFO:numexpr.utils:NumExpr defaulting to 8 threads.\n"
     ]
    }
   ],
   "source": [
    "import sys\n",
    "sys.path.insert(0, '..')\n",
    "from metrics.metrics import get_tp_fp_fn, quick_circle_comparison, circle_comparison\n",
    "from general_utils.plots import plot_bboxes_over_image, simple_im_show, simple_im_show2\n",
    "from mc_candidate_proposal.hough_mc import HoughCalcificationDetection\n",
    "from feature_extraction.feature_extraction import CandidatesFeatureExtraction\n",
    "from database.dataset import *\n"
   ]
  },
  {
   "cell_type": "markdown",
   "metadata": {},
   "source": [
    "### Database initialization"
   ]
  },
  {
   "cell_type": "code",
   "execution_count": 2,
   "metadata": {},
   "outputs": [],
   "source": [
    "db = INBreast_Dataset(\n",
    "    return_lesions_mask=True,\n",
    "    level='image',\n",
    "    max_lesion_diam_mm=1.0,\n",
    "    # This is not working as you want since last update, to do so include validation\n",
    "    partitions=['train', 'validation'],\n",
    "    extract_patches=True,\n",
    "    extract_patches_method='all',  # 'centered'\n",
    "    patch_size=256,\n",
    "    stride=256,\n",
    "    min_breast_fraction_roi=0.5,\n",
    "    normalize=None,\n",
    "    n_jobs=-1,\n",
    ")\n"
   ]
  },
  {
   "cell_type": "markdown",
   "metadata": {},
   "source": [
    "### Detectors Parameters and initialization"
   ]
  },
  {
   "cell_type": "code",
   "execution_count": 3,
   "metadata": {},
   "outputs": [],
   "source": [
    "dehazing_params = {'omega': 0.9, 'window_size': 11, 'radius': 40, 'eps': 1e-5}\n",
    "\n",
    "hough1_params = {'method': cv2.HOUGH_GRADIENT, 'dp': 1, 'minDist': 20,\n",
    "                 'param1': 300, 'param2': 8,  'minRadius': 2, 'maxRadius': 20}\n",
    "\n",
    "hough2_params = {'method': cv2.HOUGH_GRADIENT, 'dp': 1, 'minDist': 20,\n",
    "                 'param1': 300, 'param2': 10,  'minRadius': 2, 'maxRadius': 20}\n",
    "\n",
    "back_ext_radius = 50\n",
    "\n",
    "erosion_iter = 20\n",
    "erosion_size = 5\n",
    "\n",
    "\n",
    "hd = HoughCalcificationDetection(dehazing_params, back_ext_radius,\n",
    "                                 # \"/media/vzalevskyi/DATA/ProjectsData/calc-det/no_dehaizing\",\n",
    "                                 Path.cwd().parent / 'data/hough_img',\n",
    "                                 hough1_params, hough2_params,\n",
    "                                 erosion_iter=erosion_iter,\n",
    "                                 erosion_size=erosion_size)\n"
   ]
  },
  {
   "cell_type": "markdown",
   "metadata": {},
   "source": [
    "### Detector initialization"
   ]
  },
  {
   "cell_type": "code",
   "execution_count": 4,
   "metadata": {},
   "outputs": [],
   "source": [
    "# FE class initialization\n",
    "gabor_params = {'scale': 2, 'orientation': 3,\n",
    "                'max_freq': 0.2, 'ksize': (20, 20), 'sigma': 3}\n",
    "wavelet_params = {'angles': [0]}\n",
    "\n",
    "cfe = CandidatesFeatureExtraction(patch_size=30, fos=True, center_crop_size=7)\n"
   ]
  },
  {
   "cell_type": "markdown",
   "metadata": {},
   "source": [
    "### FE"
   ]
  },
  {
   "cell_type": "code",
   "execution_count": 5,
   "metadata": {},
   "outputs": [
    {
     "name": "stderr",
     "output_type": "stream",
     "text": [
      "100%|██████████| 3/3 [00:01<00:00,  1.70it/s]\n"
     ]
    }
   ],
   "source": [
    "idx = 0\n",
    "fdf = []\n",
    "for idx in tqdm(range(3)):\n",
    "    # extracting data\n",
    "    db_sample = db[idx]\n",
    "    image = db_sample['img']\n",
    "    image_id = db.df.iloc[idx].img_id\n",
    "    image_mask = db_sample['lesion_mask']\n",
    "\n",
    "    # candidate selection\n",
    "    h1_circles = hd.detect(\n",
    "        image, image_id, load_processed_images=True, hough2=False)[0]\n",
    "\n",
    "    # feature extraction\n",
    "    res = pd.DataFrame(cfe.extract_features(\n",
    "        h1_circles, image, image_mask, fp2tp_sample=2), columns=cfe.feature_names)\n",
    "    res['img_id'] = image_id\n",
    "\n",
    "    # classification\n",
    "\n",
    "    fdf.append(res)\n"
   ]
  },
  {
   "cell_type": "markdown",
   "metadata": {},
   "source": [
    "### Classification"
   ]
  },
  {
   "cell_type": "code",
   "execution_count": 9,
   "metadata": {},
   "outputs": [],
   "source": [
    "from sklearn.svm import SVC\n",
    "\n",
    "from sklearn.metrics import f1_score, roc_auc_score\n",
    "\n",
    "from sklearn.preprocessing import MinMaxScaler\n"
   ]
  },
  {
   "cell_type": "code",
   "execution_count": 10,
   "metadata": {},
   "outputs": [
    {
     "data": {
      "text/html": [
       "<div>\n",
       "<style scoped>\n",
       "    .dataframe tbody tr th:only-of-type {\n",
       "        vertical-align: middle;\n",
       "    }\n",
       "\n",
       "    .dataframe tbody tr th {\n",
       "        vertical-align: top;\n",
       "    }\n",
       "\n",
       "    .dataframe thead th {\n",
       "        text-align: right;\n",
       "    }\n",
       "</style>\n",
       "<table border=\"1\" class=\"dataframe\">\n",
       "  <thead>\n",
       "    <tr style=\"text-align: right;\">\n",
       "      <th></th>\n",
       "      <th>img_energy</th>\n",
       "      <th>img_entropy</th>\n",
       "      <th>img_uniformity</th>\n",
       "      <th>img_min</th>\n",
       "      <th>img_10th_perc</th>\n",
       "      <th>img_90th_perc</th>\n",
       "      <th>img_max</th>\n",
       "      <th>img_mean</th>\n",
       "      <th>img_meadian</th>\n",
       "      <th>img_inter_quartile_range</th>\n",
       "      <th>img_range</th>\n",
       "      <th>img_mean_abs_deviation</th>\n",
       "      <th>img_robust_mean_abs_deviation</th>\n",
       "      <th>img_rms</th>\n",
       "      <th>img_std</th>\n",
       "      <th>img_skew</th>\n",
       "      <th>img_kurt</th>\n",
       "      <th>patch_mask_intersection</th>\n",
       "      <th>img_id</th>\n",
       "    </tr>\n",
       "  </thead>\n",
       "  <tbody>\n",
       "    <tr>\n",
       "      <th>134</th>\n",
       "      <td>430.670071</td>\n",
       "      <td>7.532521</td>\n",
       "      <td>0.006383</td>\n",
       "      <td>0.616992</td>\n",
       "      <td>0.659246</td>\n",
       "      <td>0.721990</td>\n",
       "      <td>0.659246</td>\n",
       "      <td>0.691325</td>\n",
       "      <td>0.690822</td>\n",
       "      <td>0.033280</td>\n",
       "      <td>0.042254</td>\n",
       "      <td>0.019707</td>\n",
       "      <td>0.014123</td>\n",
       "      <td>0.691753</td>\n",
       "      <td>0.024342</td>\n",
       "      <td>0.134099</td>\n",
       "      <td>-0.198106</td>\n",
       "      <td>0.0</td>\n",
       "      <td>20587492</td>\n",
       "    </tr>\n",
       "    <tr>\n",
       "      <th>67</th>\n",
       "      <td>186.646893</td>\n",
       "      <td>7.755513</td>\n",
       "      <td>0.005457</td>\n",
       "      <td>0.413397</td>\n",
       "      <td>0.434641</td>\n",
       "      <td>0.475881</td>\n",
       "      <td>0.434641</td>\n",
       "      <td>0.455100</td>\n",
       "      <td>0.454886</td>\n",
       "      <td>0.023244</td>\n",
       "      <td>0.021245</td>\n",
       "      <td>0.013099</td>\n",
       "      <td>0.009238</td>\n",
       "      <td>0.455396</td>\n",
       "      <td>0.016419</td>\n",
       "      <td>0.274098</td>\n",
       "      <td>-0.006252</td>\n",
       "      <td>0.0</td>\n",
       "      <td>24058738</td>\n",
       "    </tr>\n",
       "    <tr>\n",
       "      <th>158</th>\n",
       "      <td>436.083040</td>\n",
       "      <td>7.610147</td>\n",
       "      <td>0.005965</td>\n",
       "      <td>0.625203</td>\n",
       "      <td>0.663821</td>\n",
       "      <td>0.724797</td>\n",
       "      <td>0.663821</td>\n",
       "      <td>0.695681</td>\n",
       "      <td>0.696748</td>\n",
       "      <td>0.031809</td>\n",
       "      <td>0.038618</td>\n",
       "      <td>0.018973</td>\n",
       "      <td>0.013400</td>\n",
       "      <td>0.696087</td>\n",
       "      <td>0.023772</td>\n",
       "      <td>-0.195863</td>\n",
       "      <td>-0.050316</td>\n",
       "      <td>0.0</td>\n",
       "      <td>24055752</td>\n",
       "    </tr>\n",
       "    <tr>\n",
       "      <th>178</th>\n",
       "      <td>360.689260</td>\n",
       "      <td>7.792883</td>\n",
       "      <td>0.005170</td>\n",
       "      <td>0.574380</td>\n",
       "      <td>0.604649</td>\n",
       "      <td>0.662913</td>\n",
       "      <td>0.604649</td>\n",
       "      <td>0.632649</td>\n",
       "      <td>0.630854</td>\n",
       "      <td>0.030647</td>\n",
       "      <td>0.030269</td>\n",
       "      <td>0.018084</td>\n",
       "      <td>0.012569</td>\n",
       "      <td>0.633061</td>\n",
       "      <td>0.022832</td>\n",
       "      <td>0.392986</td>\n",
       "      <td>0.070852</td>\n",
       "      <td>0.0</td>\n",
       "      <td>22613770</td>\n",
       "    </tr>\n",
       "    <tr>\n",
       "      <th>8</th>\n",
       "      <td>373.152031</td>\n",
       "      <td>8.367434</td>\n",
       "      <td>0.003622</td>\n",
       "      <td>0.561702</td>\n",
       "      <td>0.587943</td>\n",
       "      <td>0.726631</td>\n",
       "      <td>0.587943</td>\n",
       "      <td>0.641784</td>\n",
       "      <td>0.631738</td>\n",
       "      <td>0.060993</td>\n",
       "      <td>0.026241</td>\n",
       "      <td>0.040284</td>\n",
       "      <td>0.027051</td>\n",
       "      <td>0.643905</td>\n",
       "      <td>0.052212</td>\n",
       "      <td>1.118476</td>\n",
       "      <td>0.648095</td>\n",
       "      <td>36.0</td>\n",
       "      <td>22670465</td>\n",
       "    </tr>\n",
       "    <tr>\n",
       "      <th>27</th>\n",
       "      <td>490.995379</td>\n",
       "      <td>8.266027</td>\n",
       "      <td>0.003827</td>\n",
       "      <td>0.633929</td>\n",
       "      <td>0.683847</td>\n",
       "      <td>0.801948</td>\n",
       "      <td>0.683847</td>\n",
       "      <td>0.737227</td>\n",
       "      <td>0.731331</td>\n",
       "      <td>0.066964</td>\n",
       "      <td>0.049919</td>\n",
       "      <td>0.037236</td>\n",
       "      <td>0.027393</td>\n",
       "      <td>0.738614</td>\n",
       "      <td>0.045238</td>\n",
       "      <td>0.309314</td>\n",
       "      <td>-0.520602</td>\n",
       "      <td>0.0</td>\n",
       "      <td>22614568</td>\n",
       "    </tr>\n",
       "    <tr>\n",
       "      <th>7</th>\n",
       "      <td>455.757372</td>\n",
       "      <td>7.594550</td>\n",
       "      <td>0.006111</td>\n",
       "      <td>0.633517</td>\n",
       "      <td>0.677716</td>\n",
       "      <td>0.746363</td>\n",
       "      <td>0.677716</td>\n",
       "      <td>0.711111</td>\n",
       "      <td>0.709945</td>\n",
       "      <td>0.033149</td>\n",
       "      <td>0.044199</td>\n",
       "      <td>0.020749</td>\n",
       "      <td>0.013950</td>\n",
       "      <td>0.711616</td>\n",
       "      <td>0.026797</td>\n",
       "      <td>0.220050</td>\n",
       "      <td>0.319827</td>\n",
       "      <td>1.0</td>\n",
       "      <td>22427864</td>\n",
       "    </tr>\n",
       "    <tr>\n",
       "      <th>86</th>\n",
       "      <td>505.416376</td>\n",
       "      <td>7.595477</td>\n",
       "      <td>0.006123</td>\n",
       "      <td>0.668504</td>\n",
       "      <td>0.718482</td>\n",
       "      <td>0.779610</td>\n",
       "      <td>0.718482</td>\n",
       "      <td>0.748976</td>\n",
       "      <td>0.748834</td>\n",
       "      <td>0.032323</td>\n",
       "      <td>0.049979</td>\n",
       "      <td>0.019488</td>\n",
       "      <td>0.013402</td>\n",
       "      <td>0.749382</td>\n",
       "      <td>0.024685</td>\n",
       "      <td>0.098387</td>\n",
       "      <td>0.205280</td>\n",
       "      <td>0.0</td>\n",
       "      <td>24055725</td>\n",
       "    </tr>\n",
       "    <tr>\n",
       "      <th>151</th>\n",
       "      <td>493.203310</td>\n",
       "      <td>7.435960</td>\n",
       "      <td>0.006812</td>\n",
       "      <td>0.670150</td>\n",
       "      <td>0.711040</td>\n",
       "      <td>0.767924</td>\n",
       "      <td>0.711040</td>\n",
       "      <td>0.739926</td>\n",
       "      <td>0.739437</td>\n",
       "      <td>0.031349</td>\n",
       "      <td>0.040891</td>\n",
       "      <td>0.018080</td>\n",
       "      <td>0.012745</td>\n",
       "      <td>0.740273</td>\n",
       "      <td>0.022661</td>\n",
       "      <td>0.096692</td>\n",
       "      <td>-0.063428</td>\n",
       "      <td>0.0</td>\n",
       "      <td>20587492</td>\n",
       "    </tr>\n",
       "    <tr>\n",
       "      <th>284</th>\n",
       "      <td>436.799892</td>\n",
       "      <td>8.011001</td>\n",
       "      <td>0.004659</td>\n",
       "      <td>0.575067</td>\n",
       "      <td>0.649145</td>\n",
       "      <td>0.733219</td>\n",
       "      <td>0.649145</td>\n",
       "      <td>0.695857</td>\n",
       "      <td>0.699734</td>\n",
       "      <td>0.039149</td>\n",
       "      <td>0.074078</td>\n",
       "      <td>0.025537</td>\n",
       "      <td>0.016692</td>\n",
       "      <td>0.696659</td>\n",
       "      <td>0.033408</td>\n",
       "      <td>-0.748849</td>\n",
       "      <td>0.697102</td>\n",
       "      <td>0.0</td>\n",
       "      <td>22613822</td>\n",
       "    </tr>\n",
       "  </tbody>\n",
       "</table>\n",
       "</div>"
      ],
      "text/plain": [
       "     img_energy  img_entropy  img_uniformity   img_min  img_10th_perc  \\\n",
       "134  430.670071     7.532521        0.006383  0.616992       0.659246   \n",
       "67   186.646893     7.755513        0.005457  0.413397       0.434641   \n",
       "158  436.083040     7.610147        0.005965  0.625203       0.663821   \n",
       "178  360.689260     7.792883        0.005170  0.574380       0.604649   \n",
       "8    373.152031     8.367434        0.003622  0.561702       0.587943   \n",
       "27   490.995379     8.266027        0.003827  0.633929       0.683847   \n",
       "7    455.757372     7.594550        0.006111  0.633517       0.677716   \n",
       "86   505.416376     7.595477        0.006123  0.668504       0.718482   \n",
       "151  493.203310     7.435960        0.006812  0.670150       0.711040   \n",
       "284  436.799892     8.011001        0.004659  0.575067       0.649145   \n",
       "\n",
       "     img_90th_perc   img_max  img_mean  img_meadian  img_inter_quartile_range  \\\n",
       "134       0.721990  0.659246  0.691325     0.690822                  0.033280   \n",
       "67        0.475881  0.434641  0.455100     0.454886                  0.023244   \n",
       "158       0.724797  0.663821  0.695681     0.696748                  0.031809   \n",
       "178       0.662913  0.604649  0.632649     0.630854                  0.030647   \n",
       "8         0.726631  0.587943  0.641784     0.631738                  0.060993   \n",
       "27        0.801948  0.683847  0.737227     0.731331                  0.066964   \n",
       "7         0.746363  0.677716  0.711111     0.709945                  0.033149   \n",
       "86        0.779610  0.718482  0.748976     0.748834                  0.032323   \n",
       "151       0.767924  0.711040  0.739926     0.739437                  0.031349   \n",
       "284       0.733219  0.649145  0.695857     0.699734                  0.039149   \n",
       "\n",
       "     img_range  img_mean_abs_deviation  img_robust_mean_abs_deviation  \\\n",
       "134   0.042254                0.019707                       0.014123   \n",
       "67    0.021245                0.013099                       0.009238   \n",
       "158   0.038618                0.018973                       0.013400   \n",
       "178   0.030269                0.018084                       0.012569   \n",
       "8     0.026241                0.040284                       0.027051   \n",
       "27    0.049919                0.037236                       0.027393   \n",
       "7     0.044199                0.020749                       0.013950   \n",
       "86    0.049979                0.019488                       0.013402   \n",
       "151   0.040891                0.018080                       0.012745   \n",
       "284   0.074078                0.025537                       0.016692   \n",
       "\n",
       "      img_rms   img_std  img_skew  img_kurt  patch_mask_intersection    img_id  \n",
       "134  0.691753  0.024342  0.134099 -0.198106                      0.0  20587492  \n",
       "67   0.455396  0.016419  0.274098 -0.006252                      0.0  24058738  \n",
       "158  0.696087  0.023772 -0.195863 -0.050316                      0.0  24055752  \n",
       "178  0.633061  0.022832  0.392986  0.070852                      0.0  22613770  \n",
       "8    0.643905  0.052212  1.118476  0.648095                     36.0  22670465  \n",
       "27   0.738614  0.045238  0.309314 -0.520602                      0.0  22614568  \n",
       "7    0.711616  0.026797  0.220050  0.319827                      1.0  22427864  \n",
       "86   0.749382  0.024685  0.098387  0.205280                      0.0  24055725  \n",
       "151  0.740273  0.022661  0.096692 -0.063428                      0.0  20587492  \n",
       "284  0.696659  0.033408 -0.748849  0.697102                      0.0  22613822  "
      ]
     },
     "execution_count": 10,
     "metadata": {},
     "output_type": "execute_result"
    }
   ],
   "source": [
    "all_data_df = pd.concat(fdf).sample(frac=1)  # merge and shuffle\n",
    "data = all_data_df.drop(columns=['coordinates'])\n",
    "data.head(10)\n"
   ]
  },
  {
   "cell_type": "code",
   "execution_count": 11,
   "metadata": {},
   "outputs": [
    {
     "name": "stderr",
     "output_type": "stream",
     "text": [
      "100%|██████████| 149/149 [09:14<00:00,  3.72s/it]\n"
     ]
    }
   ],
   "source": [
    "f1_metrics = []\n",
    "rocauc_metrics = []\n",
    "\n",
    "for test_img_id in tqdm(data.img_id.unique()):\n",
    "    train_df = data[data.img_id != test_img_id]\n",
    "    test_df = data[data.img_id == test_img_id]\n",
    "\n",
    "    train_X, train_y = train_df.drop(columns=[\n",
    "                                     'patch_mask_intersection']), (train_df.patch_mask_intersection > 0).astype(int)\n",
    "    test_X, test_y = test_df.drop(columns=[\n",
    "                                  'patch_mask_intersection']), (test_df.patch_mask_intersection > 0).astype(int)\n",
    "\n",
    "    scaler = MinMaxScaler()\n",
    "    train_X_scaled = scaler.fit_transform(train_X)\n",
    "    test_X_scaled = scaler.transform(test_X)\n",
    "\n",
    "    svc = SVC(C=10, probability=False)\n",
    "    svc.fit(train_X_scaled, train_y)\n",
    "\n",
    "    train_y_predicted = svc.predict(train_X_scaled)\n",
    "    # train_y_predicted_proba = svc.predict_proba(train_X_scaled)\n",
    "\n",
    "    test_y_predicted = svc.predict(test_X_scaled)\n",
    "    # test_y_predicted_proba = svc.predict_proba(test_X_scaled)\n",
    "\n",
    "    f1_metrics.append((f1_score(train_y, train_y_predicted),\n",
    "                      f1_score(test_y, test_y_predicted)))\n",
    "    # plt.boxplot(np.array(f1_metrics))\n",
    "    # plt.show()\n",
    "    # rocauc_metrics.append((roc_auc_score(train_y, train_y_predicted_proba), roc_auc_score(test_y, test_y_predicted_proba)))\n"
   ]
  },
  {
   "cell_type": "code",
   "execution_count": 12,
   "metadata": {},
   "outputs": [
    {
     "data": {
      "application/javascript": "\n        if (window._pyforest_update_imports_cell) { window._pyforest_update_imports_cell('import matplotlib.pyplot as plt'); }\n    ",
      "text/plain": [
       "<IPython.core.display.Javascript object>"
      ]
     },
     "metadata": {},
     "output_type": "display_data"
    },
    {
     "data": {
      "application/javascript": "\n        if (window._pyforest_update_imports_cell) { window._pyforest_update_imports_cell('import matplotlib.pyplot as plt'); }\n    ",
      "text/plain": [
       "<IPython.core.display.Javascript object>"
      ]
     },
     "metadata": {},
     "output_type": "display_data"
    },
    {
     "data": {
      "image/png": "[encoded data removed]",
      "text/plain": [
       "<Figure size 432x288 with 1 Axes>"
      ]
     },
     "metadata": {
      "needs_background": "light"
     },
     "output_type": "display_data"
    }
   ],
   "source": [
    "plt.boxplot(np.array(f1_metrics))\n",
    "plt.show()\n"
   ]
  },
  {
   "cell_type": "markdown",
   "metadata": {},
   "source": [
    "## NEW Features"
   ]
  },
  {
   "cell_type": "markdown",
   "metadata": {},
   "source": [
    "### GLCM"
   ]
  },
  {
   "cell_type": "code",
   "execution_count": 13,
   "metadata": {
    "vscode": {
     "languageId": "markdown"
    }
   },
   "outputs": [],
   "source": [
    "from general_utils.utils import min_max_norm\n",
    "from skimage import feature\n"
   ]
  },
  {
   "cell_type": "code",
   "execution_count": 28,
   "metadata": {},
   "outputs": [],
   "source": [
    "image = db[0]['img']\n",
    "# not sure if agnles are what I need to get left<->right with d=2\n",
    "image_patch = min_max_norm(image[300:330, 330:360], max_val=255).astype(\n",
    "    np.uint8)  # needs conversion for GLCM generation\n"
   ]
  },
  {
   "cell_type": "code",
   "execution_count": 32,
   "metadata": {},
   "outputs": [
    {
     "data": {
      "image/png": "[encoded data removed]",
      "text/plain": [
       "<Figure size 720x720 with 2 Axes>"
      ]
     },
     "metadata": {
      "needs_background": "light"
     },
     "output_type": "display_data"
    }
   ],
   "source": [
    "simple_im_show2(image_patch, feature.greycomatrix(\n",
    "    image_patch, [2], [0, np.pi])[:, :, 0, 0])\n"
   ]
  },
  {
   "cell_type": "code",
   "execution_count": 35,
   "metadata": {},
   "outputs": [
    {
     "data": {
      "text/plain": [
       "(256, 256, 1, 2)"
      ]
     },
     "execution_count": 35,
     "metadata": {},
     "output_type": "execute_result"
    }
   ],
   "source": [
    "glcm_distancs = [2]\n",
    "glcm_angles = [0, np.pi]\n",
    "glcm = feature.greycomatrix(image_patch, glcm_distancs, glcm_angles)\n",
    "glcm.shape\n"
   ]
  },
  {
   "cell_type": "code",
   "execution_count": 41,
   "metadata": {},
   "outputs": [],
   "source": [
    "glcm_features = {}\n",
    "\n",
    "skimage_glcm_features = ['energy', 'correlation',\n",
    "                         'homogeneity', 'contrast', 'dissimilarity', 'ASM']\n",
    "for feature_name in skimage_glcm_features:\n",
    "    feature_values = feature.greycoprops(glcm, prop=feature_name)\n",
    "    for fv_idx, fv in enumerate(feature_values.ravel()):\n",
    "        glcm_features[f'glcm_{feature_name}_{fv_idx}'] = fv\n"
   ]
  },
  {
   "cell_type": "code",
   "execution_count": 50,
   "metadata": {},
   "outputs": [
    {
     "data": {
      "text/plain": [
       "(256, 256, 1, 2)"
      ]
     },
     "execution_count": 50,
     "metadata": {},
     "output_type": "execute_result"
    }
   ],
   "source": [
    "glcm.shape\n"
   ]
  },
  {
   "cell_type": "code",
   "execution_count": 42,
   "metadata": {},
   "outputs": [
    {
     "data": {
      "text/plain": [
       "{'glcm_energy_0': 0.03626558621839956,\n",
       " 'glcm_energy_1': 0.03626558621839956,\n",
       " 'glcm_correlation_0': 0.34565349040842414,\n",
       " 'glcm_correlation_1': 0.3456534904084243,\n",
       " 'glcm_homogeneity_0': 0.029272673048637537,\n",
       " 'glcm_homogeneity_1': 0.029272673048637555,\n",
       " 'glcm_contrast_0': 1901.1630952380947,\n",
       " 'glcm_contrast_1': 1901.1630952380963,\n",
       " 'glcm_dissimilarity_0': 34.70357142857142,\n",
       " 'glcm_dissimilarity_1': 34.703571428571436,\n",
       " 'glcm_ASM_0': 0.001315192743764172,\n",
       " 'glcm_ASM_1': 0.0013151927437641717}"
      ]
     },
     "execution_count": 42,
     "metadata": {},
     "output_type": "execute_result"
    }
   ],
   "source": [
    "def compute_custom_glcm_featurs(G):\n",
    "    entropy, uniformity = CandidatesFeatureExtraction.entropy_uniformity(G)\n",
    "    # sum average?\n",
    "    # sum entropy?\n",
    "    # difference entropy?\n",
    "    sum_squares = (G*(1- G.mean())**2).sum()\n",
    "    inverse_diff = 0\n",
    "    idx_grid = np.indices((G.shape[0], G.shape[1]))\n",
    "    autocorrelation = (idx_grid[0, :, :]*idx_grid[1, :, :]*G).sum()\n",
    "    "
   ]
  },
  {
   "cell_type": "markdown",
   "metadata": {},
   "source": [
    "### Gabor Filters"
   ]
  },
  {
   "cell_type": "code",
   "execution_count": 54,
   "metadata": {},
   "outputs": [],
   "source": [
    "from skimage.filters import gabor_kernel\n",
    "from scipy import ndimage as ndi\n"
   ]
  },
  {
   "cell_type": "code",
   "execution_count": null,
   "metadata": {},
   "outputs": [],
   "source": [
    "\n",
    "\n",
    "def compute_feats(image, kernels):\n",
    "    feats = np.zeros((len(kernels), 2), dtype=np.double)\n",
    "    for k, kernel in enumerate(kernels):\n",
    "        filtered = ndi.convolve(image, kernel, mode='wrap')\n",
    "        feats[k, 0] = filtered.mean()\n",
    "        feats[k, 1] = filtered.var()\n",
    "    return feats\n"
   ]
  }
 ],
 "metadata": {
  "interpreter": {
   "hash": "d785cc99391f1decae0a31664a2bc430e1bb802c6f8076d9d1b38f05ab7f6160"
  },
  "kernelspec": {
   "display_name": "Python 3.9.7 ('calc_det')",
   "language": "python",
   "name": "python3"
  },
  "language_info": {
   "codemirror_mode": {
    "name": "ipython",
    "version": 3
   },
   "file_extension": ".py",
   "mimetype": "text/x-python",
   "name": "python",
   "nbconvert_exporter": "python",
   "pygments_lexer": "ipython3",
   "version": "3.9.7"
  },
  "orig_nbformat": 4
 },
 "nbformat": 4,
 "nbformat_minor": 2
}
