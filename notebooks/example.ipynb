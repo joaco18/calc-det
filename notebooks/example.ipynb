{
 "cells": [
  {
   "cell_type": "code",
   "execution_count": 1,
   "metadata": {},
   "outputs": [],
   "source": [
    "from pathlib import Path\n",
    "thispath = Path.cwd().resolve()\n",
    "import sys; sys.path.insert(0, str(thispath.parent))"
   ]
  },
  {
   "cell_type": "code",
   "execution_count": 2,
   "metadata": {},
   "outputs": [],
   "source": [
    "import matplotlib.pyplot as plt"
   ]
  },
  {
   "cell_type": "code",
   "execution_count": 3,
   "metadata": {},
   "outputs": [],
   "source": [
    "from deep_learning.dataset.dataset import INBreast_Dataset_pytorch\n",
    "a = INBreast_Dataset_pytorch(\n",
    "    partitions = ['validation'],\n",
    "    extract_patches = False,\n",
    "    delete_previous = False,\n",
    "    extract_patches_method = 'all',\n",
    "    patch_size = 224,\n",
    "    stride = 100,\n",
    "    min_breast_fraction_roi = 0.7,\n",
    "    n_jobs = -1,\n",
    "    cropped_imgs = True,\n",
    "    ignore_diameter_px = 15,\n",
    "    neg_to_pos_ratio = None,\n",
    "    balancing_seed = 0,\n",
    "    normalization = 'z_score',\n",
    "    get_lesion_bboxes = True,\n",
    "    for_detection_net = True\n",
    ")"
   ]
  },
  {
   "cell_type": "code",
   "execution_count": 4,
   "metadata": {},
   "outputs": [],
   "source": [
    "def collate_fn(batch):\n",
    "    return tuple(zip(*batch))\n",
    "\n",
    "from torch.utils.data import DataLoader\n",
    "valid_dataloader = DataLoader(a, batch_size=1, shuffle=True, sampler=None, collate_fn=collate_fn,\n",
    "           batch_sampler=None, num_workers=4, pin_memory=True, drop_last=False)"
   ]
  },
  {
   "cell_type": "code",
   "execution_count": 5,
   "metadata": {},
   "outputs": [
    {
     "name": "stdout",
     "output_type": "stream",
     "text": [
      "tensor([[168., 130., 182., 144.],\n",
      "        [151., 168., 158., 174.]])\n",
      "tensor([1, 1])\n"
     ]
    }
   ],
   "source": [
    "import torch\n",
    "import numpy as np\n",
    "for image, target in valid_dataloader:\n",
    "    images = torch.from_numpy(np.asarray(image))[0]\n",
    "    print(target[0]['boxes'])\n",
    "    print(target[0]['labels'])\n",
    "    break"
   ]
  },
  {
   "cell_type": "code",
   "execution_count": 6,
   "metadata": {},
   "outputs": [
    {
     "data": {
      "text/plain": [
       "14"
      ]
     },
     "execution_count": 6,
     "metadata": {},
     "output_type": "execute_result"
    }
   ],
   "source": [
    "182-168"
   ]
  },
  {
   "cell_type": "code",
   "execution_count": null,
   "metadata": {},
   "outputs": [],
   "source": []
  }
 ],
 "metadata": {
  "kernelspec": {
   "display_name": "Python 3.9.7 ('base')",
   "language": "python",
   "name": "python3"
  },
  "language_info": {
   "codemirror_mode": {
    "name": "ipython",
    "version": 3
   },
   "file_extension": ".py",
   "mimetype": "text/x-python",
   "name": "python",
   "nbconvert_exporter": "python",
   "pygments_lexer": "ipython3",
   "version": "3.9.7"
  },
  "orig_nbformat": 4,
  "vscode": {
   "interpreter": {
    "hash": "aab0ec0e679e9c9fe5e8a1739a642d8456688678f7924db8d58b62c9618a230e"
   }
  }
 },
 "nbformat": 4,
 "nbformat_minor": 2
}
