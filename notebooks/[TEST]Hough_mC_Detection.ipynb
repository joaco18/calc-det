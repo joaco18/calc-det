{
 "cells": [
  {
   "cell_type": "code",
   "execution_count": 1,
   "metadata": {},
   "outputs": [],
   "source": [
    "import sys\n",
    "sys.path.insert(0, '..')"
   ]
  },
  {
   "cell_type": "code",
   "execution_count": 2,
   "metadata": {},
   "outputs": [
    {
     "data": {
      "application/javascript": "\n        if (window._pyforest_update_imports_cell) { window._pyforest_update_imports_cell('import pandas as pd'); }\n    ",
      "text/plain": [
       "<IPython.core.display.Javascript object>"
      ]
     },
     "metadata": {},
     "output_type": "display_data"
    }
   ],
   "source": [
    "# pd.to_pickle((merged_df_j, merged_df), 'ff.pkl')\n",
    "merged_df_j, merged_df = pd.read_pickle('ff.pkl')"
   ]
  },
  {
   "cell_type": "code",
   "execution_count": 2,
   "metadata": {},
   "outputs": [
    {
     "name": "stderr",
     "output_type": "stream",
     "text": [
      "INFO:numexpr.utils:NumExpr defaulting to 8 threads.\n"
     ]
    }
   ],
   "source": [
    "from database.dataset import INBreast_Dataset\n",
    "from mc_candidate_proposal.hough_mc import HoughCalcificationDetection\n",
    "from metrics.metrics import circle_comparison, quick_circle_comparison\n",
    "from general_utils.plots import plot_bboxes_over_image, simple_im_show2, simple_im_show\n",
    "from pathlib import Path\n",
    "from tqdm import tqdm\n",
    "import cv2\n"
   ]
  },
  {
   "cell_type": "code",
   "execution_count": 3,
   "metadata": {},
   "outputs": [],
   "source": [
    "from general_utils.utils import get_tp_fp_fn_center_patch_criteria, patch_coordinates_from_center"
   ]
  },
  {
   "cell_type": "code",
   "execution_count": 4,
   "metadata": {},
   "outputs": [],
   "source": [
    "db = INBreast_Dataset(\n",
    "    return_lesions_mask=True,\n",
    "    level='image',\n",
    "    max_lesion_diam_mm=None,\n",
    "    partitions=['train', 'validation'],\n",
    "    min_breast_fraction_roi=0.5,\n",
    "    normalize=None,\n",
    "    n_jobs=-1,\n",
    "    use_muscle_mask=True\n",
    ")"
   ]
  },
  {
   "cell_type": "code",
   "execution_count": 5,
   "metadata": {},
   "outputs": [],
   "source": [
    "\n",
    "hd = HoughCalcificationDetection()\n"
   ]
  },
  {
   "cell_type": "code",
   "execution_count": 16,
   "metadata": {},
   "outputs": [
    {
     "name": "stderr",
     "output_type": "stream",
     "text": [
      "100%|██████████| 167/167 [14:06<00:00,  5.07s/it]\n"
     ]
    }
   ],
   "source": [
    "h1_res = []\n",
    "h2_res = []\n",
    "\n",
    "for idx in tqdm(range(len(db))):\n",
    "    mask = db[idx]['lesion_mask']\n",
    "    image = db[idx]['img']\n",
    "    image_id = db.df.iloc[idx].img_id\n",
    "    true_bboxes = db[idx]['lesion_bboxes']\n",
    "\n",
    "    h1_circles, h2_circles = hd.detect(\n",
    "        image, image_id, load_processed_images=True, hough2=True)\n",
    "\n",
    "    \n",
    "    TP, FP, FN = get_tp_fp_fn_center_patch_criteria(h1_circles, mask, None, 28, False)\n",
    "    h1_res.append({'image_id':image_id, 'TP': len(TP), 'FP': len(FP), 'FN': len(FN)})\n",
    "    \n",
    "    TP, FP, FN = get_tp_fp_fn_center_patch_criteria(h2_circles, mask, None, 28, False)\n",
    "    h2_res.append({'image_id': image_id, 'TP': len(TP), 'FP': len(FP), 'FN': len(FN)})"
   ]
  },
  {
   "cell_type": "code",
   "execution_count": 17,
   "metadata": {},
   "outputs": [
    {
     "data": {
      "application/javascript": "\n        if (window._pyforest_update_imports_cell) { window._pyforest_update_imports_cell('import numpy as np\\nimport pandas as pd'); }\n    ",
      "text/plain": [
       "<IPython.core.display.Javascript object>"
      ]
     },
     "metadata": {},
     "output_type": "display_data"
    },
    {
     "data": {
      "application/javascript": "\n        if (window._pyforest_update_imports_cell) { window._pyforest_update_imports_cell('import numpy as np\\nimport pandas as pd'); }\n    ",
      "text/plain": [
       "<IPython.core.display.Javascript object>"
      ]
     },
     "metadata": {},
     "output_type": "display_data"
    },
    {
     "data": {
      "text/html": [
       "<div>\n",
       "<style scoped>\n",
       "    .dataframe tbody tr th:only-of-type {\n",
       "        vertical-align: middle;\n",
       "    }\n",
       "\n",
       "    .dataframe tbody tr th {\n",
       "        vertical-align: top;\n",
       "    }\n",
       "\n",
       "    .dataframe thead th {\n",
       "        text-align: right;\n",
       "    }\n",
       "</style>\n",
       "<table border=\"1\" class=\"dataframe\">\n",
       "  <thead>\n",
       "    <tr style=\"text-align: right;\">\n",
       "      <th></th>\n",
       "      <th>TP_h1</th>\n",
       "      <th>FP_h1</th>\n",
       "      <th>FN_h1</th>\n",
       "      <th>sensitivity_h1</th>\n",
       "      <th>f1_h1</th>\n",
       "      <th>TP_h2</th>\n",
       "      <th>FP_h2</th>\n",
       "      <th>FN_h2</th>\n",
       "      <th>sensitivity_h2</th>\n",
       "      <th>f1_h2</th>\n",
       "    </tr>\n",
       "    <tr>\n",
       "      <th>image_id</th>\n",
       "      <th></th>\n",
       "      <th></th>\n",
       "      <th></th>\n",
       "      <th></th>\n",
       "      <th></th>\n",
       "      <th></th>\n",
       "      <th></th>\n",
       "      <th></th>\n",
       "      <th></th>\n",
       "      <th></th>\n",
       "    </tr>\n",
       "  </thead>\n",
       "  <tbody>\n",
       "    <tr>\n",
       "      <th>20586908</th>\n",
       "      <td>36</td>\n",
       "      <td>1465</td>\n",
       "      <td>9</td>\n",
       "      <td>0.800000</td>\n",
       "      <td>0.046572</td>\n",
       "      <td>57</td>\n",
       "      <td>152</td>\n",
       "      <td>18</td>\n",
       "      <td>0.760000</td>\n",
       "      <td>0.401408</td>\n",
       "    </tr>\n",
       "    <tr>\n",
       "      <th>20586934</th>\n",
       "      <td>54</td>\n",
       "      <td>1196</td>\n",
       "      <td>5</td>\n",
       "      <td>0.915254</td>\n",
       "      <td>0.082506</td>\n",
       "      <td>179</td>\n",
       "      <td>118</td>\n",
       "      <td>20</td>\n",
       "      <td>0.899497</td>\n",
       "      <td>0.721774</td>\n",
       "    </tr>\n",
       "    <tr>\n",
       "      <th>20586960</th>\n",
       "      <td>54</td>\n",
       "      <td>1625</td>\n",
       "      <td>3</td>\n",
       "      <td>0.947368</td>\n",
       "      <td>0.062212</td>\n",
       "      <td>174</td>\n",
       "      <td>153</td>\n",
       "      <td>12</td>\n",
       "      <td>0.935484</td>\n",
       "      <td>0.678363</td>\n",
       "    </tr>\n",
       "    <tr>\n",
       "      <th>20586986</th>\n",
       "      <td>17</td>\n",
       "      <td>1835</td>\n",
       "      <td>0</td>\n",
       "      <td>1.000000</td>\n",
       "      <td>0.018192</td>\n",
       "      <td>88</td>\n",
       "      <td>248</td>\n",
       "      <td>2</td>\n",
       "      <td>0.977778</td>\n",
       "      <td>0.413146</td>\n",
       "    </tr>\n",
       "    <tr>\n",
       "      <th>20587054</th>\n",
       "      <td>31</td>\n",
       "      <td>888</td>\n",
       "      <td>0</td>\n",
       "      <td>1.000000</td>\n",
       "      <td>0.065263</td>\n",
       "      <td>31</td>\n",
       "      <td>66</td>\n",
       "      <td>0</td>\n",
       "      <td>1.000000</td>\n",
       "      <td>0.484375</td>\n",
       "    </tr>\n",
       "    <tr>\n",
       "      <th>...</th>\n",
       "      <td>...</td>\n",
       "      <td>...</td>\n",
       "      <td>...</td>\n",
       "      <td>...</td>\n",
       "      <td>...</td>\n",
       "      <td>...</td>\n",
       "      <td>...</td>\n",
       "      <td>...</td>\n",
       "      <td>...</td>\n",
       "      <td>...</td>\n",
       "    </tr>\n",
       "    <tr>\n",
       "      <th>30011507</th>\n",
       "      <td>15</td>\n",
       "      <td>470</td>\n",
       "      <td>3</td>\n",
       "      <td>0.833333</td>\n",
       "      <td>0.059642</td>\n",
       "      <td>57</td>\n",
       "      <td>39</td>\n",
       "      <td>10</td>\n",
       "      <td>0.850746</td>\n",
       "      <td>0.699387</td>\n",
       "    </tr>\n",
       "    <tr>\n",
       "      <th>30011530</th>\n",
       "      <td>9</td>\n",
       "      <td>866</td>\n",
       "      <td>4</td>\n",
       "      <td>0.692308</td>\n",
       "      <td>0.020270</td>\n",
       "      <td>28</td>\n",
       "      <td>25</td>\n",
       "      <td>4</td>\n",
       "      <td>0.875000</td>\n",
       "      <td>0.658824</td>\n",
       "    </tr>\n",
       "    <tr>\n",
       "      <th>30011553</th>\n",
       "      <td>8</td>\n",
       "      <td>891</td>\n",
       "      <td>3</td>\n",
       "      <td>0.727273</td>\n",
       "      <td>0.017582</td>\n",
       "      <td>16</td>\n",
       "      <td>48</td>\n",
       "      <td>5</td>\n",
       "      <td>0.761905</td>\n",
       "      <td>0.376471</td>\n",
       "    </tr>\n",
       "    <tr>\n",
       "      <th>30011647</th>\n",
       "      <td>4</td>\n",
       "      <td>898</td>\n",
       "      <td>0</td>\n",
       "      <td>1.000000</td>\n",
       "      <td>0.008830</td>\n",
       "      <td>23</td>\n",
       "      <td>81</td>\n",
       "      <td>0</td>\n",
       "      <td>1.000000</td>\n",
       "      <td>0.362205</td>\n",
       "    </tr>\n",
       "    <tr>\n",
       "      <th>30011674</th>\n",
       "      <td>9</td>\n",
       "      <td>878</td>\n",
       "      <td>2</td>\n",
       "      <td>0.818182</td>\n",
       "      <td>0.020045</td>\n",
       "      <td>24</td>\n",
       "      <td>101</td>\n",
       "      <td>4</td>\n",
       "      <td>0.857143</td>\n",
       "      <td>0.313725</td>\n",
       "    </tr>\n",
       "  </tbody>\n",
       "</table>\n",
       "<p>167 rows × 10 columns</p>\n",
       "</div>"
      ],
      "text/plain": [
       "          TP_h1  FP_h1  FN_h1  sensitivity_h1     f1_h1  TP_h2  FP_h2  FN_h2  \\\n",
       "image_id                                                                       \n",
       "20586908     36   1465      9        0.800000  0.046572     57    152     18   \n",
       "20586934     54   1196      5        0.915254  0.082506    179    118     20   \n",
       "20586960     54   1625      3        0.947368  0.062212    174    153     12   \n",
       "20586986     17   1835      0        1.000000  0.018192     88    248      2   \n",
       "20587054     31    888      0        1.000000  0.065263     31     66      0   \n",
       "...         ...    ...    ...             ...       ...    ...    ...    ...   \n",
       "30011507     15    470      3        0.833333  0.059642     57     39     10   \n",
       "30011530      9    866      4        0.692308  0.020270     28     25      4   \n",
       "30011553      8    891      3        0.727273  0.017582     16     48      5   \n",
       "30011647      4    898      0        1.000000  0.008830     23     81      0   \n",
       "30011674      9    878      2        0.818182  0.020045     24    101      4   \n",
       "\n",
       "          sensitivity_h2     f1_h2  \n",
       "image_id                            \n",
       "20586908        0.760000  0.401408  \n",
       "20586934        0.899497  0.721774  \n",
       "20586960        0.935484  0.678363  \n",
       "20586986        0.977778  0.413146  \n",
       "20587054        1.000000  0.484375  \n",
       "...                  ...       ...  \n",
       "30011507        0.850746  0.699387  \n",
       "30011530        0.875000  0.658824  \n",
       "30011553        0.761905  0.376471  \n",
       "30011647        1.000000  0.362205  \n",
       "30011674        0.857143  0.313725  \n",
       "\n",
       "[167 rows x 10 columns]"
      ]
     },
     "execution_count": 17,
     "metadata": {},
     "output_type": "execute_result"
    }
   ],
   "source": [
    "h1_res_df = pd.DataFrame(h1_res).set_index('image_id')\n",
    "h1_res_df['sensitivity'] =  h1_res_df.TP/(h1_res_df.TP + h1_res_df.FN)\n",
    "h1_res_df['f1'] =  h1_res_df.TP/(h1_res_df.TP + 0.5*(h1_res_df.FN + h1_res_df.FP))\n",
    "\n",
    "h2_res_df = pd.DataFrame(h2_res).set_index('image_id')\n",
    "h2_res_df['sensitivity'] =  h2_res_df.TP/(h2_res_df.TP + h2_res_df.FN)\n",
    "h2_res_df['f1'] =  h2_res_df.TP/(h2_res_df.TP + 0.5*(h2_res_df.FN + h2_res_df.FP))\n",
    "\n",
    "merged_df_j_3 = h1_res_df.join(h2_res_df, lsuffix='_h1', rsuffix='_h2')\n",
    "merged_df_j_3"
   ]
  },
  {
   "cell_type": "code",
   "execution_count": null,
   "metadata": {},
   "outputs": [],
   "source": [
    "    "
   ]
  },
  {
   "cell_type": "code",
   "execution_count": 7,
   "metadata": {},
   "outputs": [
    {
     "name": "stdout",
     "output_type": "stream",
     "text": [
      "20586908\n",
      "TP_h1               30.000000\n",
      "FP_h1             1461.000000\n",
      "FN_h1               10.000000\n",
      "sensitivity_h1       0.750000\n",
      "f1_h1                0.039190\n",
      "TP_h2               22.000000\n",
      "FP_h2              152.000000\n",
      "FN_h2               18.000000\n",
      "sensitivity_h2       0.550000\n",
      "f1_h2                0.205607\n",
      "Name: 20586908, dtype: float64\n",
      "{'image_id': 20586908, 'TP': 30, 'FP': 1461, 'FN': 10}\n",
      "{'image_id': 20586908, 'TP': 22, 'FP': 152, 'FN': 18}\n",
      "total rois 40\n",
      "J func\n",
      "hough1 {'TP': 28, 'FP': 1473, 'FN': 11}\n",
      "hough2 {'TP': 22, 'FP': 153, 'FN': 18}\n"
     ]
    }
   ],
   "source": [
    "idx = 0\n",
    "\n",
    "mask = db[idx]['lesion_mask']\n",
    "image = db[idx]['img']\n",
    "image_id = db.df.iloc[idx].img_id\n",
    "true_bboxes = db[idx]['lesion_bboxes']\n",
    "\n",
    "h1_circles, h2_circles = hd.detect(\n",
    "    image, image_id, load_processed_images=True, hough2=True)\n",
    "\n",
    "print(image_id)\n",
    "print(merged_df.loc[image_id])\n",
    "\n",
    "TP, FP, FN = quick_circle_comparison(h1_circles, mask, return_counts=True)\n",
    "print({'image_id':image_id, 'TP': TP, 'FP': FP, 'FN': FN})\n",
    "\n",
    "TP, FP, FN = quick_circle_comparison(h2_circles, mask)\n",
    "print({'image_id': image_id, 'TP': TP, 'FP': FP, 'FN': FN})\n",
    "\n",
    "\n",
    "print('total rois', len(set(mask.ravel())) -1)\n",
    "\n",
    "print(\"J func\")\n",
    "btp, bfp, bfn = get_tp_fp_fn_center_patch_criteria(h1_circles, mask, None, 20, False)\n",
    "print('hough1', {'TP':len(btp), 'FP':len(bfp), 'FN':len(bfn)})\n",
    "\n",
    "btp, bfp, bfn = get_tp_fp_fn_center_patch_criteria(h2_circles, mask, None, 20, False)\n",
    "print('hough2', {'TP':len(btp), 'FP':len(bfp), 'FN':len(bfn)})"
   ]
  },
  {
   "cell_type": "code",
   "execution_count": 8,
   "metadata": {},
   "outputs": [],
   "source": [
    "TP, FP, FN = quick_circle_comparison(h2_circles, mask, False)\n"
   ]
  },
  {
   "cell_type": "code",
   "execution_count": 9,
   "metadata": {},
   "outputs": [],
   "source": [
    "btp, bfp, bfn = get_tp_fp_fn_center_patch_criteria(h2_circles, mask, None, 20, True)\n"
   ]
  },
  {
   "cell_type": "code",
   "execution_count": 14,
   "metadata": {},
   "outputs": [
    {
     "data": {
      "text/plain": [
       "[array([1109, 1597,   14])]"
      ]
     },
     "execution_count": 14,
     "metadata": {},
     "output_type": "execute_result"
    }
   ],
   "source": [
    "[x for x in bfp if x not in h2_circles[list(FP)]]"
   ]
  },
  {
   "cell_type": "code",
   "execution_count": 18,
   "metadata": {},
   "outputs": [
    {
     "data": {
      "text/plain": [
       "(1099, 1119, 1587, 1607)"
      ]
     },
     "execution_count": 18,
     "metadata": {},
     "output_type": "execute_result"
    }
   ],
   "source": []
  },
  {
   "cell_type": "code",
   "execution_count": 26,
   "metadata": {},
   "outputs": [
    {
     "data": {
      "image/png": "[encoded data removed]",
      "text/plain": [
       "<Figure size 720x720 with 2 Axes>"
      ]
     },
     "metadata": {
      "needs_background": "light"
     },
     "output_type": "display_data"
    }
   ],
   "source": [
    "coords = (1109, 1597, 14)\n",
    "cricle_tl = (max(0, coords[0] - coords[2]),\n",
    "            max(0, coords[1] - coords[2]))\n",
    "circle_br = (min(mask.shape[1], coords[0] + coords[2]),\n",
    "            min(mask.shape[0], coords[1] + coords[2]))\n",
    "\n",
    "patch_x1, patch_x2, patch_y1, patch_y2  = patch_coordinates_from_center(\n",
    "                (coords[0], coords[1]), mask.shape, 28)\n",
    "\n",
    "overlap_on_labels_J = image[patch_y1:patch_y2, patch_x1:patch_x2]\n",
    "overlap_on_labels_me = image[cricle_tl[1]:circle_br[1], cricle_tl[0]:circle_br[0]]\n",
    "\n",
    "simple_im_show2(overlap_on_labels_me, overlap_on_labels_J)"
   ]
  },
  {
   "cell_type": "code",
   "execution_count": 9,
   "metadata": {},
   "outputs": [
    {
     "data": {
      "text/plain": [
       "<AxesSubplot:>"
      ]
     },
     "execution_count": 9,
     "metadata": {},
     "output_type": "execute_result"
    },
    {
     "data": {
      "image/png": "[encoded data removed]",
      "text/plain": [
       "<Figure size 432x288 with 1 Axes>"
      ]
     },
     "metadata": {
      "needs_background": "light"
     },
     "output_type": "display_data"
    }
   ],
   "source": [
    "merged_df[['f1_h1', 'f1_h2']].plot.box()"
   ]
  },
  {
   "cell_type": "code",
   "execution_count": 11,
   "metadata": {},
   "outputs": [
    {
     "data": {
      "text/plain": [
       "<AxesSubplot:>"
      ]
     },
     "execution_count": 11,
     "metadata": {},
     "output_type": "execute_result"
    },
    {
     "data": {
      "image/png": "[encoded data removed]",
      "text/plain": [
       "<Figure size 432x288 with 1 Axes>"
      ]
     },
     "metadata": {
      "needs_background": "light"
     },
     "output_type": "display_data"
    }
   ],
   "source": [
    "merged_df[['f1_h1', 'f1_h2']].plot.box()"
   ]
  },
  {
   "cell_type": "code",
   "execution_count": 12,
   "metadata": {},
   "outputs": [
    {
     "data": {
      "text/plain": [
       "<AxesSubplot:>"
      ]
     },
     "execution_count": 12,
     "metadata": {},
     "output_type": "execute_result"
    },
    {
     "data": {
      "image/png": "[encoded data removed]",
      "text/plain": [
       "<Figure size 432x288 with 1 Axes>"
      ]
     },
     "metadata": {
      "needs_background": "light"
     },
     "output_type": "display_data"
    }
   ],
   "source": [
    "merged_df[['f1_h1', 'f1_h2']].plot.box()"
   ]
  },
  {
   "cell_type": "code",
   "execution_count": 10,
   "metadata": {},
   "outputs": [
    {
     "data": {
      "text/plain": [
       "<AxesSubplot:>"
      ]
     },
     "execution_count": 10,
     "metadata": {},
     "output_type": "execute_result"
    },
    {
     "data": {
      "image/png": "[encoded data removed]",
      "text/plain": [
       "<Figure size 432x288 with 1 Axes>"
      ]
     },
     "metadata": {
      "needs_background": "light"
     },
     "output_type": "display_data"
    }
   ],
   "source": [
    "merged_df[['sensitivity_h1', 'sensitivity_h2']].plot.box()"
   ]
  },
  {
   "cell_type": "code",
   "execution_count": 8,
   "metadata": {},
   "outputs": [
    {
     "data": {
      "text/plain": [
       "<AxesSubplot:>"
      ]
     },
     "execution_count": 8,
     "metadata": {},
     "output_type": "execute_result"
    },
    {
     "data": {
      "image/png": "[encoded data removed]",
      "text/plain": [
       "<Figure size 432x288 with 1 Axes>"
      ]
     },
     "metadata": {
      "needs_background": "light"
     },
     "output_type": "display_data"
    }
   ],
   "source": [
    "merged_df[['sensitivity_h1', 'sensitivity_h2']].plot.box()"
   ]
  },
  {
   "cell_type": "code",
   "execution_count": 11,
   "metadata": {},
   "outputs": [
    {
     "data": {
      "text/plain": [
       "<AxesSubplot:>"
      ]
     },
     "execution_count": 11,
     "metadata": {},
     "output_type": "execute_result"
    },
    {
     "data": {
      "image/png": "[encoded data removed]",
      "text/plain": [
       "<Figure size 432x288 with 1 Axes>"
      ]
     },
     "metadata": {
      "needs_background": "light"
     },
     "output_type": "display_data"
    }
   ],
   "source": [
    "merged_df[['sensitivity_h1', 'sensitivity_h2']].plot.box()"
   ]
  },
  {
   "cell_type": "code",
   "execution_count": 12,
   "metadata": {},
   "outputs": [
    {
     "data": {
      "application/javascript": "\n        if (window._pyforest_update_imports_cell) { window._pyforest_update_imports_cell('import matplotlib.pyplot as plt\\nimport pandas as pd'); }\n    ",
      "text/plain": [
       "<IPython.core.display.Javascript object>"
      ]
     },
     "metadata": {},
     "output_type": "display_data"
    },
    {
     "data": {
      "text/plain": [
       "<matplotlib.collections.PathCollection at 0x7f02edbaa1c0>"
      ]
     },
     "execution_count": 12,
     "metadata": {},
     "output_type": "execute_result"
    },
    {
     "data": {
      "image/png": "[encoded data removed]",
      "text/plain": [
       "<Figure size 432x288 with 1 Axes>"
      ]
     },
     "metadata": {
      "needs_background": "light"
     },
     "output_type": "display_data"
    }
   ],
   "source": [
    "plt.scatter(h1_res_df.FP.values, h1_res_df.sensitivity.values)"
   ]
  },
  {
   "cell_type": "code",
   "execution_count": 11,
   "metadata": {},
   "outputs": [
    {
     "data": {
      "text/plain": [
       "0.9333333333333333"
      ]
     },
     "execution_count": 11,
     "metadata": {},
     "output_type": "execute_result"
    }
   ],
   "source": [
    "h1_res_df.sensitivity.median()"
   ]
  },
  {
   "cell_type": "code",
   "execution_count": 13,
   "metadata": {},
   "outputs": [
    {
     "data": {
      "text/plain": [
       "<AxesSubplot:ylabel='Frequency'>"
      ]
     },
     "execution_count": 13,
     "metadata": {},
     "output_type": "execute_result"
    },
    {
     "data": {
      "image/png": "[encoded data removed]",
      "text/plain": [
       "<Figure size 432x288 with 1 Axes>"
      ]
     },
     "metadata": {
      "needs_background": "light"
     },
     "output_type": "display_data"
    }
   ],
   "source": [
    "h1_res_df.sensitivity.plot.hist()"
   ]
  },
  {
   "cell_type": "code",
   "execution_count": 14,
   "metadata": {},
   "outputs": [
    {
     "data": {
      "text/plain": [
       "<AxesSubplot:ylabel='Frequency'>"
      ]
     },
     "execution_count": 14,
     "metadata": {},
     "output_type": "execute_result"
    },
    {
     "data": {
      "image/png": "[encoded data removed]",
      "text/plain": [
       "<Figure size 432x288 with 1 Axes>"
      ]
     },
     "metadata": {
      "needs_background": "light"
     },
     "output_type": "display_data"
    }
   ],
   "source": [
    "(h1_res_df.TP + h1_res_df.FP).plot.hist()"
   ]
  },
  {
   "cell_type": "code",
   "execution_count": 14,
   "metadata": {},
   "outputs": [
    {
     "data": {
      "text/plain": [
       "1136.521212121212"
      ]
     },
     "execution_count": 14,
     "metadata": {},
     "output_type": "execute_result"
    }
   ],
   "source": [
    "(h1_res_df.TP + h1_res_df.FP).mean()"
   ]
  },
  {
   "cell_type": "code",
   "execution_count": 55,
   "metadata": {},
   "outputs": [
    {
     "data": {
      "text/html": [
       "<div>\n",
       "<style scoped>\n",
       "    .dataframe tbody tr th:only-of-type {\n",
       "        vertical-align: middle;\n",
       "    }\n",
       "\n",
       "    .dataframe tbody tr th {\n",
       "        vertical-align: top;\n",
       "    }\n",
       "\n",
       "    .dataframe thead th {\n",
       "        text-align: right;\n",
       "    }\n",
       "</style>\n",
       "<table border=\"1\" class=\"dataframe\">\n",
       "  <thead>\n",
       "    <tr style=\"text-align: right;\">\n",
       "      <th></th>\n",
       "      <th>TP_h1</th>\n",
       "      <th>FP_h1</th>\n",
       "      <th>FN_h1</th>\n",
       "      <th>sensitivity_h1</th>\n",
       "      <th>f1_h1</th>\n",
       "      <th>TP_h2</th>\n",
       "      <th>FP_h2</th>\n",
       "      <th>FN_h2</th>\n",
       "      <th>sensitivity_h2</th>\n",
       "      <th>f1_h2</th>\n",
       "    </tr>\n",
       "    <tr>\n",
       "      <th>image_id</th>\n",
       "      <th></th>\n",
       "      <th></th>\n",
       "      <th></th>\n",
       "      <th></th>\n",
       "      <th></th>\n",
       "      <th></th>\n",
       "      <th></th>\n",
       "      <th></th>\n",
       "      <th></th>\n",
       "      <th></th>\n",
       "    </tr>\n",
       "  </thead>\n",
       "  <tbody>\n",
       "    <tr>\n",
       "      <th>20586908</th>\n",
       "      <td>28</td>\n",
       "      <td>1473</td>\n",
       "      <td>11</td>\n",
       "      <td>0.717949</td>\n",
       "      <td>0.036364</td>\n",
       "      <td>56</td>\n",
       "      <td>153</td>\n",
       "      <td>18</td>\n",
       "      <td>0.756757</td>\n",
       "      <td>0.395760</td>\n",
       "    </tr>\n",
       "    <tr>\n",
       "      <th>20586934</th>\n",
       "      <td>41</td>\n",
       "      <td>1209</td>\n",
       "      <td>18</td>\n",
       "      <td>0.694915</td>\n",
       "      <td>0.062643</td>\n",
       "      <td>178</td>\n",
       "      <td>119</td>\n",
       "      <td>22</td>\n",
       "      <td>0.890000</td>\n",
       "      <td>0.716298</td>\n",
       "    </tr>\n",
       "    <tr>\n",
       "      <th>20586960</th>\n",
       "      <td>36</td>\n",
       "      <td>1643</td>\n",
       "      <td>9</td>\n",
       "      <td>0.800000</td>\n",
       "      <td>0.041763</td>\n",
       "      <td>174</td>\n",
       "      <td>153</td>\n",
       "      <td>12</td>\n",
       "      <td>0.935484</td>\n",
       "      <td>0.678363</td>\n",
       "    </tr>\n",
       "    <tr>\n",
       "      <th>20586986</th>\n",
       "      <td>14</td>\n",
       "      <td>1838</td>\n",
       "      <td>0</td>\n",
       "      <td>1.000000</td>\n",
       "      <td>0.015005</td>\n",
       "      <td>86</td>\n",
       "      <td>250</td>\n",
       "      <td>2</td>\n",
       "      <td>0.977273</td>\n",
       "      <td>0.405660</td>\n",
       "    </tr>\n",
       "    <tr>\n",
       "      <th>20587054</th>\n",
       "      <td>30</td>\n",
       "      <td>889</td>\n",
       "      <td>0</td>\n",
       "      <td>1.000000</td>\n",
       "      <td>0.063224</td>\n",
       "      <td>31</td>\n",
       "      <td>66</td>\n",
       "      <td>0</td>\n",
       "      <td>1.000000</td>\n",
       "      <td>0.484375</td>\n",
       "    </tr>\n",
       "    <tr>\n",
       "      <th>...</th>\n",
       "      <td>...</td>\n",
       "      <td>...</td>\n",
       "      <td>...</td>\n",
       "      <td>...</td>\n",
       "      <td>...</td>\n",
       "      <td>...</td>\n",
       "      <td>...</td>\n",
       "      <td>...</td>\n",
       "      <td>...</td>\n",
       "      <td>...</td>\n",
       "    </tr>\n",
       "    <tr>\n",
       "      <th>30011507</th>\n",
       "      <td>12</td>\n",
       "      <td>473</td>\n",
       "      <td>8</td>\n",
       "      <td>0.600000</td>\n",
       "      <td>0.047525</td>\n",
       "      <td>57</td>\n",
       "      <td>39</td>\n",
       "      <td>12</td>\n",
       "      <td>0.826087</td>\n",
       "      <td>0.690909</td>\n",
       "    </tr>\n",
       "    <tr>\n",
       "      <th>30011530</th>\n",
       "      <td>7</td>\n",
       "      <td>868</td>\n",
       "      <td>6</td>\n",
       "      <td>0.538462</td>\n",
       "      <td>0.015766</td>\n",
       "      <td>28</td>\n",
       "      <td>25</td>\n",
       "      <td>5</td>\n",
       "      <td>0.848485</td>\n",
       "      <td>0.651163</td>\n",
       "    </tr>\n",
       "    <tr>\n",
       "      <th>30011553</th>\n",
       "      <td>7</td>\n",
       "      <td>892</td>\n",
       "      <td>4</td>\n",
       "      <td>0.636364</td>\n",
       "      <td>0.015385</td>\n",
       "      <td>16</td>\n",
       "      <td>48</td>\n",
       "      <td>6</td>\n",
       "      <td>0.727273</td>\n",
       "      <td>0.372093</td>\n",
       "    </tr>\n",
       "    <tr>\n",
       "      <th>30011647</th>\n",
       "      <td>4</td>\n",
       "      <td>898</td>\n",
       "      <td>0</td>\n",
       "      <td>1.000000</td>\n",
       "      <td>0.008830</td>\n",
       "      <td>23</td>\n",
       "      <td>81</td>\n",
       "      <td>0</td>\n",
       "      <td>1.000000</td>\n",
       "      <td>0.362205</td>\n",
       "    </tr>\n",
       "    <tr>\n",
       "      <th>30011674</th>\n",
       "      <td>6</td>\n",
       "      <td>881</td>\n",
       "      <td>2</td>\n",
       "      <td>0.750000</td>\n",
       "      <td>0.013408</td>\n",
       "      <td>24</td>\n",
       "      <td>101</td>\n",
       "      <td>4</td>\n",
       "      <td>0.857143</td>\n",
       "      <td>0.313725</td>\n",
       "    </tr>\n",
       "  </tbody>\n",
       "</table>\n",
       "<p>167 rows × 10 columns</p>\n",
       "</div>"
      ],
      "text/plain": [
       "          TP_h1  FP_h1  FN_h1  sensitivity_h1     f1_h1  TP_h2  FP_h2  FN_h2  \\\n",
       "image_id                                                                       \n",
       "20586908     28   1473     11        0.717949  0.036364     56    153     18   \n",
       "20586934     41   1209     18        0.694915  0.062643    178    119     22   \n",
       "20586960     36   1643      9        0.800000  0.041763    174    153     12   \n",
       "20586986     14   1838      0        1.000000  0.015005     86    250      2   \n",
       "20587054     30    889      0        1.000000  0.063224     31     66      0   \n",
       "...         ...    ...    ...             ...       ...    ...    ...    ...   \n",
       "30011507     12    473      8        0.600000  0.047525     57     39     12   \n",
       "30011530      7    868      6        0.538462  0.015766     28     25      5   \n",
       "30011553      7    892      4        0.636364  0.015385     16     48      6   \n",
       "30011647      4    898      0        1.000000  0.008830     23     81      0   \n",
       "30011674      6    881      2        0.750000  0.013408     24    101      4   \n",
       "\n",
       "          sensitivity_h2     f1_h2  \n",
       "image_id                            \n",
       "20586908        0.756757  0.395760  \n",
       "20586934        0.890000  0.716298  \n",
       "20586960        0.935484  0.678363  \n",
       "20586986        0.977273  0.405660  \n",
       "20587054        1.000000  0.484375  \n",
       "...                  ...       ...  \n",
       "30011507        0.826087  0.690909  \n",
       "30011530        0.848485  0.651163  \n",
       "30011553        0.727273  0.372093  \n",
       "30011647        1.000000  0.362205  \n",
       "30011674        0.857143  0.313725  \n",
       "\n",
       "[167 rows x 10 columns]"
      ]
     },
     "execution_count": 55,
     "metadata": {},
     "output_type": "execute_result"
    }
   ],
   "source": [
    "merged_df_j"
   ]
  },
  {
   "cell_type": "code",
   "execution_count": 57,
   "metadata": {},
   "outputs": [
    {
     "data": {
      "text/plain": [
       "<AxesSubplot:>"
      ]
     },
     "execution_count": 57,
     "metadata": {},
     "output_type": "execute_result"
    },
    {
     "data": {
      "image/png": "[encoded data removed]",
      "text/plain": [
       "<Figure size 432x288 with 1 Axes>"
      ]
     },
     "metadata": {
      "needs_background": "light"
     },
     "output_type": "display_data"
    }
   ],
   "source": [
    "merged_df[['sensitivity_h1', 'sensitivity_h2']].plot.box()"
   ]
  },
  {
   "cell_type": "code",
   "execution_count": 13,
   "metadata": {},
   "outputs": [
    {
     "data": {
      "text/plain": [
       "<AxesSubplot:>"
      ]
     },
     "execution_count": 13,
     "metadata": {},
     "output_type": "execute_result"
    },
    {
     "data": {
      "image/png": "[encoded data removed]",
      "text/plain": [
       "<Figure size 432x288 with 1 Axes>"
      ]
     },
     "metadata": {
      "needs_background": "light"
     },
     "output_type": "display_data"
    }
   ],
   "source": [
    "merged_df_j[['sensitivity_h1', 'sensitivity_h2']].plot.box()"
   ]
  },
  {
   "cell_type": "code",
   "execution_count": 12,
   "metadata": {},
   "outputs": [
    {
     "data": {
      "text/plain": [
       "<AxesSubplot:>"
      ]
     },
     "execution_count": 12,
     "metadata": {},
     "output_type": "execute_result"
    },
    {
     "data": {
      "image/png": "[encoded data removed]",
      "text/plain": [
       "<Figure size 432x288 with 1 Axes>"
      ]
     },
     "metadata": {
      "needs_background": "light"
     },
     "output_type": "display_data"
    }
   ],
   "source": [
    "merged_df_j_2[['sensitivity_h1', 'sensitivity_h2']].plot.box()"
   ]
  },
  {
   "cell_type": "code",
   "execution_count": 18,
   "metadata": {},
   "outputs": [
    {
     "data": {
      "text/plain": [
       "<AxesSubplot:>"
      ]
     },
     "execution_count": 18,
     "metadata": {},
     "output_type": "execute_result"
    },
    {
     "data": {
      "image/png": "[encoded data removed]",
      "text/plain": [
       "<Figure size 432x288 with 1 Axes>"
      ]
     },
     "metadata": {
      "needs_background": "light"
     },
     "output_type": "display_data"
    }
   ],
   "source": [
    "merged_df_j_3[['sensitivity_h1', 'sensitivity_h2']].plot.box()"
   ]
  },
  {
   "cell_type": "code",
   "execution_count": 67,
   "metadata": {},
   "outputs": [
    {
     "name": "stdout",
     "output_type": "stream",
     "text": [
      "0.8690618166717965 0.9354838709677419\n",
      "0.623862939868704 0.6567164179104478\n"
     ]
    }
   ],
   "source": [
    "print(merged_df.sensitivity_h1.mean(), merged_df.sensitivity_h1.median())\n",
    "print(merged_df.sensitivity_h2.mean(), merged_df.sensitivity_h2.median())"
   ]
  },
  {
   "cell_type": "code",
   "execution_count": 9,
   "metadata": {},
   "outputs": [
    {
     "name": "stdout",
     "output_type": "stream",
     "text": [
      "0.6723367019435252 0.6923076923076923\n",
      "0.624534655687683 0.6333333333333333\n"
     ]
    }
   ],
   "source": [
    "print(merged_df_j.sensitivity_h1.mean(), merged_df_j.sensitivity_h1.median())\n",
    "print(merged_df_j.sensitivity_h2.mean(), merged_df_j.sensitivity_h2.median())"
   ]
  },
  {
   "cell_type": "code",
   "execution_count": 69,
   "metadata": {},
   "outputs": [
    {
     "data": {
      "text/html": [
       "<div>\n",
       "<style scoped>\n",
       "    .dataframe tbody tr th:only-of-type {\n",
       "        vertical-align: middle;\n",
       "    }\n",
       "\n",
       "    .dataframe tbody tr th {\n",
       "        vertical-align: top;\n",
       "    }\n",
       "\n",
       "    .dataframe thead th {\n",
       "        text-align: right;\n",
       "    }\n",
       "</style>\n",
       "<table border=\"1\" class=\"dataframe\">\n",
       "  <thead>\n",
       "    <tr style=\"text-align: right;\">\n",
       "      <th></th>\n",
       "      <th>TP_h1</th>\n",
       "      <th>FP_h1</th>\n",
       "      <th>FN_h1</th>\n",
       "      <th>sensitivity_h1</th>\n",
       "      <th>f1_h1</th>\n",
       "      <th>TP_h2</th>\n",
       "      <th>FP_h2</th>\n",
       "      <th>FN_h2</th>\n",
       "      <th>sensitivity_h2</th>\n",
       "      <th>f1_h2</th>\n",
       "    </tr>\n",
       "    <tr>\n",
       "      <th>image_id</th>\n",
       "      <th></th>\n",
       "      <th></th>\n",
       "      <th></th>\n",
       "      <th></th>\n",
       "      <th></th>\n",
       "      <th></th>\n",
       "      <th></th>\n",
       "      <th></th>\n",
       "      <th></th>\n",
       "      <th></th>\n",
       "    </tr>\n",
       "  </thead>\n",
       "  <tbody>\n",
       "    <tr>\n",
       "      <th>20586908</th>\n",
       "      <td>28</td>\n",
       "      <td>1473</td>\n",
       "      <td>11</td>\n",
       "      <td>0.717949</td>\n",
       "      <td>0.036364</td>\n",
       "      <td>56</td>\n",
       "      <td>153</td>\n",
       "      <td>18</td>\n",
       "      <td>0.756757</td>\n",
       "      <td>0.395760</td>\n",
       "    </tr>\n",
       "    <tr>\n",
       "      <th>20586934</th>\n",
       "      <td>41</td>\n",
       "      <td>1209</td>\n",
       "      <td>18</td>\n",
       "      <td>0.694915</td>\n",
       "      <td>0.062643</td>\n",
       "      <td>178</td>\n",
       "      <td>119</td>\n",
       "      <td>22</td>\n",
       "      <td>0.890000</td>\n",
       "      <td>0.716298</td>\n",
       "    </tr>\n",
       "    <tr>\n",
       "      <th>20586960</th>\n",
       "      <td>36</td>\n",
       "      <td>1643</td>\n",
       "      <td>9</td>\n",
       "      <td>0.800000</td>\n",
       "      <td>0.041763</td>\n",
       "      <td>174</td>\n",
       "      <td>153</td>\n",
       "      <td>12</td>\n",
       "      <td>0.935484</td>\n",
       "      <td>0.678363</td>\n",
       "    </tr>\n",
       "    <tr>\n",
       "      <th>20586986</th>\n",
       "      <td>14</td>\n",
       "      <td>1838</td>\n",
       "      <td>0</td>\n",
       "      <td>1.000000</td>\n",
       "      <td>0.015005</td>\n",
       "      <td>86</td>\n",
       "      <td>250</td>\n",
       "      <td>2</td>\n",
       "      <td>0.977273</td>\n",
       "      <td>0.405660</td>\n",
       "    </tr>\n",
       "    <tr>\n",
       "      <th>20587174</th>\n",
       "      <td>13</td>\n",
       "      <td>468</td>\n",
       "      <td>0</td>\n",
       "      <td>1.000000</td>\n",
       "      <td>0.052632</td>\n",
       "      <td>59</td>\n",
       "      <td>29</td>\n",
       "      <td>5</td>\n",
       "      <td>0.921875</td>\n",
       "      <td>0.776316</td>\n",
       "    </tr>\n",
       "    <tr>\n",
       "      <th>...</th>\n",
       "      <td>...</td>\n",
       "      <td>...</td>\n",
       "      <td>...</td>\n",
       "      <td>...</td>\n",
       "      <td>...</td>\n",
       "      <td>...</td>\n",
       "      <td>...</td>\n",
       "      <td>...</td>\n",
       "      <td>...</td>\n",
       "      <td>...</td>\n",
       "    </tr>\n",
       "    <tr>\n",
       "      <th>30011484</th>\n",
       "      <td>5</td>\n",
       "      <td>628</td>\n",
       "      <td>7</td>\n",
       "      <td>0.416667</td>\n",
       "      <td>0.015504</td>\n",
       "      <td>26</td>\n",
       "      <td>25</td>\n",
       "      <td>7</td>\n",
       "      <td>0.787879</td>\n",
       "      <td>0.619048</td>\n",
       "    </tr>\n",
       "    <tr>\n",
       "      <th>30011507</th>\n",
       "      <td>12</td>\n",
       "      <td>473</td>\n",
       "      <td>8</td>\n",
       "      <td>0.600000</td>\n",
       "      <td>0.047525</td>\n",
       "      <td>57</td>\n",
       "      <td>39</td>\n",
       "      <td>12</td>\n",
       "      <td>0.826087</td>\n",
       "      <td>0.690909</td>\n",
       "    </tr>\n",
       "    <tr>\n",
       "      <th>30011530</th>\n",
       "      <td>7</td>\n",
       "      <td>868</td>\n",
       "      <td>6</td>\n",
       "      <td>0.538462</td>\n",
       "      <td>0.015766</td>\n",
       "      <td>28</td>\n",
       "      <td>25</td>\n",
       "      <td>5</td>\n",
       "      <td>0.848485</td>\n",
       "      <td>0.651163</td>\n",
       "    </tr>\n",
       "    <tr>\n",
       "      <th>30011553</th>\n",
       "      <td>7</td>\n",
       "      <td>892</td>\n",
       "      <td>4</td>\n",
       "      <td>0.636364</td>\n",
       "      <td>0.015385</td>\n",
       "      <td>16</td>\n",
       "      <td>48</td>\n",
       "      <td>6</td>\n",
       "      <td>0.727273</td>\n",
       "      <td>0.372093</td>\n",
       "    </tr>\n",
       "    <tr>\n",
       "      <th>30011674</th>\n",
       "      <td>6</td>\n",
       "      <td>881</td>\n",
       "      <td>2</td>\n",
       "      <td>0.750000</td>\n",
       "      <td>0.013408</td>\n",
       "      <td>24</td>\n",
       "      <td>101</td>\n",
       "      <td>4</td>\n",
       "      <td>0.857143</td>\n",
       "      <td>0.313725</td>\n",
       "    </tr>\n",
       "  </tbody>\n",
       "</table>\n",
       "<p>121 rows × 10 columns</p>\n",
       "</div>"
      ],
      "text/plain": [
       "          TP_h1  FP_h1  FN_h1  sensitivity_h1     f1_h1  TP_h2  FP_h2  FN_h2  \\\n",
       "image_id                                                                       \n",
       "20586908     28   1473     11        0.717949  0.036364     56    153     18   \n",
       "20586934     41   1209     18        0.694915  0.062643    178    119     22   \n",
       "20586960     36   1643      9        0.800000  0.041763    174    153     12   \n",
       "20586986     14   1838      0        1.000000  0.015005     86    250      2   \n",
       "20587174     13    468      0        1.000000  0.052632     59     29      5   \n",
       "...         ...    ...    ...             ...       ...    ...    ...    ...   \n",
       "30011484      5    628      7        0.416667  0.015504     26     25      7   \n",
       "30011507     12    473      8        0.600000  0.047525     57     39     12   \n",
       "30011530      7    868      6        0.538462  0.015766     28     25      5   \n",
       "30011553      7    892      4        0.636364  0.015385     16     48      6   \n",
       "30011674      6    881      2        0.750000  0.013408     24    101      4   \n",
       "\n",
       "          sensitivity_h2     f1_h2  \n",
       "image_id                            \n",
       "20586908        0.756757  0.395760  \n",
       "20586934        0.890000  0.716298  \n",
       "20586960        0.935484  0.678363  \n",
       "20586986        0.977273  0.405660  \n",
       "20587174        0.921875  0.776316  \n",
       "...                  ...       ...  \n",
       "30011484        0.787879  0.619048  \n",
       "30011507        0.826087  0.690909  \n",
       "30011530        0.848485  0.651163  \n",
       "30011553        0.727273  0.372093  \n",
       "30011674        0.857143  0.313725  \n",
       "\n",
       "[121 rows x 10 columns]"
      ]
     },
     "execution_count": 69,
     "metadata": {},
     "output_type": "execute_result"
    }
   ],
   "source": [
    "merged_df_j[merged_df.sensitivity_h2 < merged_df_j.sensitivity_h2]"
   ]
  },
  {
   "cell_type": "code",
   "execution_count": 80,
   "metadata": {},
   "outputs": [
    {
     "data": {
      "text/plain": [
       "{1, 2, 3}"
      ]
     },
     "execution_count": 80,
     "metadata": {},
     "output_type": "execute_result"
    }
   ],
   "source": [
    "set([0, 1, 2, 3]).difference(set([0]))"
   ]
  },
  {
   "cell_type": "code",
   "execution_count": 85,
   "metadata": {},
   "outputs": [
    {
     "data": {
      "text/plain": [
       "{4}"
      ]
     },
     "execution_count": 85,
     "metadata": {},
     "output_type": "execute_result"
    }
   ],
   "source": [
    "set([0, 1, 4]).difference(set([0, 1, 2, 3]))"
   ]
  },
  {
   "cell_type": "code",
   "execution_count": null,
   "metadata": {},
   "outputs": [],
   "source": []
  }
 ],
 "metadata": {
  "interpreter": {
   "hash": "d785cc99391f1decae0a31664a2bc430e1bb802c6f8076d9d1b38f05ab7f6160"
  },
  "kernelspec": {
   "display_name": "Python 3.9.7 ('calc_det')",
   "language": "python",
   "name": "python3"
  },
  "language_info": {
   "codemirror_mode": {
    "name": "ipython",
    "version": 3
   },
   "file_extension": ".py",
   "mimetype": "text/x-python",
   "name": "python",
   "nbconvert_exporter": "python",
   "pygments_lexer": "ipython3",
   "version": "3.9.7"
  },
  "orig_nbformat": 4
 },
 "nbformat": 4,
 "nbformat_minor": 2
}
