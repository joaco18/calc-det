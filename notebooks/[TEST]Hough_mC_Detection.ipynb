{
 "cells": [
  {
   "cell_type": "code",
   "execution_count": 1,
   "metadata": {},
   "outputs": [],
   "source": [
    "import sys\n",
    "sys.path.insert(0, '..')"
   ]
  },
  {
   "cell_type": "code",
   "execution_count": 2,
   "metadata": {},
   "outputs": [],
   "source": [
    "from database.dataset import INBreast_Dataset\n",
    "from mc_detection.hough_mc import HoughCalcificationDetection\n",
    "from general_utils.metrics import circle_comparison, quick_circle_comparison\n",
    "from general_utils.plots import plot_bboxes_over_image, simple_im_show2, simple_im_show\n",
    "from pathlib import Path\n",
    "from tqdm import tqdm\n",
    "import cv2\n"
   ]
  },
  {
   "cell_type": "code",
   "execution_count": 3,
   "metadata": {},
   "outputs": [],
   "source": [
    "db = INBreast_Dataset(\n",
    "    return_lesions_mask=True,\n",
    "    level='image',\n",
    "    max_lesion_size_mm=2.0,\n",
    "    extract_patches=False,\n",
    "    extract_patches_method='all',  # 'centered'\n",
    "    patch_size=256,\n",
    "    stride=256,\n",
    "    min_breast_fraction_roi=0.5,\n",
    "    normalize=None,\n",
    "    n_jobs=-1,\n",
    "    partitions=['train'],\n",
    "    return_indexes_in_mask=True)\n"
   ]
  },
  {
   "cell_type": "code",
   "execution_count": 4,
   "metadata": {},
   "outputs": [],
   "source": [
    "dehazing_params = {'omega': 0.9, 'window_size': 11, 'radius': 40, 'eps': 1e-5}\n",
    "\n",
    "hough1_params = {'method': cv2.HOUGH_GRADIENT, 'dp': 1, 'minDist': 20,\n",
    "                 'param1': 300, 'param2': 8,  'minRadius': 2, 'maxRadius': 20}\n",
    "\n",
    "hough2_params = {'method': cv2.HOUGH_GRADIENT, 'dp': 1, 'minDist': 20,\n",
    "                 'param1': 300, 'param2': 10,  'minRadius': 2, 'maxRadius': 20}\n",
    "\n",
    "back_ext_radius = 50\n",
    "\n",
    "erosion_iter = 20\n",
    "erosion_size = 5\n",
    "\n",
    "\n",
    "hd = HoughCalcificationDetection(dehazing_params, back_ext_radius,\n",
    "                                 Path.cwd().parent / 'data/hough_img',    # \"/media/vzalevskyi/DATA/ProjectsData/calc-det/no_dehaizing\",\n",
    "                                 hough1_params, hough2_params,\n",
    "                                 erosion_iter=erosion_iter,\n",
    "                                 erosion_size=erosion_size)\n"
   ]
  },
  {
   "cell_type": "code",
   "execution_count": 7,
   "metadata": {},
   "outputs": [
    {
     "name": "stderr",
     "output_type": "stream",
     "text": [
      "100%|██████████| 165/165 [13:22<00:00,  4.86s/it]\n"
     ]
    }
   ],
   "source": [
    "h1_res = []\n",
    "h2_res = []\n",
    "\n",
    "for idx in tqdm(range(len(db))):\n",
    "    mask = db[idx]['lesion_mask']\n",
    "    image = db[idx]['img']\n",
    "    image_id = db.df.iloc[idx].img_id\n",
    "    true_bboxes = db[idx]['lesion_bboxes']\n",
    "\n",
    "    h1_circles, h2_circles = hd.detect(\n",
    "        image, image_id, load_processed_images=True, hough2=True)\n",
    "\n",
    "    \n",
    "    TP, FP, FN = quick_circle_comparison(true_bboxes, h1_circles, mask)\n",
    "    h1_res.append({'image_id':image_id, 'TP': len(TP), 'FP': FP, 'FN': FN})\n",
    "    TP, FP, FN = quick_circle_comparison(true_bboxes, h2_circles, mask)\n",
    "    h2_res.append({'image_id': image_id, 'TP': len(TP), 'FP': FP, 'FN': FN})"
   ]
  },
  {
   "cell_type": "code",
   "execution_count": 10,
   "metadata": {},
   "outputs": [
    {
     "data": {
      "application/javascript": "\n        if (window._pyforest_update_imports_cell) { window._pyforest_update_imports_cell('import pandas as pd'); }\n    ",
      "text/plain": [
       "<IPython.core.display.Javascript object>"
      ]
     },
     "metadata": {},
     "output_type": "display_data"
    },
    {
     "data": {
      "application/javascript": "\n        if (window._pyforest_update_imports_cell) { window._pyforest_update_imports_cell('import pandas as pd'); }\n    ",
      "text/plain": [
       "<IPython.core.display.Javascript object>"
      ]
     },
     "metadata": {},
     "output_type": "display_data"
    },
    {
     "data": {
      "text/html": [
       "<div>\n",
       "<style scoped>\n",
       "    .dataframe tbody tr th:only-of-type {\n",
       "        vertical-align: middle;\n",
       "    }\n",
       "\n",
       "    .dataframe tbody tr th {\n",
       "        vertical-align: top;\n",
       "    }\n",
       "\n",
       "    .dataframe thead th {\n",
       "        text-align: right;\n",
       "    }\n",
       "</style>\n",
       "<table border=\"1\" class=\"dataframe\">\n",
       "  <thead>\n",
       "    <tr style=\"text-align: right;\">\n",
       "      <th></th>\n",
       "      <th>TP_h1</th>\n",
       "      <th>FP_h1</th>\n",
       "      <th>FN_h1</th>\n",
       "      <th>sensitivity_h1</th>\n",
       "      <th>f1_h1</th>\n",
       "      <th>TP_h2</th>\n",
       "      <th>FP_h2</th>\n",
       "      <th>FN_h2</th>\n",
       "      <th>sensitivity_h2</th>\n",
       "      <th>f1_h2</th>\n",
       "    </tr>\n",
       "    <tr>\n",
       "      <th>image_id</th>\n",
       "      <th></th>\n",
       "      <th></th>\n",
       "      <th></th>\n",
       "      <th></th>\n",
       "      <th></th>\n",
       "      <th></th>\n",
       "      <th></th>\n",
       "      <th></th>\n",
       "      <th></th>\n",
       "      <th></th>\n",
       "    </tr>\n",
       "  </thead>\n",
       "  <tbody>\n",
       "    <tr>\n",
       "      <th>20586908</th>\n",
       "      <td>30</td>\n",
       "      <td>1452</td>\n",
       "      <td>10</td>\n",
       "      <td>0.750000</td>\n",
       "      <td>0.039422</td>\n",
       "      <td>20</td>\n",
       "      <td>695</td>\n",
       "      <td>20</td>\n",
       "      <td>0.500000</td>\n",
       "      <td>0.052980</td>\n",
       "    </tr>\n",
       "    <tr>\n",
       "      <th>20586934</th>\n",
       "      <td>52</td>\n",
       "      <td>1191</td>\n",
       "      <td>8</td>\n",
       "      <td>0.866667</td>\n",
       "      <td>0.079816</td>\n",
       "      <td>37</td>\n",
       "      <td>570</td>\n",
       "      <td>23</td>\n",
       "      <td>0.616667</td>\n",
       "      <td>0.110945</td>\n",
       "    </tr>\n",
       "    <tr>\n",
       "      <th>20586960</th>\n",
       "      <td>42</td>\n",
       "      <td>1626</td>\n",
       "      <td>1</td>\n",
       "      <td>0.976744</td>\n",
       "      <td>0.049094</td>\n",
       "      <td>31</td>\n",
       "      <td>619</td>\n",
       "      <td>12</td>\n",
       "      <td>0.720930</td>\n",
       "      <td>0.089466</td>\n",
       "    </tr>\n",
       "    <tr>\n",
       "      <th>20586986</th>\n",
       "      <td>14</td>\n",
       "      <td>1826</td>\n",
       "      <td>0</td>\n",
       "      <td>1.000000</td>\n",
       "      <td>0.015102</td>\n",
       "      <td>11</td>\n",
       "      <td>1059</td>\n",
       "      <td>3</td>\n",
       "      <td>0.785714</td>\n",
       "      <td>0.020295</td>\n",
       "    </tr>\n",
       "    <tr>\n",
       "      <th>20587148</th>\n",
       "      <td>3</td>\n",
       "      <td>612</td>\n",
       "      <td>0</td>\n",
       "      <td>1.000000</td>\n",
       "      <td>0.009709</td>\n",
       "      <td>3</td>\n",
       "      <td>279</td>\n",
       "      <td>0</td>\n",
       "      <td>1.000000</td>\n",
       "      <td>0.021053</td>\n",
       "    </tr>\n",
       "    <tr>\n",
       "      <th>...</th>\n",
       "      <td>...</td>\n",
       "      <td>...</td>\n",
       "      <td>...</td>\n",
       "      <td>...</td>\n",
       "      <td>...</td>\n",
       "      <td>...</td>\n",
       "      <td>...</td>\n",
       "      <td>...</td>\n",
       "      <td>...</td>\n",
       "      <td>...</td>\n",
       "    </tr>\n",
       "    <tr>\n",
       "      <th>30011507</th>\n",
       "      <td>17</td>\n",
       "      <td>477</td>\n",
       "      <td>5</td>\n",
       "      <td>0.772727</td>\n",
       "      <td>0.065891</td>\n",
       "      <td>9</td>\n",
       "      <td>125</td>\n",
       "      <td>13</td>\n",
       "      <td>0.409091</td>\n",
       "      <td>0.115385</td>\n",
       "    </tr>\n",
       "    <tr>\n",
       "      <th>30011530</th>\n",
       "      <td>9</td>\n",
       "      <td>872</td>\n",
       "      <td>5</td>\n",
       "      <td>0.642857</td>\n",
       "      <td>0.020112</td>\n",
       "      <td>7</td>\n",
       "      <td>276</td>\n",
       "      <td>7</td>\n",
       "      <td>0.500000</td>\n",
       "      <td>0.047138</td>\n",
       "    </tr>\n",
       "    <tr>\n",
       "      <th>30011553</th>\n",
       "      <td>8</td>\n",
       "      <td>888</td>\n",
       "      <td>4</td>\n",
       "      <td>0.666667</td>\n",
       "      <td>0.017621</td>\n",
       "      <td>5</td>\n",
       "      <td>259</td>\n",
       "      <td>7</td>\n",
       "      <td>0.416667</td>\n",
       "      <td>0.036232</td>\n",
       "    </tr>\n",
       "    <tr>\n",
       "      <th>30011647</th>\n",
       "      <td>4</td>\n",
       "      <td>911</td>\n",
       "      <td>0</td>\n",
       "      <td>1.000000</td>\n",
       "      <td>0.008705</td>\n",
       "      <td>4</td>\n",
       "      <td>345</td>\n",
       "      <td>0</td>\n",
       "      <td>1.000000</td>\n",
       "      <td>0.022663</td>\n",
       "    </tr>\n",
       "    <tr>\n",
       "      <th>30011674</th>\n",
       "      <td>8</td>\n",
       "      <td>879</td>\n",
       "      <td>2</td>\n",
       "      <td>0.800000</td>\n",
       "      <td>0.017837</td>\n",
       "      <td>5</td>\n",
       "      <td>464</td>\n",
       "      <td>5</td>\n",
       "      <td>0.500000</td>\n",
       "      <td>0.020877</td>\n",
       "    </tr>\n",
       "  </tbody>\n",
       "</table>\n",
       "<p>165 rows × 10 columns</p>\n",
       "</div>"
      ],
      "text/plain": [
       "          TP_h1  FP_h1  FN_h1  sensitivity_h1     f1_h1  TP_h2  FP_h2  FN_h2  \\\n",
       "image_id                                                                       \n",
       "20586908     30   1452     10        0.750000  0.039422     20    695     20   \n",
       "20586934     52   1191      8        0.866667  0.079816     37    570     23   \n",
       "20586960     42   1626      1        0.976744  0.049094     31    619     12   \n",
       "20586986     14   1826      0        1.000000  0.015102     11   1059      3   \n",
       "20587148      3    612      0        1.000000  0.009709      3    279      0   \n",
       "...         ...    ...    ...             ...       ...    ...    ...    ...   \n",
       "30011507     17    477      5        0.772727  0.065891      9    125     13   \n",
       "30011530      9    872      5        0.642857  0.020112      7    276      7   \n",
       "30011553      8    888      4        0.666667  0.017621      5    259      7   \n",
       "30011647      4    911      0        1.000000  0.008705      4    345      0   \n",
       "30011674      8    879      2        0.800000  0.017837      5    464      5   \n",
       "\n",
       "          sensitivity_h2     f1_h2  \n",
       "image_id                            \n",
       "20586908        0.500000  0.052980  \n",
       "20586934        0.616667  0.110945  \n",
       "20586960        0.720930  0.089466  \n",
       "20586986        0.785714  0.020295  \n",
       "20587148        1.000000  0.021053  \n",
       "...                  ...       ...  \n",
       "30011507        0.409091  0.115385  \n",
       "30011530        0.500000  0.047138  \n",
       "30011553        0.416667  0.036232  \n",
       "30011647        1.000000  0.022663  \n",
       "30011674        0.500000  0.020877  \n",
       "\n",
       "[165 rows x 10 columns]"
      ]
     },
     "execution_count": 10,
     "metadata": {},
     "output_type": "execute_result"
    }
   ],
   "source": [
    "h1_res_df = pd.DataFrame(h1_res).set_index('image_id')\n",
    "h1_res_df['sensitivity'] =  h1_res_df.TP/(h1_res_df.TP + h1_res_df.FN)\n",
    "h1_res_df['f1'] =  h1_res_df.TP/(h1_res_df.TP + 0.5*(h1_res_df.FN + h1_res_df.FP))\n",
    "\n",
    "h2_res_df = pd.DataFrame(h2_res).set_index('image_id')\n",
    "h2_res_df['sensitivity'] =  h2_res_df.TP/(h2_res_df.TP + h2_res_df.FN)\n",
    "h2_res_df['f1'] =  h2_res_df.TP/(h2_res_df.TP + 0.5*(h2_res_df.FN + h2_res_df.FP))\n",
    "\n",
    "merged_df = h1_res_df.join(h2_res_df, lsuffix='_h1', rsuffix='_h2')\n",
    "merged_df"
   ]
  },
  {
   "cell_type": "code",
   "execution_count": 11,
   "metadata": {},
   "outputs": [
    {
     "data": {
      "text/plain": [
       "<AxesSubplot:>"
      ]
     },
     "execution_count": 11,
     "metadata": {},
     "output_type": "execute_result"
    },
    {
     "data": {
      "image/png": "[encoded data removed]",
      "text/plain": [
       "<Figure size 432x288 with 1 Axes>"
      ]
     },
     "metadata": {
      "needs_background": "light"
     },
     "output_type": "display_data"
    }
   ],
   "source": [
    "merged_df[['f1_h1', 'f1_h2']].plot.box()"
   ]
  },
  {
   "cell_type": "code",
   "execution_count": 12,
   "metadata": {},
   "outputs": [
    {
     "data": {
      "text/plain": [
       "<AxesSubplot:>"
      ]
     },
     "execution_count": 12,
     "metadata": {},
     "output_type": "execute_result"
    },
    {
     "data": {
      "image/png": "[encoded data removed]",
      "text/plain": [
       "<Figure size 432x288 with 1 Axes>"
      ]
     },
     "metadata": {
      "needs_background": "light"
     },
     "output_type": "display_data"
    }
   ],
   "source": [
    "merged_df[['f1_h1', 'f1_h2']].plot.box()"
   ]
  },
  {
   "cell_type": "code",
   "execution_count": 13,
   "metadata": {},
   "outputs": [
    {
     "data": {
      "text/plain": [
       "<AxesSubplot:>"
      ]
     },
     "execution_count": 13,
     "metadata": {},
     "output_type": "execute_result"
    },
    {
     "data": {
      "image/png": "[encoded data removed]",
      "text/plain": [
       "<Figure size 432x288 with 1 Axes>"
      ]
     },
     "metadata": {
      "needs_background": "light"
     },
     "output_type": "display_data"
    }
   ],
   "source": [
    "merged_df[['sensitivity_h1', 'sensitivity_h2']].plot.box()"
   ]
  },
  {
   "cell_type": "code",
   "execution_count": 14,
   "metadata": {},
   "outputs": [
    {
     "data": {
      "text/plain": [
       "<AxesSubplot:>"
      ]
     },
     "execution_count": 14,
     "metadata": {},
     "output_type": "execute_result"
    },
    {
     "data": {
      "image/png": "[encoded data removed]",
      "text/plain": [
       "<Figure size 432x288 with 1 Axes>"
      ]
     },
     "metadata": {
      "needs_background": "light"
     },
     "output_type": "display_data"
    }
   ],
   "source": [
    "merged_df[['sensitivity_h1', 'sensitivity_h2']].plot.box()"
   ]
  },
  {
   "cell_type": "code",
   "execution_count": 15,
   "metadata": {},
   "outputs": [
    {
     "data": {
      "application/javascript": "\n        if (window._pyforest_update_imports_cell) { window._pyforest_update_imports_cell('import matplotlib.pyplot as plt\\nimport pandas as pd'); }\n    ",
      "text/plain": [
       "<IPython.core.display.Javascript object>"
      ]
     },
     "metadata": {},
     "output_type": "display_data"
    },
    {
     "data": {
      "text/plain": [
       "<matplotlib.collections.PathCollection at 0x7fe2ab51f3d0>"
      ]
     },
     "execution_count": 15,
     "metadata": {},
     "output_type": "execute_result"
    },
    {
     "data": {
      "image/png": "[encoded data removed]",
      "text/plain": [
       "<Figure size 432x288 with 1 Axes>"
      ]
     },
     "metadata": {
      "needs_background": "light"
     },
     "output_type": "display_data"
    }
   ],
   "source": [
    "plt.scatter(h1_res_df.FP.values, h1_res_df.sensitivity.values)"
   ]
  },
  {
   "cell_type": "code",
   "execution_count": 16,
   "metadata": {},
   "outputs": [
    {
     "data": {
      "text/plain": [
       "0.9333333333333333"
      ]
     },
     "execution_count": 16,
     "metadata": {},
     "output_type": "execute_result"
    }
   ],
   "source": [
    "h1_res_df.sensitivity.median()"
   ]
  },
  {
   "cell_type": "code",
   "execution_count": 17,
   "metadata": {},
   "outputs": [
    {
     "data": {
      "text/plain": [
       "<AxesSubplot:ylabel='Frequency'>"
      ]
     },
     "execution_count": 17,
     "metadata": {},
     "output_type": "execute_result"
    },
    {
     "data": {
      "image/png": "[encoded data removed]",
      "text/plain": [
       "<Figure size 432x288 with 1 Axes>"
      ]
     },
     "metadata": {
      "needs_background": "light"
     },
     "output_type": "display_data"
    }
   ],
   "source": [
    "h1_res_df.sensitivity.plot.hist()"
   ]
  },
  {
   "cell_type": "code",
   "execution_count": 19,
   "metadata": {},
   "outputs": [
    {
     "data": {
      "text/plain": [
       "<AxesSubplot:ylabel='Frequency'>"
      ]
     },
     "execution_count": 19,
     "metadata": {},
     "output_type": "execute_result"
    },
    {
     "data": {
      "image/png": "[encoded data removed]",
      "text/plain": [
       "<Figure size 432x288 with 1 Axes>"
      ]
     },
     "metadata": {
      "needs_background": "light"
     },
     "output_type": "display_data"
    }
   ],
   "source": [
    "(h1_res_df.TP + h1_res_df.FP).plot.hist()"
   ]
  },
  {
   "cell_type": "code",
   "execution_count": 21,
   "metadata": {},
   "outputs": [
    {
     "data": {
      "text/plain": [
       "1136.521212121212"
      ]
     },
     "execution_count": 21,
     "metadata": {},
     "output_type": "execute_result"
    }
   ],
   "source": [
    "(h1_res_df.TP + h1_res_df.FP).mean()"
   ]
  },
  {
   "cell_type": "code",
   "execution_count": null,
   "metadata": {},
   "outputs": [],
   "source": []
  }
 ],
 "metadata": {
  "interpreter": {
   "hash": "d785cc99391f1decae0a31664a2bc430e1bb802c6f8076d9d1b38f05ab7f6160"
  },
  "kernelspec": {
   "display_name": "Python 3.9.7 ('calc_det')",
   "language": "python",
   "name": "python3"
  },
  "language_info": {
   "codemirror_mode": {
    "name": "ipython",
    "version": 3
   },
   "file_extension": ".py",
   "mimetype": "text/x-python",
   "name": "python",
   "nbconvert_exporter": "python",
   "pygments_lexer": "ipython3",
   "version": "3.9.7"
  },
  "orig_nbformat": 4
 },
 "nbformat": 4,
 "nbformat_minor": 2
}
