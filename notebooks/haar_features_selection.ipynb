{
 "cells": [
  {
   "cell_type": "markdown",
   "metadata": {},
   "source": [
    "# Experiments on Haar Features"
   ]
  },
  {
   "cell_type": "code",
   "execution_count": 16,
   "metadata": {},
   "outputs": [],
   "source": [
    "import sys; sys.path.insert(0, '..')\n",
    "\n",
    "import numpy as np\n",
    "import pickle\n",
    "import matplotlib.pyplot as plt\n",
    "import seaborn as sns\n",
    "from sklearn.ensemble import RandomForestClassifier\n",
    "from sklearn.metrics import roc_auc_score, roc_curve, precision_recall_curve, auc\n",
    "from skimage.feature import draw_haar_like_feature, haar_like_feature_coord\n",
    "\n",
    "from database.dataset import *\n",
    "from mc_candidate_proposal.hough_mc import HoughCalcificationDetection\n",
    "from feature_extraction.feature_extraction import CandidatesFeatureExtraction\n",
    "import feature_extraction.haar_features.haar_modules as hm\n",
    "# from general_utils.utils import get_an_example_array\n",
    "from matplotlib.ticker import StrMethodFormatter, NullFormatter\n",
    "\n",
    "# Only for fast GPU RF computation\n",
    "# from cuml.ensemble import RandomForestClassifier as cuRFC"
   ]
  },
  {
   "cell_type": "markdown",
   "metadata": {},
   "source": [
    "# Database initialization"
   ]
  },
  {
   "cell_type": "code",
   "execution_count": 2,
   "metadata": {},
   "outputs": [],
   "source": [
    "db = INBreast_Dataset(\n",
    "        return_lesions_mask=True,\n",
    "        level='image',\n",
    "        max_lesion_diam_mm=1.0,\n",
    "        partitions=['train', 'validation'],  # This is not working as you want since last update, to do so include validation\n",
    "        extract_patches=True,\n",
    "        extract_patches_method='all',  # 'centered'\n",
    "        patch_size=256,\n",
    "        stride=256,\n",
    "        min_breast_fraction_roi=0.5,\n",
    "        normalize=None,\n",
    "        n_jobs=-1,\n",
    ")"
   ]
  },
  {
   "cell_type": "markdown",
   "metadata": {},
   "source": [
    "# Candidate Proposals and Features Extractor"
   ]
  },
  {
   "cell_type": "markdown",
   "metadata": {},
   "source": [
    "### Instantiate Candidate Proposals Detector and Features Extractor"
   ]
  },
  {
   "cell_type": "code",
   "execution_count": 3,
   "metadata": {},
   "outputs": [],
   "source": [
    "# Candidate Proposals detector\n",
    "hd = HoughCalcificationDetection()\n",
    "\n",
    "# Feature extractor\n",
    "haar_params = {\n",
    "    'skimage': {\n",
    "        'feature_type': None, 'feature_coord': None\n",
    "    },\n",
    "    'ours': {\n",
    "        'horizontal_feature_types': [(hm.Feature3h3v, 3, 3)],\n",
    "        'rotated_feature_types': None,\n",
    "        'horizontal_feature_selection': None,\n",
    "        'rotated_feature_selection': None,\n",
    "    },\n",
    "    'patch_size': 14\n",
    "}\n",
    "cfe  = CandidatesFeatureExtraction(patch_size=30, fos=False, haar_params=haar_params)"
   ]
  },
  {
   "cell_type": "markdown",
   "metadata": {},
   "source": [
    "Extract features and save in disk"
   ]
  },
  {
   "cell_type": "code",
   "execution_count": 26,
   "metadata": {},
   "outputs": [
    {
     "name": "stderr",
     "output_type": "stream",
     "text": [
      "  0%|          | 0/154 [00:19<?, ?it/s]\n"
     ]
    }
   ],
   "source": [
    "for idx in tqdm(range(len(db))):\n",
    "    # Get image to process\n",
    "    db_sample = db[idx]\n",
    "    image = db_sample['img']\n",
    "    image_id = db.df.iloc[idx].img_id\n",
    "    image_mask = db_sample['lesion_mask']\n",
    "\n",
    "    # Avoid reprocessing\n",
    "    path = (Path.cwd().parent.parent / f'data/haar_features/{image_id}.fth')\n",
    "    path.parent.mkdir(exist_ok=True, parents=True)\n",
    "    if path.exists():\n",
    "        continue\n",
    "    else:\n",
    "        # candidate detection\n",
    "        candidates = hd.detect(image, image_id, load_processed_images=True, hough2=False)[0]\n",
    "\n",
    "        # feature extraction\n",
    "        X = cfe.extract_features(candidates, image, image_mask, fp2tp_sample=10)\n",
    "\n",
    "        # Store in disk\n",
    "        res = pd.DataFrame(data=X, columns=cfe.feature_names)\n",
    "        res['img_id'] = image_id\n",
    "        res.to_feather(path)"
   ]
  },
  {
   "cell_type": "markdown",
   "metadata": {},
   "source": [
    "# Classification"
   ]
  },
  {
   "cell_type": "markdown",
   "metadata": {},
   "source": [
    "Generate an unified dataframe"
   ]
  },
  {
   "cell_type": "code",
   "execution_count": 9,
   "metadata": {},
   "outputs": [
    {
     "name": "stderr",
     "output_type": "stream",
     "text": [
      "100%|██████████| 154/154 [02:28<00:00,  1.03it/s]\n"
     ]
    }
   ],
   "source": [
    "# Generate an unified dataframe\n",
    "\n",
    "# # Load features from disk\n",
    "# fdf = []\n",
    "# for idx in tqdm(range(len(db))):\n",
    "#     # Get case\n",
    "#     db_sample = db[idx]\n",
    "#     image = db_sample['img']\n",
    "#     image_id = db.df.iloc[idx].img_id\n",
    "#     image_mask = db_sample['lesion_mask']\n",
    "\n",
    "#     # Load data\n",
    "#     path = (Path.cwd().parent.parent / f'data/haar_features/{image_id}.fth')\n",
    "#     if path.exists():\n",
    "#         fdf.append(pd.read_feather(path))\n",
    "#     else:\n",
    "#         print(f'warining: file {image_id}.fth does not exist')\n",
    "\n",
    "# data = pd.concat(fdf).sample(frac=1)\n",
    "# del fdf\n",
    "\n",
    "## Store the complete data for future uses\n",
    "# data.reset_index(drop=False).to_feather(Path.cwd().parent.parent / f'data/haar_features/all_train_img.fth')"
   ]
  },
  {
   "cell_type": "markdown",
   "metadata": {},
   "source": [
    "Load all dataset"
   ]
  },
  {
   "cell_type": "code",
   "execution_count": null,
   "metadata": {},
   "outputs": [],
   "source": [
    "# data = pd.read_feather(Path.cwd().parent.parent / f'data/haar_features/all_train_img.fth')\n",
    "# data.set_index('index', inplace=True)"
   ]
  },
  {
   "cell_type": "markdown",
   "metadata": {},
   "source": [
    "Fix the imbalance to 10 to 1 and store the dataset"
   ]
  },
  {
   "cell_type": "code",
   "execution_count": 19,
   "metadata": {},
   "outputs": [],
   "source": [
    "# # Binarize labels \n",
    "# data['center_patch_mask_intersection'] = data.center_patch_mask_intersection>0\n",
    "\n",
    "# # Sample\n",
    "# np.random.seed(20)\n",
    "# TPs = data.loc[data.center_patch_mask_intersection]\n",
    "# n_TPs = len(TPs)\n",
    "# sample_size = n_TPs * 10\n",
    "# FPs = data.loc[~data.center_patch_mask_intersection].sample(sample_size, random_state=0, replace=False)\n",
    "\n",
    "# # Rejoin\n",
    "# data = pd.concat([TPs, FPs], axis=0).sample(frac=1)\n",
    "# # Store\n",
    "# data.reset_index(drop=False).to_feather(Path.cwd().parent.parent / f'data/haar_features/all_train_img_10to1.fth')"
   ]
  },
  {
   "cell_type": "markdown",
   "metadata": {},
   "source": [
    "### Train only on our haar features"
   ]
  },
  {
   "cell_type": "code",
   "execution_count": 31,
   "metadata": {},
   "outputs": [],
   "source": [
    "# Load the fixed unbalance dataset\n",
    "data = pd.read_feather(Path.cwd().parent.parent / f'data/haar_features/all_train_img_10to1.fth')\n",
    "data.set_index('index', inplace=True)\n",
    "\n",
    "# Keep only our haar features\n",
    "label_cols = ['candidate_coordinates', 'patch_coordinates', 'center_patch_mask_intersection', 'img_id']\n",
    "data = data.loc[:, [i for i in data.columns if (i in label_cols) or ('rot_' in i) or ('hor_' in i)]]\n",
    "data.reset_index(drop=False).to_feather(Path.cwd().parent.parent / f'data/haar_features/all_train_img_10to1_ours.fth')"
   ]
  },
  {
   "cell_type": "code",
   "execution_count": 52,
   "metadata": {},
   "outputs": [
    {
     "name": "stderr",
     "output_type": "stream",
     "text": [
      "22it [1:40:39, 274.54s/it]\n"
     ]
    }
   ],
   "source": [
    "aucs_test = []\n",
    "aucs_train = []\n",
    "best_10 = []\n",
    "feat_importances = []\n",
    "clfs = []\n",
    "\n",
    "path = (Path.cwd().parent.parent / f'data/haar_models/')\n",
    "path.mkdir(exist_ok=True, parents=True)\n",
    "\n",
    "for k, test_img_id in tqdm(enumerate(utils.blockwise_retrieval(data.img_id.unique(), 7))):\n",
    "    # Divide train and test based on cases (cross validation image wise)\n",
    "    train_df = data[~data.img_id.isin(test_img_id)]\n",
    "    test_df = data[data.img_id.isin(test_img_id)]\n",
    "\n",
    "    # Generate features and labels datasets\n",
    "    train_X = train_df.drop(columns=['patch_coordinates', 'candidate_coordinates', 'center_patch_mask_intersection', 'img_id'])\n",
    "    train_y = (train_df.center_patch_mask_intersection).astype(int)\n",
    "    test_X = test_df.drop(columns=['patch_coordinates', 'candidate_coordinates', 'center_patch_mask_intersection', 'img_id'])\n",
    "    test_y = (test_df.center_patch_mask_intersection).astype(int)\n",
    "    \n",
    "    # Train a random forest classifier\n",
    "    clf = RandomForestClassifier(n_estimators=1000, max_depth=None, n_jobs=-1, random_state=0)\n",
    "    clf.fit(train_X, train_y)\n",
    "\n",
    "    # Store the trained models\n",
    "    \n",
    "    filename = f'RF_our_{k}.sav'\n",
    "    pickle.dump(clf, open(path / filename, 'wb'))\n",
    "    \n",
    "    # Asses performance\n",
    "    test_y_predicted = clf.predict_proba(test_X)[:, 1]\n",
    "    train_y_predicted = clf.predict_proba(train_X)[:, 1]\n",
    "    auc_full_features_test = roc_auc_score(test_y, test_y_predicted)\n",
    "    auc_full_features_train = roc_auc_score(train_y, train_y_predicted)\n",
    "    aucs_test.append(auc_full_features_test)\n",
    "    aucs_train.append(auc_full_features_train)\n",
    "    \n",
    "    # Store on memory the classifier and the feature importances\n",
    "    clfs.append(clf)\n",
    "    feat_importances.append(clf.feature_importances_)\n",
    "\n",
    "# Store the auroc data to disk\n",
    "auc_data = pd.DataFrame(aucs_test + aucs_train, columns=['auc'])\n",
    "auc_data['set'] = ['val']*len(aucs_test) + ['train']*len(aucs_train)\n",
    "auc_data.to_csv(path/'aucs_our_haar_21_runs.csv')\n",
    "# Store the feature importances to disk\n",
    "filename = f'feature_importances.sav'\n",
    "pickle.dump(feat_importances, open(path/filename, 'wb'))"
   ]
  },
  {
   "cell_type": "code",
   "execution_count": 60,
   "metadata": {},
   "outputs": [
    {
     "data": {
      "image/png": "[encoded data removed]",
      "text/plain": [
       "<Figure size 432x288 with 1 Axes>"
      ]
     },
     "metadata": {
      "needs_background": "light"
     },
     "output_type": "display_data"
    }
   ],
   "source": [
    "# Analize the AUC over the folds\n",
    "sns.boxplot(data=auc_data, y='auc', x='set')\n",
    "plt.show()"
   ]
  },
  {
   "cell_type": "markdown",
   "metadata": {},
   "source": [
    "Evaluate the importance of features and their influence on the performance"
   ]
  },
  {
   "cell_type": "code",
   "execution_count": 15,
   "metadata": {},
   "outputs": [],
   "source": [
    "# Load classifiers from disk\n",
    "path = (Path.cwd().parent.parent / f'data/haar_models/')\n",
    "our_features_clfs = []\n",
    "for k in range(21):\n",
    "    if k == 0:\n",
    "        continue\n",
    "    filename = f'RF_our_{k}.sav'\n",
    "    with open(str(path / filename), 'rb') as f:\n",
    "        cl = pickle.load(f)\n",
    "    our_features_clfs.append(cl)"
   ]
  },
  {
   "cell_type": "code",
   "execution_count": 5,
   "metadata": {},
   "outputs": [],
   "source": [
    "def sort_relevances(feat_importances):\n",
    "    # Sort the feature importances for each classifier\n",
    "    sorted_idxs = np.zeros((len(feat_importances), len(feat_importances[0])))\n",
    "    for i in range(len(feat_importances)):\n",
    "        sorted_idxs[i, :] = np.argsort(feat_importances[i])[::-1]\n",
    "\n",
    "    # Strategy ONE\n",
    "    # Going from most important to less, for each feature apply a voting strategy\n",
    "    # At a certain position (let's say 2), see if across all the cross validation\n",
    "    # fold some feature was repeated. If no feature is repeated sample one of them.\n",
    "    # Always check if the most voted one, or the sample one has not already been \n",
    "    # included in the list, if so, keep on to the next position.\n",
    "    # resulting_order = []\n",
    "    # resulting_counts = []\n",
    "    # for j in range(sorted_idxs.shape[1]):\n",
    "    #     idxs, cnts = np.unique(sorted_idxs[:, j], return_counts=True)\n",
    "    #     if j == 0:\n",
    "    #         resulting_order.append(idxs[0])\n",
    "    #         resulting_counts.append(cnts[0])\n",
    "    #         continue\n",
    "    #     for m in range(len(idxs)):\n",
    "    #         if idxs[m] not in resulting_order:\n",
    "    #             resulting_order.append(idxs[m])\n",
    "    #             resulting_counts.append(cnts[m])\n",
    "    #             break\n",
    "    # # Get all the features which weren't selected (not sampled)\n",
    "    # missing_idxs = np.asarray([i for i in range(len(feat_importances[0])) if i not in resulting_order])\n",
    "    # # Since their order is not known just shuffle them\n",
    "    # rng = np.random.default_rng(seed=0)\n",
    "    # rng.shuffle(missing_idxs)\n",
    "\n",
    "    # resulting_order.extend(missing_idxs.tolist())\n",
    "    # resulting_counts.extend([1]*len(missing_idxs))\n",
    "\n",
    "    # sorted_features_one = np.asarray(resulting_order)\n",
    "    \n",
    "    # sorted_features_one = pd.DataFrame(resulting_order, columns=['feature_idx'])\n",
    "    # sorted_features_one['counts'] = resulting_counts\n",
    "    # sorted_features_one.to_csv(path/'sorted_features_ours.csv')\n",
    "\n",
    "    # Strategy TWO\n",
    "    # Going from most important to less, for each feature apply a voting strategy\n",
    "    # sort the unique features by votes, in the next feature importance level\n",
    "    # repeat the process but add just the ones not previously added.\n",
    "    resulting_order = []\n",
    "    for j in range(sorted_idxs.shape[1]):\n",
    "        idxs, cnts = np.unique(sorted_idxs[:, j], return_counts=True)\n",
    "        resulting_order = resulting_order + [i for i in idxs if i not in resulting_order]\n",
    "    # Just for sanity\n",
    "    missing_idxs = np.asarray([i for i in range(len(feat_importances[0])) if i not in resulting_order])\n",
    "    rng = np.random.default_rng(seed=0)\n",
    "    rng.shuffle(missing_idxs)\n",
    "    resulting_order = resulting_order + missing_idxs.tolist()\n",
    "    sorted_features_two = np.asarray(resulting_order)\n",
    "    return sorted_features_two"
   ]
  },
  {
   "cell_type": "code",
   "execution_count": null,
   "metadata": {},
   "outputs": [],
   "source": [
    "# Load the feature importances for each classifier\n",
    "feat_importances = []\n",
    "for cl in our_features_clfs:\n",
    "    feat_importances.append(cl.feature_importances_)\n",
    "\n",
    "sorted_features_one, sorted_features_two = sort_relevances(feat_importances)"
   ]
  },
  {
   "cell_type": "code",
   "execution_count": 153,
   "metadata": {},
   "outputs": [],
   "source": [
    "data = pd.read_feather(Path.cwd().parent.parent / f'data/haar_features/all_train_img_10to1_ours.fth')\n",
    "data.set_index('index', inplace=True)\n",
    "\n",
    "aucs_test_feat_sel_ours = {}\n",
    "aucs_train_feat_sel_ours = {}\n",
    "aupr_test_feat_sel_ours = {}\n",
    "aupr_train_feat_sel_ours = {}\n",
    "clfs_feat_sel_ours = {}\n",
    "\n",
    "sorted_features = sorted_features_two\n",
    "\n",
    "path = (Path.cwd().parent.parent / f'data/haar_models/')\n",
    "path.mkdir(exist_ok=True, parents=True)\n",
    "\n",
    "for i in [10, 5, 2]:\n",
    "    clfs_feat_sel_ours[i] = []\n",
    "    aucs_test_feat_sel_ours[i] = []\n",
    "    aucs_train_feat_sel_ours[i] = []\n",
    "    aupr_test_feat_sel_ours[i] = []\n",
    "    aupr_train_feat_sel_ours[i] = []\n",
    "    feature_selection = sorted_features[:i]\n",
    "\n",
    "    data_ = data.iloc[:, feature_selection.astype(int).tolist() + [3321, 3322, 3323, 3324]]\n",
    "    for k, test_img_id in tqdm(enumerate(utils.blockwise_retrieval(data.img_id.unique(), 30))):\n",
    "        if k == 5:\n",
    "            continue\n",
    "\n",
    "        # Partition\n",
    "        train_df = data_[~data_.img_id.isin(test_img_id)]\n",
    "        test_df = data_[data_.img_id.isin(test_img_id)]\n",
    "\n",
    "        # Feats and labels\n",
    "        train_X = train_df.drop(columns=['patch_coordinates', 'candidate_coordinates', 'center_patch_mask_intersection', 'img_id'])\n",
    "        train_y = (train_df.center_patch_mask_intersection).astype(int)\n",
    "        test_X = test_df.drop(columns=['patch_coordinates', 'candidate_coordinates', 'center_patch_mask_intersection', 'img_id'])\n",
    "        test_y = (test_df.center_patch_mask_intersection).astype(int)\n",
    "        \n",
    "        # Train a random forest classifier and assess its performance\n",
    "        clf = RandomForestClassifier(n_estimators=1000, max_depth=None, n_jobs=-1, random_state=0)\n",
    "        clf.fit(train_X,train_y)\n",
    "        \n",
    "        # Save the model to disk\n",
    "        filename = f'RF_ours_cuml_{i}_{k}.sav'\n",
    "        pickle.dump(clf, open(path / filename, 'wb'))\n",
    "        \n",
    "        # Performance\n",
    "        test_y_predicted = clf.predict_proba(test_X)[:, 1]\n",
    "        train_y_predicted = clf.predict_proba(train_X)[:, 1]\n",
    "        \n",
    "        # AUROC\n",
    "        aucs_test_feat_sel_ours[i].append(roc_auc_score(test_y, test_y_predicted))\n",
    "        aucs_train_feat_sel_ours[i].append(roc_auc_score(train_y, train_y_predicted))\n",
    "        \n",
    "        # PR\n",
    "        pr, rc, th = precision_recall_curve(test_y, test_y_predicted)\n",
    "        aupr_test_feat_sel_ours[i].append(auc(rc, pr))\n",
    "        pr, rc, th = precision_recall_curve(train_y, train_y_predicted)\n",
    "        aupr_train_feat_sel_ours[i].append(auc(rc, pr))\n",
    "\n",
    "        # Store classifiers on memory\n",
    "        clfs_feat_sel_ours[i].append(clf)\n",
    "        print(aupr_test_feat_sel_ours[i])\n",
    "        print(aucs_test_feat_sel_ours[i])"
   ]
  },
  {
   "cell_type": "code",
   "execution_count": 149,
   "metadata": {},
   "outputs": [],
   "source": [
    "aupr_test_ours = pd.DataFrame.from_dict(aupr_test_feat_sel_ours)\n",
    "aupr_test_ours.to_csv(path/'aupr_test_ours_sorted.csv')\n",
    "cols = aupr_test_ours.columns\n",
    "aupr_test_ours.reset_index(drop=False, inplace=True)\n",
    "aupr_test_ours =pd.melt(aupr_test_ours, id_vars=['index'], value_vars=cols)\n",
    "\n",
    "aucs_test_ours = pd.DataFrame.from_dict(aucs_test_feat_sel_ours)\n",
    "aucs_test_ours.to_csv(path/'aucs_test_ours_sorted.csv')\n",
    "cols = aucs_test_ours.columns\n",
    "aucs_test_ours.reset_index(drop=False, inplace=True)\n",
    "aucs_test_ours =pd.melt(aucs_test_ours, id_vars=['index'], value_vars=cols)\n",
    "\n",
    "aupr_train_ours = pd.DataFrame.from_dict(aupr_train_feat_sel_ours)\n",
    "aupr_train_ours.to_csv(path/'aupr_train_ours_sorted.csv')\n",
    "cols = aupr_train_ours.columns\n",
    "aupr_train_ours.reset_index(drop=False, inplace=True)\n",
    "aupr_train_ours = pd.melt(aupr_train_ours, id_vars=['index'], value_vars=cols)\n",
    "\n",
    "aucs_train_ours = pd.DataFrame.from_dict(aucs_train_feat_sel_ours)\n",
    "aucs_train_ours.to_csv(path/'auc_train_ours_sorted.csv')\n",
    "cols = aucs_train_ours.columns\n",
    "aucs_train_ours.reset_index(drop=False, inplace=True)\n",
    "aucs_train_ours =pd.melt(aucs_train_ours, id_vars=['index'], value_vars=cols)"
   ]
  },
  {
   "cell_type": "code",
   "execution_count": 150,
   "metadata": {},
   "outputs": [
    {
     "data": {
      "text/plain": [
       "<matplotlib.legend.Legend at 0x7fedb20860d0>"
      ]
     },
     "execution_count": 150,
     "metadata": {},
     "output_type": "execute_result"
    },
    {
     "data": {
      "image/png": "[encoded data removed]",
      "text/plain": [
       "<Figure size 1080x576 with 1 Axes>"
      ]
     },
     "metadata": {
      "needs_background": "light"
     },
     "output_type": "display_data"
    }
   ],
   "source": [
    "cmap = plt.get_cmap(\"tab10\")\n",
    "fig, ax = plt.subplots(1,1, figsize=(15,8))\n",
    "ax.set_title('Auroc vs n° features')\n",
    "sns.lineplot(x = aupr_test_ours.variable, y = aupr_test_ours.value, ax=ax, color=cmap(0), label='AUPR')\n",
    "sns.lineplot(x = aucs_test_ours.variable, y = aucs_test_ours.value, ax=ax, color=cmap(1), label='AUROC')\n",
    "ax.set_xscale('log')\n",
    "ax.set_xlabel('Log N° features ')\n",
    "ax.set_ylabel('AUROC/AUPR [mean+-std 5foldCV]')\n",
    "ax.xaxis.set_major_formatter(StrMethodFormatter('{x:.0f}'))\n",
    "ax.xaxis.set_minor_formatter(NullFormatter())\n",
    "plt.legend()"
   ]
  },
  {
   "cell_type": "markdown",
   "metadata": {},
   "source": [
    "## Train on all the haar features"
   ]
  },
  {
   "cell_type": "code",
   "execution_count": 11,
   "metadata": {},
   "outputs": [
    {
     "name": "stderr",
     "output_type": "stream",
     "text": [
      "  0%|          | 0/11 [00:00<?, ?it/s]"
     ]
    },
    {
     "name": "stdout",
     "output_type": "stream",
     "text": [
      "train auc: 1.0 - test auc: 0.9706399437412097\n"
     ]
    },
    {
     "name": "stderr",
     "output_type": "stream",
     "text": [
      " 18%|█▊        | 2/11 [12:36<56:42, 378.06s/it]"
     ]
    },
    {
     "name": "stdout",
     "output_type": "stream",
     "text": [
      "train auc: 1.0 - test auc: 0.9506604770275254\n"
     ]
    },
    {
     "name": "stderr",
     "output_type": "stream",
     "text": [
      " 27%|██▋       | 3/11 [23:20<1:05:10, 488.83s/it]"
     ]
    },
    {
     "name": "stdout",
     "output_type": "stream",
     "text": [
      "train auc: 0.9999999999999999 - test auc: 0.9731130508321001\n"
     ]
    },
    {
     "name": "stderr",
     "output_type": "stream",
     "text": [
      " 36%|███▋      | 4/11 [36:20<1:09:43, 597.60s/it]"
     ]
    },
    {
     "name": "stdout",
     "output_type": "stream",
     "text": [
      "train auc: 1.0 - test auc: 0.9774302918762452\n"
     ]
    },
    {
     "name": "stderr",
     "output_type": "stream",
     "text": [
      " 45%|████▌     | 5/11 [49:05<1:05:36, 656.00s/it]"
     ]
    },
    {
     "name": "stdout",
     "output_type": "stream",
     "text": [
      "train auc: 1.0 - test auc: 0.9971463761579293\n"
     ]
    },
    {
     "name": "stderr",
     "output_type": "stream",
     "text": [
      " 55%|█████▍    | 6/11 [1:03:32<1:00:28, 725.78s/it]"
     ]
    },
    {
     "name": "stdout",
     "output_type": "stream",
     "text": [
      "train auc: 1.0 - test auc: 0.9742063492063492\n"
     ]
    },
    {
     "name": "stderr",
     "output_type": "stream",
     "text": [
      " 64%|██████▎   | 7/11 [1:18:38<52:15, 783.90s/it]  "
     ]
    },
    {
     "name": "stdout",
     "output_type": "stream",
     "text": [
      "train auc: 1.0 - test auc: 0.9863812154696132\n"
     ]
    },
    {
     "name": "stderr",
     "output_type": "stream",
     "text": [
      " 73%|███████▎  | 8/11 [1:33:52<41:14, 824.80s/it]"
     ]
    },
    {
     "name": "stdout",
     "output_type": "stream",
     "text": [
      "train auc: 1.0 - test auc: 0.9901312891003613\n"
     ]
    },
    {
     "name": "stderr",
     "output_type": "stream",
     "text": [
      " 82%|████████▏ | 9/11 [1:49:19<28:32, 856.45s/it]"
     ]
    },
    {
     "name": "stdout",
     "output_type": "stream",
     "text": [
      "train auc: 1.0 - test auc: 0.9770011947431302\n"
     ]
    },
    {
     "name": "stderr",
     "output_type": "stream",
     "text": [
      " 91%|█████████ | 10/11 [2:04:59<14:42, 882.30s/it]"
     ]
    },
    {
     "name": "stdout",
     "output_type": "stream",
     "text": [
      "train auc: 1.0 - test auc: 1.0\n"
     ]
    },
    {
     "name": "stderr",
     "output_type": "stream",
     "text": [
      "100%|██████████| 11/11 [2:46:37<00:00, 908.87s/it] \n"
     ]
    }
   ],
   "source": [
    "data = pd.read_feather(Path.cwd().parent.parent / f'data/haar_features/all_train_img_10to1.fth')\n",
    "data.set_index('index', inplace=True)\n",
    "\n",
    "aucs_test_all = []\n",
    "aucs_train_all = []\n",
    "feat_importances_all = []\n",
    "clfs_all = []\n",
    "\n",
    "path = (Path.cwd().parent.parent / f'data/haar_models/')\n",
    "path.mkdir(exist_ok=True, parents=True)\n",
    "\n",
    "total = len(list(utils.blockwise_retrieval(data.img_id.unique(), 15)))\n",
    "for k, test_img_id in tqdm(enumerate(utils.blockwise_retrieval(data.img_id.unique(), 15)), total=total):\n",
    "    if (k == 11): # or (k == 0):\n",
    "        continue\n",
    "\n",
    "    # Partitions\n",
    "    train_df = data[~data.img_id.isin(test_img_id)]\n",
    "    test_df = data[data.img_id.isin(test_img_id)]\n",
    "\n",
    "    # Features and labels\n",
    "    train_X = train_df.drop(columns=['patch_coordinates', 'candidate_coordinates', 'center_patch_mask_intersection', 'img_id'])\n",
    "    train_y = (train_df.center_patch_mask_intersection).astype(int)\n",
    "    test_X = test_df.drop(columns=['patch_coordinates', 'candidate_coordinates', 'center_patch_mask_intersection', 'img_id'])\n",
    "    test_y = (test_df.center_patch_mask_intersection).astype(int)\n",
    "    \n",
    "    # Train a random forest classifier and assess its performance\n",
    "    clf = RandomForestClassifier(n_estimators=1000, max_depth=None, n_jobs=-1, random_state=0)\n",
    "    clf.fit(train_X, train_y)\n",
    "\n",
    "    # Save the model to disk\n",
    "    filename = f'RF_all_{k}.sav'\n",
    "    pickle.dump(clf, open(filename, 'wb'))\n",
    "    \n",
    "    # Performance\n",
    "    test_y_predicted = clf.predict_proba(test_X)[:, 1]\n",
    "    train_y_predicted = clf.predict_proba(train_X)[:, 1]\n",
    "    \n",
    "    auc_full_features_test = roc_auc_score(test_y, test_y_predicted)\n",
    "    auc_full_features_train = roc_auc_score(train_y, train_y_predicted)\n",
    "    aucs_test_all.append(auc_full_features_test)\n",
    "    aucs_train_all.append(auc_full_features_train)\n",
    "    \n",
    "    print(f'train auc: {auc_full_features_train} - test auc: {auc_full_features_test}')\n",
    "    \n",
    "    # Save model in memory\n",
    "    clfs_all.append(clf)\n",
    "    \n",
    "    feat_importances_all.append(clf.feature_importances_)\n",
    "\n",
    "# # Store the auroc data to disk\n",
    "# auc_data = pd.DataFrame(aucs_test_all + aucs_train_all, columns=['auc'])\n",
    "# auc_data['set'] = ['val']*len(aucs_test_all) + ['train']*len(aucs_train_all)\n",
    "# auc_data.to_csv(path/'aucs_all_haar_10_runs.csv')\n",
    "# # Store the feature importances to disk\n",
    "# filename = f'feature_importances_all_10runs.sav'\n",
    "# pickle.dump(feat_importances, open(path/filename, 'wb'))"
   ]
  },
  {
   "cell_type": "code",
   "execution_count": 12,
   "metadata": {},
   "outputs": [
    {
     "data": {
      "image/png": "[encoded data removed]",
      "text/plain": [
       "<Figure size 432x288 with 1 Axes>"
      ]
     },
     "metadata": {
      "needs_background": "light"
     },
     "output_type": "display_data"
    }
   ],
   "source": [
    "sns.boxplot(data=auc_data, y='auc', x='set')\n",
    "plt.show()"
   ]
  },
  {
   "cell_type": "code",
   "execution_count": 6,
   "metadata": {},
   "outputs": [],
   "source": [
    "# Load classifiers from disk\n",
    "path = (Path.cwd().parent.parent / f'data/haar_models/')\n",
    "our_features_clfs = []\n",
    "for k in range(10):\n",
    "    filename = f'RF_all_{k}.sav'\n",
    "    with open(str(path / filename), 'rb') as f:\n",
    "        cl = pickle.load(f)\n",
    "    our_features_clfs.append(cl)\n",
    "\n",
    "# Load the feature importances for each classifier\n",
    "feat_importances = []\n",
    "for cl in our_features_clfs:\n",
    "    feat_importances.append(cl.feature_importances_)\n",
    "\n",
    "sorted_features_two = sort_relevances(feat_importances)"
   ]
  },
  {
   "cell_type": "markdown",
   "metadata": {},
   "source": [
    "Evaluate the influence of the number of features"
   ]
  },
  {
   "cell_type": "code",
   "execution_count": 19,
   "metadata": {},
   "outputs": [
    {
     "name": "stderr",
     "output_type": "stream",
     "text": [
      "6it [1:01:35, 615.97s/it]\n",
      "6it [45:23, 453.99s/it]\n",
      "6it [33:32, 335.47s/it]\n",
      "6it [21:29, 214.96s/it]\n",
      "6it [14:41, 146.99s/it]\n",
      "6it [09:49, 98.17s/it] \n",
      "6it [06:43, 67.18s/it]\n",
      "6it [04:27, 44.57s/it]\n",
      "6it [03:03, 30.64s/it]\n",
      "6it [02:01, 20.27s/it]\n",
      "6it [01:21, 13.62s/it]\n",
      "6it [00:45,  7.65s/it]\n",
      "6it [00:35,  5.86s/it]\n",
      "6it [00:23,  3.96s/it]\n"
     ]
    }
   ],
   "source": [
    "data = pd.read_feather(Path.cwd().parent.parent / f'data/haar_features/all_train_img_10to1.fth')\n",
    "data.set_index('index', inplace=True)\n",
    "\n",
    "aucs_test_feat_sel_all = {}\n",
    "aucs_train_feat_sel_all = {}\n",
    "aupr_test_feat_sel_all = {}\n",
    "aupr_train_feat_sel_all = {}\n",
    "clfs_feat_sel_all = {}\n",
    "\n",
    "sorted_features = sorted_features_two\n",
    "\n",
    "path = (Path.cwd().parent.parent / f'data/haar_models/')\n",
    "path.mkdir(exist_ok=True, parents=True)\n",
    "\n",
    "for i in [len(sorted_features), 12800, 6400, 3200, 1600, 800, 400, 200, 100, 50, 25, 10, 5, 2]:\n",
    "    clfs_feat_sel_all[i] = []\n",
    "    aucs_test_feat_sel_all[i] = []\n",
    "    aucs_train_feat_sel_all[i] = []\n",
    "    aupr_test_feat_sel_all[i] = []\n",
    "    aupr_train_feat_sel_all[i] = []\n",
    "    feature_selection = sorted_features[:i]\n",
    "\n",
    "    data_ = data.iloc[:, feature_selection.astype(int).tolist() + [22154, 22155, 22156, 22157]]\n",
    "    for k, test_img_id in tqdm(enumerate(utils.blockwise_retrieval(data_.img_id.unique(), 30))):\n",
    "        if k == 5:\n",
    "            continue\n",
    "\n",
    "        # Partition\n",
    "        train_df = data_[~data_.img_id.isin(test_img_id)]\n",
    "        test_df = data_[data_.img_id.isin(test_img_id)]\n",
    "\n",
    "        # Feats and labels\n",
    "        train_X = train_df.drop(columns=['patch_coordinates', 'candidate_coordinates', 'center_patch_mask_intersection', 'img_id'])\n",
    "        train_y = (train_df.center_patch_mask_intersection).astype(int)\n",
    "        test_X = test_df.drop(columns=['patch_coordinates', 'candidate_coordinates', 'center_patch_mask_intersection', 'img_id'])\n",
    "        test_y = (test_df.center_patch_mask_intersection).astype(int)\n",
    "        \n",
    "        # Train a random forest classifier and assess its performance\n",
    "        clf = RandomForestClassifier(n_estimators=1000, max_depth=None, n_jobs=-1, random_state=0)\n",
    "        clf.fit(train_X,train_y)\n",
    "        \n",
    "        # Save the model to disk\n",
    "        filename = f'RF_all_cuml_{i}_{k}.sav'\n",
    "        pickle.dump(clf, open(path / filename, 'wb'))\n",
    "        \n",
    "        # Performance\n",
    "        test_y_predicted = clf.predict_proba(test_X)[:, 1]\n",
    "        train_y_predicted = clf.predict_proba(train_X)[:, 1]\n",
    "        \n",
    "        # AUROC\n",
    "        aucs_test_feat_sel_all[i].append(roc_auc_score(test_y, test_y_predicted))\n",
    "        aucs_train_feat_sel_all[i].append(roc_auc_score(train_y, train_y_predicted))\n",
    "        \n",
    "        # PR\n",
    "        pr, rc, th = precision_recall_curve(test_y, test_y_predicted)\n",
    "        aupr_test_feat_sel_all[i].append(auc(rc, pr))\n",
    "        pr, rc, th = precision_recall_curve(train_y, train_y_predicted)\n",
    "        aupr_train_feat_sel_all[i].append(auc(rc, pr))\n",
    "\n",
    "        # Store classifiers on memory\n",
    "        clfs_feat_sel_all[i].append(clf)"
   ]
  },
  {
   "cell_type": "code",
   "execution_count": 21,
   "metadata": {},
   "outputs": [],
   "source": [
    "aupr_test = pd.DataFrame.from_dict(aupr_test_feat_sel_all)\n",
    "aupr_test.to_csv(path/'aupr_test_all_sorted.csv')\n",
    "cols = aupr_test.columns\n",
    "aupr_test.reset_index(drop=False, inplace=True)\n",
    "aupr_test = pd.melt(aupr_test, id_vars=['index'], value_vars=cols)\n",
    "\n",
    "aucs_test = pd.DataFrame.from_dict(aucs_test_feat_sel_all)\n",
    "aucs_test.to_csv(path/'aucs_test_all_sorted.csv')\n",
    "cols = aucs_test.columns\n",
    "aucs_test.reset_index(drop=False, inplace=True)\n",
    "aucs_test =pd.melt(aucs_test, id_vars=['index'], value_vars=cols)\n",
    "\n",
    "aupr_train = pd.DataFrame.from_dict(aupr_train_feat_sel_all)\n",
    "aupr_train.to_csv(path/'aupr_train_all_sorted.csv')\n",
    "cols = aupr_train.columns\n",
    "aupr_train.reset_index(drop=False, inplace=True)\n",
    "aupr_train =pd.melt(aupr_train, id_vars=['index'], value_vars=cols)\n",
    "\n",
    "aucs_train = pd.DataFrame.from_dict(aucs_train_feat_sel_all)\n",
    "aucs_train.to_csv(path/'auc_train_all_sorted.csv')\n",
    "cols = aucs_train.columns\n",
    "aucs_train.reset_index(drop=False, inplace=True)\n",
    "aucs_train =pd.melt(aucs_train, id_vars=['index'], value_vars=cols)"
   ]
  },
  {
   "cell_type": "code",
   "execution_count": 25,
   "metadata": {},
   "outputs": [
    {
     "data": {
      "text/plain": [
       "<matplotlib.legend.Legend at 0x7f90080d9df0>"
      ]
     },
     "execution_count": 25,
     "metadata": {},
     "output_type": "execute_result"
    },
    {
     "data": {
      "image/png": "[encoded data removed]",
      "text/plain": [
       "<Figure size 1080x576 with 1 Axes>"
      ]
     },
     "metadata": {
      "needs_background": "light"
     },
     "output_type": "display_data"
    }
   ],
   "source": [
    "cmap = plt.get_cmap(\"tab10\")\n",
    "fig, ax = plt.subplots(1,1, figsize=(15,8))\n",
    "ax.set_title('Auroc vs n° features')\n",
    "sns.lineplot(x = aupr_test.variable, y = aupr_test.value, ax=ax, color=cmap(0), label='AUPR')\n",
    "sns.lineplot(x = aucs_test.variable, y = aucs_test.value, ax=ax, color=cmap(1), label='AUROC')\n",
    "ax.set_xscale('log')\n",
    "ax.set_xlabel('N° features ')\n",
    "ax.set_ylabel('AUROC/AUPR [mean+-std 5foldCV]')\n",
    "ax.xaxis.set_major_formatter(StrMethodFormatter('{x:.0f}'))\n",
    "ax.xaxis.set_minor_formatter(NullFormatter())\n",
    "plt.legend()"
   ]
  },
  {
   "cell_type": "markdown",
   "metadata": {},
   "source": [
    "# Final feature Selection and visualization"
   ]
  },
  {
   "cell_type": "code",
   "execution_count": 57,
   "metadata": {},
   "outputs": [],
   "source": [
    "selected_feats = data.columns.values[sorted_features[:400].astype(int)]\n",
    "skimage_feats_idxs = [int(i.lstrip('haar_')) for i in selected_feats if ('haar' in i) and ('rot' not in i) and ('hor' not in i)]\n",
    "hor_feats_idxs = [int(i.lstrip('hor_haar_')) for i in selected_feats if ('haar' in i) and ('hor' in i)]\n",
    "rot_feats_idxs = [int(i.lstrip('rot_haar_')) for i in selected_feats if ('haar' in i) and ('rot' in i)]"
   ]
  },
  {
   "cell_type": "code",
   "execution_count": 68,
   "metadata": {},
   "outputs": [],
   "source": [
    "selection = {}\n",
    "selection['skimage_haar_feature_coords_sel'] = cfe.skimage_haar_feature_coords[skimage_feats_idxs]\n",
    "selection['skimage_haar_feature_types_sel'] = cfe.skimage_haar_feature_types[skimage_feats_idxs]\n",
    "selection['hor_feats_selection'] = np.asarray(cfe.our_haar_feature_types_h)[hor_feats_idxs]\n",
    "selection['rot_feats_selection'] = np.asarray(cfe.our_haar_feature_types_r)[rot_feats_idxs]"
   ]
  },
  {
   "cell_type": "markdown",
   "metadata": {},
   "source": [
    "# Loading most discriminative haar features"
   ]
  },
  {
   "cell_type": "code",
   "execution_count": 4,
   "metadata": {},
   "outputs": [],
   "source": [
    "# with open(path/'final_feat_selection.p', 'wb') as f:\n",
    "#     pickle.dump(selection, f)\n",
    "path = (Path.cwd().parent / f'feature_extraction/haar_features/')\n",
    "with open(path/'final_feat_selection.p', 'rb') as f:\n",
    "    selection = pickle.load(f)"
   ]
  },
  {
   "cell_type": "code",
   "execution_count": 5,
   "metadata": {},
   "outputs": [],
   "source": [
    "# Feature extractor\n",
    "haar_params = {\n",
    "    'skimage': {\n",
    "        'feature_type': None, 'feature_coord': None\n",
    "    },\n",
    "    'ours': {\n",
    "        'horizontal_feature_types': [(hm.Feature3h3v, 3, 3)],\n",
    "        'rotated_feature_types': None,\n",
    "        'horizontal_feature_selection': None,\n",
    "        'rotated_feature_selection': None,\n",
    "    },\n",
    "    'patch_size': 14\n",
    "}\n",
    "cfe_all  = CandidatesFeatureExtraction(patch_size=30, fos=False, haar_params=haar_params)\n",
    "\n",
    "# ISTANTIATE the candidate Feature Extractor with the selected features.\n",
    "haar_params = {\n",
    "    'skimage': {\n",
    "        'feature_type': selection['skimage_haar_feature_types_sel'],\n",
    "        'feature_coord': selection['skimage_haar_feature_coords_sel']\n",
    "    },\n",
    "    'ours': {\n",
    "        'horizontal_feature_selection': selection['hor_feats_selection'].tolist(),\n",
    "        'rotated_feature_selection': selection['rot_feats_selection'].tolist(),\n",
    "        'rotated_feature_types': None,\n",
    "        'horizontal_feature_types': None\n",
    "    },\n",
    "    'patch_size': 14\n",
    "}\n",
    "cfe_sel  = CandidatesFeatureExtraction(patch_size=30, fos=False, haar_params=haar_params)"
   ]
  },
  {
   "cell_type": "markdown",
   "metadata": {},
   "source": [
    "Time comparison"
   ]
  },
  {
   "cell_type": "code",
   "execution_count": 8,
   "metadata": {},
   "outputs": [
    {
     "name": "stdout",
     "output_type": "stream",
     "text": [
      "time all: 10.810069799423218    -    time selection: 4.438370227813721\n",
      "time all: 0.007197117043557402    -    time selection: 0.002954973520515127\n"
     ]
    }
   ],
   "source": [
    "import time\n",
    "db_sample = db[0]\n",
    "image = db_sample['img']\n",
    "image_id = db_sample['img_id']\n",
    "image_mask = db_sample['lesion_mask']\n",
    "\n",
    "# candidate detection\n",
    "candidates = hd.detect(image, image_id, load_processed_images=True, hough2=False)[0]\n",
    "\n",
    "# feature extraction\n",
    "start = time.time()\n",
    "X = cfe_all.extract_features(candidates, image, image_mask, fp2tp_sample=10)\n",
    "time_all = time.time()- start\n",
    "\n",
    "# feature extraction\n",
    "start = time.time()\n",
    "X = cfe_sel.extract_features(candidates, image, image_mask, fp2tp_sample=10)\n",
    "time_sel = time.time()- start\n",
    "\n",
    "print(f'time all: {time_all}    -    time selection: {time_sel}')\n",
    "print(f'time all: {time_all/len(candidates)}    -    time selection: {time_sel/len(candidates)}')"
   ]
  },
  {
   "cell_type": "markdown",
   "metadata": {},
   "source": [
    "visualize the features"
   ]
  },
  {
   "cell_type": "code",
   "execution_count": 7,
   "metadata": {},
   "outputs": [],
   "source": [
    "images = utils.get_an_example_array(image, 14, candidates)"
   ]
  },
  {
   "cell_type": "code",
   "execution_count": 28,
   "metadata": {},
   "outputs": [
    {
     "name": "stdout",
     "output_type": "stream",
     "text": [
      "(14, 14)\n",
      "(14, 14)\n",
      "(14, 14)\n",
      "(14, 14)\n",
      "(14, 14)\n",
      "(14, 14)\n",
      "(14, 14)\n",
      "(14, 14)\n",
      "(14, 14)\n"
     ]
    },
    {
     "data": {
      "image/png": "[encoded data removed]",
      "text/plain": [
       "<Figure size 1080x1080 with 9 Axes>"
      ]
     },
     "metadata": {},
     "output_type": "display_data"
    }
   ],
   "source": [
    "fig, axs = plt.subplots(3, 3, figsize=(15,15))\n",
    "for ax, img, feat in zip(np.ravel(axs), images, selection['rot_feats_selection'][:9]):\n",
    "    image = utils.draw_our_haar_like_features(img, feat)\n",
    "    ax.imshow(image)\n",
    "    ax.set_title(feat)\n",
    "    ax.set_xticks([])\n",
    "    ax.set_yticks([])\n",
    "plt.show()"
   ]
  },
  {
   "cell_type": "code",
   "execution_count": 35,
   "metadata": {},
   "outputs": [
    {
     "name": "stderr",
     "output_type": "stream",
     "text": [
      "100%|██████████| 11/11 [01:57<00:00, 10.64s/it]"
     ]
    },
    {
     "name": "stdout",
     "output_type": "stream",
     "text": [
      "train auc: 0.9999999999999999 - test auc: 0.9724958489738574\n"
     ]
    },
    {
     "name": "stderr",
     "output_type": "stream",
     "text": [
      "\n"
     ]
    }
   ],
   "source": [
    "# # Candidate Proposals detector\n",
    "# hd = HoughCalcificationDetection()\n",
    "\n",
    "# # Feature extractor\n",
    "# haar_params = {\n",
    "#     'skimage': {\n",
    "#         'feature_type': selection['skimage_haar_feature_types_sel'],\n",
    "#         'feature_coord': selection['skimage_haar_feature_coords_sel']\n",
    "#     },\n",
    "#     'ours': {\n",
    "#         'horizontal_feature_selection': selection['hor_feats_selection'].tolist(),\n",
    "#         'rotated_feature_selection': selection['rot_feats_selection'].tolist(),\n",
    "#         'rotated_feature_types': None,\n",
    "#         'horizontal_feature_types': None\n",
    "#     },\n",
    "#     'patch_size': 14\n",
    "# }\n",
    "# cfe  = CandidatesFeatureExtraction(patch_size=30, fos=False, haar_params=haar_params)\n",
    "\n",
    "# fdf = []\n",
    "# for idx in tqdm(range(len(db))):\n",
    "#     # Get image to process\n",
    "#     db_sample = db[idx]\n",
    "#     image = db_sample['img']\n",
    "#     image_id = db.df.iloc[idx].img_id\n",
    "#     image_mask = db_sample['lesion_mask']\n",
    "\n",
    "#     # candidate detection\n",
    "#     candidates = hd.detect(image, image_id, load_processed_images=True, hough2=False)[0]\n",
    "\n",
    "#     # feature extraction\n",
    "#     X = cfe.extract_features(candidates, image, image_mask, fp2tp_sample=10)\n",
    "\n",
    "#     # Store in disk\n",
    "#     res = pd.DataFrame(data=X, columns=cfe.feature_names)\n",
    "#     res['img_id'] = image_id\n",
    "#     fdf.append(res)\n",
    "\n",
    "data = pd.concat(fdf, ignore_index=True).sample(frac=1)\n",
    "data['center_patch_mask_intersection'] = data['center_patch_mask_intersection']>0\n",
    "\n",
    "aucs_test = []\n",
    "aucs_train = []\n",
    "aupr_test = []\n",
    "aupr_train = []\n",
    "aupr_curve_train = []\n",
    "aupr_curve_test = []\n",
    "auroc_curve_train = []\n",
    "auroc_curve_test = []\n",
    "\n",
    "total = len(list(utils.blockwise_retrieval(data.img_id.unique(), 15)))\n",
    "for k, test_img_id in tqdm(enumerate(utils.blockwise_retrieval(data.img_id.unique(), 15)), total=total):\n",
    "    if k != 0:\n",
    "        continue\n",
    "    # Partitions\n",
    "    train_df = data[~data.img_id.isin(test_img_id)]\n",
    "    test_df = data[data.img_id.isin(test_img_id)]\n",
    "\n",
    "    # Features and labels\n",
    "    train_X = train_df.drop(columns=['patch_coordinates', 'candidate_coordinates', 'center_patch_mask_intersection', 'img_id'])\n",
    "    train_y = (train_df.center_patch_mask_intersection).astype(int)\n",
    "    test_X = test_df.drop(columns=['patch_coordinates', 'candidate_coordinates', 'center_patch_mask_intersection', 'img_id'])\n",
    "    test_y = (test_df.center_patch_mask_intersection).astype(int)\n",
    "    \n",
    "    # Train a random forest classifier and assess its performance\n",
    "    clf = RandomForestClassifier(n_estimators=1000, max_depth=None, n_jobs=-1, random_state=0)\n",
    "    clf.fit(train_X, train_y)\n",
    "\n",
    "    # Performance\n",
    "    test_y_predicted = clf.predict_proba(test_X)[:, 1]\n",
    "    train_y_predicted = clf.predict_proba(train_X)[:, 1]\n",
    "    \n",
    "    auc_full_features_test = roc_auc_score(test_y, test_y_predicted)\n",
    "    auc_full_features_train = roc_auc_score(train_y, train_y_predicted)\n",
    "    aucs_test.append(auc_full_features_test)\n",
    "    aucs_train.append(auc_full_features_train)\n",
    "    fpr, tpr, th = roc_curve(test_y, test_y_predicted)\n",
    "    auroc_curve_test.append([fpr, tpr])\n",
    "    fpr, tpr, th = roc_curve(train_y, train_y_predicted)\n",
    "    auroc_curve_train.append([fpr, tpr])\n",
    "    \n",
    "    pr, rc, th = precision_recall_curve(test_y, test_y_predicted)\n",
    "    aupr_test.append(auc(rc, pr))\n",
    "    aupr_curve_test.append([rc, pr])\n",
    "    pr, rc, th = precision_recall_curve(train_y, train_y_predicted)\n",
    "    aupr_train.append(auc(rc, pr))\n",
    "    aupr_curve_train.append([rc, pr])\n",
    "    print(f'train auc: {auc_full_features_train} - test auc: {auc_full_features_test}')"
   ]
  },
  {
   "cell_type": "code",
   "execution_count": 36,
   "metadata": {},
   "outputs": [
    {
     "data": {
      "text/plain": [
       "[<matplotlib.lines.Line2D at 0x7f4cccf8e760>]"
      ]
     },
     "execution_count": 36,
     "metadata": {},
     "output_type": "execute_result"
    },
    {
     "data": {
      "image/png": "[encoded data removed]",
      "text/plain": [
       "<Figure size 432x288 with 1 Axes>"
      ]
     },
     "metadata": {
      "needs_background": "light"
     },
     "output_type": "display_data"
    },
    {
     "data": {
      "image/png": "[encoded data removed]",
      "text/plain": [
       "<Figure size 432x288 with 1 Axes>"
      ]
     },
     "metadata": {
      "needs_background": "light"
     },
     "output_type": "display_data"
    }
   ],
   "source": [
    "plt.plot(aupr_curve_train[0][0], aupr_curve_train[0][1])\n",
    "plt.plot(auroc_curve_train[0][0], auroc_curve_train[0][1])\n",
    "\n",
    "plt.figure()\n",
    "plt.plot(aupr_curve_test[0][0], aupr_curve_test[0][1])\n",
    "plt.plot(auroc_curve_test[0][0], auroc_curve_test[0][1])"
   ]
  }
 ],
 "metadata": {
  "interpreter": {
   "hash": "f094a5cfaa0fb3b1e730adb1bd2a385aed1bdbc34460cd7c5bc1913497751e38"
  },
  "kernelspec": {
   "display_name": "Python 3.9.7 ('calc_det')",
   "language": "python",
   "name": "python3"
  },
  "language_info": {
   "codemirror_mode": {
    "name": "ipython",
    "version": 3
   },
   "file_extension": ".py",
   "mimetype": "text/x-python",
   "name": "python",
   "nbconvert_exporter": "python",
   "pygments_lexer": "ipython3",
   "version": "3.9.7"
  },
  "orig_nbformat": 4
 },
 "nbformat": 4,
 "nbformat_minor": 2
}
