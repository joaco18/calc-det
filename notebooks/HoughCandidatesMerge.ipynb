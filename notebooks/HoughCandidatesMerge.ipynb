{
 "cells": [
  {
   "cell_type": "code",
   "execution_count": 1,
   "metadata": {},
   "outputs": [],
   "source": [
    "import sys; sys.path.insert(0, '..')\n",
    "from database.dataset import *\n",
    "\n",
    "from feature_extraction.feature_extraction import CandidatesFeatureExtraction, CandidatesFeatureExtractionMP\n",
    "from mc_candidate_proposal.hough_mc import HoughCalcificationDetection\n",
    "from general_utils.plots import plot_bboxes_over_image, simple_im_show, simple_im_show2\n",
    "from metrics.metrics import get_tp_fp_fn, quick_circle_comparison, circle_comparison\n",
    "\n",
    "db = INBreast_Dataset(\n",
    "        return_lesions_mask=True,\n",
    "        level='image',\n",
    "        max_lesion_diam_mm=1.0,\n",
    "        extract_patches=True,\n",
    "        extract_patches_method='all',  # 'centered'\n",
    "        patch_size=256,\n",
    "        stride=256,\n",
    "        min_breast_fraction_roi=0.5,\n",
    "        normalize=None,\n",
    "        n_jobs=-1,\n",
    ")"
   ]
  },
  {
   "cell_type": "code",
   "execution_count": 2,
   "metadata": {},
   "outputs": [],
   "source": [
    "dehazing_params = {'omega': 0.9, 'window_size': 11, 'radius': 40, 'eps': 1e-5}\n",
    "\n",
    "hough1_params = {'method': cv2.HOUGH_GRADIENT, 'dp': 1, 'minDist': 20,\n",
    "                 'param1': 300, 'param2': 8,  'minRadius': 2, 'maxRadius': 20}\n",
    "\n",
    "hough2_params = {'method': cv2.HOUGH_GRADIENT, 'dp': 1, 'minDist': 20,\n",
    "                 'param1': 300, 'param2': 10,  'minRadius': 2, 'maxRadius': 20}\n",
    "\n",
    "back_ext_radius = 50\n",
    "\n",
    "erosion_iter = 20\n",
    "erosion_size = 5\n",
    "\n",
    "\n",
    "hd = HoughCalcificationDetection(dehazing_params, back_ext_radius,\n",
    "                                 Path.cwd().parent / 'data/hough_img',    # \"/media/vzalevskyi/DATA/ProjectsData/calc-det/no_dehaizing\",\n",
    "                                 hough1_params, hough2_params,\n",
    "                                 erosion_iter=erosion_iter,\n",
    "                                 erosion_size=erosion_size)\n"
   ]
  },
  {
   "cell_type": "code",
   "execution_count": 3,
   "metadata": {},
   "outputs": [],
   "source": [
    "idx = 0\n",
    "db_sample = db[idx]\n",
    "image = db_sample['img']\n",
    "image_id = db.df.iloc[idx].img_id\n",
    "image_mask = db_sample['lesion_mask']\n",
    "true_bboxes = db_sample['lesion_bboxes']\n",
    "lesion_rads = db_sample['radiuses']"
   ]
  },
  {
   "cell_type": "code",
   "execution_count": 4,
   "metadata": {},
   "outputs": [],
   "source": [
    "h1_circles = hd.detect(\n",
    "    image, image_id, load_processed_images=True, hough2=False)[0]"
   ]
  },
  {
   "cell_type": "code",
   "execution_count": 5,
   "metadata": {},
   "outputs": [
    {
     "name": "stdout",
     "output_type": "stream",
     "text": [
      "(1490, 3)\n"
     ]
    }
   ],
   "source": [
    "h1_circles_img = plot_bboxes_over_image(image, [h1_circles], [(0, 255, 0)], ['circ'])\n",
    "print(h1_circles.shape)"
   ]
  },
  {
   "cell_type": "code",
   "execution_count": 6,
   "metadata": {},
   "outputs": [
    {
     "name": "stdout",
     "output_type": "stream",
     "text": [
      "{'image_id': 20586908, 'TP': 27, 'FP': 1457, 'FN': 10}\n"
     ]
    }
   ],
   "source": [
    "TP, FP, FN = circle_comparison(h1_circles, image_mask)\n",
    "print({'image_id':image_id, 'TP': TP, 'FP': FP, 'FN': FN})"
   ]
  },
  {
   "cell_type": "code",
   "execution_count": 7,
   "metadata": {},
   "outputs": [],
   "source": [
    "h1_circles[:,2] = h1_circles[:,2]/np.sqrt(2)"
   ]
  },
  {
   "cell_type": "code",
   "execution_count": 10,
   "metadata": {},
   "outputs": [],
   "source": [
    "tp, fp, fn, gt_predicted, close_fp = get_tp_fp_fn(lesion_bboxes=true_bboxes, radiuses=lesion_rads, detections=h1_circles,\n",
    "             max_dist=20, min_iou=0.0, exact=False, lesion_mask=image_mask)\n"
   ]
  },
  {
   "cell_type": "code",
   "execution_count": 11,
   "metadata": {},
   "outputs": [
    {
     "data": {
      "text/plain": [
       "33"
      ]
     },
     "execution_count": 11,
     "metadata": {},
     "output_type": "execute_result"
    }
   ],
   "source": [
    "len(fn)"
   ]
  },
  {
   "cell_type": "code",
   "execution_count": null,
   "metadata": {},
   "outputs": [],
   "source": []
  }
 ],
 "metadata": {
  "interpreter": {
   "hash": "d785cc99391f1decae0a31664a2bc430e1bb802c6f8076d9d1b38f05ab7f6160"
  },
  "kernelspec": {
   "display_name": "Python 3.9.7 ('calc_det')",
   "language": "python",
   "name": "python3"
  },
  "language_info": {
   "codemirror_mode": {
    "name": "ipython",
    "version": 3
   },
   "file_extension": ".py",
   "mimetype": "text/x-python",
   "name": "python",
   "nbconvert_exporter": "python",
   "pygments_lexer": "ipython3",
   "version": "3.9.7"
  },
  "orig_nbformat": 4
 },
 "nbformat": 4,
 "nbformat_minor": 2
}
