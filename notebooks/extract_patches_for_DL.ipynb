{
 "cells": [
  {
   "cell_type": "code",
   "execution_count": 1,
   "metadata": {},
   "outputs": [
    {
     "name": "stderr",
     "output_type": "stream",
     "text": [
      "INFO:numexpr.utils:NumExpr defaulting to 8 threads.\n"
     ]
    }
   ],
   "source": [
    "import sys; sys.path.insert(0, '..')\n",
    "\n",
    "import numpy as np\n",
    "import pickle\n",
    "import matplotlib.pyplot as plt\n",
    "\n",
    "from sklearn.ensemble import RandomForestClassifier\n",
    "from sklearn.metrics import roc_auc_score\n",
    "\n",
    "from database.dataset import *\n",
    "from mc_candidate_proposal.hough_mc import HoughCalcificationDetection\n",
    "from feature_extraction.feature_extraction import CandidatesFeatureExtraction\n",
    "import feature_extraction.haar_features.haar_modules as hm\n",
    "from general_utils.plots import plot_froc, plot_bootstrap_froc\n",
    "from metrics.metrics import froc_curve, froc_curve_bootstrap\n",
    "from mc_candidate_proposal.candidate_utils import balance_candidates\n",
    "from metrics.metrics_utils import (get_froc_df_of_img, get_froc_df_of_many_imgs_features,\n",
    "                                   get_tp_fp_fn_center_patch_criteria)\n",
    "\n",
    "pd.options.mode.chained_assignment = None\n",
    "cmap = plt.get_cmap(\"tab10\")\n",
    "import os\n",
    "import sys\n",
    "import shutil\n",
    "from tqdm import tqdm"
   ]
  },
  {
   "cell_type": "markdown",
   "metadata": {},
   "source": [
    "### DL patches extraction"
   ]
  },
  {
   "cell_type": "code",
   "execution_count": 2,
   "metadata": {},
   "outputs": [
    {
     "name": "stderr",
     "output_type": "stream",
     "text": [
      "INFO:root:Start extracting patches\n",
      "100%|██████████| 205/205 [02:08<00:00,  1.60it/s]\n"
     ]
    }
   ],
   "source": [
    "db = INBreast_Dataset(\n",
    "    return_lesions_mask=True,\n",
    "    level='rois',\n",
    "    extract_patches_method='all',\n",
    "    patch_size=224,\n",
    "    stride=100,\n",
    "    max_lesion_diam_mm=None,\n",
    "    partitions=['train', 'validation'],\n",
    "    min_breast_fraction_roi=0.5,\n",
    "    normalize=None,\n",
    "    n_jobs=-1,\n",
    "    extract_patches=False,\n",
    "    use_muscle_mask=False\n",
    ")"
   ]
  },
  {
   "cell_type": "code",
   "execution_count": 3,
   "metadata": {},
   "outputs": [
    {
     "data": {
      "text/plain": [
       "Index(['calcification', 'asymmetry', 'cluster', 'distortion', 'mass', 'normal',\n",
       "       'breast_fraction', 'patch_bbox', 'filename', 'mask_filename', 'case_id',\n",
       "       'img_id', 'side', 'view', 'acr', 'birads', 'label'],\n",
       "      dtype='object')"
      ]
     },
     "execution_count": 3,
     "metadata": {},
     "output_type": "execute_result"
    }
   ],
   "source": [
    "db.df.columns"
   ]
  },
  {
   "cell_type": "code",
   "execution_count": 4,
   "metadata": {},
   "outputs": [
    {
     "data": {
      "text/html": [
       "<div>\n",
       "<style scoped>\n",
       "    .dataframe tbody tr th:only-of-type {\n",
       "        vertical-align: middle;\n",
       "    }\n",
       "\n",
       "    .dataframe tbody tr th {\n",
       "        vertical-align: top;\n",
       "    }\n",
       "\n",
       "    .dataframe thead th {\n",
       "        text-align: right;\n",
       "    }\n",
       "</style>\n",
       "<table border=\"1\" class=\"dataframe\">\n",
       "  <thead>\n",
       "    <tr style=\"text-align: right;\">\n",
       "      <th></th>\n",
       "      <th>calcification</th>\n",
       "      <th>asymmetry</th>\n",
       "      <th>cluster</th>\n",
       "      <th>distortion</th>\n",
       "      <th>mass</th>\n",
       "      <th>normal</th>\n",
       "      <th>breast_fraction</th>\n",
       "      <th>patch_bbox</th>\n",
       "      <th>filename</th>\n",
       "      <th>mask_filename</th>\n",
       "      <th>case_id</th>\n",
       "      <th>img_id</th>\n",
       "      <th>side</th>\n",
       "      <th>view</th>\n",
       "      <th>acr</th>\n",
       "      <th>birads</th>\n",
       "      <th>label</th>\n",
       "    </tr>\n",
       "  </thead>\n",
       "  <tbody>\n",
       "    <tr>\n",
       "      <th>0</th>\n",
       "      <td>0.000000</td>\n",
       "      <td>0</td>\n",
       "      <td>0.0</td>\n",
       "      <td>0</td>\n",
       "      <td>0</td>\n",
       "      <td>0</td>\n",
       "      <td>0.934291</td>\n",
       "      <td>[[0, 0], [224, 224]]</td>\n",
       "      <td>20586908/20586908_roi_0.png</td>\n",
       "      <td>empty_mask</td>\n",
       "      <td>6c613a14b80a8591</td>\n",
       "      <td>20586908</td>\n",
       "      <td>R</td>\n",
       "      <td>CC</td>\n",
       "      <td>2</td>\n",
       "      <td>2</td>\n",
       "      <td>normal</td>\n",
       "    </tr>\n",
       "    <tr>\n",
       "      <th>333</th>\n",
       "      <td>0.003468</td>\n",
       "      <td>0</td>\n",
       "      <td>0.0</td>\n",
       "      <td>0</td>\n",
       "      <td>0</td>\n",
       "      <td>0</td>\n",
       "      <td>1.000000</td>\n",
       "      <td>[[900, 2100], [1124, 2324]]</td>\n",
       "      <td>20586908/20586908_roi_333.png</td>\n",
       "      <td>20586908/20586908_roi_333_mask.png</td>\n",
       "      <td>6c613a14b80a8591</td>\n",
       "      <td>20586908</td>\n",
       "      <td>R</td>\n",
       "      <td>CC</td>\n",
       "      <td>2</td>\n",
       "      <td>2</td>\n",
       "      <td>abnormal</td>\n",
       "    </tr>\n",
       "    <tr>\n",
       "      <th>332</th>\n",
       "      <td>0.000000</td>\n",
       "      <td>0</td>\n",
       "      <td>0.0</td>\n",
       "      <td>0</td>\n",
       "      <td>0</td>\n",
       "      <td>0</td>\n",
       "      <td>1.000000</td>\n",
       "      <td>[[800, 2100], [1024, 2324]]</td>\n",
       "      <td>20586908/20586908_roi_332.png</td>\n",
       "      <td>empty_mask</td>\n",
       "      <td>6c613a14b80a8591</td>\n",
       "      <td>20586908</td>\n",
       "      <td>R</td>\n",
       "      <td>CC</td>\n",
       "      <td>2</td>\n",
       "      <td>2</td>\n",
       "      <td>normal</td>\n",
       "    </tr>\n",
       "    <tr>\n",
       "      <th>331</th>\n",
       "      <td>0.000060</td>\n",
       "      <td>0</td>\n",
       "      <td>0.0</td>\n",
       "      <td>0</td>\n",
       "      <td>0</td>\n",
       "      <td>0</td>\n",
       "      <td>1.000000</td>\n",
       "      <td>[[700, 2100], [924, 2324]]</td>\n",
       "      <td>20586908/20586908_roi_331.png</td>\n",
       "      <td>20586908/20586908_roi_331_mask.png</td>\n",
       "      <td>6c613a14b80a8591</td>\n",
       "      <td>20586908</td>\n",
       "      <td>R</td>\n",
       "      <td>CC</td>\n",
       "      <td>2</td>\n",
       "      <td>2</td>\n",
       "      <td>abnormal</td>\n",
       "    </tr>\n",
       "    <tr>\n",
       "      <th>330</th>\n",
       "      <td>0.000060</td>\n",
       "      <td>0</td>\n",
       "      <td>0.0</td>\n",
       "      <td>0</td>\n",
       "      <td>0</td>\n",
       "      <td>0</td>\n",
       "      <td>1.000000</td>\n",
       "      <td>[[600, 2100], [824, 2324]]</td>\n",
       "      <td>20586908/20586908_roi_330.png</td>\n",
       "      <td>20586908/20586908_roi_330_mask.png</td>\n",
       "      <td>6c613a14b80a8591</td>\n",
       "      <td>20586908</td>\n",
       "      <td>R</td>\n",
       "      <td>CC</td>\n",
       "      <td>2</td>\n",
       "      <td>2</td>\n",
       "      <td>abnormal</td>\n",
       "    </tr>\n",
       "    <tr>\n",
       "      <th>...</th>\n",
       "      <td>...</td>\n",
       "      <td>...</td>\n",
       "      <td>...</td>\n",
       "      <td>...</td>\n",
       "      <td>...</td>\n",
       "      <td>...</td>\n",
       "      <td>...</td>\n",
       "      <td>...</td>\n",
       "      <td>...</td>\n",
       "      <td>...</td>\n",
       "      <td>...</td>\n",
       "      <td>...</td>\n",
       "      <td>...</td>\n",
       "      <td>...</td>\n",
       "      <td>...</td>\n",
       "      <td>...</td>\n",
       "      <td>...</td>\n",
       "    </tr>\n",
       "    <tr>\n",
       "      <th>66949</th>\n",
       "      <td>0.000020</td>\n",
       "      <td>0</td>\n",
       "      <td>0.0</td>\n",
       "      <td>0</td>\n",
       "      <td>0</td>\n",
       "      <td>0</td>\n",
       "      <td>1.000000</td>\n",
       "      <td>[[700, 900], [924, 1124]]</td>\n",
       "      <td>30011674/30011674_roi_88.png</td>\n",
       "      <td>30011674/30011674_roi_88_mask.png</td>\n",
       "      <td>6968748e66837bc7</td>\n",
       "      <td>30011674</td>\n",
       "      <td>L</td>\n",
       "      <td>CC</td>\n",
       "      <td>1</td>\n",
       "      <td>5</td>\n",
       "      <td>abnormal</td>\n",
       "    </tr>\n",
       "    <tr>\n",
       "      <th>66948</th>\n",
       "      <td>0.000020</td>\n",
       "      <td>0</td>\n",
       "      <td>0.0</td>\n",
       "      <td>0</td>\n",
       "      <td>0</td>\n",
       "      <td>0</td>\n",
       "      <td>1.000000</td>\n",
       "      <td>[[600, 900], [824, 1124]]</td>\n",
       "      <td>30011674/30011674_roi_87.png</td>\n",
       "      <td>30011674/30011674_roi_87_mask.png</td>\n",
       "      <td>6968748e66837bc7</td>\n",
       "      <td>30011674</td>\n",
       "      <td>L</td>\n",
       "      <td>CC</td>\n",
       "      <td>1</td>\n",
       "      <td>5</td>\n",
       "      <td>abnormal</td>\n",
       "    </tr>\n",
       "    <tr>\n",
       "      <th>66947</th>\n",
       "      <td>0.000020</td>\n",
       "      <td>0</td>\n",
       "      <td>0.0</td>\n",
       "      <td>0</td>\n",
       "      <td>0</td>\n",
       "      <td>0</td>\n",
       "      <td>1.000000</td>\n",
       "      <td>[[500, 900], [724, 1124]]</td>\n",
       "      <td>30011674/30011674_roi_86.png</td>\n",
       "      <td>30011674/30011674_roi_86_mask.png</td>\n",
       "      <td>6968748e66837bc7</td>\n",
       "      <td>30011674</td>\n",
       "      <td>L</td>\n",
       "      <td>CC</td>\n",
       "      <td>1</td>\n",
       "      <td>5</td>\n",
       "      <td>abnormal</td>\n",
       "    </tr>\n",
       "    <tr>\n",
       "      <th>66953</th>\n",
       "      <td>0.000000</td>\n",
       "      <td>0</td>\n",
       "      <td>0.0</td>\n",
       "      <td>0</td>\n",
       "      <td>0</td>\n",
       "      <td>0</td>\n",
       "      <td>1.000000</td>\n",
       "      <td>[[1100, 900], [1324, 1124]]</td>\n",
       "      <td>30011674/30011674_roi_92.png</td>\n",
       "      <td>empty_mask</td>\n",
       "      <td>6968748e66837bc7</td>\n",
       "      <td>30011674</td>\n",
       "      <td>L</td>\n",
       "      <td>CC</td>\n",
       "      <td>1</td>\n",
       "      <td>5</td>\n",
       "      <td>normal</td>\n",
       "    </tr>\n",
       "    <tr>\n",
       "      <th>67136</th>\n",
       "      <td>0.000000</td>\n",
       "      <td>0</td>\n",
       "      <td>0.0</td>\n",
       "      <td>0</td>\n",
       "      <td>0</td>\n",
       "      <td>0</td>\n",
       "      <td>0.551658</td>\n",
       "      <td>[[300, 2400], [524, 2624]]</td>\n",
       "      <td>30011674/30011674_roi_275.png</td>\n",
       "      <td>empty_mask</td>\n",
       "      <td>6968748e66837bc7</td>\n",
       "      <td>30011674</td>\n",
       "      <td>L</td>\n",
       "      <td>CC</td>\n",
       "      <td>1</td>\n",
       "      <td>5</td>\n",
       "      <td>normal</td>\n",
       "    </tr>\n",
       "  </tbody>\n",
       "</table>\n",
       "<p>67137 rows × 17 columns</p>\n",
       "</div>"
      ],
      "text/plain": [
       "       calcification  asymmetry  cluster  distortion  mass  normal  \\\n",
       "0           0.000000          0      0.0           0     0       0   \n",
       "333         0.003468          0      0.0           0     0       0   \n",
       "332         0.000000          0      0.0           0     0       0   \n",
       "331         0.000060          0      0.0           0     0       0   \n",
       "330         0.000060          0      0.0           0     0       0   \n",
       "...              ...        ...      ...         ...   ...     ...   \n",
       "66949       0.000020          0      0.0           0     0       0   \n",
       "66948       0.000020          0      0.0           0     0       0   \n",
       "66947       0.000020          0      0.0           0     0       0   \n",
       "66953       0.000000          0      0.0           0     0       0   \n",
       "67136       0.000000          0      0.0           0     0       0   \n",
       "\n",
       "       breast_fraction                   patch_bbox  \\\n",
       "0             0.934291         [[0, 0], [224, 224]]   \n",
       "333           1.000000  [[900, 2100], [1124, 2324]]   \n",
       "332           1.000000  [[800, 2100], [1024, 2324]]   \n",
       "331           1.000000   [[700, 2100], [924, 2324]]   \n",
       "330           1.000000   [[600, 2100], [824, 2324]]   \n",
       "...                ...                          ...   \n",
       "66949         1.000000    [[700, 900], [924, 1124]]   \n",
       "66948         1.000000    [[600, 900], [824, 1124]]   \n",
       "66947         1.000000    [[500, 900], [724, 1124]]   \n",
       "66953         1.000000  [[1100, 900], [1324, 1124]]   \n",
       "67136         0.551658   [[300, 2400], [524, 2624]]   \n",
       "\n",
       "                            filename                       mask_filename  \\\n",
       "0        20586908/20586908_roi_0.png                          empty_mask   \n",
       "333    20586908/20586908_roi_333.png  20586908/20586908_roi_333_mask.png   \n",
       "332    20586908/20586908_roi_332.png                          empty_mask   \n",
       "331    20586908/20586908_roi_331.png  20586908/20586908_roi_331_mask.png   \n",
       "330    20586908/20586908_roi_330.png  20586908/20586908_roi_330_mask.png   \n",
       "...                              ...                                 ...   \n",
       "66949   30011674/30011674_roi_88.png   30011674/30011674_roi_88_mask.png   \n",
       "66948   30011674/30011674_roi_87.png   30011674/30011674_roi_87_mask.png   \n",
       "66947   30011674/30011674_roi_86.png   30011674/30011674_roi_86_mask.png   \n",
       "66953   30011674/30011674_roi_92.png                          empty_mask   \n",
       "67136  30011674/30011674_roi_275.png                          empty_mask   \n",
       "\n",
       "                case_id    img_id side view acr birads     label  \n",
       "0      6c613a14b80a8591  20586908    R   CC   2      2    normal  \n",
       "333    6c613a14b80a8591  20586908    R   CC   2      2  abnormal  \n",
       "332    6c613a14b80a8591  20586908    R   CC   2      2    normal  \n",
       "331    6c613a14b80a8591  20586908    R   CC   2      2  abnormal  \n",
       "330    6c613a14b80a8591  20586908    R   CC   2      2  abnormal  \n",
       "...                 ...       ...  ...  ...  ..    ...       ...  \n",
       "66949  6968748e66837bc7  30011674    L   CC   1      5  abnormal  \n",
       "66948  6968748e66837bc7  30011674    L   CC   1      5  abnormal  \n",
       "66947  6968748e66837bc7  30011674    L   CC   1      5  abnormal  \n",
       "66953  6968748e66837bc7  30011674    L   CC   1      5    normal  \n",
       "67136  6968748e66837bc7  30011674    L   CC   1      5    normal  \n",
       "\n",
       "[67137 rows x 17 columns]"
      ]
     },
     "execution_count": 4,
     "metadata": {},
     "output_type": "execute_result"
    }
   ],
   "source": [
    "db.df"
   ]
  },
  {
   "cell_type": "code",
   "execution_count": 8,
   "metadata": {},
   "outputs": [
    {
     "name": "stdout",
     "output_type": "stream",
     "text": [
      "(47477, 17) (19660, 17)\n"
     ]
    }
   ],
   "source": [
    "TRAIN_SPLIT_SIZE = 0.7\n",
    "\n",
    "unique_cases = db.df.case_id.unique()\n",
    "train_cases = np.random.choice(unique_cases, int(TRAIN_SPLIT_SIZE*len(unique_cases)), replace=False)\n",
    "train_df = db.df.loc[db.df.case_id.isin(train_cases)]\n",
    "test_df = db.df.loc[~db.df.case_id.isin(train_cases)]\n",
    "print(train_df.shape,test_df.shape)"
   ]
  },
  {
   "cell_type": "code",
   "execution_count": 11,
   "metadata": {},
   "outputs": [],
   "source": [
    "NEGATIVE_RATE = 5\n",
    "\n",
    "positive_train_df = train_df.loc[train_df.mask_filename != 'empty_mask']\n",
    "negative_train_df = train_df.loc[train_df.mask_filename == 'empty_mask']\n",
    "\n",
    "balanced_train_df = pd.concat([positive_train_df, negative_train_df.sample(NEGATIVE_RATE*len(positive_train_df))])\n",
    "\n"
   ]
  },
  {
   "cell_type": "code",
   "execution_count": 18,
   "metadata": {},
   "outputs": [
    {
     "name": "stderr",
     "output_type": "stream",
     "text": [
      "21864it [00:12, 1766.83it/s]\n"
     ]
    }
   ],
   "source": [
    "for i,row in tqdm(balanced_train_df.iterrows()):\n",
    "    filename = row['filename']\n",
    "    src_path = '/home/acortinau/projects/data_rois/patches/' + filename\n",
    "    if row['mask_filename'] != 'empty_mask':\n",
    "        dst_path = '/home/acortinau/projects/p224_database/train_set/positive/' + filename.split('/')[1]\n",
    "        shutil.copyfile(src_path, dst_path)\n",
    "    else:\n",
    "        dst_path = '/home/acortinau/projects/p224_database/train_set/negative/' + filename.split('/')[1]\n",
    "        shutil.copyfile(src_path, dst_path)\n"
   ]
  },
  {
   "cell_type": "code",
   "execution_count": 19,
   "metadata": {},
   "outputs": [
    {
     "name": "stderr",
     "output_type": "stream",
     "text": [
      "100%|██████████| 19660/19660 [00:22<00:00, 884.75it/s] \n"
     ]
    }
   ],
   "source": [
    "for i,row in tqdm(test_df.iterrows(), total=len(test_df)):\n",
    "    filename = row['filename']\n",
    "    src_path = '/home/acortinau/projects/data_rois/patches/' + filename\n",
    "    if row['mask_filename'] != 'empty_mask':\n",
    "        dst_path = '/home/acortinau/projects/p224_database/val_set/positive/' + filename.split('/')[1]\n",
    "        shutil.copyfile(src_path, dst_path)\n",
    "    else:\n",
    "        dst_path = '/home/acortinau/projects/p224_database/val_set/negative/' + filename.split('/')[1]\n",
    "        shutil.copyfile(src_path, dst_path)"
   ]
  },
  {
   "cell_type": "code",
   "execution_count": 21,
   "metadata": {},
   "outputs": [],
   "source": [
    "balanced_train_df.to_csv('/home/acortinau/projects/p224_database/train_set/balanced_train_df.csv')\n",
    "train_df.to_csv('/home/acortinau/projects/p224_database/val_set/train_df.csv')"
   ]
  },
  {
   "cell_type": "code",
   "execution_count": 22,
   "metadata": {},
   "outputs": [],
   "source": [
    "db.df.to_csv('/home/acortinau/projects/p224_database/all_df.csv')"
   ]
  },
  {
   "cell_type": "markdown",
   "metadata": {},
   "source": [
    "### GM detection test"
   ]
  },
  {
   "cell_type": "code",
   "execution_count": 2,
   "metadata": {},
   "outputs": [],
   "source": [
    "from mc_candidate_proposal.morphology_mc import MorphologyCalcificationDetection"
   ]
  },
  {
   "cell_type": "code",
   "execution_count": 3,
   "metadata": {},
   "outputs": [],
   "source": [
    "db = INBreast_Dataset(\n",
    "    return_lesions_mask=True,\n",
    "    level='image',\n",
    "    partitions=['train', 'validation'],\n",
    "    max_lesion_diam_mm=None,\n",
    "    cropped_imgs=True,\n",
    "    use_muscle_mask=True,\n",
    "    lesion_types=['calcification', 'cluster'],\n",
    "    keep_just_images_of_lesion_type = False\n",
    ")\n",
    "\n",
    "rbd_path = Path.cwd().parent/'data/gsm_imgs'\n",
    "\n",
    "hd = MorphologyCalcificationDetection(rbd_img_path=rbd_path,threshold=0.96,min_distance=6,area=14*14,store_intermediate=True,filter_muscle_region=True)"
   ]
  },
  {
   "cell_type": "code",
   "execution_count": 6,
   "metadata": {},
   "outputs": [],
   "source": [
    "idx = 1\n",
    "db_sample = db[idx]\n",
    "image = db_sample['img']\n",
    "image_id = db.df.iloc[idx].img_id\n",
    "image_mask = db_sample['lesion_mask']\n",
    "muscle_mask = db_sample['muscle_mask']\n",
    "\n",
    "candidates = hd.detect(image, image_id, muscle_mask=muscle_mask)\n"
   ]
  },
  {
   "cell_type": "code",
   "execution_count": 5,
   "metadata": {},
   "outputs": [
    {
     "name": "stdout",
     "output_type": "stream",
     "text": [
      "(array([ 0,  1,  2,  3,  4,  5,  6,  7,  8,  9, 10]), array([1209,  352,  127,   63,   38,   22,   10,   22,    6,    6,    6]))\n",
      "1861\n"
     ]
    }
   ],
   "source": [
    "# patient 0, filter by size\n",
    "print(np.unique(candidates[:,2],return_counts=True))\n",
    "print(len(candidates))"
   ]
  },
  {
   "cell_type": "code",
   "execution_count": 7,
   "metadata": {},
   "outputs": [
    {
     "data": {
      "text/plain": [
       "(array([ 0,  1,  2,  3,  4,  5,  6,  7,  8,  9, 10, 11, 12, 14, 15, 16, 17,\n",
       "        40]),\n",
       " array([1209,  352,  127,   63,   38,   22,   10,   22,    6,    6,    6,\n",
       "           3,    2,    1,    2,    1,    1,    1]))"
      ]
     },
     "execution_count": 7,
     "metadata": {},
     "output_type": "execute_result"
    }
   ],
   "source": [
    "#patient 0, no filter\n",
    "np.unique(candidates[:,2],return_counts=True)"
   ]
  },
  {
   "cell_type": "code",
   "execution_count": 10,
   "metadata": {},
   "outputs": [
    {
     "name": "stdout",
     "output_type": "stream",
     "text": [
      "(array([ 0,  1,  2,  3,  4,  5,  6,  7,  8,  9, 10, 11, 12, 13, 14, 16, 21,\n",
      "       22, 23]), array([640, 237,  94,  46,  25,  22,   9,  13,   5,   7,   3,   7,   1,\n",
      "         1,   2,   1,   2,   1,   1]))\n",
      "1117\n"
     ]
    }
   ],
   "source": [
    "# patient 1, no filter\n",
    "print(np.unique(candidates[:,2],return_counts=True))\n",
    "print(len(candidates))\n"
   ]
  },
  {
   "cell_type": "code",
   "execution_count": 7,
   "metadata": {},
   "outputs": [
    {
     "name": "stdout",
     "output_type": "stream",
     "text": [
      "(array([ 0,  1,  2,  3,  4,  5,  6,  7,  8,  9, 10]), array([640, 237,  94,  46,  25,  22,   9,  13,   5,   7,   3]))\n",
      "1101\n"
     ]
    }
   ],
   "source": [
    "# patient 1, filter by size\n",
    "print(np.unique(candidates[:,2],return_counts=True))\n",
    "print(len(candidates))"
   ]
  },
  {
   "cell_type": "code",
   "execution_count": null,
   "metadata": {},
   "outputs": [],
   "source": []
  }
 ],
 "metadata": {
  "interpreter": {
   "hash": "04c0a660fee9d54431c8299271b508ef77d328d64182edfbd0a494c936cd0da1"
  },
  "kernelspec": {
   "display_name": "Python 3.9.7 ('base')",
   "language": "python",
   "name": "python3"
  },
  "language_info": {
   "codemirror_mode": {
    "name": "ipython",
    "version": 3
   },
   "file_extension": ".py",
   "mimetype": "text/x-python",
   "name": "python",
   "nbconvert_exporter": "python",
   "pygments_lexer": "ipython3",
   "version": "3.9.7"
  },
  "orig_nbformat": 4
 },
 "nbformat": 4,
 "nbformat_minor": 2
}
