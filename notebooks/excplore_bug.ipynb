{
 "cells": [
  {
   "cell_type": "markdown",
   "metadata": {},
   "source": [
    "# Problem Description"
   ]
  },
  {
   "cell_type": "markdown",
   "metadata": {},
   "source": [
    "## `parsing_metadata.py` doesn't correctly save ALL THE ROIs from the xmls to mask pngs.\n",
    "\n",
    "Below  is an example, for which, even though `rois_df` has a `True` value in the `stored` column for all 'calcification' ROIs, only one ROI of mC is stored in the final mask.\n",
    "\n",
    "To run the notebook put it in the `notebooks/` folder"
   ]
  },
  {
   "cell_type": "code",
   "execution_count": 1,
   "metadata": {},
   "outputs": [],
   "source": [
    "from tqdm import tqdm"
   ]
  },
  {
   "cell_type": "code",
   "execution_count": 2,
   "metadata": {},
   "outputs": [],
   "source": [
    "import sys; sys.path.insert(0, '..')\n",
    "\n",
    "import pandas as pd\n",
    "import matplotlib.pyplot as plt\n",
    "import numpy as np\n",
    "import SimpleITK as sitk\n",
    "from database.dataset import INBreast_Dataset\n",
    "\n",
    "from pathlib import Path\n",
    "from tqdm import tqdm\n",
    "import cv2\n",
    "import os\n",
    "import ast\n",
    "\n",
    "from skimage import restoration\n",
    "# from dehazing import dehaze\n"
   ]
  },
  {
   "cell_type": "markdown",
   "metadata": {},
   "source": [
    "We are using the latest dataset class from `dev` and re-running the latest version of parsing script from `dev`"
   ]
  },
  {
   "cell_type": "code",
   "execution_count": 3,
   "metadata": {},
   "outputs": [],
   "source": [
    "db = INBreast_Dataset(\n",
    "        return_lesions_mask=True,\n",
    "        level='image',\n",
    "        max_lesion_diam_mm=100,\n",
    "        extract_patches=True,\n",
    "        extract_patches_method='all',  # 'centered'\n",
    "        patch_size=256,\n",
    "        lesion_types = ['mass'],\n",
    "        stride=256,\n",
    "        min_breast_fraction_roi=0.5,\n",
    "        normalize=None,\n",
    "        cropped_imgs=True,\n",
    "        n_jobs=-1,\n",
    ")"
   ]
  },
  {
   "cell_type": "code",
   "execution_count": 4,
   "metadata": {},
   "outputs": [
    {
     "data": {
      "text/plain": [
       "25    mass\n",
       "26    mass\n",
       "Name: lesion_type, dtype: object"
      ]
     },
     "execution_count": 4,
     "metadata": {},
     "output_type": "execute_result"
    }
   ],
   "source": [
    "img_id =  22579730 # one image for which the problem exists\n",
    "\n",
    "problem_index = db.df[db.df.img_id == img_id].index[0] # should be 38\n",
    "db.rois_df.loc[db.rois_df.img_id==22579730, 'lesion_type']"
   ]
  },
  {
   "cell_type": "code",
   "execution_count": 64,
   "metadata": {},
   "outputs": [
    {
     "data": {
      "text/plain": [
       "<matplotlib.image.AxesImage at 0x7fe7b9a74fd0>"
      ]
     },
     "execution_count": 64,
     "metadata": {},
     "output_type": "execute_result"
    },
    {
     "data": {
      "image/png": "[encoded data removed]",
      "text/plain": [
       "<Figure size 432x288 with 1 Axes>"
      ]
     },
     "metadata": {
      "needs_background": "light"
     },
     "output_type": "display_data"
    }
   ],
   "source": [
    "plt.imshow(mask)"
   ]
  },
  {
   "cell_type": "code",
   "execution_count": 67,
   "metadata": {},
   "outputs": [
    {
     "data": {
      "text/plain": [
       "<matplotlib.image.AxesImage at 0x7fe7b9952760>"
      ]
     },
     "execution_count": 67,
     "metadata": {},
     "output_type": "execute_result"
    },
    {
     "data": {
      "image/png": "[encoded data removed]",
      "text/plain": [
       "<Figure size 432x288 with 1 Axes>"
      ]
     },
     "metadata": {
      "needs_background": "light"
     },
     "output_type": "display_data"
    }
   ],
   "source": [
    "mask = db[problem_index]['lesion_mask'].astype('float32')\n",
    "mask = np.zeros(mask.shape).astype('float32')\n",
    "holes = mask.copy()\n",
    "cv2.floodFill(holes, None, (0, 0), newVal=1)\n",
    "holes = np.where(holes == 0, 255, 0)\n",
    "mask = (mask + holes).astype('uint8')\n",
    "plt.imshow(mask)"
   ]
  },
  {
   "cell_type": "code",
   "execution_count": 7,
   "metadata": {},
   "outputs": [
    {
     "ename": "error",
     "evalue": "OpenCV(4.5.4) :-1: error: (-5:Bad argument) in function 'floodFill'\n> Overload resolution failed:\n>  - floodFill() missing required argument 'mask' (pos 2)\n>  - floodFill() missing required argument 'mask' (pos 2)\n",
     "output_type": "error",
     "traceback": [
      "\u001b[0;31m---------------------------------------------------------------------------\u001b[0m",
      "\u001b[0;31merror\u001b[0m                                     Traceback (most recent call last)",
      "\u001b[0;32m/tmp/ipykernel_307942/2215500249.py\u001b[0m in \u001b[0;36m<module>\u001b[0;34m\u001b[0m\n\u001b[1;32m      5\u001b[0m \u001b[0;34m\u001b[0m\u001b[0m\n\u001b[1;32m      6\u001b[0m \u001b[0;31m# problem_index\u001b[0m\u001b[0;34m\u001b[0m\u001b[0;34m\u001b[0m\u001b[0m\n\u001b[0;32m----> 7\u001b[0;31m \u001b[0mprint\u001b[0m\u001b[0;34m(\u001b[0m\u001b[0mlen\u001b[0m\u001b[0;34m(\u001b[0m\u001b[0mdb\u001b[0m\u001b[0;34m[\u001b[0m\u001b[0mproblem_index\u001b[0m\u001b[0;34m]\u001b[0m\u001b[0;34m[\u001b[0m\u001b[0;34m'lesion_bboxes'\u001b[0m\u001b[0;34m]\u001b[0m\u001b[0;34m)\u001b[0m\u001b[0;34m)\u001b[0m\u001b[0;34m\u001b[0m\u001b[0;34m\u001b[0m\u001b[0m\n\u001b[0m",
      "\u001b[0;32m~/Desktop/ml-dl/calc-det/notebooks/../database/dataset.py\u001b[0m in \u001b[0;36m__getitem__\u001b[0;34m(self, idx)\u001b[0m\n\u001b[1;32m    641\u001b[0m                 \u001b[0;32melse\u001b[0m\u001b[0;34m:\u001b[0m\u001b[0;34m\u001b[0m\u001b[0;34m\u001b[0m\u001b[0m\n\u001b[1;32m    642\u001b[0m                     \u001b[0mmask\u001b[0m \u001b[0;34m=\u001b[0m \u001b[0mnp\u001b[0m\u001b[0;34m.\u001b[0m\u001b[0mzeros\u001b[0m\u001b[0;34m(\u001b[0m\u001b[0mimg\u001b[0m\u001b[0;34m.\u001b[0m\u001b[0mshape\u001b[0m\u001b[0;34m)\u001b[0m\u001b[0;34m\u001b[0m\u001b[0;34m\u001b[0m\u001b[0m\n\u001b[0;32m--> 643\u001b[0;31m             \u001b[0msample\u001b[0m\u001b[0;34m[\u001b[0m\u001b[0;34m\"lesion_mask\"\u001b[0m\u001b[0;34m]\u001b[0m \u001b[0;34m=\u001b[0m \u001b[0mcv2\u001b[0m\u001b[0;34m.\u001b[0m\u001b[0mfloodFill\u001b[0m\u001b[0;34m(\u001b[0m\u001b[0mimage\u001b[0m\u001b[0;34m=\u001b[0m\u001b[0mmask\u001b[0m\u001b[0;34m,\u001b[0m \u001b[0mseedPoint\u001b[0m\u001b[0;34m=\u001b[0m\u001b[0;34m(\u001b[0m\u001b[0;36m0\u001b[0m\u001b[0;34m,\u001b[0m \u001b[0;36m0\u001b[0m\u001b[0;34m)\u001b[0m\u001b[0;34m,\u001b[0m \u001b[0mnewVal\u001b[0m\u001b[0;34m=\u001b[0m\u001b[0;36m255\u001b[0m\u001b[0;34m)\u001b[0m\u001b[0;34m\u001b[0m\u001b[0;34m\u001b[0m\u001b[0m\n\u001b[0m\u001b[1;32m    644\u001b[0m             \u001b[0;31m# sample[\"lesion_mask\"] = np.where(mask != 0, 255, 0)\u001b[0m\u001b[0;34m\u001b[0m\u001b[0;34m\u001b[0m\u001b[0m\n\u001b[1;32m    645\u001b[0m \u001b[0;34m\u001b[0m\u001b[0m\n",
      "\u001b[0;31merror\u001b[0m: OpenCV(4.5.4) :-1: error: (-5:Bad argument) in function 'floodFill'\n> Overload resolution failed:\n>  - floodFill() missing required argument 'mask' (pos 2)\n>  - floodFill() missing required argument 'mask' (pos 2)\n"
     ]
    }
   ],
   "source": [
    "img_id =  22579730 # one image for which the problem exists\n",
    "\n",
    "problem_index = db.df[db.df.img_id == img_id].index[0] # should be 38\n",
    "# assert problem_index == 38\n",
    "\n",
    "# problem_index\n",
    "print(len(db[problem_index]['lesion_bboxes']))"
   ]
  },
  {
   "cell_type": "code",
   "execution_count": 61,
   "metadata": {},
   "outputs": [
    {
     "data": {
      "text/plain": [
       "34"
      ]
     },
     "execution_count": 61,
     "metadata": {},
     "output_type": "execute_result"
    }
   ],
   "source": [
    "problem_index"
   ]
  },
  {
   "cell_type": "code",
   "execution_count": 62,
   "metadata": {},
   "outputs": [
    {
     "data": {
      "image/png": "[encoded data removed]",
      "text/plain": [
       "<Figure size 432x288 with 1 Axes>"
      ]
     },
     "metadata": {
      "needs_background": "light"
     },
     "output_type": "display_data"
    }
   ],
   "source": [
    "roi_mask = np.zeros(db[problem_index]['img'].shape)\n",
    "for i in db[problem_index]['lesion_bboxes']:\n",
    "    roi_mask = cv2.rectangle(roi_mask, (i[0][0]-50, i[0][1]-50), (i[1][0]+50, i[1][1]+50), 255, 3)\n",
    "plt.figure()\n",
    "plt.imshow(db[problem_index]['img'], cmap='gray' )\n",
    "plt.imshow(roi_mask, alpha=0.5)\n",
    "plt.axis('off')\n",
    "plt.show()"
   ]
  },
  {
   "cell_type": "code",
   "execution_count": 63,
   "metadata": {},
   "outputs": [
    {
     "name": "stdout",
     "output_type": "stream",
     "text": [
      "20\n"
     ]
    },
    {
     "data": {
      "text/plain": [
       "(array([ 0,  1,  2,  3,  4,  5,  6,  7,  8,  9, 10, 11, 12, 13, 14, 15, 16,\n",
       "        17, 18, 19], dtype=uint8),\n",
       " array([4030420,       1,       1,      29,       1,       1,       1,\n",
       "              1,       1,      87,       1,       1,  120845,     104,\n",
       "              1,       1,       1,   11829,       1,       1]))"
      ]
     },
     "execution_count": 63,
     "metadata": {},
     "output_type": "execute_result"
    }
   ],
   "source": [
    "mask_path = db.full_mask_path / f'{img_id}_lesion_mask.png'\n",
    "mask = cv2.imread(str(mask_path), cv2.IMREAD_GRAYSCALE)\n",
    "print(len(np.unique(mask)))\n",
    "np.unique(mask, return_counts=True)"
   ]
  },
  {
   "cell_type": "code",
   "execution_count": 68,
   "metadata": {},
   "outputs": [
    {
     "data": {
      "text/plain": [
       "dict_keys(['idx', 'lab', 'img', 'lesion_bboxes', 'lesion_mask', 'side'])"
      ]
     },
     "execution_count": 68,
     "metadata": {},
     "output_type": "execute_result"
    }
   ],
   "source": [
    "db[problem_index].keys()"
   ]
  },
  {
   "cell_type": "code",
   "execution_count": 70,
   "metadata": {},
   "outputs": [
    {
     "name": "stdout",
     "output_type": "stream",
     "text": [
      "[ 0  1  2  3  4  5  6  7  8  9 10 11 12 13 14 15 16 17 18 19]\n",
      "original unfiltered mask:\t (array([ 0,  1,  2,  3,  4,  5,  6,  7,  8,  9, 10, 11, 12, 13, 14, 15, 16,\n",
      "       17, 18, 19], dtype=uint8), array([4030420,       1,       1,      29,       1,       1,       1,\n",
      "             1,       1,      87,       1,       1,  120845,     104,\n",
      "             1,       1,       1,   11829,       1,       1]))\n",
      "However in the original mask we can find only 3 ROIs\n",
      "18\n",
      "\n",
      "filtered mask (array([ 0,  1,  2,  3,  4,  5,  6,  7,  8,  9, 10, 11, 13, 14, 15, 16, 18,\n",
      "       19], dtype=uint8), array([4163094,       1,       1,      29,       1,       1,       1,\n",
      "             1,       1,      87,       1,       1,     104,       1,\n",
      "             1,       1,       1,       1]))\n",
      "17\n"
     ]
    }
   ],
   "source": [
    "mask_path = db.full_mask_path / f'{img_id}_lesion_mask.png'\n",
    "mask = cv2.imread(str(mask_path), cv2.IMREAD_GRAYSCALE)\n",
    "print(np.unique(mask))\n",
    "print('original unfiltered mask:\\t', np.unique(mask, return_counts=True))\n",
    "print(\"However in the original mask we can find only 3 ROIs\")\n",
    "mask = db.adjust_mask_to_selected_lesions(mask, problem_index)\n",
    "print(len(np.unique(mask)))\n",
    "print('\\nfiltered mask', np.unique(mask, return_counts=True))\n",
    "print(len(db[problem_index]['lesion_bboxes']))\n",
    "# print('\\nfiltered mask', np.unique(db[problem_index]['lesion_mask'], return_counts=True))"
   ]
  },
  {
   "cell_type": "markdown",
   "metadata": {},
   "source": [
    "We see that filtering reduced number of ROIs in the mask from 3 to 1, even though we initially had to have 17\n",
    "\n",
    "From df below we can see that they all should have been stored in the mask, and that 12 and 17 are correctly filtered non calcification ROIs.\n",
    "\n",
    "But we are still missing our 16 calcification ROIs"
   ]
  },
  {
   "cell_type": "code",
   "execution_count": 11,
   "metadata": {},
   "outputs": [],
   "source": [
    "df_temp = pd.read_csv('/home/jseia/Desktop/ml-dl/calc-det/data/INbreast Release 1.0/rois_metadata.csv')"
   ]
  },
  {
   "cell_type": "code",
   "execution_count": 29,
   "metadata": {},
   "outputs": [
    {
     "data": {
      "text/plain": [
       "1004    mass\n",
       "Name: lesion_type, dtype: object"
      ]
     },
     "execution_count": 29,
     "metadata": {},
     "output_type": "execute_result"
    }
   ],
   "source": [
    "df_temp.loc[(df_temp.img_id == img_id) & (df_temp.index_in_image == 17), 'lesion_type']"
   ]
  },
  {
   "cell_type": "code",
   "execution_count": 40,
   "metadata": {},
   "outputs": [
    {
     "data": {
      "text/plain": [
       "(array([ 0,  1,  2, 12, 13, 14, 15, 16, 17, 18, 19], dtype=uint8),\n",
       " array([4030420,       1,       1,  120968,     104,       1,       1,\n",
       "              1,   11829,       1,       1]))"
      ]
     },
     "execution_count": 40,
     "metadata": {},
     "output_type": "execute_result"
    }
   ],
   "source": [
    "\n",
    "np.unique(mask, return_counts=True)"
   ]
  },
  {
   "cell_type": "code",
   "execution_count": 39,
   "metadata": {},
   "outputs": [
    {
     "data": {
      "text/html": [
       "<div>\n",
       "<style scoped>\n",
       "    .dataframe tbody tr th:only-of-type {\n",
       "        vertical-align: middle;\n",
       "    }\n",
       "\n",
       "    .dataframe tbody tr th {\n",
       "        vertical-align: top;\n",
       "    }\n",
       "\n",
       "    .dataframe thead th {\n",
       "        text-align: right;\n",
       "    }\n",
       "</style>\n",
       "<table border=\"1\" class=\"dataframe\">\n",
       "  <thead>\n",
       "    <tr style=\"text-align: right;\">\n",
       "      <th></th>\n",
       "      <th>radius</th>\n",
       "      <th>index_in_image</th>\n",
       "      <th>center_crop</th>\n",
       "    </tr>\n",
       "  </thead>\n",
       "  <tbody>\n",
       "    <tr>\n",
       "      <th>1003</th>\n",
       "      <td>0.000100</td>\n",
       "      <td>2</td>\n",
       "      <td>(1000, 926)</td>\n",
       "    </tr>\n",
       "    <tr>\n",
       "      <th>1004</th>\n",
       "      <td>74.222092</td>\n",
       "      <td>17</td>\n",
       "      <td>(862, 951)</td>\n",
       "    </tr>\n",
       "    <tr>\n",
       "      <th>1005</th>\n",
       "      <td>6.955928</td>\n",
       "      <td>13</td>\n",
       "      <td>(503, 1246)</td>\n",
       "    </tr>\n",
       "    <tr>\n",
       "      <th>1006</th>\n",
       "      <td>0.000100</td>\n",
       "      <td>14</td>\n",
       "      <td>(688, 1231)</td>\n",
       "    </tr>\n",
       "    <tr>\n",
       "      <th>1007</th>\n",
       "      <td>0.000100</td>\n",
       "      <td>15</td>\n",
       "      <td>(474, 1210)</td>\n",
       "    </tr>\n",
       "    <tr>\n",
       "      <th>1008</th>\n",
       "      <td>0.000100</td>\n",
       "      <td>16</td>\n",
       "      <td>(452, 1193)</td>\n",
       "    </tr>\n",
       "    <tr>\n",
       "      <th>1009</th>\n",
       "      <td>0.000100</td>\n",
       "      <td>10</td>\n",
       "      <td>(555, 1094)</td>\n",
       "    </tr>\n",
       "    <tr>\n",
       "      <th>1010</th>\n",
       "      <td>0.000100</td>\n",
       "      <td>18</td>\n",
       "      <td>(531, 1187)</td>\n",
       "    </tr>\n",
       "    <tr>\n",
       "      <th>1011</th>\n",
       "      <td>0.000100</td>\n",
       "      <td>19</td>\n",
       "      <td>(470, 1255)</td>\n",
       "    </tr>\n",
       "    <tr>\n",
       "      <th>1012</th>\n",
       "      <td>0.000100</td>\n",
       "      <td>1</td>\n",
       "      <td>(1005, 920)</td>\n",
       "    </tr>\n",
       "    <tr>\n",
       "      <th>1013</th>\n",
       "      <td>229.509369</td>\n",
       "      <td>12</td>\n",
       "      <td>(545, 1155)</td>\n",
       "    </tr>\n",
       "    <tr>\n",
       "      <th>1014</th>\n",
       "      <td>0.000100</td>\n",
       "      <td>11</td>\n",
       "      <td>(555, 1124)</td>\n",
       "    </tr>\n",
       "    <tr>\n",
       "      <th>1015</th>\n",
       "      <td>5.700977</td>\n",
       "      <td>9</td>\n",
       "      <td>(563, 1104)</td>\n",
       "    </tr>\n",
       "    <tr>\n",
       "      <th>1016</th>\n",
       "      <td>0.000100</td>\n",
       "      <td>8</td>\n",
       "      <td>(553, 1068)</td>\n",
       "    </tr>\n",
       "    <tr>\n",
       "      <th>1017</th>\n",
       "      <td>0.000100</td>\n",
       "      <td>7</td>\n",
       "      <td>(458, 1158)</td>\n",
       "    </tr>\n",
       "    <tr>\n",
       "      <th>1018</th>\n",
       "      <td>0.000100</td>\n",
       "      <td>6</td>\n",
       "      <td>(485, 1150)</td>\n",
       "    </tr>\n",
       "    <tr>\n",
       "      <th>1019</th>\n",
       "      <td>0.000100</td>\n",
       "      <td>5</td>\n",
       "      <td>(679, 1160)</td>\n",
       "    </tr>\n",
       "    <tr>\n",
       "      <th>1020</th>\n",
       "      <td>0.000100</td>\n",
       "      <td>4</td>\n",
       "      <td>(536, 1147)</td>\n",
       "    </tr>\n",
       "    <tr>\n",
       "      <th>1021</th>\n",
       "      <td>4.000100</td>\n",
       "      <td>3</td>\n",
       "      <td>(509, 1161)</td>\n",
       "    </tr>\n",
       "  </tbody>\n",
       "</table>\n",
       "</div>"
      ],
      "text/plain": [
       "          radius  index_in_image  center_crop\n",
       "1003    0.000100               2  (1000, 926)\n",
       "1004   74.222092              17   (862, 951)\n",
       "1005    6.955928              13  (503, 1246)\n",
       "1006    0.000100              14  (688, 1231)\n",
       "1007    0.000100              15  (474, 1210)\n",
       "1008    0.000100              16  (452, 1193)\n",
       "1009    0.000100              10  (555, 1094)\n",
       "1010    0.000100              18  (531, 1187)\n",
       "1011    0.000100              19  (470, 1255)\n",
       "1012    0.000100               1  (1005, 920)\n",
       "1013  229.509369              12  (545, 1155)\n",
       "1014    0.000100              11  (555, 1124)\n",
       "1015    5.700977               9  (563, 1104)\n",
       "1016    0.000100               8  (553, 1068)\n",
       "1017    0.000100               7  (458, 1158)\n",
       "1018    0.000100               6  (485, 1150)\n",
       "1019    0.000100               5  (679, 1160)\n",
       "1020    0.000100               4  (536, 1147)\n",
       "1021    4.000100               3  (509, 1161)"
      ]
     },
     "execution_count": 39,
     "metadata": {},
     "output_type": "execute_result"
    }
   ],
   "source": [
    "df_temp.loc[df_temp.img_id == img_id,['radius', 'index_in_image', 'center_crop']]"
   ]
  },
  {
   "cell_type": "code",
   "execution_count": 21,
   "metadata": {},
   "outputs": [
    {
     "data": {
      "text/plain": [
       "920     1\n",
       "912     2\n",
       "928     3\n",
       "927     4\n",
       "926     5\n",
       "925     6\n",
       "924     7\n",
       "923     8\n",
       "922     9\n",
       "917    10\n",
       "921    11\n",
       "913    13\n",
       "914    14\n",
       "915    15\n",
       "916    16\n",
       "918    18\n",
       "919    19\n",
       "Name: index_in_image, dtype: int64"
      ]
     },
     "execution_count": 21,
     "metadata": {},
     "output_type": "execute_result"
    }
   ],
   "source": [
    "db.rois_df[db.rois_df.img_id == img_id]['index_in_image'].sort_values()"
   ]
  },
  {
   "cell_type": "markdown",
   "metadata": {},
   "source": [
    "We can also see that among those ROIs that weren't saved in the mask, some have are, so are not single pixel segmentations. And since `stored` == `True` for them, the problem probably wasn't the image boundary. "
   ]
  },
  {
   "cell_type": "code",
   "execution_count": 10,
   "metadata": {},
   "outputs": [
    {
     "data": {
      "text/plain": [
       "5.6"
      ]
     },
     "execution_count": 10,
     "metadata": {},
     "output_type": "execute_result"
    }
   ],
   "source": [
    "4*2*0.7"
   ]
  },
  {
   "cell_type": "code",
   "execution_count": 41,
   "metadata": {},
   "outputs": [
    {
     "data": {
      "text/html": [
       "<div>\n",
       "<style scoped>\n",
       "    .dataframe tbody tr th:only-of-type {\n",
       "        vertical-align: middle;\n",
       "    }\n",
       "\n",
       "    .dataframe tbody tr th {\n",
       "        vertical-align: top;\n",
       "    }\n",
       "\n",
       "    .dataframe thead th {\n",
       "        text-align: right;\n",
       "    }\n",
       "</style>\n",
       "<table border=\"1\" class=\"dataframe\">\n",
       "  <thead>\n",
       "    <tr style=\"text-align: right;\">\n",
       "      <th></th>\n",
       "      <th>case_id</th>\n",
       "      <th>img_id</th>\n",
       "      <th>side</th>\n",
       "      <th>view</th>\n",
       "      <th>area</th>\n",
       "      <th>center</th>\n",
       "      <th>center_crop</th>\n",
       "      <th>dev</th>\n",
       "      <th>index_in_image</th>\n",
       "      <th>max</th>\n",
       "      <th>...</th>\n",
       "      <th>micros</th>\n",
       "      <th>distortion</th>\n",
       "      <th>asymmetry</th>\n",
       "      <th>finding_notes</th>\n",
       "      <th>lesion_annot</th>\n",
       "      <th>pectoral_muscle</th>\n",
       "      <th>artifact</th>\n",
       "      <th>lesion_type</th>\n",
       "      <th>radius</th>\n",
       "      <th>partition</th>\n",
       "    </tr>\n",
       "  </thead>\n",
       "  <tbody>\n",
       "    <tr>\n",
       "      <th>880</th>\n",
       "      <td>bbd6a3a35438c11b</td>\n",
       "      <td>22579730</td>\n",
       "      <td>R</td>\n",
       "      <td>MLO</td>\n",
       "      <td>0.000000</td>\n",
       "      <td>(1840, 1187)</td>\n",
       "      <td>(720, 1187)</td>\n",
       "      <td>0.000000</td>\n",
       "      <td>18</td>\n",
       "      <td>3300.0</td>\n",
       "      <td>...</td>\n",
       "      <td>True</td>\n",
       "      <td>False</td>\n",
       "      <td>False</td>\n",
       "      <td>2 nódulos + micros</td>\n",
       "      <td>yes</td>\n",
       "      <td>False</td>\n",
       "      <td>False</td>\n",
       "      <td>calcification</td>\n",
       "      <td>0.000100</td>\n",
       "      <td>train</td>\n",
       "    </tr>\n",
       "    <tr>\n",
       "      <th>881</th>\n",
       "      <td>bbd6a3a35438c11b</td>\n",
       "      <td>22579730</td>\n",
       "      <td>R</td>\n",
       "      <td>MLO</td>\n",
       "      <td>0.000000</td>\n",
       "      <td>(1988, 1160)</td>\n",
       "      <td>(572, 1160)</td>\n",
       "      <td>0.000000</td>\n",
       "      <td>5</td>\n",
       "      <td>3448.0</td>\n",
       "      <td>...</td>\n",
       "      <td>True</td>\n",
       "      <td>False</td>\n",
       "      <td>False</td>\n",
       "      <td>2 nódulos + micros</td>\n",
       "      <td>yes</td>\n",
       "      <td>False</td>\n",
       "      <td>False</td>\n",
       "      <td>calcification</td>\n",
       "      <td>0.000100</td>\n",
       "      <td>train</td>\n",
       "    </tr>\n",
       "    <tr>\n",
       "      <th>882</th>\n",
       "      <td>bbd6a3a35438c11b</td>\n",
       "      <td>22579730</td>\n",
       "      <td>R</td>\n",
       "      <td>MLO</td>\n",
       "      <td>0.000000</td>\n",
       "      <td>(1845, 1147)</td>\n",
       "      <td>(715, 1147)</td>\n",
       "      <td>0.000000</td>\n",
       "      <td>4</td>\n",
       "      <td>3617.0</td>\n",
       "      <td>...</td>\n",
       "      <td>True</td>\n",
       "      <td>False</td>\n",
       "      <td>False</td>\n",
       "      <td>2 nódulos + micros</td>\n",
       "      <td>yes</td>\n",
       "      <td>False</td>\n",
       "      <td>False</td>\n",
       "      <td>calcification</td>\n",
       "      <td>0.000100</td>\n",
       "      <td>train</td>\n",
       "    </tr>\n",
       "    <tr>\n",
       "      <th>883</th>\n",
       "      <td>bbd6a3a35438c11b</td>\n",
       "      <td>22579730</td>\n",
       "      <td>R</td>\n",
       "      <td>MLO</td>\n",
       "      <td>0.001568</td>\n",
       "      <td>(1818, 1161)</td>\n",
       "      <td>(742, 1161)</td>\n",
       "      <td>221.736923</td>\n",
       "      <td>3</td>\n",
       "      <td>3715.0</td>\n",
       "      <td>...</td>\n",
       "      <td>True</td>\n",
       "      <td>False</td>\n",
       "      <td>False</td>\n",
       "      <td>2 nódulos + micros</td>\n",
       "      <td>yes</td>\n",
       "      <td>False</td>\n",
       "      <td>False</td>\n",
       "      <td>calcification</td>\n",
       "      <td>4.000100</td>\n",
       "      <td>train</td>\n",
       "    </tr>\n",
       "    <tr>\n",
       "      <th>884</th>\n",
       "      <td>bbd6a3a35438c11b</td>\n",
       "      <td>22579730</td>\n",
       "      <td>R</td>\n",
       "      <td>MLO</td>\n",
       "      <td>0.000000</td>\n",
       "      <td>(1779, 1255)</td>\n",
       "      <td>(781, 1255)</td>\n",
       "      <td>0.000000</td>\n",
       "      <td>19</td>\n",
       "      <td>3493.0</td>\n",
       "      <td>...</td>\n",
       "      <td>True</td>\n",
       "      <td>False</td>\n",
       "      <td>False</td>\n",
       "      <td>2 nódulos + micros</td>\n",
       "      <td>yes</td>\n",
       "      <td>False</td>\n",
       "      <td>False</td>\n",
       "      <td>calcification</td>\n",
       "      <td>0.000100</td>\n",
       "      <td>train</td>\n",
       "    </tr>\n",
       "    <tr>\n",
       "      <th>885</th>\n",
       "      <td>bbd6a3a35438c11b</td>\n",
       "      <td>22579730</td>\n",
       "      <td>R</td>\n",
       "      <td>MLO</td>\n",
       "      <td>0.000000</td>\n",
       "      <td>(2309, 926)</td>\n",
       "      <td>(251, 926)</td>\n",
       "      <td>0.000000</td>\n",
       "      <td>2</td>\n",
       "      <td>1634.0</td>\n",
       "      <td>...</td>\n",
       "      <td>True</td>\n",
       "      <td>False</td>\n",
       "      <td>False</td>\n",
       "      <td>2 nódulos + micros</td>\n",
       "      <td>yes</td>\n",
       "      <td>False</td>\n",
       "      <td>False</td>\n",
       "      <td>calcification</td>\n",
       "      <td>0.000100</td>\n",
       "      <td>train</td>\n",
       "    </tr>\n",
       "    <tr>\n",
       "      <th>886</th>\n",
       "      <td>bbd6a3a35438c11b</td>\n",
       "      <td>22579730</td>\n",
       "      <td>R</td>\n",
       "      <td>MLO</td>\n",
       "      <td>0.000000</td>\n",
       "      <td>(2314, 920)</td>\n",
       "      <td>(246, 920)</td>\n",
       "      <td>0.000000</td>\n",
       "      <td>1</td>\n",
       "      <td>1935.0</td>\n",
       "      <td>...</td>\n",
       "      <td>1.0</td>\n",
       "      <td>0.0</td>\n",
       "      <td>0.0</td>\n",
       "      <td>2 nódulos + micros</td>\n",
       "      <td>yes</td>\n",
       "      <td>False</td>\n",
       "      <td>False</td>\n",
       "      <td>calcification</td>\n",
       "      <td>0.000100</td>\n",
       "      <td>train</td>\n",
       "    </tr>\n",
       "    <tr>\n",
       "      <th>887</th>\n",
       "      <td>bbd6a3a35438c11b</td>\n",
       "      <td>22579730</td>\n",
       "      <td>R</td>\n",
       "      <td>MLO</td>\n",
       "      <td>0.003825</td>\n",
       "      <td>(1872, 1104)</td>\n",
       "      <td>(688, 1104)</td>\n",
       "      <td>249.826996</td>\n",
       "      <td>9</td>\n",
       "      <td>3976.0</td>\n",
       "      <td>...</td>\n",
       "      <td>True</td>\n",
       "      <td>False</td>\n",
       "      <td>False</td>\n",
       "      <td>2 nódulos + micros</td>\n",
       "      <td>yes</td>\n",
       "      <td>False</td>\n",
       "      <td>False</td>\n",
       "      <td>calcification</td>\n",
       "      <td>5.700977</td>\n",
       "      <td>train</td>\n",
       "    </tr>\n",
       "    <tr>\n",
       "      <th>888</th>\n",
       "      <td>bbd6a3a35438c11b</td>\n",
       "      <td>22579730</td>\n",
       "      <td>R</td>\n",
       "      <td>MLO</td>\n",
       "      <td>0.000000</td>\n",
       "      <td>(1862, 1068)</td>\n",
       "      <td>(698, 1068)</td>\n",
       "      <td>0.000000</td>\n",
       "      <td>8</td>\n",
       "      <td>3671.0</td>\n",
       "      <td>...</td>\n",
       "      <td>True</td>\n",
       "      <td>False</td>\n",
       "      <td>False</td>\n",
       "      <td>2 nódulos + micros</td>\n",
       "      <td>yes</td>\n",
       "      <td>False</td>\n",
       "      <td>False</td>\n",
       "      <td>calcification</td>\n",
       "      <td>0.000100</td>\n",
       "      <td>train</td>\n",
       "    </tr>\n",
       "    <tr>\n",
       "      <th>889</th>\n",
       "      <td>bbd6a3a35438c11b</td>\n",
       "      <td>22579730</td>\n",
       "      <td>R</td>\n",
       "      <td>MLO</td>\n",
       "      <td>0.000000</td>\n",
       "      <td>(1864, 1094)</td>\n",
       "      <td>(696, 1094)</td>\n",
       "      <td>0.000000</td>\n",
       "      <td>10</td>\n",
       "      <td>3458.0</td>\n",
       "      <td>...</td>\n",
       "      <td>True</td>\n",
       "      <td>False</td>\n",
       "      <td>False</td>\n",
       "      <td>2 nódulos + micros</td>\n",
       "      <td>yes</td>\n",
       "      <td>False</td>\n",
       "      <td>False</td>\n",
       "      <td>calcification</td>\n",
       "      <td>0.000100</td>\n",
       "      <td>train</td>\n",
       "    </tr>\n",
       "    <tr>\n",
       "      <th>890</th>\n",
       "      <td>bbd6a3a35438c11b</td>\n",
       "      <td>22579730</td>\n",
       "      <td>R</td>\n",
       "      <td>MLO</td>\n",
       "      <td>0.000000</td>\n",
       "      <td>(1864, 1124)</td>\n",
       "      <td>(696, 1124)</td>\n",
       "      <td>0.000000</td>\n",
       "      <td>11</td>\n",
       "      <td>3645.0</td>\n",
       "      <td>...</td>\n",
       "      <td>True</td>\n",
       "      <td>False</td>\n",
       "      <td>False</td>\n",
       "      <td>2 nódulos + micros</td>\n",
       "      <td>yes</td>\n",
       "      <td>False</td>\n",
       "      <td>False</td>\n",
       "      <td>calcification</td>\n",
       "      <td>0.000100</td>\n",
       "      <td>train</td>\n",
       "    </tr>\n",
       "    <tr>\n",
       "      <th>891</th>\n",
       "      <td>bbd6a3a35438c11b</td>\n",
       "      <td>22579730</td>\n",
       "      <td>R</td>\n",
       "      <td>MLO</td>\n",
       "      <td>0.000000</td>\n",
       "      <td>(1761, 1193)</td>\n",
       "      <td>(799, 1193)</td>\n",
       "      <td>0.000000</td>\n",
       "      <td>16</td>\n",
       "      <td>2637.0</td>\n",
       "      <td>...</td>\n",
       "      <td>True</td>\n",
       "      <td>False</td>\n",
       "      <td>False</td>\n",
       "      <td>2 nódulos + micros</td>\n",
       "      <td>yes</td>\n",
       "      <td>False</td>\n",
       "      <td>False</td>\n",
       "      <td>calcification</td>\n",
       "      <td>0.000100</td>\n",
       "      <td>train</td>\n",
       "    </tr>\n",
       "    <tr>\n",
       "      <th>892</th>\n",
       "      <td>bbd6a3a35438c11b</td>\n",
       "      <td>22579730</td>\n",
       "      <td>R</td>\n",
       "      <td>MLO</td>\n",
       "      <td>0.000000</td>\n",
       "      <td>(1783, 1210)</td>\n",
       "      <td>(777, 1210)</td>\n",
       "      <td>0.000000</td>\n",
       "      <td>15</td>\n",
       "      <td>2423.0</td>\n",
       "      <td>...</td>\n",
       "      <td>True</td>\n",
       "      <td>False</td>\n",
       "      <td>False</td>\n",
       "      <td>2 nódulos + micros</td>\n",
       "      <td>yes</td>\n",
       "      <td>False</td>\n",
       "      <td>False</td>\n",
       "      <td>calcification</td>\n",
       "      <td>0.000100</td>\n",
       "      <td>train</td>\n",
       "    </tr>\n",
       "    <tr>\n",
       "      <th>893</th>\n",
       "      <td>bbd6a3a35438c11b</td>\n",
       "      <td>22579730</td>\n",
       "      <td>R</td>\n",
       "      <td>MLO</td>\n",
       "      <td>0.000000</td>\n",
       "      <td>(1997, 1231)</td>\n",
       "      <td>(563, 1231)</td>\n",
       "      <td>0.000000</td>\n",
       "      <td>14</td>\n",
       "      <td>3382.0</td>\n",
       "      <td>...</td>\n",
       "      <td>True</td>\n",
       "      <td>False</td>\n",
       "      <td>False</td>\n",
       "      <td>2 nódulos + micros</td>\n",
       "      <td>yes</td>\n",
       "      <td>False</td>\n",
       "      <td>False</td>\n",
       "      <td>calcification</td>\n",
       "      <td>0.000100</td>\n",
       "      <td>train</td>\n",
       "    </tr>\n",
       "    <tr>\n",
       "      <th>894</th>\n",
       "      <td>bbd6a3a35438c11b</td>\n",
       "      <td>22579730</td>\n",
       "      <td>R</td>\n",
       "      <td>MLO</td>\n",
       "      <td>0.000000</td>\n",
       "      <td>(1767, 1158)</td>\n",
       "      <td>(793, 1158)</td>\n",
       "      <td>0.000000</td>\n",
       "      <td>7</td>\n",
       "      <td>3127.0</td>\n",
       "      <td>...</td>\n",
       "      <td>True</td>\n",
       "      <td>False</td>\n",
       "      <td>False</td>\n",
       "      <td>2 nódulos + micros</td>\n",
       "      <td>yes</td>\n",
       "      <td>False</td>\n",
       "      <td>False</td>\n",
       "      <td>calcification</td>\n",
       "      <td>0.000100</td>\n",
       "      <td>train</td>\n",
       "    </tr>\n",
       "    <tr>\n",
       "      <th>895</th>\n",
       "      <td>bbd6a3a35438c11b</td>\n",
       "      <td>22579730</td>\n",
       "      <td>R</td>\n",
       "      <td>MLO</td>\n",
       "      <td>0.004808</td>\n",
       "      <td>(1812, 1246)</td>\n",
       "      <td>(748, 1246)</td>\n",
       "      <td>230.932968</td>\n",
       "      <td>13</td>\n",
       "      <td>3934.0</td>\n",
       "      <td>...</td>\n",
       "      <td>True</td>\n",
       "      <td>False</td>\n",
       "      <td>False</td>\n",
       "      <td>2 nódulos + micros</td>\n",
       "      <td>yes</td>\n",
       "      <td>False</td>\n",
       "      <td>False</td>\n",
       "      <td>calcification</td>\n",
       "      <td>6.955928</td>\n",
       "      <td>train</td>\n",
       "    </tr>\n",
       "    <tr>\n",
       "      <th>896</th>\n",
       "      <td>bbd6a3a35438c11b</td>\n",
       "      <td>22579730</td>\n",
       "      <td>R</td>\n",
       "      <td>MLO</td>\n",
       "      <td>0.000000</td>\n",
       "      <td>(1794, 1150)</td>\n",
       "      <td>(766, 1150)</td>\n",
       "      <td>0.000000</td>\n",
       "      <td>6</td>\n",
       "      <td>3096.0</td>\n",
       "      <td>...</td>\n",
       "      <td>True</td>\n",
       "      <td>False</td>\n",
       "      <td>False</td>\n",
       "      <td>2 nódulos + micros</td>\n",
       "      <td>yes</td>\n",
       "      <td>False</td>\n",
       "      <td>False</td>\n",
       "      <td>calcification</td>\n",
       "      <td>0.000100</td>\n",
       "      <td>train</td>\n",
       "    </tr>\n",
       "  </tbody>\n",
       "</table>\n",
       "<p>17 rows × 34 columns</p>\n",
       "</div>"
      ],
      "text/plain": [
       "              case_id    img_id side view      area        center  \\\n",
       "880  bbd6a3a35438c11b  22579730    R  MLO  0.000000  (1840, 1187)   \n",
       "881  bbd6a3a35438c11b  22579730    R  MLO  0.000000  (1988, 1160)   \n",
       "882  bbd6a3a35438c11b  22579730    R  MLO  0.000000  (1845, 1147)   \n",
       "883  bbd6a3a35438c11b  22579730    R  MLO  0.001568  (1818, 1161)   \n",
       "884  bbd6a3a35438c11b  22579730    R  MLO  0.000000  (1779, 1255)   \n",
       "885  bbd6a3a35438c11b  22579730    R  MLO  0.000000   (2309, 926)   \n",
       "886  bbd6a3a35438c11b  22579730    R  MLO  0.000000   (2314, 920)   \n",
       "887  bbd6a3a35438c11b  22579730    R  MLO  0.003825  (1872, 1104)   \n",
       "888  bbd6a3a35438c11b  22579730    R  MLO  0.000000  (1862, 1068)   \n",
       "889  bbd6a3a35438c11b  22579730    R  MLO  0.000000  (1864, 1094)   \n",
       "890  bbd6a3a35438c11b  22579730    R  MLO  0.000000  (1864, 1124)   \n",
       "891  bbd6a3a35438c11b  22579730    R  MLO  0.000000  (1761, 1193)   \n",
       "892  bbd6a3a35438c11b  22579730    R  MLO  0.000000  (1783, 1210)   \n",
       "893  bbd6a3a35438c11b  22579730    R  MLO  0.000000  (1997, 1231)   \n",
       "894  bbd6a3a35438c11b  22579730    R  MLO  0.000000  (1767, 1158)   \n",
       "895  bbd6a3a35438c11b  22579730    R  MLO  0.004808  (1812, 1246)   \n",
       "896  bbd6a3a35438c11b  22579730    R  MLO  0.000000  (1794, 1150)   \n",
       "\n",
       "     center_crop         dev  index_in_image     max  ...  micros  distortion  \\\n",
       "880  (720, 1187)    0.000000              18  3300.0  ...    True       False   \n",
       "881  (572, 1160)    0.000000               5  3448.0  ...    True       False   \n",
       "882  (715, 1147)    0.000000               4  3617.0  ...    True       False   \n",
       "883  (742, 1161)  221.736923               3  3715.0  ...    True       False   \n",
       "884  (781, 1255)    0.000000              19  3493.0  ...    True       False   \n",
       "885   (251, 926)    0.000000               2  1634.0  ...    True       False   \n",
       "886   (246, 920)    0.000000               1  1935.0  ...     1.0         0.0   \n",
       "887  (688, 1104)  249.826996               9  3976.0  ...    True       False   \n",
       "888  (698, 1068)    0.000000               8  3671.0  ...    True       False   \n",
       "889  (696, 1094)    0.000000              10  3458.0  ...    True       False   \n",
       "890  (696, 1124)    0.000000              11  3645.0  ...    True       False   \n",
       "891  (799, 1193)    0.000000              16  2637.0  ...    True       False   \n",
       "892  (777, 1210)    0.000000              15  2423.0  ...    True       False   \n",
       "893  (563, 1231)    0.000000              14  3382.0  ...    True       False   \n",
       "894  (793, 1158)    0.000000               7  3127.0  ...    True       False   \n",
       "895  (748, 1246)  230.932968              13  3934.0  ...    True       False   \n",
       "896  (766, 1150)    0.000000               6  3096.0  ...    True       False   \n",
       "\n",
       "     asymmetry       finding_notes lesion_annot pectoral_muscle  artifact  \\\n",
       "880      False  2 nódulos + micros          yes           False     False   \n",
       "881      False  2 nódulos + micros          yes           False     False   \n",
       "882      False  2 nódulos + micros          yes           False     False   \n",
       "883      False  2 nódulos + micros          yes           False     False   \n",
       "884      False  2 nódulos + micros          yes           False     False   \n",
       "885      False  2 nódulos + micros          yes           False     False   \n",
       "886        0.0  2 nódulos + micros          yes           False     False   \n",
       "887      False  2 nódulos + micros          yes           False     False   \n",
       "888      False  2 nódulos + micros          yes           False     False   \n",
       "889      False  2 nódulos + micros          yes           False     False   \n",
       "890      False  2 nódulos + micros          yes           False     False   \n",
       "891      False  2 nódulos + micros          yes           False     False   \n",
       "892      False  2 nódulos + micros          yes           False     False   \n",
       "893      False  2 nódulos + micros          yes           False     False   \n",
       "894      False  2 nódulos + micros          yes           False     False   \n",
       "895      False  2 nódulos + micros          yes           False     False   \n",
       "896      False  2 nódulos + micros          yes           False     False   \n",
       "\n",
       "       lesion_type    radius partition  \n",
       "880  calcification  0.000100     train  \n",
       "881  calcification  0.000100     train  \n",
       "882  calcification  0.000100     train  \n",
       "883  calcification  4.000100     train  \n",
       "884  calcification  0.000100     train  \n",
       "885  calcification  0.000100     train  \n",
       "886  calcification  0.000100     train  \n",
       "887  calcification  5.700977     train  \n",
       "888  calcification  0.000100     train  \n",
       "889  calcification  0.000100     train  \n",
       "890  calcification  0.000100     train  \n",
       "891  calcification  0.000100     train  \n",
       "892  calcification  0.000100     train  \n",
       "893  calcification  0.000100     train  \n",
       "894  calcification  0.000100     train  \n",
       "895  calcification  6.955928     train  \n",
       "896  calcification  0.000100     train  \n",
       "\n",
       "[17 rows x 34 columns]"
      ]
     },
     "execution_count": 41,
     "metadata": {},
     "output_type": "execute_result"
    }
   ],
   "source": [
    "db.rois_df[db.rois_df.img_id == img_id]"
   ]
  },
  {
   "cell_type": "code",
   "execution_count": 53,
   "metadata": {},
   "outputs": [
    {
     "name": "stderr",
     "output_type": "stream",
     "text": [
      "100%|██████████| 310/310 [00:49<00:00,  6.31it/s]\n"
     ]
    }
   ],
   "source": [
    "bad_imgs = []\n",
    "for i in tqdm(range(310), total=310):\n",
    "    if db[i]['lesion_bboxes'] != len(db.rois_df[db.rois_df.img_id == db.img_df.iloc[i].img_id]):\n",
    "        bad_imgs.append(i)"
   ]
  },
  {
   "cell_type": "code",
   "execution_count": 54,
   "metadata": {},
   "outputs": [
    {
     "data": {
      "text/plain": [
       "1.0"
      ]
     },
     "execution_count": 54,
     "metadata": {},
     "output_type": "execute_result"
    }
   ],
   "source": [
    "len(bad_imgs)/310"
   ]
  },
  {
   "cell_type": "code",
   "execution_count": null,
   "metadata": {},
   "outputs": [],
   "source": []
  }
 ],
 "metadata": {
  "interpreter": {
   "hash": "d785cc99391f1decae0a31664a2bc430e1bb802c6f8076d9d1b38f05ab7f6160"
  },
  "kernelspec": {
   "display_name": "Python 3.9.7 ('calc_det')",
   "language": "python",
   "name": "python3"
  },
  "language_info": {
   "codemirror_mode": {
    "name": "ipython",
    "version": 3
   },
   "file_extension": ".py",
   "mimetype": "text/x-python",
   "name": "python",
   "nbconvert_exporter": "python",
   "pygments_lexer": "ipython3",
   "version": "3.9.7"
  },
  "orig_nbformat": 4
 },
 "nbformat": 4,
 "nbformat_minor": 2
}
