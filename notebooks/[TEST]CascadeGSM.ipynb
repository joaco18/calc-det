{
 "cells": [
  {
   "cell_type": "markdown",
   "metadata": {},
   "source": [
    "### Imports, loading features and DB"
   ]
  },
  {
   "cell_type": "code",
   "execution_count": 1,
   "metadata": {},
   "outputs": [
    {
     "name": "stderr",
     "output_type": "stream",
     "text": [
      "Intel(R) Extension for Scikit-learn* enabled (https://github.com/intel/scikit-learn-intelex)\n"
     ]
    }
   ],
   "source": [
    "# might not work in calc_det environment\n",
    "from sklearnex import patch_sklearn\n",
    "patch_sklearn(\"SVC\")\n"
   ]
  },
  {
   "cell_type": "code",
   "execution_count": 2,
   "metadata": {},
   "outputs": [],
   "source": [
    "import sys\n",
    "sys.path.insert(0, '..')\n",
    "\n",
    "import operator as op\n",
    "import pickle\n"
   ]
  },
  {
   "cell_type": "code",
   "execution_count": 3,
   "metadata": {},
   "outputs": [],
   "source": [
    "from xgboost import XGBRFClassifier\n",
    "from sklearn.preprocessing import MinMaxScaler\n",
    "from sklearn.metrics import precision_recall_curve, roc_auc_score, auc, roc_curve\n",
    "from sklearn.ensemble import RandomForestClassifier\n",
    "from sklearn.svm import SVC\n",
    "import matplotlib.pyplot as plt\n",
    "from metrics.metrics_utils import  get_froc_df_of_many_imgs_features\n",
    "from mc_candidate_proposal.candidate_utils import balance_candidates\n",
    "from general_utils.plots import plot_bboxes_over_image, plot_blobs, plot_blobs_2_sets\n",
    "from metrics.metrics import froc_curve, froc_curve_bootstrap\n",
    "from general_utils.plots import plot_froc, plot_bootstrap_froc\n",
    "import seaborn as sns\n",
    "from database.dataset import *\n",
    "\n",
    "from sklearn.model_selection import GridSearchCV\n",
    "from sklearn.pipeline import Pipeline\n",
    "from sklearn.preprocessing import MinMaxScaler\n",
    "from sklearn.metrics import roc_auc_score, precision_recall_fscore_support"
   ]
  },
  {
   "cell_type": "code",
   "execution_count": 4,
   "metadata": {},
   "outputs": [],
   "source": [
    "rseed = np.random.seed(42)"
   ]
  },
  {
   "cell_type": "code",
   "execution_count": 5,
   "metadata": {},
   "outputs": [],
   "source": [
    "db = INBreast_Dataset(\n",
    "    return_lesions_mask=True,\n",
    "    level='image',\n",
    "    max_lesion_diam_mm=None,\n",
    "    extract_patches=False,\n",
    "    partitions = ['train', 'validation'],\n",
    "    lesion_types = ['calcification', 'cluster'],\n",
    "    cropped_imgs = True,\n",
    "    keep_just_images_of_lesion_type = False,\n",
    "    use_muscle_mask=False,\n",
    "    ignore_diameter_px = 15\n",
    ")"
   ]
  },
  {
   "cell_type": "code",
   "execution_count": 6,
   "metadata": {},
   "outputs": [],
   "source": [
    "features_data = pd.read_feather('/home/vzalevskyi/projects/data/features/morph/cand_features_df.f')\n",
    "fnsdf = pd.read_feather('/home/vzalevskyi/projects/data/features/morph/fns_df.f')\n",
    "ignored = pd.read_feather('/home/vzalevskyi/projects/data/features/morph/ingnored_df.f')"
   ]
  },
  {
   "cell_type": "code",
   "execution_count": 7,
   "metadata": {},
   "outputs": [
    {
     "name": "stdout",
     "output_type": "stream",
     "text": [
      "Sensitivity over all mC (max sens value achived in froc without NMS)  0.8089813800657174\n"
     ]
    }
   ],
   "source": [
    "print('Sensitivity over all mC (max sens value achived in froc without NMS) ',features_data.label.sum() / (features_data.label.sum() + len(fnsdf)))"
   ]
  },
  {
   "cell_type": "code",
   "execution_count": 8,
   "metadata": {},
   "outputs": [],
   "source": [
    "# retrieving each features set column names\n",
    "\n",
    "fos_cols = [x for x in features_data if 'img' in x and x != 'img_id']\n",
    "gabor_cols = [x for x in features_data if 'gabor_'in x]\n",
    "wavelet_cols = [x for x in features_data if  x[:6] == 'patch_' and x != 'patch_coordinates']\n",
    "haar_cols = [x for x in features_data if  'haar' in x]\n",
    "features_sets = {'fos':fos_cols, 'gabor':gabor_cols, 'wavelet':wavelet_cols,\n",
    "                 'haar':haar_cols,\n",
    "                 'all_features':fos_cols+gabor_cols+wavelet_cols+haar_cols}"
   ]
  },
  {
   "cell_type": "markdown",
   "metadata": {},
   "source": [
    "# Grid-Search"
   ]
  },
  {
   "cell_type": "code",
   "execution_count": null,
   "metadata": {},
   "outputs": [],
   "source": [
    "\n",
    "param_grid = [\n",
    "  {'SVC__C': [1, 10, 100], 'SVC__kernel': ['linear']},\n",
    "  {'SVC__C': [1, 10, 100,], 'SVC__degree':[3, 5, 7, 10], 'SVC__kernel': ['poly']},\n",
    "  {'SVC__C': [1, 10, 100,], 'SVC__gamma': [0.001, 0.01, 0.1, 1], 'SVC__kernel': ['rbf']},\n",
    " ]\n",
    "\n",
    "\n",
    "pipe = Pipeline([('scaler', MinMaxScaler()), ('SVC', SVC())])\n",
    "\n",
    "\n",
    "clf = GridSearchCV(estimator=pipe,\n",
    "                   param_grid=param_grid,\n",
    "                   scoring='roc_auc',\n",
    "                   n_jobs=4,\n",
    "                   cv=5)\n",
    "\n",
    "\n",
    "FP2TP_rate = 10\n",
    "positive_mask = (features_data.label>0)\n",
    "positive_train_part = features_data[positive_mask]\n",
    "negative_train_part = features_data[~positive_mask].sample(FP2TP_rate*positive_mask.sum())\n",
    "train_df = pd.concat([positive_train_part, negative_train_part]).sample(frac=1.)\n",
    "train_y = train_df.label\n",
    "train_X = train_df[features_sets['all_features']]\n",
    "\n",
    "clf.fit(train_X, train_y)\n"
   ]
  },
  {
   "cell_type": "code",
   "execution_count": null,
   "metadata": {},
   "outputs": [],
   "source": [
    "# with open('gsm_svc_fine_tuning.pkl', 'wb') as f:\n",
    "#     pickle.dump(clf, f)"
   ]
  },
  {
   "cell_type": "code",
   "execution_count": null,
   "metadata": {},
   "outputs": [
    {
     "data": {
      "text/plain": [
       "{'C': 10,\n",
       " 'break_ties': False,\n",
       " 'cache_size': 200,\n",
       " 'class_weight': None,\n",
       " 'coef0': 0.0,\n",
       " 'decision_function_shape': 'ovr',\n",
       " 'degree': 3,\n",
       " 'gamma': 0.1,\n",
       " 'kernel': 'rbf',\n",
       " 'max_iter': -1,\n",
       " 'probability': False,\n",
       " 'random_state': None,\n",
       " 'shrinking': True,\n",
       " 'tol': 0.001,\n",
       " 'verbose': False}"
      ]
     },
     "execution_count": 52,
     "metadata": {},
     "output_type": "execute_result"
    }
   ],
   "source": [
    "clf.best_estimator_['SVC'].get_params()"
   ]
  },
  {
   "cell_type": "markdown",
   "metadata": {},
   "source": [
    "# Cascade"
   ]
  },
  {
   "cell_type": "markdown",
   "metadata": {},
   "source": [
    "### First Stage (removing easy negative)"
   ]
  },
  {
   "cell_type": "code",
   "execution_count": 9,
   "metadata": {},
   "outputs": [],
   "source": [
    "clf = SVC(**{'C': 10,\n",
    "            'break_ties': False,\n",
    "            'cache_size': 200,\n",
    "            'class_weight': None,\n",
    "            'coef0': 0.0,\n",
    "            'decision_function_shape': 'ovr',\n",
    "            'degree': 3,\n",
    "            'gamma': 0.1,\n",
    "            'kernel': 'rbf',\n",
    "            'max_iter': -1,\n",
    "            'probability': True,\n",
    "            'random_state': 42,\n",
    "            'shrinking': True,\n",
    "            'tol': 0.001,\n",
    "            'verbose': False})\n",
    "\n",
    "# clf = SVC(probability=True, random_state=42)"
   ]
  },
  {
   "cell_type": "code",
   "execution_count": 10,
   "metadata": {},
   "outputs": [],
   "source": [
    "# adding case_id column for case_wise K-fold CV splits\n",
    "imgid2caseid = db.df[['img_id', 'case_id']].set_index('img_id').to_dict()['case_id']\n",
    "features_data['case_id'] = [imgid2caseid[imgid] for imgid in features_data['img_id']]"
   ]
  },
  {
   "cell_type": "code",
   "execution_count": 11,
   "metadata": {},
   "outputs": [],
   "source": [
    "# splitting all candidates between db train and validation partitions\n",
    "\n",
    "all_train_db_ids = db.df[db.df.partition == 'train'].img_id.values\n",
    "all_valid_db_ids = db.df[db.df.partition == 'validation'].img_id.values\n",
    "\n",
    "general_train_mask = features_data.img_id.isin(all_train_db_ids)\n",
    "general_valid_mask = features_data.img_id.isin(all_valid_db_ids)\n",
    "\n",
    "train_features = features_data[general_train_mask]\n",
    "test_features = features_data[general_valid_mask]"
   ]
  },
  {
   "cell_type": "code",
   "execution_count": 12,
   "metadata": {},
   "outputs": [
    {
     "name": "stderr",
     "output_type": "stream",
     "text": [
      "  0%|          | 0/5 [00:00<?, ?it/s]INFO:root:sklearn.svm.SVC.fit: running accelerated version on CPU\n",
      "INFO:root:sklearn.svm.SVC.fit: running accelerated version on CPU\n",
      "INFO:root:sklearn.svm.SVC._predict_proba: running accelerated version on CPU\n",
      "INFO:root:sklearn.svm.SVC.decision_function: running accelerated version on CPU\n",
      "INFO:root:sklearn.svm.SVC._predict_proba: running accelerated version on CPU\n",
      "INFO:root:sklearn.svm.SVC.decision_function: running accelerated version on CPU\n",
      "/tmp/ipykernel_220314/619723861.py:43: SettingWithCopyWarning: \n",
      "A value is trying to be set on a copy of a slice from a DataFrame.\n",
      "Try using .loc[row_indexer,col_indexer] = value instead\n",
      "\n",
      "See the caveats in the documentation: https://pandas.pydata.org/pandas-docs/stable/user_guide/indexing.html#returning-a-view-versus-a-copy\n",
      "  test_df['cv_fold_predict_proba'] = test_y_predicted\n",
      " 20%|██        | 1/5 [00:20<01:20, 20.08s/it]INFO:root:sklearn.svm.SVC.fit: running accelerated version on CPU\n",
      "INFO:root:sklearn.svm.SVC.fit: running accelerated version on CPU\n",
      "INFO:root:sklearn.svm.SVC._predict_proba: running accelerated version on CPU\n",
      "INFO:root:sklearn.svm.SVC.decision_function: running accelerated version on CPU\n",
      "INFO:root:sklearn.svm.SVC._predict_proba: running accelerated version on CPU\n",
      "INFO:root:sklearn.svm.SVC.decision_function: running accelerated version on CPU\n",
      "/tmp/ipykernel_220314/619723861.py:43: SettingWithCopyWarning: \n",
      "A value is trying to be set on a copy of a slice from a DataFrame.\n",
      "Try using .loc[row_indexer,col_indexer] = value instead\n",
      "\n",
      "See the caveats in the documentation: https://pandas.pydata.org/pandas-docs/stable/user_guide/indexing.html#returning-a-view-versus-a-copy\n",
      "  test_df['cv_fold_predict_proba'] = test_y_predicted\n",
      " 40%|████      | 2/5 [00:36<00:53, 17.99s/it]INFO:root:sklearn.svm.SVC.fit: running accelerated version on CPU\n",
      "INFO:root:sklearn.svm.SVC.fit: running accelerated version on CPU\n",
      "INFO:root:sklearn.svm.SVC._predict_proba: running accelerated version on CPU\n",
      "INFO:root:sklearn.svm.SVC.decision_function: running accelerated version on CPU\n",
      "INFO:root:sklearn.svm.SVC._predict_proba: running accelerated version on CPU\n",
      "INFO:root:sklearn.svm.SVC.decision_function: running accelerated version on CPU\n",
      "/tmp/ipykernel_220314/619723861.py:43: SettingWithCopyWarning: \n",
      "A value is trying to be set on a copy of a slice from a DataFrame.\n",
      "Try using .loc[row_indexer,col_indexer] = value instead\n",
      "\n",
      "See the caveats in the documentation: https://pandas.pydata.org/pandas-docs/stable/user_guide/indexing.html#returning-a-view-versus-a-copy\n",
      "  test_df['cv_fold_predict_proba'] = test_y_predicted\n",
      " 60%|██████    | 3/5 [01:04<00:45, 22.55s/it]INFO:root:sklearn.svm.SVC.fit: running accelerated version on CPU\n",
      "INFO:root:sklearn.svm.SVC.fit: running accelerated version on CPU\n",
      "INFO:root:sklearn.svm.SVC._predict_proba: running accelerated version on CPU\n",
      "INFO:root:sklearn.svm.SVC.decision_function: running accelerated version on CPU\n",
      "INFO:root:sklearn.svm.SVC._predict_proba: running accelerated version on CPU\n",
      "INFO:root:sklearn.svm.SVC.decision_function: running accelerated version on CPU\n",
      "/tmp/ipykernel_220314/619723861.py:43: SettingWithCopyWarning: \n",
      "A value is trying to be set on a copy of a slice from a DataFrame.\n",
      "Try using .loc[row_indexer,col_indexer] = value instead\n",
      "\n",
      "See the caveats in the documentation: https://pandas.pydata.org/pandas-docs/stable/user_guide/indexing.html#returning-a-view-versus-a-copy\n",
      "  test_df['cv_fold_predict_proba'] = test_y_predicted\n",
      " 80%|████████  | 4/5 [01:23<00:21, 21.02s/it]INFO:root:sklearn.svm.SVC.fit: running accelerated version on CPU\n",
      "INFO:root:sklearn.svm.SVC.fit: running accelerated version on CPU\n",
      "INFO:root:sklearn.svm.SVC._predict_proba: running accelerated version on CPU\n",
      "INFO:root:sklearn.svm.SVC.decision_function: running accelerated version on CPU\n",
      "INFO:root:sklearn.svm.SVC._predict_proba: running accelerated version on CPU\n",
      "INFO:root:sklearn.svm.SVC.decision_function: running accelerated version on CPU\n",
      "/tmp/ipykernel_220314/619723861.py:43: SettingWithCopyWarning: \n",
      "A value is trying to be set on a copy of a slice from a DataFrame.\n",
      "Try using .loc[row_indexer,col_indexer] = value instead\n",
      "\n",
      "See the caveats in the documentation: https://pandas.pydata.org/pandas-docs/stable/user_guide/indexing.html#returning-a-view-versus-a-copy\n",
      "  test_df['cv_fold_predict_proba'] = test_y_predicted\n",
      "100%|██████████| 5/5 [01:48<00:00, 21.61s/it]\n"
     ]
    }
   ],
   "source": [
    "kfolds = 5\n",
    "FP2TP_rate = 10\n",
    "\n",
    "features = features_sets['all_features']\n",
    "# splitting data into train/validation case-wise\n",
    "all_train_case_ids = train_features.case_id.unique()\n",
    "kfolds_case_splits = np.array_split(all_train_case_ids, kfolds)\n",
    "\n",
    "predicted_test_df = []\n",
    "balanced_train_df = []\n",
    "\n",
    "# kfold CV\n",
    "for valid_case_ids in tqdm(kfolds_case_splits):\n",
    "    \n",
    "    # split data into test\n",
    "    test_split_mask = train_features.case_id.isin(valid_case_ids)\n",
    "    \n",
    "    # split into train and take into account cleaned data with no mC in the borders of the patch\n",
    "    cleaned_features_data = train_features[~test_split_mask]\n",
    "    \n",
    "    # and sampling to a predefined 1:FP2TP_rate TP:FP samples\n",
    "    positive_mask = (cleaned_features_data.label>0)\n",
    "    positive_train_part = cleaned_features_data[positive_mask]\n",
    "    negative_train_part = cleaned_features_data[~positive_mask].sample(FP2TP_rate*positive_mask.sum())\n",
    "    \n",
    "    \n",
    "    train_df = pd.concat([positive_train_part, negative_train_part]).sample(frac=1.)\n",
    "\n",
    "    test_df = train_features[test_split_mask]\n",
    "    \n",
    "    train_y = train_df.label\n",
    "    test_y = test_df.label\n",
    "    \n",
    "    scaler = MinMaxScaler()\n",
    "    train_X_scaled = scaler.fit_transform(train_df[features].values)\n",
    "    test_X_scaled = scaler.transform(test_df[features].values)\n",
    "    \n",
    "    clf.fit(train_X_scaled, train_y)\n",
    "\n",
    "    train_y_predicted = clf.predict_proba(train_X_scaled)[:,1]\n",
    "    test_y_predicted = clf.predict_proba(test_X_scaled)[:,1]\n",
    "    \n",
    "    test_df['cv_fold_predict_proba'] = test_y_predicted\n",
    "    predicted_test_df.append(test_df)\n"
   ]
  },
  {
   "cell_type": "code",
   "execution_count": 13,
   "metadata": {},
   "outputs": [],
   "source": [
    "predicted_test_df = pd.concat(predicted_test_df)"
   ]
  },
  {
   "cell_type": "code",
   "execution_count": 14,
   "metadata": {},
   "outputs": [
    {
     "data": {
      "image/png": "[encoded data removed]",
      "text/plain": [
       "<Figure size 1440x432 with 3 Axes>"
      ]
     },
     "metadata": {
      "needs_background": "light"
     },
     "output_type": "display_data"
    }
   ],
   "source": [
    "fpr, tpr, thrs = roc_curve(predicted_test_df.label, predicted_test_df.cv_fold_predict_proba)\n",
    "\n",
    "prc, rc, thrs_pr = precision_recall_curve(predicted_test_df.label, predicted_test_df.cv_fold_predict_proba)\n",
    "\n",
    "filtered_fp_prc = []\n",
    "total_fp = np.sum(~predicted_test_df.label)\n",
    "for ks in np.linspace(0.001,1,num=1000):\n",
    "\n",
    "    keep_sens_thr = ks\n",
    "    max_conf_thr_required = thrs[np.argmax(tpr>=keep_sens_thr)]\n",
    "\n",
    "    filtered_fp = np.sum((~predicted_test_df.label) & (predicted_test_df.cv_fold_predict_proba <= max_conf_thr_required))/total_fp\n",
    "    filtered_fp_prc.append(filtered_fp)\n",
    "\n",
    "\n",
    "\n",
    "fig, axs = plt.subplots(1, 3, figsize=(20, 6))\n",
    "\n",
    "axs[0].plot(fpr, tpr)\n",
    "axs[0].set_xlabel('FP rate')\n",
    "axs[0].set_ylabel('Sensitivity')\n",
    "axs[0].set_title(f'ROC-AUC={roc_auc_score(predicted_test_df.label, predicted_test_df.cv_fold_predict_proba)}')\n",
    "\n",
    "axs[1].plot(rc, prc)\n",
    "axs[1].set_xlabel('Recall')\n",
    "axs[1].set_ylabel('Precision')\n",
    "axs[1].set_title(f'PR-AUC={auc(rc, prc)}')\n",
    "\n",
    "axs[2].plot(np.linspace(0.001,1,num=1000), filtered_fp_prc)\n",
    "axs[2].set_xlabel('Sensitivity kept')\n",
    "axs[2].set_ylabel('% of FP reduced')\n",
    "plt.show()"
   ]
  },
  {
   "cell_type": "code",
   "execution_count": 15,
   "metadata": {},
   "outputs": [
    {
     "data": {
      "text/plain": [
       "0.499711910857704"
      ]
     },
     "execution_count": 15,
     "metadata": {},
     "output_type": "execute_result"
    }
   ],
   "source": [
    "keep_sens_thr = .98\n",
    "max_conf_thr_required = thrs[np.argmax(tpr>=keep_sens_thr)]\n",
    "\n",
    "filtered_fp = np.sum((~predicted_test_df.label) & (predicted_test_df.cv_fold_predict_proba <= max_conf_thr_required))/total_fp\n",
    "filtered_fp"
   ]
  },
  {
   "cell_type": "markdown",
   "metadata": {},
   "source": [
    "Training final first stage model\n",
    "\n"
   ]
  },
  {
   "cell_type": "code",
   "execution_count": 16,
   "metadata": {},
   "outputs": [
    {
     "name": "stderr",
     "output_type": "stream",
     "text": [
      "INFO:root:sklearn.svm.SVC.fit: running accelerated version on CPU\n",
      "INFO:root:sklearn.svm.SVC.fit: running accelerated version on CPU\n"
     ]
    },
    {
     "data": {
      "text/plain": [
       "Pipeline(steps=[('scaler', MinMaxScaler()),\n",
       "                ('svc',\n",
       "                 SVC(C=10, gamma=0.1, probability=True, random_state=42))])"
      ]
     },
     "execution_count": 16,
     "metadata": {},
     "output_type": "execute_result"
    }
   ],
   "source": [
    "# and sampling to a predefined 1:FP2TP_rate TP:FP samples\n",
    "positive_mask = (train_features.label>0)\n",
    "positive_train_part = train_features[positive_mask]\n",
    "negative_train_part = train_features[~positive_mask].sample(FP2TP_rate*positive_mask.sum())\n",
    "\n",
    "\n",
    "train_df = pd.concat([positive_train_part, negative_train_part]).sample(frac=1.)\n",
    "\n",
    "first_stage_model = Pipeline([('scaler', MinMaxScaler()), ('svc', clf)])\n",
    "first_stage_model.fit(train_df[features], train_df.label)"
   ]
  },
  {
   "cell_type": "markdown",
   "metadata": {},
   "source": [
    "### Second Stage (retraining on harder samples)"
   ]
  },
  {
   "cell_type": "code",
   "execution_count": 18,
   "metadata": {},
   "outputs": [
    {
     "name": "stdout",
     "output_type": "stream",
     "text": [
      "0.003795811478854027\n"
     ]
    }
   ],
   "source": [
    "print(max_conf_thr_required)\n",
    "train_df_stage2 = predicted_test_df[predicted_test_df.cv_fold_predict_proba > max_conf_thr_required]"
   ]
  },
  {
   "cell_type": "code",
   "execution_count": 20,
   "metadata": {},
   "outputs": [
    {
     "name": "stdout",
     "output_type": "stream",
     "text": [
      "202729 102928\n"
     ]
    }
   ],
   "source": [
    "print(len(predicted_test_df), len(train_df_stage2))\n"
   ]
  },
  {
   "cell_type": "code",
   "execution_count": 21,
   "metadata": {},
   "outputs": [
    {
     "name": "stderr",
     "output_type": "stream",
     "text": [
      "  0%|          | 0/5 [00:00<?, ?it/s]INFO:root:sklearn.svm.SVC.fit: running accelerated version on CPU\n",
      "INFO:root:sklearn.svm.SVC.fit: running accelerated version on CPU\n",
      "INFO:root:sklearn.svm.SVC._predict_proba: running accelerated version on CPU\n",
      "INFO:root:sklearn.svm.SVC.decision_function: running accelerated version on CPU\n",
      "INFO:root:sklearn.svm.SVC._predict_proba: running accelerated version on CPU\n",
      "INFO:root:sklearn.svm.SVC.decision_function: running accelerated version on CPU\n",
      "/tmp/ipykernel_220314/2142602122.py:42: SettingWithCopyWarning: \n",
      "A value is trying to be set on a copy of a slice from a DataFrame.\n",
      "Try using .loc[row_indexer,col_indexer] = value instead\n",
      "\n",
      "See the caveats in the documentation: https://pandas.pydata.org/pandas-docs/stable/user_guide/indexing.html#returning-a-view-versus-a-copy\n",
      "  test_df['cv_fold_predict_proba'] = test_y_predicted\n",
      " 20%|██        | 1/5 [00:18<01:12, 18.07s/it]INFO:root:sklearn.svm.SVC.fit: running accelerated version on CPU\n",
      "INFO:root:sklearn.svm.SVC.fit: running accelerated version on CPU\n",
      "INFO:root:sklearn.svm.SVC._predict_proba: running accelerated version on CPU\n",
      "INFO:root:sklearn.svm.SVC.decision_function: running accelerated version on CPU\n",
      "INFO:root:sklearn.svm.SVC._predict_proba: running accelerated version on CPU\n",
      "INFO:root:sklearn.svm.SVC.decision_function: running accelerated version on CPU\n",
      "/tmp/ipykernel_220314/2142602122.py:42: SettingWithCopyWarning: \n",
      "A value is trying to be set on a copy of a slice from a DataFrame.\n",
      "Try using .loc[row_indexer,col_indexer] = value instead\n",
      "\n",
      "See the caveats in the documentation: https://pandas.pydata.org/pandas-docs/stable/user_guide/indexing.html#returning-a-view-versus-a-copy\n",
      "  test_df['cv_fold_predict_proba'] = test_y_predicted\n",
      " 40%|████      | 2/5 [00:31<00:45, 15.21s/it]INFO:root:sklearn.svm.SVC.fit: running accelerated version on CPU\n",
      "INFO:root:sklearn.svm.SVC.fit: running accelerated version on CPU\n",
      "INFO:root:sklearn.svm.SVC._predict_proba: running accelerated version on CPU\n",
      "INFO:root:sklearn.svm.SVC.decision_function: running accelerated version on CPU\n",
      "INFO:root:sklearn.svm.SVC._predict_proba: running accelerated version on CPU\n",
      "INFO:root:sklearn.svm.SVC.decision_function: running accelerated version on CPU\n",
      "/tmp/ipykernel_220314/2142602122.py:42: SettingWithCopyWarning: \n",
      "A value is trying to be set on a copy of a slice from a DataFrame.\n",
      "Try using .loc[row_indexer,col_indexer] = value instead\n",
      "\n",
      "See the caveats in the documentation: https://pandas.pydata.org/pandas-docs/stable/user_guide/indexing.html#returning-a-view-versus-a-copy\n",
      "  test_df['cv_fold_predict_proba'] = test_y_predicted\n",
      " 60%|██████    | 3/5 [00:56<00:39, 19.86s/it]INFO:root:sklearn.svm.SVC.fit: running accelerated version on CPU\n",
      "INFO:root:sklearn.svm.SVC.fit: running accelerated version on CPU\n",
      "INFO:root:sklearn.svm.SVC._predict_proba: running accelerated version on CPU\n",
      "INFO:root:sklearn.svm.SVC.decision_function: running accelerated version on CPU\n",
      "INFO:root:sklearn.svm.SVC._predict_proba: running accelerated version on CPU\n",
      "INFO:root:sklearn.svm.SVC.decision_function: running accelerated version on CPU\n",
      "/tmp/ipykernel_220314/2142602122.py:42: SettingWithCopyWarning: \n",
      "A value is trying to be set on a copy of a slice from a DataFrame.\n",
      "Try using .loc[row_indexer,col_indexer] = value instead\n",
      "\n",
      "See the caveats in the documentation: https://pandas.pydata.org/pandas-docs/stable/user_guide/indexing.html#returning-a-view-versus-a-copy\n",
      "  test_df['cv_fold_predict_proba'] = test_y_predicted\n",
      " 80%|████████  | 4/5 [01:13<00:18, 18.72s/it]INFO:root:sklearn.svm.SVC.fit: running accelerated version on CPU\n",
      "INFO:root:sklearn.svm.SVC.fit: running accelerated version on CPU\n",
      "INFO:root:sklearn.svm.SVC._predict_proba: running accelerated version on CPU\n",
      "INFO:root:sklearn.svm.SVC.decision_function: running accelerated version on CPU\n",
      "INFO:root:sklearn.svm.SVC._predict_proba: running accelerated version on CPU\n",
      "INFO:root:sklearn.svm.SVC.decision_function: running accelerated version on CPU\n",
      "/tmp/ipykernel_220314/2142602122.py:42: SettingWithCopyWarning: \n",
      "A value is trying to be set on a copy of a slice from a DataFrame.\n",
      "Try using .loc[row_indexer,col_indexer] = value instead\n",
      "\n",
      "See the caveats in the documentation: https://pandas.pydata.org/pandas-docs/stable/user_guide/indexing.html#returning-a-view-versus-a-copy\n",
      "  test_df['cv_fold_predict_proba'] = test_y_predicted\n",
      "100%|██████████| 5/5 [01:40<00:00, 20.14s/it]\n"
     ]
    }
   ],
   "source": [
    "kfolds = 5\n",
    "FP2TP_rate = 10\n",
    "\n",
    "features = features_sets['all_features']\n",
    "# splitting data into train/validation case-wise\n",
    "all_train_case_ids = train_df_stage2.case_id.unique()\n",
    "kfolds_case_splits = np.array_split(all_train_case_ids, kfolds)\n",
    "\n",
    "predicted_test_df2 = []\n",
    "\n",
    "# kfold CV\n",
    "for valid_case_ids in tqdm(kfolds_case_splits):\n",
    "    \n",
    "    # split data into test\n",
    "    test_split_mask = train_df_stage2.case_id.isin(valid_case_ids)\n",
    "    \n",
    "    # split into train and take into account cleaned data with no mC in the borders of the patch\n",
    "    cleaned_features_data = train_df_stage2[~test_split_mask]\n",
    "    \n",
    "    # and sampling to a predefined 1:FP2TP_rate TP:FP samples\n",
    "    positive_mask = (cleaned_features_data.label>0)\n",
    "    positive_train_part = cleaned_features_data[positive_mask]\n",
    "    negative_train_part = cleaned_features_data[~positive_mask].sample(FP2TP_rate*positive_mask.sum())\n",
    "    \n",
    "    \n",
    "    train_df = pd.concat([positive_train_part, negative_train_part]).sample(frac=1.)\n",
    "    \n",
    "    test_df = train_df_stage2[test_split_mask]\n",
    "    \n",
    "    train_y = train_df.label\n",
    "    test_y = test_df.label\n",
    "    \n",
    "    scaler = MinMaxScaler()\n",
    "    train_X_scaled = scaler.fit_transform(train_df[features].values)\n",
    "    test_X_scaled = scaler.transform(test_df[features].values)\n",
    "    \n",
    "    clf.fit(train_X_scaled, train_y)\n",
    "\n",
    "    train_y_predicted = clf.predict_proba(train_X_scaled)[:,1]\n",
    "    test_y_predicted = clf.predict_proba(test_X_scaled)[:,1]\n",
    "    \n",
    "    test_df['cv_fold_predict_proba'] = test_y_predicted\n",
    "    predicted_test_df2.append(test_df)\n"
   ]
  },
  {
   "cell_type": "code",
   "execution_count": 22,
   "metadata": {},
   "outputs": [],
   "source": [
    "predicted_test_df2 = pd.concat(predicted_test_df2)"
   ]
  },
  {
   "cell_type": "code",
   "execution_count": 23,
   "metadata": {},
   "outputs": [
    {
     "data": {
      "image/png": "[encoded data removed]",
      "text/plain": [
       "<Figure size 1440x432 with 3 Axes>"
      ]
     },
     "metadata": {
      "needs_background": "light"
     },
     "output_type": "display_data"
    }
   ],
   "source": [
    "fpr, tpr, thrs = roc_curve(predicted_test_df2.label, predicted_test_df2.cv_fold_predict_proba)\n",
    "\n",
    "prc, rc, thrs_pr = precision_recall_curve(predicted_test_df2.label, predicted_test_df2.cv_fold_predict_proba)\n",
    "\n",
    "filtered_fp_prc = []\n",
    "total_fp = np.sum(~predicted_test_df2.label)\n",
    "for ks in np.linspace(0.001,1,num=1000):\n",
    "\n",
    "    keep_sens_thr = ks\n",
    "    max_conf_thr_required = thrs[np.argmax(tpr>=keep_sens_thr)]\n",
    "\n",
    "    filtered_fp = np.sum((~predicted_test_df2.label) & (predicted_test_df2.cv_fold_predict_proba <= max_conf_thr_required))/total_fp\n",
    "    filtered_fp_prc.append(filtered_fp)\n",
    "\n",
    "\n",
    "\n",
    "fig, axs = plt.subplots(1, 3, figsize=(20, 6))\n",
    "\n",
    "axs[0].plot(fpr, tpr)\n",
    "axs[0].set_xlabel('FP rate')\n",
    "axs[0].set_ylabel('Sensitivity')\n",
    "axs[0].set_title(f'ROC-AUC={roc_auc_score(predicted_test_df2.label, predicted_test_df2.cv_fold_predict_proba)}')\n",
    "\n",
    "axs[1].plot(rc, prc)\n",
    "axs[1].set_xlabel('Recall')\n",
    "axs[1].set_ylabel('Precision')\n",
    "axs[1].set_title(f'PR-AUC={auc(rc, prc)}')\n",
    "\n",
    "axs[2].plot(np.linspace(0.001,1,num=1000), filtered_fp_prc)\n",
    "axs[2].set_xlabel('Sensitivity kept')\n",
    "axs[2].set_ylabel('% of FP reduced')\n",
    "plt.show()"
   ]
  },
  {
   "cell_type": "code",
   "execution_count": 24,
   "metadata": {},
   "outputs": [
    {
     "name": "stderr",
     "output_type": "stream",
     "text": [
      "INFO:root:sklearn.svm.SVC.fit: running accelerated version on CPU\n",
      "INFO:root:sklearn.svm.SVC.fit: running accelerated version on CPU\n"
     ]
    },
    {
     "data": {
      "text/plain": [
       "Pipeline(steps=[('scaler', MinMaxScaler()),\n",
       "                ('svc',\n",
       "                 SVC(C=10, gamma=0.1, probability=True, random_state=42))])"
      ]
     },
     "execution_count": 24,
     "metadata": {},
     "output_type": "execute_result"
    }
   ],
   "source": [
    "# and sampling to a predefined 1:FP2TP_rate TP:FP samples\n",
    "positive_mask = (train_df_stage2.label>0)\n",
    "positive_train_part = train_df_stage2[positive_mask]\n",
    "negative_train_part = train_df_stage2[~positive_mask].sample(FP2TP_rate*positive_mask.sum())\n",
    "\n",
    "\n",
    "train_df = pd.concat([positive_train_part, negative_train_part]).sample(frac=1.)\n",
    "\n",
    "second_stage_model = Pipeline([('scaler', MinMaxScaler()), ('svc', clf)])\n",
    "second_stage_model.fit(train_df[features], train_df.label)"
   ]
  },
  {
   "cell_type": "code",
   "execution_count": 72,
   "metadata": {},
   "outputs": [
    {
     "data": {
      "text/plain": [
       "0.029875252603761854"
      ]
     },
     "execution_count": 72,
     "metadata": {},
     "output_type": "execute_result"
    }
   ],
   "source": [
    "train_df_stage2.label.sum()/len(train_df_stage2)"
   ]
  },
  {
   "cell_type": "markdown",
   "metadata": {},
   "source": [
    "### Final comparison between clssifiers"
   ]
  },
  {
   "cell_type": "code",
   "execution_count": 25,
   "metadata": {},
   "outputs": [
    {
     "name": "stderr",
     "output_type": "stream",
     "text": [
      "INFO:root:sklearn.svm.SVC._predict_proba: running accelerated version on CPU\n",
      "INFO:root:sklearn.svm.SVC.decision_function: running accelerated version on CPU\n",
      "INFO:root:sklearn.svm.SVC._predict_proba: running accelerated version on CPU\n",
      "INFO:root:sklearn.svm.SVC.decision_function: running accelerated version on CPU\n"
     ]
    }
   ],
   "source": [
    "val1st_pred = first_stage_model.predict_proba(test_features[features])[:,1]\n",
    "val2st_pred = second_stage_model.predict_proba(test_features[features])[:,1]"
   ]
  },
  {
   "cell_type": "code",
   "execution_count": 26,
   "metadata": {},
   "outputs": [
    {
     "data": {
      "image/png": "[encoded data removed]",
      "text/plain": [
       "<Figure size 1440x432 with 2 Axes>"
      ]
     },
     "metadata": {
      "needs_background": "light"
     },
     "output_type": "display_data"
    }
   ],
   "source": [
    "fpr_train1, tpr_train1, _ = roc_curve(test_features.label, val1st_pred)\n",
    "prc_train1, rc_train1, _ = precision_recall_curve(test_features.label, val1st_pred)\n",
    "\n",
    "fpr_test2, tpr_test2, _ = roc_curve(test_features.label, val2st_pred)\n",
    "prc_test2, rc_test2, _ = precision_recall_curve(test_features.label, val2st_pred)\n",
    "\n",
    "\n",
    "fig, axs = plt.subplots(1, 2, figsize=(20, 6))\n",
    "fig.suptitle('Cascade ROC-AUCS Metrics')\n",
    "axs[0].plot(fpr_train1, tpr_train1)\n",
    "axs[0].plot(fpr_test2, tpr_test2)\n",
    "axs[0].set_xlabel('FP rate')\n",
    "axs[0].set_ylabel('Sensitivity')\n",
    "axs[0].legend([f'1st stage roc-auc={roc_auc_score(test_features.label, val1st_pred, )}',\n",
    "               f'2nd stage roc-auc={roc_auc_score(test_features.label, val2st_pred)}'])\n",
    "\n",
    "axs[1].plot(rc_train1, prc_train1)\n",
    "axs[1].plot(rc_test2, prc_test2)\n",
    "axs[1].set_xlabel('Recall')\n",
    "axs[1].set_ylabel('Precision')\n",
    "axs[1].set_title(f'Cascade PR-AUC scores')\n",
    "axs[1].legend([f'1st stage pr-auc={auc(rc_train1, prc_train1)}',\n",
    "               f'2nd stage pr-auc={auc(rc_test2, prc_test2)}'])\n",
    "\n",
    "\n",
    "plt.show()\n"
   ]
  },
  {
   "cell_type": "code",
   "execution_count": 27,
   "metadata": {},
   "outputs": [],
   "source": [
    "valid_fnsdf = fnsdf[fnsdf.img_id.isin(test_features.img_id.unique())]"
   ]
  },
  {
   "cell_type": "code",
   "execution_count": 28,
   "metadata": {},
   "outputs": [
    {
     "name": "stderr",
     "output_type": "stream",
     "text": [
      "/home/vzalevskyi/anaconda3/lib/python3.9/site-packages/pandas/core/indexing.py:1667: SettingWithCopyWarning: \n",
      "A value is trying to be set on a copy of a slice from a DataFrame.\n",
      "Try using .loc[row_indexer,col_indexer] = value instead\n",
      "\n",
      "See the caveats in the documentation: https://pandas.pydata.org/pandas-docs/stable/user_guide/indexing.html#returning-a-view-versus-a-copy\n",
      "  self.obj[key] = value\n",
      "/home/vzalevskyi/anaconda3/lib/python3.9/site-packages/pandas/core/indexing.py:1817: SettingWithCopyWarning: \n",
      "A value is trying to be set on a copy of a slice from a DataFrame.\n",
      "Try using .loc[row_indexer,col_indexer] = value instead\n",
      "\n",
      "See the caveats in the documentation: https://pandas.pydata.org/pandas-docs/stable/user_guide/indexing.html#returning-a-view-versus-a-copy\n",
      "  self._setitem_single_column(loc, value, pi)\n"
     ]
    }
   ],
   "source": [
    "normal_imgs_ids = db.get_normal_imgs_ids()\n",
    "\n",
    "\n",
    "froc_df_1st = get_froc_df_of_many_imgs_features(\n",
    "    test_features[['candidate_coordinates', 'label', 'img_id', 'matching_gt', 'repeted_idxs']],\n",
    "    valid_fnsdf,\n",
    "    val1st_pred,\n",
    "    normal_imgs_ids\n",
    ")\n",
    "\n",
    "sens1, avgs_fp_per_image1, _ = froc_curve(froc_df_1st, non_max_supression=True, cut_on_50fpi=True)\n",
    "\n",
    "\n",
    "froc_df_2st = get_froc_df_of_many_imgs_features(\n",
    "    test_features[['candidate_coordinates', 'label', 'img_id', 'matching_gt', 'repeted_idxs']],\n",
    "    valid_fnsdf,\n",
    "    val2st_pred,\n",
    "    normal_imgs_ids\n",
    ")\n",
    "\n",
    "sens2, avgs_fp_per_image2, _ = froc_curve(froc_df_2st, non_max_supression=True, cut_on_50fpi=True)"
   ]
  },
  {
   "cell_type": "code",
   "execution_count": 29,
   "metadata": {},
   "outputs": [
    {
     "data": {
      "image/png": "[encoded data removed]",
      "text/plain": [
       "<Figure size 1080x720 with 2 Axes>"
      ]
     },
     "metadata": {
      "needs_background": "light"
     },
     "output_type": "display_data"
    }
   ],
   "source": [
    "\n",
    "fig, axs = plt.subplots(1, 2, figsize=(15, 10))\n",
    "plot_froc(avgs_fp_per_image1, sens1, label='1st stage', title='FROC 1st stage', cut_on_50fpi=True, ax=axs[0])\n",
    "\n",
    "\n",
    "\n",
    "\n",
    "plot_froc(avgs_fp_per_image2, sens2, label='2nd stage', title='FROC 2nd stage', cut_on_50fpi=True, ax=axs[1])"
   ]
  },
  {
   "cell_type": "markdown",
   "metadata": {},
   "source": [
    "# Removing bad labels"
   ]
  },
  {
   "cell_type": "code",
   "execution_count": 30,
   "metadata": {},
   "outputs": [
    {
     "data": {
      "image/png": "[encoded data removed]",
      "text/plain": [
       "<Figure size 1152x288 with 3 Axes>"
      ]
     },
     "metadata": {
      "needs_background": "light"
     },
     "output_type": "display_data"
    }
   ],
   "source": [
    "fig, axs = plt.subplots(1, 3, figsize=(16, 4))\n",
    "\n",
    "fig.suptitle('Confidence distribution per label type')\n",
    "\n",
    "sns.histplot(predicted_test_df[predicted_test_df.label].cv_fold_predict_proba, color='g', ax=axs[0])\n",
    "sns.histplot(predicted_test_df[~predicted_test_df.label].cv_fold_predict_proba, color='r', ax=axs[0])\n",
    "axs[0].legend(['positives', 'negatives'])\n",
    "\n",
    "sns.histplot(predicted_test_df[predicted_test_df.label].cv_fold_predict_proba, color='g', bins=100, ax=axs[1])\n",
    "axs[1].legend(['positives (candidates with mC)'])\n",
    "\n",
    "sns.histplot(predicted_test_df[~predicted_test_df.label].cv_fold_predict_proba, color='r', ax=axs[2])\n",
    "axs[2].legend(['negatives (candidate without mC)'])\n",
    "\n",
    "plt.show()"
   ]
  },
  {
   "cell_type": "code",
   "execution_count": 31,
   "metadata": {},
   "outputs": [
    {
     "data": {
      "text/plain": [
       "<AxesSubplot:xlabel='cv_fold_predict_proba', ylabel='Count'>"
      ]
     },
     "execution_count": 31,
     "metadata": {},
     "output_type": "execute_result"
    },
    {
     "data": {
      "image/png": "[encoded data removed]",
      "text/plain": [
       "<Figure size 432x288 with 1 Axes>"
      ]
     },
     "metadata": {
      "needs_background": "light"
     },
     "output_type": "display_data"
    }
   ],
   "source": [
    "sns.histplot(predicted_test_df[(~predicted_test_df.label)&(predicted_test_df.cv_fold_predict_proba > 0.05)].cv_fold_predict_proba, color='r')"
   ]
  },
  {
   "cell_type": "code",
   "execution_count": 32,
   "metadata": {},
   "outputs": [
    {
     "name": "stdout",
     "output_type": "stream",
     "text": [
      "0.9909090460664236\n"
     ]
    }
   ],
   "source": [
    "remove_pos_thr = 0.4\n",
    "remove_neg_thr = 0.6\n",
    "\n",
    "good_positives = (predicted_test_df.label)&(predicted_test_df.cv_fold_predict_proba > remove_pos_thr)\n",
    "good_negatives = (~predicted_test_df.label)&(predicted_test_df.cv_fold_predict_proba < remove_neg_thr)\n",
    "\n",
    "cleaned_train_df = predicted_test_df[good_positives|good_negatives]\n",
    "\n",
    "print(len(cleaned_train_df)/len(predicted_test_df))"
   ]
  },
  {
   "cell_type": "code",
   "execution_count": 33,
   "metadata": {},
   "outputs": [
    {
     "name": "stderr",
     "output_type": "stream",
     "text": [
      "INFO:root:sklearn.svm.SVC.fit: running accelerated version on CPU\n",
      "INFO:root:sklearn.svm.SVC.fit: running accelerated version on CPU\n"
     ]
    },
    {
     "data": {
      "text/plain": [
       "Pipeline(steps=[('scaler', MinMaxScaler()),\n",
       "                ('svc',\n",
       "                 SVC(C=10, gamma=0.1, probability=True, random_state=42))])"
      ]
     },
     "execution_count": 33,
     "metadata": {},
     "output_type": "execute_result"
    }
   ],
   "source": [
    "positive_mask = (cleaned_train_df.label>0)\n",
    "positive_train_part = cleaned_train_df[positive_mask]\n",
    "negative_train_part = cleaned_train_df[~positive_mask].sample(FP2TP_rate*positive_mask.sum())\n",
    "\n",
    "\n",
    "train_df = pd.concat([positive_train_part, negative_train_part]).sample(frac=1.)\n",
    "\n",
    "cleaned_data_model = Pipeline([('scaler', MinMaxScaler()), ('svc', clf)])\n",
    "cleaned_data_model.fit(train_df[features], train_df.label)"
   ]
  },
  {
   "cell_type": "code",
   "execution_count": 34,
   "metadata": {},
   "outputs": [
    {
     "name": "stderr",
     "output_type": "stream",
     "text": [
      "INFO:root:sklearn.svm.SVC._predict_proba: running accelerated version on CPU\n",
      "INFO:root:sklearn.svm.SVC.decision_function: running accelerated version on CPU\n"
     ]
    }
   ],
   "source": [
    "cleaned_data_model_pred = cleaned_data_model.predict_proba(test_features[features])[:,1]"
   ]
  },
  {
   "cell_type": "code",
   "execution_count": 35,
   "metadata": {},
   "outputs": [
    {
     "name": "stderr",
     "output_type": "stream",
     "text": [
      "/home/vzalevskyi/anaconda3/lib/python3.9/site-packages/pandas/core/indexing.py:1817: SettingWithCopyWarning: \n",
      "A value is trying to be set on a copy of a slice from a DataFrame.\n",
      "Try using .loc[row_indexer,col_indexer] = value instead\n",
      "\n",
      "See the caveats in the documentation: https://pandas.pydata.org/pandas-docs/stable/user_guide/indexing.html#returning-a-view-versus-a-copy\n",
      "  self._setitem_single_column(loc, value, pi)\n"
     ]
    },
    {
     "data": {
      "image/png": "[encoded data removed]",
      "text/plain": [
       "<Figure size 1440x432 with 3 Axes>"
      ]
     },
     "metadata": {
      "needs_background": "light"
     },
     "output_type": "display_data"
    }
   ],
   "source": [
    "fpr, tpr, thrs = roc_curve(test_features.label, cleaned_data_model_pred)\n",
    "\n",
    "prc, rc, thrs_pr = precision_recall_curve(test_features.label,cleaned_data_model_pred)\n",
    "\n",
    "\n",
    "\n",
    "froc_df_1st = get_froc_df_of_many_imgs_features(\n",
    "    test_features[['candidate_coordinates', 'label', 'img_id', 'matching_gt', 'repeted_idxs']],\n",
    "    valid_fnsdf,\n",
    "    cleaned_data_model_pred,\n",
    "    normal_imgs_ids\n",
    ")\n",
    "\n",
    "sens1, avgs_fp_per_image1, _ = froc_curve(froc_df_1st, non_max_supression=True, cut_on_50fpi=True)\n",
    "\n",
    "\n",
    "\n",
    "\n",
    "\n",
    "fig, axs = plt.subplots(1, 3, figsize=(20, 6))\n",
    "\n",
    "axs[0].plot(fpr, tpr)\n",
    "axs[0].set_xlabel('FP rate')\n",
    "axs[0].set_ylabel('Sensitivity')\n",
    "axs[0].set_title(f'ROC-AUC={roc_auc_score(test_features.label, cleaned_data_model_pred)}')\n",
    "\n",
    "axs[1].plot(rc, prc)\n",
    "axs[1].set_xlabel('Recall')\n",
    "axs[1].set_ylabel('Precision')\n",
    "axs[1].set_title(f'PR-AUC={auc(rc, prc)}')\n",
    "\n",
    "plot_froc(avgs_fp_per_image1, sens1, label='2nd stage', title='FROC with non-max-supression', cut_on_50fpi=True, ax=axs[2])\n",
    "\n",
    "plt.show()"
   ]
  },
  {
   "cell_type": "markdown",
   "metadata": {},
   "source": [
    "# Looking into bad results"
   ]
  },
  {
   "cell_type": "code",
   "execution_count": 36,
   "metadata": {},
   "outputs": [
    {
     "name": "stderr",
     "output_type": "stream",
     "text": [
      "/tmp/ipykernel_220314/2031025059.py:1: SettingWithCopyWarning: \n",
      "A value is trying to be set on a copy of a slice from a DataFrame.\n",
      "Try using .loc[row_indexer,col_indexer] = value instead\n",
      "\n",
      "See the caveats in the documentation: https://pandas.pydata.org/pandas-docs/stable/user_guide/indexing.html#returning-a-view-versus-a-copy\n",
      "  test_features['confidence'] = val2st_pred\n"
     ]
    }
   ],
   "source": [
    "test_features['confidence'] = val2st_pred\n",
    "\n",
    "test_df = test_features"
   ]
  },
  {
   "cell_type": "code",
   "execution_count": 37,
   "metadata": {},
   "outputs": [
    {
     "name": "stderr",
     "output_type": "stream",
     "text": [
      "  5%|▌         | 5/100 [00:10<03:09,  2.00s/it]/tmp/ipykernel_112095/3175446880.py:24: UserWarning: Attempting to set identical left == right == -0.5 results in singular transformations; automatically expanding.\n",
      "  axs[didx, 0].imshow(test_img[ppx1-delta:ppx2+delta,  ppy1-delta:ppy2+delta], cmap='gray')\n",
      "/tmp/ipykernel_112095/3175446880.py:28: UserWarning: Attempting to set identical left == right == -0.5 results in singular transformations; automatically expanding.\n",
      "  axs[didx, 1].imshow(test_mask[ppx1-delta:ppx2+delta, ppy1-delta:ppy2+delta], cmap='gray', vmin=0)\n",
      "/tmp/ipykernel_112095/3175446880.py:32: UserWarning: Attempting to set identical left == right == -0.5 results in singular transformations; automatically expanding.\n",
      "  axs[didx, 2].imshow(original_test_mask[ppx1-delta:ppx2+delta, ppy1-delta:ppy2+delta]>0, cmap='gray', vmin=0)\n",
      "100%|██████████| 100/100 [03:32<00:00,  2.12s/it]\n"
     ]
    }
   ],
   "source": [
    "bad_res_FP = test_df[~test_df.label].sort_values(by=['confidence'], ascending=False).drop(columns=features_sets['all_features'])\n",
    "bad_res_FN = test_df[test_df.label].sort_values(by=['confidence'], ascending=True).drop(columns=features_sets['all_features'])\n",
    "\n",
    "bad_res_FN_normals = bad_res_FN[bad_res_FN.img_id.isin(db.get_normal_imgs_ids())]\n",
    "bad_res_FP_normals = bad_res_FP[bad_res_FP.img_id.isin(db.get_normal_imgs_ids())]\n",
    "\n",
    "\n",
    "for _, bad_res in tqdm(bad_res_FN.head(100).iterrows(), total=100):\n",
    "    img_id = bad_res['img_id']\n",
    "    test_img_id = db.df[db.df.img_id == img_id].index.values[0] #((2767, 2781), (1029, 1043))\t\n",
    "    test_img = db[test_img_id]['img']\n",
    "    test_mask = db[test_img_id]['lesion_mask']\n",
    "    \n",
    "    original_test_mask = cv2.imread(str(db.full_mask_path/f'{img_id}_lesion_mask.png'), cv2.IMREAD_GRAYSCALE)\n",
    "    (ppx1, ppx2), (ppy1, ppy2)= bad_res['patch_coordinates']\n",
    "\n",
    "    if original_test_mask is not None:\n",
    "        fig, axs = plt.subplots(4,3, figsize=(20, 8))\n",
    "        if db.img_df[db.img_df.img_id == img_id]['side'].values[0] == \"R\":\n",
    "            original_test_mask = cv2.flip(original_test_mask, 1)\n",
    "    else:\n",
    "        fig, axs = plt.subplots(4,2, figsize=(20, 8))\n",
    "    for didx, delta in enumerate([0, 10, 50, 100]):\n",
    "        axs[didx, 0].imshow(test_img[ppx1-delta:ppx2+delta,  ppy1-delta:ppy2+delta], cmap='gray')\n",
    "        axs[didx, 0].axis('off')\n",
    "        axs[didx, 0].set_title(f'Original zoom=-{delta}')\n",
    "\n",
    "        axs[didx, 1].imshow(test_mask[ppx1-delta:ppx2+delta, ppy1-delta:ppy2+delta], cmap='gray', vmin=0)\n",
    "        axs[didx, 1].axis('off')\n",
    "        axs[didx, 1].set_title(f'INBreast DB mask zoom=-{delta}')\n",
    "        if original_test_mask is not None:\n",
    "            axs[didx, 2].imshow(original_test_mask[ppx1-delta:ppx2+delta, ppy1-delta:ppy2+delta]>0, cmap='gray', vmin=0)\n",
    "            axs[didx, 2].axis('off')\n",
    "            axs[didx, 2].set_title(f'Original DB mask zoom=-{delta}')\n",
    "    plt.savefig(f'bad_res_FN/conf={bad_res[\"confidence\"]}_{img_id}_{_}.jpg', bbox_inches=\"tight\", dpi=600, pad_inches=0, transparent=False)\n",
    "    plt.close(fig)"
   ]
  },
  {
   "cell_type": "code",
   "execution_count": 63,
   "metadata": {},
   "outputs": [
    {
     "name": "stderr",
     "output_type": "stream",
     "text": [
      " 26%|██▌       | 16/62 [00:07<00:21,  2.17it/s]\n"
     ]
    },
    {
     "ename": "KeyboardInterrupt",
     "evalue": "",
     "output_type": "error",
     "traceback": [
      "\u001b[0;31m---------------------------------------------------------------------------\u001b[0m",
      "\u001b[0;31mKeyboardInterrupt\u001b[0m                         Traceback (most recent call last)",
      "\u001b[0;32m/tmp/ipykernel_220314/700046042.py\u001b[0m in \u001b[0;36m<module>\u001b[0;34m\u001b[0m\n\u001b[1;32m     18\u001b[0m                                      )\n\u001b[1;32m     19\u001b[0m \u001b[0;34m\u001b[0m\u001b[0m\n\u001b[0;32m---> 20\u001b[0;31m     \u001b[0mcv2\u001b[0m\u001b[0;34m.\u001b[0m\u001b[0mimwrite\u001b[0m\u001b[0;34m(\u001b[0m\u001b[0;34mf'/home/vzalevskyi/projects/data/detection_results/{img_id}.png'\u001b[0m\u001b[0;34m,\u001b[0m \u001b[0mres_img\u001b[0m\u001b[0;34m)\u001b[0m\u001b[0;34m\u001b[0m\u001b[0;34m\u001b[0m\u001b[0m\n\u001b[0m\u001b[1;32m     21\u001b[0m     \u001b[0mplt\u001b[0m\u001b[0;34m.\u001b[0m\u001b[0mclose\u001b[0m\u001b[0;34m(\u001b[0m\u001b[0;34m)\u001b[0m\u001b[0;34m\u001b[0m\u001b[0;34m\u001b[0m\u001b[0m\n",
      "\u001b[0;31mKeyboardInterrupt\u001b[0m: "
     ]
    }
   ],
   "source": [
    "for img_id in tqdm(test_features.img_id.unique()):\n",
    "    test_img_id = db.df[db.df.img_id == img_id].index.values[0] #((2767, 2781), (1029, 1043))\t\n",
    "    test_img = db[test_img_id]['img']\n",
    "    \n",
    "    fn_cand = fnsdf[fnsdf.img_id == img_id][['x', 'y', 'radius']].values.astype(int)\n",
    "    tp_can = test_features[(test_features.img_id == img_id)&(test_features.label)&(test_features.confidence>=0.5)]\n",
    "    fn_extra_can = test_features[(test_features.img_id == img_id)&(test_features.label)&(test_features.confidence<0.5)]\n",
    "    fp_extra_can = test_features[(test_features.img_id == img_id)&(~test_features.label)&(test_features.confidence>=0.5)]\n",
    "    \n",
    "    tp_can_coords = np.stack(tp_can.patch_coordinates.values) if len(tp_can) else []\n",
    "    fn_extra_can_coords = np.stack(fn_extra_can.patch_coordinates.values) if len(fn_extra_can) else []\n",
    "    fp_extra_can_coords = np.stack(fp_extra_can.patch_coordinates) if len(fp_extra_can) else []\n",
    "        \n",
    "    res_img = plot_bboxes_over_image(test_img,\n",
    "                                     [fn_cand, tp_can_coords],\n",
    "                                     [(0, 0, 255), (0, 255, 0)], \n",
    "                                     ['circ', 'rect'],\n",
    "                                     )\n",
    "    \n",
    "    cv2.imwrite(f'/home/vzalevskyi/projects/data/detection_results/{img_id}.png', res_img)\n",
    "    plt.close()"
   ]
  },
  {
   "cell_type": "code",
   "execution_count": null,
   "metadata": {},
   "outputs": [],
   "source": [
    "cv2.rectangle()"
   ]
  },
  {
   "cell_type": "code",
   "execution_count": 70,
   "metadata": {},
   "outputs": [
    {
     "data": {
      "text/html": [
       "<div>\n",
       "<style scoped>\n",
       "    .dataframe tbody tr th:only-of-type {\n",
       "        vertical-align: middle;\n",
       "    }\n",
       "\n",
       "    .dataframe tbody tr th {\n",
       "        vertical-align: top;\n",
       "    }\n",
       "\n",
       "    .dataframe thead th {\n",
       "        text-align: right;\n",
       "    }\n",
       "</style>\n",
       "<table border=\"1\" class=\"dataframe\">\n",
       "  <thead>\n",
       "    <tr style=\"text-align: right;\">\n",
       "      <th></th>\n",
       "      <th>haar_0</th>\n",
       "      <th>haar_1</th>\n",
       "      <th>haar_2</th>\n",
       "      <th>haar_3</th>\n",
       "      <th>haar_4</th>\n",
       "      <th>haar_5</th>\n",
       "      <th>haar_6</th>\n",
       "      <th>haar_7</th>\n",
       "      <th>haar_8</th>\n",
       "      <th>haar_9</th>\n",
       "      <th>...</th>\n",
       "      <th>patch_glcm_dissimilarity_HH1_1</th>\n",
       "      <th>patch_glcm_dissimilarity_HH1_2</th>\n",
       "      <th>candidate_coordinates</th>\n",
       "      <th>patch_coordinates</th>\n",
       "      <th>img_id</th>\n",
       "      <th>repeted_idxs</th>\n",
       "      <th>matching_gt</th>\n",
       "      <th>label</th>\n",
       "      <th>case_id</th>\n",
       "      <th>confidence</th>\n",
       "    </tr>\n",
       "  </thead>\n",
       "  <tbody>\n",
       "    <tr>\n",
       "      <th>94394</th>\n",
       "      <td>-0.259922</td>\n",
       "      <td>-0.49902</td>\n",
       "      <td>0.205781</td>\n",
       "      <td>0.44929</td>\n",
       "      <td>0.380451</td>\n",
       "      <td>-0.540176</td>\n",
       "      <td>0.27462</td>\n",
       "      <td>0.362812</td>\n",
       "      <td>0.545566</td>\n",
       "      <td>-0.301078</td>\n",
       "      <td>...</td>\n",
       "      <td>76.25</td>\n",
       "      <td>62.257143</td>\n",
       "      <td>[1606, 2075, 3]</td>\n",
       "      <td>[[2068, 2082], [1599, 1613]]</td>\n",
       "      <td>24055877</td>\n",
       "      <td>0.0</td>\n",
       "      <td>1.0</td>\n",
       "      <td>True</td>\n",
       "      <td>839819f2eadaf325</td>\n",
       "      <td>0.961671</td>\n",
       "    </tr>\n",
       "  </tbody>\n",
       "</table>\n",
       "<p>1 rows × 659 columns</p>\n",
       "</div>"
      ],
      "text/plain": [
       "         haar_0   haar_1    haar_2   haar_3    haar_4    haar_5   haar_6  \\\n",
       "94394 -0.259922 -0.49902  0.205781  0.44929  0.380451 -0.540176  0.27462   \n",
       "\n",
       "         haar_7    haar_8    haar_9  ...  patch_glcm_dissimilarity_HH1_1  \\\n",
       "94394  0.362812  0.545566 -0.301078  ...                           76.25   \n",
       "\n",
       "       patch_glcm_dissimilarity_HH1_2  candidate_coordinates  \\\n",
       "94394                       62.257143        [1606, 2075, 3]   \n",
       "\n",
       "                  patch_coordinates    img_id  repeted_idxs  matching_gt  \\\n",
       "94394  [[2068, 2082], [1599, 1613]]  24055877           0.0          1.0   \n",
       "\n",
       "       label           case_id  confidence  \n",
       "94394   True  839819f2eadaf325    0.961671  \n",
       "\n",
       "[1 rows x 659 columns]"
      ]
     },
     "execution_count": 70,
     "metadata": {},
     "output_type": "execute_result"
    }
   ],
   "source": [
    "tp_can"
   ]
  },
  {
   "cell_type": "code",
   "execution_count": 61,
   "metadata": {},
   "outputs": [
    {
     "data": {
      "text/plain": [
       "array([[ 790., 2008.,    0.],\n",
       "       [ 526.,  706.,    0.],\n",
       "       [ 532.,  222.,    0.],\n",
       "       [ 541.,  225.,    0.],\n",
       "       [  89., 2847.,    0.]])"
      ]
     },
     "execution_count": 61,
     "metadata": {},
     "output_type": "execute_result"
    }
   ],
   "source": [
    "    res_img = plot_bboxes_over_image(test_img,\n",
    "                                     [fn_cand, tp_can_coords, fn_extra_can_coords, fp_extra_can_coords],\n",
    "                                     [(0, 0, 255), (0, 255, 0), (0, 137, 255), (52, 235, 204)], \n",
    "                                     ['circ', 'rect', 'rect', 'rect'],\n",
    "                                     )"
   ]
  },
  {
   "cell_type": "code",
   "execution_count": null,
   "metadata": {},
   "outputs": [],
   "source": [
    "# text=[['not_detected']*len(fn_cand),\n",
    "#                                            tp_can.confidence.astype(str),\n",
    "#                                            fn_extra_can.confidence.astype(str),\n",
    "#                                            fp_extra_can.confidence.astype(str),\n",
    "#                                            ]"
   ]
  },
  {
   "cell_type": "code",
   "execution_count": 51,
   "metadata": {},
   "outputs": [],
   "source": [
    "import cv2\n",
    "import numpy as np\n",
    "import matplotlib.pyplot as plt\n",
    "import seaborn as sns\n",
    "import math\n",
    "\n",
    "from sklearn.metrics import auc\n",
    "from matplotlib.lines import Line2D\n",
    "from scipy.ndimage.morphology import binary_fill_holes\n",
    "from feature_extraction.haar_features.haar_modules import Feature\n",
    "import general_utils.utils as utils\n",
    "\n",
    "def plot_blobs_2_sets(\n",
    "    image: np.ndarray, blobs_a: np.ndarray, blobs_b: np.ndarray, ax=None,\n",
    "    label_a: str = 'set 1', label_b: str = 'set 2'\n",
    "):\n",
    "    \"\"\"Overlay two sets of blob circles over the image.\n",
    "    Args:\n",
    "        image (np.ndarray): image to which overlay the blobs\n",
    "        blobs_a (np.ndarray): blobs to overlay over the image in red\n",
    "            each row is a candidate (x, y, radius)\n",
    "        blobs_b (np.ndarray): blobs to overlay over the image in green.\n",
    "            each row is a candidate (x, y, radius)\n",
    "        ax (ax element, optional): To use in subplots. Defaults to None.\n",
    "        label_a (str, optional): Name for the first set. Defaults to 'set 1'.\n",
    "        label_b (str, optional): Name for the second set. Defaults to 'set 2'.\n",
    "    \"\"\"\n",
    "    legend_elements = [\n",
    "        Line2D(\n",
    "            [0], [0], marker='o', ls='None', c='w', label=label_a, mfc='k', mec='r', ms=10, mew=2),\n",
    "        Line2D(\n",
    "            [0], [0], marker='o', ls='None', c='w', label=label_b, mfc='k', mec='g', ms=10, mew=2)\n",
    "    ]\n",
    "    if ax is None:\n",
    "        f, ax = plt.subplots(1, 1, figsize=(20, 20))\n",
    "    # image = min_max_norm(image, 255)\n",
    "    image = image.astype('uint8')\n",
    "    image = cv2.cvtColor(image, cv2.COLOR_GRAY2BGR)\n",
    "    for blob in blobs_a:\n",
    "        x, y, r = blob\n",
    "        x, y = int(x), int(y)\n",
    "        image = cv2.circle(\n",
    "            image, (x, y), int(math.sqrt(2) * r)+10, (255, 0, 0), 2\n",
    "        )\n",
    "    for blob in blobs_b:\n",
    "        x, y, r = blob\n",
    "        x, y = int(x), int(y)\n",
    "        image = cv2.circle(\n",
    "            image, (x, y), int(math.sqrt(2) * r)+25, (0, 255, 0), 2\n",
    "        )\n",
    "    return image"
   ]
  },
  {
   "cell_type": "code",
   "execution_count": 52,
   "metadata": {},
   "outputs": [],
   "source": [
    "\n",
    "\n",
    "def plot_bboxes_over_image(image, bboxes, colors, types, text=None, thickness=2, alpha=0.2):\n",
    "    \"\"\"Overimposes bboxes on the image. Can work with multiple groups and types of bboxes.\n",
    "    Args:\n",
    "        image (np.ndarray): Single channel grayscale image for overimposition.\n",
    "        bboxes (list[np.ndarray]): List of bboxes. Each element of the list\n",
    "            should have one of the specific shapes depending of bbox type:\n",
    "                (n_bboxes, top_left_coord, top_right_coordinate) - 'rect' type, where\n",
    "                    top_left_coord, top_right_coordinate - are tuples with 2 integer coords\n",
    "                (n_bboxes, centre_x, centre_y, radius) - 'circ' type\n",
    "                    center coordinates - and radiuses should be integers\n",
    "        colors (list[tuple]): List of colors to be assigned to the bboxes. In BGR convention.\n",
    "        types (list[str]): List of bbox types: 'rect' OR 'circ'.\n",
    "        thickness (int, optional): Bbox plot thickness. Defaults to 2.\n",
    "        alpha (float, optional): Transparency of the bboxes. Defaults to 0.2.\n",
    "\n",
    "    Returns:\n",
    "        np.ndaray: 3 channel colored image with overimposed bboxes\n",
    "    \"\"\"\n",
    "    img_bgr = (255*(image/image.max())).astype(np.uint8)\n",
    "    img_bgr = cv2.cvtColor(img_bgr, cv2.COLOR_GRAY2RGB)\n",
    "\n",
    "    for bbox_group_idx, bbox_group in enumerate(bboxes):\n",
    "        bbox_mask = np.zeros_like(img_bgr, dtype=np.uint8)\n",
    "        for bbox_idx, bbox in enumerate(bbox_group):\n",
    "            if types[bbox_group_idx] == 'rect':\n",
    "                bbox_mask = cv2.rectangle(bbox_mask, bbox[0], bbox[1],\n",
    "                                          color=colors[bbox_group_idx],\n",
    "                                          thickness=thickness)\n",
    "            elif types[bbox_group_idx] == 'circ':\n",
    "                bbox_mask = cv2.circle(bbox_mask, (bbox[0], bbox[1]),\n",
    "                                       bbox[2], color=colors[bbox_group_idx],\n",
    "                                       thickness=thickness)\n",
    "            if text is not None:\n",
    "                cv2.putText(img=img_bgr, text=text[bbox_group_idx][bbox_group_idx], org=(bbox[0]-3, bbox[1]-3), fontFace=cv2.FONT_HERSHEY_TRIPLEX, fontScale=3, color=(0, 255, 0),thickness=3)\n",
    "\n",
    "        beta = 1 - alpha\n",
    "        img_bgr = cv2.addWeighted(img_bgr, beta, bbox_mask, alpha, 0.0)\n",
    "    return img_bgr\n"
   ]
  },
  {
   "cell_type": "code",
   "execution_count": null,
   "metadata": {},
   "outputs": [],
   "source": []
  }
 ],
 "metadata": {
  "kernelspec": {
   "display_name": "Python 3.9.7 ('base')",
   "language": "python",
   "name": "python3"
  },
  "language_info": {
   "codemirror_mode": {
    "name": "ipython",
    "version": 3
   },
   "file_extension": ".py",
   "mimetype": "text/x-python",
   "name": "python",
   "nbconvert_exporter": "python",
   "pygments_lexer": "ipython3",
   "version": "3.9.7"
  },
  "orig_nbformat": 4,
  "vscode": {
   "interpreter": {
    "hash": "aab0ec0e679e9c9fe5e8a1739a642d8456688678f7924db8d58b62c9618a230e"
   }
  }
 },
 "nbformat": 4,
 "nbformat_minor": 2
}
