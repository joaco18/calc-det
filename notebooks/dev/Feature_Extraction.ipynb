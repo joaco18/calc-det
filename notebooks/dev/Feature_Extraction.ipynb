{
 "cells": [
  {
   "cell_type": "markdown",
   "metadata": {},
   "source": [
    "## Feature Extaction Test"
   ]
  },
  {
   "cell_type": "code",
   "execution_count": 1,
   "metadata": {},
   "outputs": [],
   "source": [
    "import sys\n",
    "sys.path.insert(0, '../..')\n",
    "from metrics.metrics_utils import get_tp_fp_fn_center_patch_criteria\n",
    "from general_utils.plots import plot_bboxes_over_image, simple_im_show, simple_im_show2\n",
    "from candidate_proposal.hough_mc import HoughCalcificationDetection\n",
    "from candidate_proposal.morphology_mc import MorphologyCalcificationDetection, GSM_DEFAULT_PARAMS\n",
    "from feature_extraction.feature_extraction import  CandidatesFeatureExtraction_MP\n",
    "from database.dataset import *\n",
    "import feature_extraction.haar_features.haar_modules as hm\n",
    "\n",
    "import pickle"
   ]
  },
  {
   "cell_type": "markdown",
   "metadata": {},
   "source": [
    "### Database initialization"
   ]
  },
  {
   "cell_type": "code",
   "execution_count": 2,
   "metadata": {},
   "outputs": [],
   "source": [
    "db = INBreast_Dataset(\n",
    "    return_lesions_mask=True,\n",
    "    level='image',\n",
    "    max_lesion_diam_mm=None,\n",
    "    extract_patches=False,\n",
    "    partitions=['train', 'validation'],\n",
    "    lesion_types=['calcification', 'cluster'],\n",
    "    cropped_imgs=True,\n",
    "    keep_just_images_of_lesion_type=False,\n",
    "    use_muscle_mask=False,\n",
    "    ignore_diameter_px=15\n",
    ")\n"
   ]
  },
  {
   "cell_type": "markdown",
   "metadata": {},
   "source": [
    "### Detectors Parameters and initialization"
   ]
  },
  {
   "cell_type": "code",
   "execution_count": 3,
   "metadata": {},
   "outputs": [],
   "source": [
    "cfe = CandidatesFeatureExtraction_MP()"
   ]
  },
  {
   "cell_type": "code",
   "execution_count": 4,
   "metadata": {},
   "outputs": [],
   "source": [
    "db_range = list(range(len(db)))"
   ]
  },
  {
   "cell_type": "markdown",
   "metadata": {},
   "source": [
    "### Detector initialization"
   ]
  },
  {
   "cell_type": "markdown",
   "metadata": {},
   "source": [
    "## FE"
   ]
  },
  {
   "cell_type": "markdown",
   "metadata": {},
   "source": [
    "### Hough"
   ]
  },
  {
   "cell_type": "code",
   "execution_count": 9,
   "metadata": {},
   "outputs": [],
   "source": [
    "hd = HoughCalcificationDetection()"
   ]
  },
  {
   "cell_type": "code",
   "execution_count": 10,
   "metadata": {},
   "outputs": [
    {
     "name": "stderr",
     "output_type": "stream",
     "text": [
      " 77%|███████▋  | 161/210 [2:46:11<1:00:33, 74.15s/it]"
     ]
    },
    {
     "ename": "",
     "evalue": "",
     "output_type": "error",
     "traceback": [
      "\u001b[1;31mThe Kernel crashed while executing code in the the current cell or a previous cell. Please review the code in the cell(s) to identify a possible cause of the failure. Click <a href='https://aka.ms/vscodeJupyterKernelCrash'>here</a> for more info. View Jupyter <a href='command:jupyter.viewOutput'>log</a> for further details."
     ]
    },
    {
     "ename": "",
     "evalue": "",
     "output_type": "error",
     "traceback": [
      "\u001b[1;31mCanceled future for execute_request message before replies were done"
     ]
    }
   ],
   "source": [
    "data_path = Path.cwd().parent.parent.parent/'data/features/hough'\n",
    "\n",
    "fdf = []\n",
    "fns_df = []\n",
    "ingnored_df = []\n",
    "\n",
    "batch = 1\n",
    "\n",
    "for idx in tqdm(db_range[:]):\n",
    "    # extracting data\n",
    "    db_sample = db[idx]\n",
    "    image = db_sample['img']\n",
    "    image_id = db.df.iloc[idx].img_id\n",
    "    image_mask = db_sample['lesion_mask']\n",
    "\n",
    "    # candidate selection\n",
    "    candidates = hd.detect(image, image_id, load_processed_images=True, hough2=False)\n",
    "     # labeling of candidates:\n",
    "    tp, fp, fn, ignored_candidates = get_tp_fp_fn_center_patch_criteria(\n",
    "        candidates, image_mask, None, 14)\n",
    "    \n",
    "    candidates = pd.concat([tp, fp], axis=0, ignore_index=True)\n",
    "    \n",
    "    # Extracting features\n",
    "    labels = np.where(candidates.label.values == 'TP', True, False)\n",
    "    \n",
    "    X = candidates.drop_duplicates(subset='repeted_idxs')\n",
    "    X = cfe.extract_features(X.loc[:, ['x','y','radius']].values.astype(int), image)\n",
    "    \n",
    "    # Get features dfs\n",
    "    X = pd.DataFrame(data=X, columns=cfe.feature_names)\n",
    "    X.index = candidates.drop_duplicates(subset='repeted_idxs').index\n",
    "\n",
    "    res = X.loc[candidates.repeted_idxs.tolist(),:]\n",
    "    res['img_id'] = image_id\n",
    "    res['repeted_idxs'] = candidates.repeted_idxs.tolist()\n",
    "    res['matching_gt'] = candidates.matching_gt.tolist()\n",
    "    res['label'] = labels\n",
    "\n",
    "    # Generate a fn dataframe to compute frocs\n",
    "    fn['img_id'] = image_id\n",
    "    fns_df.append(fn)\n",
    "    fdf.append(res)\n",
    "    ingnored_df.append(ignored_candidates)\n",
    "    \n",
    "all_data_df = pd.concat(fdf, ignore_index=True)\n",
    "fns_df = pd.concat(fns_df, ignore_index=True)\n",
    "ingnored_df = pd.concat(ingnored_df, ignore_index=True)\n",
    "\n",
    "all_data_df.to_feather(str(data_path/f'all_data_df_{batch}_haar.f'))\n",
    "fns_df.to_feather(str(data_path/f'fns_df_{batch}_haar.f'))\n",
    "ingnored_df.to_feather(str(data_path/f'ingnored_df_{batch}_haar.f'))"
   ]
  },
  {
   "cell_type": "code",
   "execution_count": null,
   "metadata": {},
   "outputs": [],
   "source": [
    "del all_data_df\n",
    "del fns_df\n",
    "del fdf\n",
    "del ingnored_df"
   ]
  },
  {
   "cell_type": "code",
   "execution_count": 18,
   "metadata": {},
   "outputs": [
    {
     "name": "stderr",
     "output_type": "stream",
     "text": [
      "100%|██████████| 1/1 [01:07<00:00, 67.71s/it]\n"
     ]
    }
   ],
   "source": [
    "data_path = Path.cwd().parent.parent.parent/'data/features/hough'\n",
    "\n",
    "fdf = []\n",
    "fns_df = []\n",
    "ingnored_df = []\n",
    "\n",
    "batch = 2\n",
    "\n",
    "for idx in tqdm(db_range[110:]):\n",
    "    # extracting data\n",
    "    db_sample = db[idx]\n",
    "    image = db_sample['img']\n",
    "    image_id = db.df.iloc[idx].img_id\n",
    "    image_mask = db_sample['lesion_mask']\n",
    "\n",
    "    # candidate selection\n",
    "    candidates = hd.detect(image, image_id, load_processed_images=True, hough2=False)\n",
    "     # labeling of candidates:\n",
    "    tp, fp, fn, ignored_candidates = get_tp_fp_fn_center_patch_criteria(\n",
    "        candidates, image_mask, None, 14)\n",
    "    \n",
    "    candidates = pd.concat([tp, fp], axis=0, ignore_index=True)\n",
    "    \n",
    "    # Extracting features\n",
    "    labels = np.where(candidates.label.values == 'TP', True, False)\n",
    "    \n",
    "    X = candidates.drop_duplicates(subset='repeted_idxs')\n",
    "    X = cfe.extract_features(X.loc[:, ['x','y','radius']].values.astype(int), image)\n",
    "    \n",
    "    # Get features dfs\n",
    "    X = pd.DataFrame(data=X, columns=cfe.feature_names)\n",
    "    X.index = candidates.drop_duplicates(subset='repeted_idxs').index\n",
    "\n",
    "    res = X.loc[candidates.repeted_idxs.tolist(),:]\n",
    "    res['img_id'] = image_id\n",
    "    res['repeted_idxs'] = candidates.repeted_idxs.tolist()\n",
    "    res['matching_gt'] = candidates.matching_gt.tolist()\n",
    "    res['label'] = labels\n",
    "\n",
    "    # Generate a fn dataframe to compute frocs\n",
    "    fn['img_id'] = image_id\n",
    "    fns_df.append(fn)\n",
    "    fdf.append(res)\n",
    "    ingnored_df.append(ignored_candidates)\n",
    "    \n",
    "all_data_df = pd.concat(fdf, ignore_index=True)\n",
    "fns_df = pd.concat(fns_df, ignore_index=True)\n",
    "ingnored_df = pd.concat(ingnored_df, ignore_index=True)\n",
    "\n",
    "all_data_df.to_feather(str(data_path/f'all_data_df_{batch}_haar.f'))\n",
    "fns_df.to_feather(str(data_path/f'fns_df_{batch}_haar.f'))\n",
    "ingnored_df.to_feather(str(data_path/f'ingnored_df_{batch}_haar.f'))"
   ]
  },
  {
   "cell_type": "code",
   "execution_count": 21,
   "metadata": {},
   "outputs": [
    {
     "name": "stdout",
     "output_type": "stream",
     "text": [
      "/home/vzalevskyi/projects/data/features/hough/ingnored_df_2_haar.f\n"
     ]
    }
   ],
   "source": [
    "print(str(data_path/f'ingnored_df_{batch}_haar.f'))"
   ]
  },
  {
   "cell_type": "code",
   "execution_count": 19,
   "metadata": {},
   "outputs": [
    {
     "name": "stdout",
     "output_type": "stream",
     "text": [
      "General train+val sensitivity: 0.5\n",
      "General val sensitivity: 0.5\n"
     ]
    }
   ],
   "source": [
    "val_img_ids = set(db.df.img_id[db.df.partition == 'validation'].unique())\n",
    "normal_img_ids = set(db.get_normal_imgs_ids())\n",
    "\n",
    "validation_mask = all_data_df.img_id.isin(val_img_ids)\n",
    "validation_normals_mask = all_data_df.img_id.isin(normal_img_ids&val_img_ids)\n",
    "normals_mask = all_data_df.img_id.isin(normal_img_ids)\n",
    "\n",
    "print(f'General train+val sensitivity: {all_data_df.label.sum()/(all_data_df.label.sum() + len(fns_df))}')\n",
    "print(f'General val sensitivity: {all_data_df[validation_mask].label.sum()/(all_data_df[validation_mask].label.sum() + len(fns_df[fns_df.img_id.isin(val_img_ids)]))}')"
   ]
  },
  {
   "cell_type": "markdown",
   "metadata": {},
   "source": [
    "### Morphology"
   ]
  },
  {
   "cell_type": "code",
   "execution_count": 5,
   "metadata": {},
   "outputs": [],
   "source": [
    "md = MorphologyCalcificationDetection(**GSM_DEFAULT_PARAMS)\n",
    "\n",
    "cfe = CandidatesFeatureExtraction_MP()"
   ]
  },
  {
   "cell_type": "code",
   "execution_count": 6,
   "metadata": {},
   "outputs": [
    {
     "name": "stderr",
     "output_type": "stream",
     "text": [
      "100%|██████████| 210/210 [2:26:57<00:00, 41.99s/it]  \n"
     ]
    }
   ],
   "source": [
    "data_path = Path.cwd().parent.parent.parent/'data/features/morph'\n",
    "\n",
    "fdf = []\n",
    "fns_df = []\n",
    "ingnored_df = []\n",
    "\n",
    "for idx in tqdm(db_range[:]):\n",
    "    # extracting data\n",
    "    db_sample = db[idx]\n",
    "    image = db_sample['img']\n",
    "    image_id = db.df.iloc[idx].img_id\n",
    "    image_mask = db_sample['lesion_mask']\n",
    "\n",
    "    # candidate selection\n",
    "    candidates = md.detect(image, image_id)\n",
    "     # labeling of candidates:\n",
    "    tp, fp, fn, ignored_candidates = get_tp_fp_fn_center_patch_criteria(\n",
    "        candidates, image_mask, None, 14, use_euclidean_dist=True)\n",
    "    \n",
    "    candidates = pd.concat([tp, fp], axis=0, ignore_index=True)\n",
    "    \n",
    "    # Extracting features\n",
    "    labels = np.where(candidates.label.values == 'TP', True, False)\n",
    "    \n",
    "    X = candidates.drop_duplicates(subset='repeted_idxs')\n",
    "    X = cfe.extract_features(X.loc[:, ['x','y','radius']].values.astype(int), image)\n",
    "    \n",
    "    # Get features dfs\n",
    "    X = pd.DataFrame(data=X, columns=cfe.feature_names)\n",
    "    X.index = candidates.drop_duplicates(subset='repeted_idxs').index\n",
    "\n",
    "    res = X.loc[candidates.repeted_idxs.tolist(),:]\n",
    "    res['img_id'] = image_id\n",
    "    res['repeted_idxs'] = candidates.repeted_idxs.tolist()\n",
    "    res['matching_gt'] = candidates.matching_gt.tolist()\n",
    "    res['label'] = labels\n",
    "\n",
    "    # Generate a fn dataframe to compute frocs\n",
    "    fn['img_id'] = image_id\n",
    "    fns_df.append(fn)\n",
    "    fdf.append(res)\n",
    "    ingnored_df.append(ignored_candidates)\n",
    "    \n",
    "all_data_df = pd.concat(fdf, ignore_index=True)\n",
    "fns_df = pd.concat(fns_df, ignore_index=True)\n",
    "ingnored_df = pd.concat(ingnored_df, ignore_index=True)\n",
    "\n",
    "all_data_df.to_feather(str(data_path/f'all_data_df.f'))\n",
    "fns_df.to_feather(str(data_path/f'fns_df.f'))\n",
    "ingnored_df.to_feather(str(data_path/f'ingnored_df.f'))"
   ]
  },
  {
   "cell_type": "code",
   "execution_count": 7,
   "metadata": {},
   "outputs": [
    {
     "name": "stdout",
     "output_type": "stream",
     "text": [
      "Saved to \n",
      " /home/vzalevskyi/projects/data/features/morph/all_data_df.f\n"
     ]
    }
   ],
   "source": [
    "print(\"Saved to \\n\", str(data_path/f'all_data_df.f'))"
   ]
  },
  {
   "cell_type": "code",
   "execution_count": 8,
   "metadata": {},
   "outputs": [
    {
     "name": "stdout",
     "output_type": "stream",
     "text": [
      "General train+val sensitivity: 0.7957466697826595\n",
      "General val sensitivity: 0.7951807228915663\n"
     ]
    }
   ],
   "source": [
    "val_img_ids = set(db.df.img_id[db.df.partition == 'validation'].unique())\n",
    "normal_img_ids = set(db.get_normal_imgs_ids())\n",
    "\n",
    "validation_mask = all_data_df.img_id.isin(val_img_ids)\n",
    "validation_normals_mask = all_data_df.img_id.isin(normal_img_ids&val_img_ids)\n",
    "normals_mask = all_data_df.img_id.isin(normal_img_ids)\n",
    "\n",
    "print(f'General train+val sensitivity: {all_data_df.label.sum()/(all_data_df.label.sum() + len(fns_df))}')\n",
    "print(f'General val sensitivity: {all_data_df[validation_mask].label.sum()/(all_data_df[validation_mask].label.sum() + len(fns_df[fns_df.img_id.isin(val_img_ids)]))}')"
   ]
  },
  {
   "cell_type": "markdown",
   "metadata": {},
   "source": [
    "## Merging batches"
   ]
  },
  {
   "cell_type": "markdown",
   "metadata": {},
   "source": [
    "Merging differnet batches of features"
   ]
  },
  {
   "cell_type": "code",
   "execution_count": 20,
   "metadata": {},
   "outputs": [
    {
     "ename": "FileNotFoundError",
     "evalue": "[Errno 2] No such file or directory: '/home/vzalevskyi/projects/data/features/hough/final_features_hough1.f'",
     "output_type": "error",
     "traceback": [
      "\u001b[0;31m---------------------------------------------------------------------------\u001b[0m",
      "\u001b[0;31mFileNotFoundError\u001b[0m                         Traceback (most recent call last)",
      "\u001b[1;32m/home/vzalevskyi/projects/calc-det/notebooks/dev/Feature_Extraction.ipynb Cell 23'\u001b[0m in \u001b[0;36m<cell line: 1>\u001b[0;34m()\u001b[0m\n\u001b[0;32m----> <a href='vscode-notebook-cell:/home/vzalevskyi/projects/calc-det/notebooks/dev/Feature_Extraction.ipynb#ch0000022?line=0'>1</a>\u001b[0m features_data1 \u001b[39m=\u001b[39m pd\u001b[39m.\u001b[39;49mread_feather(\u001b[39m'\u001b[39;49m\u001b[39m/home/vzalevskyi/projects/data/features/hough/final_features_hough1.f\u001b[39;49m\u001b[39m'\u001b[39;49m)\n\u001b[1;32m      <a href='vscode-notebook-cell:/home/vzalevskyi/projects/calc-det/notebooks/dev/Feature_Extraction.ipynb#ch0000022?line=1'>2</a>\u001b[0m features_data2 \u001b[39m=\u001b[39m pd\u001b[39m.\u001b[39mread_feather(\u001b[39m'\u001b[39m\u001b[39m/home/vzalevskyi/projects/data/features/hough/final_features_hough2.f\u001b[39m\u001b[39m'\u001b[39m)\n\u001b[1;32m      <a href='vscode-notebook-cell:/home/vzalevskyi/projects/calc-det/notebooks/dev/Feature_Extraction.ipynb#ch0000022?line=3'>4</a>\u001b[0m features_data \u001b[39m=\u001b[39m pd\u001b[39m.\u001b[39mconcat([features_data1, features_data2])\n",
      "File \u001b[0;32m~/anaconda3/envs/calc_det/lib/python3.8/site-packages/pandas/io/feather_format.py:128\u001b[0m, in \u001b[0;36mread_feather\u001b[0;34m(path, columns, use_threads, storage_options)\u001b[0m\n\u001b[1;32m    125\u001b[0m import_optional_dependency(\u001b[39m\"\u001b[39m\u001b[39mpyarrow\u001b[39m\u001b[39m\"\u001b[39m)\n\u001b[1;32m    126\u001b[0m \u001b[39mfrom\u001b[39;00m \u001b[39mpyarrow\u001b[39;00m \u001b[39mimport\u001b[39;00m feather\n\u001b[0;32m--> 128\u001b[0m \u001b[39mwith\u001b[39;00m get_handle(\n\u001b[1;32m    129\u001b[0m     path, \u001b[39m\"\u001b[39;49m\u001b[39mrb\u001b[39;49m\u001b[39m\"\u001b[39;49m, storage_options\u001b[39m=\u001b[39;49mstorage_options, is_text\u001b[39m=\u001b[39;49m\u001b[39mFalse\u001b[39;49;00m\n\u001b[1;32m    130\u001b[0m ) \u001b[39mas\u001b[39;00m handles:\n\u001b[1;32m    132\u001b[0m     \u001b[39mreturn\u001b[39;00m feather\u001b[39m.\u001b[39mread_feather(\n\u001b[1;32m    133\u001b[0m         handles\u001b[39m.\u001b[39mhandle, columns\u001b[39m=\u001b[39mcolumns, use_threads\u001b[39m=\u001b[39m\u001b[39mbool\u001b[39m(use_threads)\n\u001b[1;32m    134\u001b[0m     )\n",
      "File \u001b[0;32m~/anaconda3/envs/calc_det/lib/python3.8/site-packages/pandas/io/common.py:798\u001b[0m, in \u001b[0;36mget_handle\u001b[0;34m(path_or_buf, mode, encoding, compression, memory_map, is_text, errors, storage_options)\u001b[0m\n\u001b[1;32m    789\u001b[0m         handle \u001b[39m=\u001b[39m \u001b[39mopen\u001b[39m(\n\u001b[1;32m    790\u001b[0m             handle,\n\u001b[1;32m    791\u001b[0m             ioargs\u001b[39m.\u001b[39mmode,\n\u001b[0;32m   (...)\u001b[0m\n\u001b[1;32m    794\u001b[0m             newline\u001b[39m=\u001b[39m\u001b[39m\"\u001b[39m\u001b[39m\"\u001b[39m,\n\u001b[1;32m    795\u001b[0m         )\n\u001b[1;32m    796\u001b[0m     \u001b[39melse\u001b[39;00m:\n\u001b[1;32m    797\u001b[0m         \u001b[39m# Binary mode\u001b[39;00m\n\u001b[0;32m--> 798\u001b[0m         handle \u001b[39m=\u001b[39m \u001b[39mopen\u001b[39;49m(handle, ioargs\u001b[39m.\u001b[39;49mmode)\n\u001b[1;32m    799\u001b[0m     handles\u001b[39m.\u001b[39mappend(handle)\n\u001b[1;32m    801\u001b[0m \u001b[39m# Convert BytesIO or file objects passed with an encoding\u001b[39;00m\n",
      "\u001b[0;31mFileNotFoundError\u001b[0m: [Errno 2] No such file or directory: '/home/vzalevskyi/projects/data/features/hough/final_features_hough1.f'"
     ]
    }
   ],
   "source": [
    "features_data1 = pd.read_feather('/home/vzalevskyi/projects/data/features/hough/final_features_hough1.f')\n",
    "features_data2 = pd.read_feather('/home/vzalevskyi/projects/data/features/hough/final_features_hough2.f')\n",
    "\n",
    "features_data = pd.concat([features_data1, features_data2])\n",
    "\n",
    "del features_data1\n",
    "del features_data2\n",
    "\n",
    "features_data.reset_index().drop(columns=['index']).to_feather('/home/vzalevskyi/projects/data/features/hough/features_hough.f')\n"
   ]
  },
  {
   "cell_type": "code",
   "execution_count": 7,
   "metadata": {},
   "outputs": [],
   "source": [
    "# fnsdf1 =  pd.read_feather('/home/vzalevskyi/projects/data/features/hough/fns_df_1.f')\n",
    "# fnsdf2 =  pd.read_feather('/home/vzalevskyi/projects/data/features/hough/fns_df_2.f')\n",
    "\n",
    "# ignored1 = pd.read_feather('/home/vzalevskyi/projects/data/features/hough/ingnored_df_1.f')\n",
    "# ignored2 = pd.read_feather('/home/vzalevskyi/projects/data/features/hough/ingnored_df_2.f')\n",
    "\n",
    "# fnsdf = pd.concat([fnsdf1, fnsdf2]).reset_index().drop(columns=['index'])\n",
    "# ignored = pd.concat([ignored1, ignored2]).reset_index().drop(columns=['index'])\n",
    "\n",
    "# fnsdf.to_feather('/home/vzalevskyi/projects/data/features/hough/fnsdf_hough.f')\n",
    "# ignored.to_feather('/home/vzalevskyi/projects/data/features/hough/ignored_hough.f')"
   ]
  },
  {
   "cell_type": "markdown",
   "metadata": {},
   "source": [
    "Merging haar features to rest of features"
   ]
  },
  {
   "cell_type": "code",
   "execution_count": 24,
   "metadata": {},
   "outputs": [],
   "source": [
    "# # used to merge batches of features, ignore\n",
    "# features_data1 = pd.read_feather('/home/vzalevskyi/projects/data/features/hough/all_data_df_2.f')\n",
    "# features_data1_haar = pd.read_feather('/home/vzalevskyi/projects/data/features/hough/all_data_df_2_haar.f')\n",
    "\n",
    "\n",
    "# merged_data = features_data1.merge(features_data1_haar, on=['img_id', 'repeted_idxs', 'matching_gt'], how='inner', suffixes=(None, '_y'), validate='one_to_one')\n",
    "# merged_data = merged_data.drop(columns=[x for x in merged_data.columns if '_y' in x])\n",
    "\n",
    "# merged_data.to_feather('/home/vzalevskyi/projects/data/features/hough/final_features_hough2.f')\n",
    "\n",
    "# fns_df_rest = pd.read_feather('/home/vzalevskyi/projects/data/features/hough/fns_df_1.f')\n",
    "# fns_df_haar = pd.read_feather('/home/vzalevskyi/projects/data/features/hough/fns_df_1_haar.f')\n",
    "\n",
    "# fns_df_rest == fns_df_haar"
   ]
  },
  {
   "cell_type": "code",
   "execution_count": null,
   "metadata": {},
   "outputs": [],
   "source": []
  }
 ],
 "metadata": {
  "interpreter": {
   "hash": "d785cc99391f1decae0a31664a2bc430e1bb802c6f8076d9d1b38f05ab7f6160"
  },
  "kernelspec": {
   "display_name": "Python 3.9.7 ('calc_det')",
   "language": "python",
   "name": "python3"
  },
  "language_info": {
   "codemirror_mode": {
    "name": "ipython",
    "version": 3
   },
   "file_extension": ".py",
   "mimetype": "text/x-python",
   "name": "python",
   "nbconvert_exporter": "python",
   "pygments_lexer": "ipython3",
   "version": "3.8.13"
  },
  "orig_nbformat": 4
 },
 "nbformat": 4,
 "nbformat_minor": 2
}
