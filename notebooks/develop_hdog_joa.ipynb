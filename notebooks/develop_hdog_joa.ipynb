{
 "cells": [
  {
   "cell_type": "code",
   "execution_count": 72,
   "metadata": {},
   "outputs": [],
   "source": [
    "from numba import njit\n",
    "\n",
    "@njit\n",
    "def scale():\n",
    "     [ndi.gaussian_filter(img, s) for s in range(5,50,5)]\n",
    "\n",
    "# @njit\n",
    "# def scale2():\n",
    "    "
   ]
  },
  {
   "cell_type": "code",
   "execution_count": 115,
   "metadata": {},
   "outputs": [],
   "source": [
    "def shift5(arr, num, fill_value=np.nan):\n",
    "    result = np.empty_like(arr)\n",
    "    if num > 0:\n",
    "        result[:num, :,:] = fill_value\n",
    "        result[num:,:,:] = arr[:-num, :,:]\n",
    "    elif num < 0:\n",
    "        result[num:, :,:] = fill_value\n",
    "        result[:num, :,:] = arr[-num:, :,:]\n",
    "    else:\n",
    "        result[:] = arr\n",
    "    return result\n",
    "\n",
    "@njit\n",
    "def dog(gaussian_images, sigma_list):\n",
    "    for i in range(len(sigma_list)-2):\n",
    "        gaussian_images[:, :, i] = \\\n",
    "            (gaussian_images[:,:, i] - gaussian_images[:,:, i+1]) * sigma_list[i] / 0.109\n",
    "    return gaussian_images[:,:,:-2]"
   ]
  },
  {
   "cell_type": "code",
   "execution_count": 126,
   "metadata": {},
   "outputs": [
    {
     "ename": "SyntaxError",
     "evalue": "invalid syntax (4025832330.py, line 20)",
     "output_type": "error",
     "traceback": [
      "\u001b[0;36m  File \u001b[0;32m\"/tmp/ipykernel_481830/4025832330.py\"\u001b[0;36m, line \u001b[0;32m20\u001b[0m\n\u001b[0;31m    gaussian_images = pool.starmap(cv2.GaussianBlur, zip(it.repeat(img) ks, sigma_list))\u001b[0m\n\u001b[0m                                                                        ^\u001b[0m\n\u001b[0;31mSyntaxError\u001b[0m\u001b[0;31m:\u001b[0m invalid syntax\n"
     ]
    }
   ],
   "source": [
    "import time\n",
    "import numpy as np\n",
    "from scipy import ndimage as ndi\n",
    "import cv2\n",
    "import multiprocessing as mp\n",
    "from functools import partial\n",
    "import itertools as it\n",
    "\n",
    "# img = np.asarray([np.random.normal(0, 1, (256,256)) for _ in range(10)])\n",
    "img = np.random.normal(0, 1, (256,256))\n",
    "sigma_list = [i for i in range(2,12,1)]\n",
    "\n",
    "start = time.time()\n",
    "mean = []\n",
    "for i in range(30):\n",
    "    ks = [int(4 * s + 0.5) for s in sigma_list]\n",
    "    ks = [kl if kl % 2 == 1 else kl + 1 for kl in ks]\n",
    "    # partial_f = partial(cv2.GaussianBlur, src=img)\n",
    "    with mp.Pool(8) as pool:\n",
    "        gaussian_images = pool.starmap(cv2.GaussianBlur, zip(it.repeat(img) ks, sigma_list))\n",
    "    for m, s in enumerate(sigma_list[:-1]):\n",
    "        gaussian_images[m] = (gaussian_images[m] - gaussian_images[m+1]) * sigma_list[m] / 0.109\n",
    "    dog_images = np.asarray(gaussian_images[:-1])\n",
    "    mean.append(time.time()- start)\n",
    "print(f'mean: {np.mean(mean)}, std: {np.std(mean)}')\n",
    "\n",
    "\n",
    "start = time.time()\n",
    "mean = []\n",
    "for i in range(30):\n",
    "    gaussian_images = []\n",
    "    for m, s in enumerate(sigma_list):\n",
    "        ks = int(4 * s + 0.5) \n",
    "        ks = ks if ks % 2 == 1 else ks + 1\n",
    "        gaussian_images.append(cv2.GaussianBlur(img, (ks, ks), s))\n",
    "        if m != 0:\n",
    "            gaussian_images[m - 1] = (gaussian_images[m-1] - gaussian_images[m]) * sigma_list[m-1] / 0.109\n",
    "    dog_images = np.asarray(gaussian_images[:-1])\n",
    "    mean.append(time.time()- start)\n",
    "print(f'mean: {np.mean(mean)}, std: {np.std(mean)}')\n",
    "\n",
    "\n",
    "# img_temp = img[]\n",
    "# dog_images = [(img[i] - img[i + 1]) * np.mean(sigma_list[i])/0.5 for i in range(img.shape[2]-1)]\n",
    "# dog_images = np.asarray(dog_images)\n",
    "\n",
    "\n",
    "start = time.time()\n",
    "mean = []\n",
    "for i in range(30):\n",
    "    gaussian_images = np.empty((img.shape[0], img.shape[1], len(sigma_list)))\n",
    "    dog_images = np.empty((img.shape[0], img.shape[1], len(sigma_list)-1))\n",
    "    for s in sigma_list:\n",
    "        ks = int(4 * s + 0.5) \n",
    "        ks = ks if ks % 2 == 1 else ks + 1\n",
    "        gaussian_images[:, :, m - 1] = cv2.GaussianBlur(img, (ks, ks), s)\n",
    "    dog_images = dog(gaussian_images, np.array(sigma_list))\n",
    "    mean.append(time.time()- start)\n",
    "print(f'mean: {np.mean(mean)}, std: {np.std(mean)}')\n",
    "\n",
    "# start = time.time()\n",
    "# mean = []\n",
    "# for i in range(1000):\n",
    "#     np.array([0.1 * (0.5 ** i) for i in range(10)])\n",
    "#     mean.append(time.time()- start)\n",
    "# print(f'mean: {np.mean(mean)}, std: {np.std(mean)}')"
   ]
  },
  {
   "cell_type": "code",
   "execution_count": 84,
   "metadata": {},
   "outputs": [
    {
     "data": {
      "text/plain": [
       "256"
      ]
     },
     "execution_count": 84,
     "metadata": {},
     "output_type": "execute_result"
    }
   ],
   "source": [
    "img.shape[2]"
   ]
  }
 ],
 "metadata": {
  "interpreter": {
   "hash": "f094a5cfaa0fb3b1e730adb1bd2a385aed1bdbc34460cd7c5bc1913497751e38"
  },
  "kernelspec": {
   "display_name": "Python 3.9.7 ('calc_det')",
   "language": "python",
   "name": "python3"
  },
  "language_info": {
   "codemirror_mode": {
    "name": "ipython",
    "version": 3
   },
   "file_extension": ".py",
   "mimetype": "text/x-python",
   "name": "python",
   "nbconvert_exporter": "python",
   "pygments_lexer": "ipython3",
   "version": "3.9.7"
  },
  "orig_nbformat": 4
 },
 "nbformat": 4,
 "nbformat_minor": 2
}
