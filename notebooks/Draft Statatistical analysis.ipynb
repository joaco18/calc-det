{
 "cells": [
  {
   "cell_type": "code",
   "execution_count": 1,
   "id": "5873f320",
   "metadata": {},
   "outputs": [
    {
     "name": "stdout",
     "output_type": "stream",
     "text": [
      "Collecting pyforest\n",
      "  Downloading pyforest-1.1.0.tar.gz (15 kB)\n",
      "Building wheels for collected packages: pyforest\n",
      "  Building wheel for pyforest (setup.py): started\n",
      "  Building wheel for pyforest (setup.py): finished with status 'done'\n",
      "  Created wheel for pyforest: filename=pyforest-1.1.0-py2.py3-none-any.whl size=14607 sha256=a5f3000e815d448a497c98cbee40804a76342abd1d2a913fc526245a8bf19201\n",
      "  Stored in directory: c:\\users\\acort\\appdata\\local\\pip\\cache\\wheels\\d5\\1a\\3e\\6193fe1c56168f5df4aef57d8411033ba4611881135d495727\n",
      "Successfully built pyforest\n",
      "Installing collected packages: pyforest\n",
      "Successfully installed pyforest-1.1.0\n"
     ]
    }
   ],
   "source": [
    "!pip install pyforest"
   ]
  },
  {
   "cell_type": "code",
   "execution_count": 2,
   "id": "1cef12e3",
   "metadata": {},
   "outputs": [],
   "source": [
    "import pyforest"
   ]
  },
  {
   "cell_type": "code",
   "execution_count": 9,
   "id": "105e0a02",
   "metadata": {},
   "outputs": [],
   "source": [
    "import pandas as pd"
   ]
  },
  {
   "cell_type": "code",
   "execution_count": 31,
   "id": "ba2bf1fc",
   "metadata": {},
   "outputs": [],
   "source": [
    "rois_df = pd.read_csv(r\"C:\\Users\\acort\\Documents\\calc-det\\data\\INbreast Release 1.0\\rois_metadata.csv\",index_col=0)\n",
    "img_df = pd.read_csv(r\"C:\\Users\\acort\\Documents\\calc-det\\data\\INbreast Release 1.0\\images_metadata.csv\",index_col=0)\n",
    "inbreast_df = pd.read_excel(r'C:\\Users\\acort\\Documents\\calc-det\\data\\INbreast Release 1.0\\INbreast.xls')"
   ]
  },
  {
   "cell_type": "code",
   "execution_count": 59,
   "id": "d39f3c15",
   "metadata": {},
   "outputs": [],
   "source": [
    "img_df['type_excel'] = img_df.type_excel.str.strip('()')\n",
    "img_df.loc[:,['mass', 'mc', 'dist','ass']] = img_df.type_excel.str.split(', ').tolist()\n",
    "img_df[['mass', 'mc', 'dist','ass']] = img_df[['mass', 'mc', 'dist','ass']].replace('True', True)\n",
    "img_df[['mass', 'mc', 'dist','ass']] = img_df[['mass', 'mc', 'dist','ass']].replace('False', False)"
   ]
  },
  {
   "cell_type": "code",
   "execution_count": 60,
   "id": "e43136c3",
   "metadata": {},
   "outputs": [],
   "source": [
    "inbreast_df = inbreast_df.iloc[0:-2,:]"
   ]
  },
  {
   "cell_type": "code",
   "execution_count": 61,
   "id": "79ff5892",
   "metadata": {},
   "outputs": [],
   "source": [
    "for row in inbreast_df.iterrows():\n",
    "    file_name = int(row[1]['File Name'])\n",
    "    img_df.loc[img_df['img_id'] == file_name, 'acr'] = row[1]['ACR']\n",
    "    \n"
   ]
  },
  {
   "cell_type": "code",
   "execution_count": 72,
   "id": "6de818ce",
   "metadata": {},
   "outputs": [],
   "source": [
    "cuentas = img_df.loc[img_df.mc == True,'acr'].value_counts()"
   ]
  },
  {
   "cell_type": "code",
   "execution_count": 80,
   "id": "b7dec565",
   "metadata": {},
   "outputs": [
    {
     "data": {
      "text/plain": [
       "array([105, 102,  81,  20], dtype=int64)"
      ]
     },
     "execution_count": 80,
     "metadata": {},
     "output_type": "execute_result"
    }
   ],
   "source": [
    "cuentas.values"
   ]
  },
  {
   "cell_type": "code",
   "execution_count": 81,
   "id": "4667024f",
   "metadata": {},
   "outputs": [
    {
     "data": {
      "application/javascript": [
       "\n",
       "        if (window._pyforest_update_imports_cell) { window._pyforest_update_imports_cell('import pandas as pd\\nimport numpy as np\\nimport seaborn as sns'); }\n",
       "    "
      ],
      "text/plain": [
       "<IPython.core.display.Javascript object>"
      ]
     },
     "metadata": {},
     "output_type": "display_data"
    },
    {
     "name": "stderr",
     "output_type": "stream",
     "text": [
      "C:\\Users\\acort\\.conda\\envs\\calc_det\\lib\\site-packages\\seaborn\\_decorators.py:36: FutureWarning: Pass the following variables as keyword args: x, y. From version 0.12, the only valid positional argument will be `data`, and passing other arguments without an explicit keyword will result in an error or misinterpretation.\n",
      "  warnings.warn(\n"
     ]
    },
    {
     "data": {
      "text/plain": [
       "<AxesSubplot:>"
      ]
     },
     "execution_count": 81,
     "metadata": {},
     "output_type": "execute_result"
    },
    {
     "data": {
      "image/png": "[encoded data removed]",
      "text/plain": [
       "<Figure size 432x288 with 1 Axes>"
      ]
     },
     "metadata": {
      "needs_background": "light"
     },
     "output_type": "display_data"
    }
   ],
   "source": [
    "sns.barplot(cuentas.index,cuentas.values) #,hue='acr',y=['mc'])"
   ]
  },
  {
   "cell_type": "code",
   "execution_count": 37,
   "id": "0594e92a",
   "metadata": {},
   "outputs": [
    {
     "data": {
      "text/plain": [
       "0    22678622.0\n",
       "1    22678646.0\n",
       "2    22678670.0\n",
       "3    22678694.0\n",
       "4    22614074.0\n",
       "Name: File Name, dtype: float64"
      ]
     },
     "execution_count": 37,
     "metadata": {},
     "output_type": "execute_result"
    }
   ],
   "source": [
    "inbreast_df['File Name'].head(5)"
   ]
  },
  {
   "cell_type": "code",
   "execution_count": 36,
   "id": "3b0ead1e",
   "metadata": {},
   "outputs": [
    {
     "data": {
      "text/plain": [
       "0      20586908\n",
       "1      20586934\n",
       "2      20586960\n",
       "3      20586986\n",
       "4      20587054\n",
       "         ...   \n",
       "338    53587508\n",
       "339    53587572\n",
       "340    53587599\n",
       "341    53587663\n",
       "342    53587717\n",
       "Name: img_id, Length: 343, dtype: int64"
      ]
     },
     "execution_count": 36,
     "metadata": {},
     "output_type": "execute_result"
    }
   ],
   "source": [
    "img_df.img_id"
   ]
  },
  {
   "cell_type": "code",
   "execution_count": 26,
   "id": "8fc3bd4a",
   "metadata": {},
   "outputs": [
    {
     "data": {
      "text/plain": [
       "array(['(True, True, False, False)', '(True, True, False, False)',\n",
       "       '(True, True, False, False)', '(True, True, False, False)',\n",
       "       '(False, True, False, False)', '(False, True, False, False)',\n",
       "       '(False, True, False, False)', '(False, True, False, False)',\n",
       "       '(False, True, False, False)', '(False, True, False, False)',\n",
       "       '(False, True, False, False)', '(False, True, False, False)',\n",
       "       '(False, True, False, False)', '(False, True, False, False)',\n",
       "       '(False, True, False, False)', '(False, True, False, False)',\n",
       "       '(False, True, False, False)', '(False, True, False, False)',\n",
       "       '(True, True, False, False)', '(False, True, False, False)',\n",
       "       '(True, True, False, False)', '(False, True, False, False)',\n",
       "       '(True, False, False, False)', '(False, True, False, False)',\n",
       "       '(True, False, False, False)', '(False, True, False, False)',\n",
       "       '(True, True, False, False)', '(True, True, False, False)',\n",
       "       '(True, True, False, False)', '(False, True, False, False)',\n",
       "       '(True, True, False, False)', '(False, True, False, False)',\n",
       "       '(True, False, False, False)', '(True, False, False, False)',\n",
       "       '(True, False, False, False)', '(True, False, False, False)',\n",
       "       '(False, True, False, False)', '(False, True, False, False)',\n",
       "       '(True, True, False, False)', '(True, True, False, False)',\n",
       "       '(False, True, False, False)', '(True, False, False, False)',\n",
       "       '(False, True, False, False)', '(True, True, False, False)',\n",
       "       '(False, True, False, False)', '(True, True, False, False)',\n",
       "       '(True, True, False, False)', '(False, True, False, False)',\n",
       "       '(True, True, False, False)', '(False, True, False, False)',\n",
       "       '(False, True, False, False)', '(False, True, False, False)',\n",
       "       '(False, True, False, False)', '(False, True, False, False)',\n",
       "       '(False, True, False, False)', '(True, True, False, False)',\n",
       "       '(False, True, False, False)', '(True, True, False, False)',\n",
       "       '(True, False, False, False)', '(True, False, False, False)',\n",
       "       '(True, True, False, False)', '(True, False, False, False)',\n",
       "       '(True, True, False, False)', '(True, False, False, False)',\n",
       "       '(False, True, False, True)', '(False, True, False, True)',\n",
       "       '(False, True, False, True)', '(False, True, False, True)',\n",
       "       '(True, True, False, False)', '(True, True, False, False)',\n",
       "       '(True, True, False, False)', '(True, True, False, False)',\n",
       "       '(False, True, False, False)', '(True, True, False, False)',\n",
       "       '(False, True, False, False)', '(True, True, False, False)',\n",
       "       '(True, True, False, False)', '(False, True, False, False)',\n",
       "       '(True, True, False, False)', '(False, True, False, False)',\n",
       "       '(False, True, False, False)', '(True, True, False, False)',\n",
       "       '(True, True, False, False)', '(True, True, False, False)',\n",
       "       '(True, True, False, False)', '(True, True, False, False)',\n",
       "       '(True, True, False, False)', '(False, True, False, False)',\n",
       "       '(True, True, False, False)', '(False, True, False, False)',\n",
       "       '(True, True, False, False)', '(False, True, False, False)',\n",
       "       '(True, True, False, False)', '(False, True, False, False)',\n",
       "       '(True, True, False, False)', '(True, True, False, False)',\n",
       "       '(False, True, False, False)', '(True, True, False, False)',\n",
       "       '(False, True, False, False)', '(True, False, False, False)',\n",
       "       '(False, True, False, False)', '(True, False, False, False)',\n",
       "       '(False, True, False, False)', '(True, True, False, True)',\n",
       "       '(True, True, False, True)', '(True, False, False, False)',\n",
       "       '(True, False, False, False)', '(True, True, False, False)',\n",
       "       '(False, True, False, False)', '(True, True, False, False)',\n",
       "       '(False, True, False, False)', '(False, True, False, False)',\n",
       "       '(False, True, False, False)', '(False, True, False, False)',\n",
       "       '(False, True, False, False)', '(False, True, False, False)',\n",
       "       '(False, True, False, False)', '(True, False, False, False)',\n",
       "       '(True, False, False, False)', '(True, True, False, False)',\n",
       "       '(False, True, False, False)', '(True, True, False, False)',\n",
       "       '(False, True, False, False)', '(False, True, False, False)',\n",
       "       '(False, True, False, False)', '(False, True, False, False)',\n",
       "       '(False, True, False, False)', '(False, True, False, False)',\n",
       "       '(False, True, False, False)', '(False, True, False, False)',\n",
       "       '(False, True, False, False)', '(False, True, False, False)',\n",
       "       '(True, True, False, False)', '(False, True, False, False)',\n",
       "       '(True, True, False, False)', '(False, True, False, False)',\n",
       "       '(True, True, False, False)', '(True, True, False, False)',\n",
       "       '(True, True, False, False)', '(True, True, False, False)',\n",
       "       '(False, True, False, False)', '(False, True, True, False)',\n",
       "       '(False, True, False, False)', '(False, True, True, False)',\n",
       "       '(False, True, False, False)', '(False, True, False, False)',\n",
       "       '(False, True, False, False)', '(False, True, False, False)',\n",
       "       '(False, True, False, False)', '(False, True, False, False)',\n",
       "       '(False, True, False, False)', '(False, True, False, False)',\n",
       "       '(False, True, False, True)', '(False, False, False, True)',\n",
       "       '(False, True, False, True)', '(False, False, False, True)',\n",
       "       '(True, True, False, False)', '(True, True, False, False)',\n",
       "       '(False, False, False, True)', '(False, False, False, True)',\n",
       "       '(False, False, False, True)', '(False, False, False, True)',\n",
       "       '(True, False, False, False)', '(False, True, False, False)',\n",
       "       '(False, False, False, False)', '(False, True, False, False)',\n",
       "       '(False, True, False, False)', '(True, True, False, False)',\n",
       "       '(False, True, False, False)', '(True, True, False, False)',\n",
       "       '(False, True, False, False)', '(False, True, False, False)',\n",
       "       '(False, True, False, False)', '(False, True, False, False)',\n",
       "       '(False, True, False, False)', '(False, True, False, False)',\n",
       "       '(False, True, False, False)', '(False, True, False, False)',\n",
       "       '(True, True, False, False)', '(True, True, False, False)',\n",
       "       '(False, True, False, False)', '(True, True, False, False)',\n",
       "       '(False, True, False, False)', '(True, True, False, False)',\n",
       "       '(False, True, False, False)', '(True, True, False, False)',\n",
       "       '(False, True, False, False)', '(True, True, False, False)',\n",
       "       '(False, True, False, False)', '(False, True, False, False)',\n",
       "       '(False, True, False, False)', '(False, True, False, False)',\n",
       "       '(False, True, False, False)', '(False, True, False, False)',\n",
       "       '(False, True, False, False)', '(False, True, False, False)',\n",
       "       '(False, True, False, False)', '(False, True, False, False)',\n",
       "       '(False, True, False, False)', '(False, True, False, False)',\n",
       "       '(False, True, False, False)', '(False, True, False, False)',\n",
       "       '(False, True, False, False)', '(False, True, False, False)',\n",
       "       '(False, True, False, False)', '(False, True, False, False)',\n",
       "       '(False, True, False, False)', '(False, True, False, False)',\n",
       "       '(True, False, False, False)', '(False, True, False, False)',\n",
       "       '(False, True, False, False)', '(True, False, False, False)',\n",
       "       '(False, True, False, False)', '(True, True, False, False)',\n",
       "       '(False, True, False, False)', '(False, True, False, False)',\n",
       "       '(False, True, False, False)', '(False, True, False, False)',\n",
       "       '(False, True, False, False)', '(False, True, False, False)',\n",
       "       '(True, True, False, False)', '(True, True, False, False)',\n",
       "       '(False, True, False, False)', '(False, True, False, False)',\n",
       "       '(False, True, False, False)', '(False, True, False, False)',\n",
       "       '(False, True, False, False)', '(False, True, False, False)',\n",
       "       '(False, True, False, False)', '(False, True, False, False)',\n",
       "       '(True, False, False, False)', '(True, False, False, False)',\n",
       "       '(False, True, False, False)', '(False, True, False, False)',\n",
       "       '(False, True, False, False)', '(False, True, False, False)',\n",
       "       '(False, True, False, False)', '(False, True, False, False)',\n",
       "       '(False, True, False, False)', '(False, True, False, False)',\n",
       "       '(False, True, False, False)', '(False, True, False, False)',\n",
       "       '(False, True, False, False)', '(False, True, False, False)',\n",
       "       '(False, True, False, False)', '(False, True, False, False)',\n",
       "       '(False, True, False, False)', '(False, True, False, False)',\n",
       "       '(False, True, False, False)', '(True, True, False, False)',\n",
       "       '(False, True, False, False)', '(True, True, False, False)',\n",
       "       '(False, True, False, False)', '(False, True, False, False)',\n",
       "       '(False, True, False, False)', '(False, True, False, False)',\n",
       "       '(False, True, False, False)', '(False, True, False, False)',\n",
       "       '(False, True, False, False)', '(False, True, False, False)',\n",
       "       '(False, True, False, False)', '(False, True, False, False)',\n",
       "       '(False, True, False, False)', '(False, True, False, False)',\n",
       "       '(False, True, False, False)', '(False, True, False, False)',\n",
       "       '(False, True, False, False)', '(False, True, False, False)',\n",
       "       '(False, True, False, False)', '(False, True, False, False)',\n",
       "       '(False, True, False, False)', '(False, True, False, False)',\n",
       "       '(False, True, False, False)', '(False, False, True, False)',\n",
       "       '(True, True, False, False)', '(True, True, False, False)',\n",
       "       '(False, True, False, False)', '(False, True, False, False)',\n",
       "       '(False, True, False, False)', '(False, True, False, False)',\n",
       "       '(True, True, False, False)', '(True, False, False, False)',\n",
       "       '(True, False, False, False)', '(True, False, False, False)',\n",
       "       '(False, True, False, False)', '(False, True, False, False)',\n",
       "       '(False, True, False, False)', '(False, True, False, False)',\n",
       "       '(True, True, False, False)', '(False, True, False, False)',\n",
       "       '(True, True, False, False)', '(False, True, False, False)',\n",
       "       '(False, True, False, False)', '(False, True, False, False)',\n",
       "       '(False, True, False, False)', '(False, True, False, False)',\n",
       "       '(False, True, False, False)', '(False, True, False, False)',\n",
       "       '(False, True, False, False)', '(False, True, False, False)',\n",
       "       '(False, True, False, False)', '(False, True, False, False)',\n",
       "       '(False, True, False, False)', '(False, True, False, False)',\n",
       "       '(False, True, False, False)', '(False, True, False, False)',\n",
       "       '(True, True, False, False)', '(False, True, False, False)',\n",
       "       '(True, True, False, False)', '(False, True, False, False)',\n",
       "       '(True, False, False, False)', '(True, False, False, False)',\n",
       "       '(False, True, False, False)', '(False, True, False, False)',\n",
       "       '(False, True, False, False)', '(False, True, False, False)',\n",
       "       '(True, True, False, False)', '(True, True, False, False)',\n",
       "       '(False, True, False, False)', '(False, True, False, False)',\n",
       "       '(False, True, False, False)', '(False, True, False, False)',\n",
       "       '(False, True, False, False)', '(False, True, False, False)',\n",
       "       '(False, True, False, False)', '(False, True, False, False)',\n",
       "       '(False, True, False, False)', '(True, True, False, False)',\n",
       "       '(True, True, False, False)', '(True, True, False, False)',\n",
       "       '(False, True, False, False)', '(True, True, False, False)',\n",
       "       '(False, True, False, False)', '(False, True, False, False)',\n",
       "       '(False, True, False, False)', '(False, True, False, False)',\n",
       "       '(False, True, False, False)', '(False, True, False, False)',\n",
       "       '(False, True, False, False)', '(False, True, False, False)',\n",
       "       '(False, True, False, False)', '(True, True, False, False)',\n",
       "       '(False, True, False, False)'], dtype=object)"
      ]
     },
     "execution_count": 26,
     "metadata": {},
     "output_type": "execute_result"
    }
   ],
   "source": [
    "img_df.type_excel.values.str()"
   ]
  },
  {
   "cell_type": "code",
   "execution_count": null,
   "id": "f51f8ef6",
   "metadata": {},
   "outputs": [],
   "source": [
    "sns.barplot()"
   ]
  }
 ],
 "metadata": {
  "kernelspec": {
   "display_name": "Python 3 (ipykernel)",
   "language": "python",
   "name": "python3"
  },
  "language_info": {
   "codemirror_mode": {
    "name": "ipython",
    "version": 3
   },
   "file_extension": ".py",
   "mimetype": "text/x-python",
   "name": "python",
   "nbconvert_exporter": "python",
   "pygments_lexer": "ipython3",
   "version": "3.9.7"
  }
 },
 "nbformat": 4,
 "nbformat_minor": 5
}
