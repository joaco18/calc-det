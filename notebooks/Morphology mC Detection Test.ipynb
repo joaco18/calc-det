{
 "cells": [
  {
   "cell_type": "code",
   "execution_count": 1,
   "metadata": {},
   "outputs": [],
   "source": [
    "import sys\n",
    "sys.path.insert(0, '..')\n",
    "\n",
    "import multiprocessing as mp\n"
   ]
  },
  {
   "cell_type": "code",
   "execution_count": 2,
   "metadata": {},
   "outputs": [],
   "source": [
    "from database.dataset import INBreast_Dataset\n",
    "from general_utils.metrics import circle_comparison, quick_circle_comparison\n",
    "from general_utils.plots import plot_bboxes_over_image, simple_im_show2, simple_im_show\n",
    "from mc_detection.morphology_detection import MorpholohyDetection\n",
    "from pathlib import Path\n",
    "from tqdm import tqdm\n",
    "import cv2\n",
    "import numpy as np\n",
    "\n",
    "from skimage import restoration\n"
   ]
  },
  {
   "cell_type": "code",
   "execution_count": 3,
   "metadata": {},
   "outputs": [],
   "source": [
    "db = INBreast_Dataset(\n",
    "    return_lesions_mask=True,\n",
    "    level='image',\n",
    "    max_lesion_diam_mm=2.0, #max 315 pixels area\n",
    "    extract_patches=False,\n",
    "    extract_patches_method='all',  # 'centered'\n",
    "    patch_size=256,\n",
    "    stride=256,\n",
    "    min_breast_fraction_roi=0.5,\n",
    "    normalize=None,\n",
    "    n_jobs=-1,\n",
    "    lesion_types=['calcification', 'cluster'],\n",
    "    return_indexes_in_mask=True)\n"
   ]
  },
  {
   "cell_type": "code",
   "execution_count": 4,
   "metadata": {},
   "outputs": [],
   "source": [
    "def min_max_norm(img):\n",
    "        return (img - img.min())/(img.max() - img.min())\n",
    "def to_uint8(img):\n",
    "        return (255*min_max_norm(img)).astype(np.uint8)\n",
    "def sobel_gradient(img):\n",
    "        grad_x = cv2.Sobel(img, cv2.CV_32F, 1, 0)\n",
    "        grad_y = cv2.Sobel(img, cv2.CV_32F, 0, 1)\n",
    "        grad = np.sqrt(grad_x**2 + grad_y**2)\n",
    "        return grad\n"
   ]
  },
  {
   "cell_type": "code",
   "execution_count": 5,
   "metadata": {},
   "outputs": [],
   "source": [
    "rbd_path = Path('/home/vzalevskyi/projects/calc-det/data/recounstructed_by_dialation_img/')\n",
    "\n",
    "md = MorpholohyDetection(rbd_path, 0.97)"
   ]
  },
  {
   "cell_type": "code",
   "execution_count": 6,
   "metadata": {},
   "outputs": [
    {
     "data": {
      "text/plain": [
       "{'img_id': 50994164, 'TP': 4, 'FP': 1065, 'FN': 0}"
      ]
     },
     "execution_count": 6,
     "metadata": {},
     "output_type": "execute_result"
    }
   ],
   "source": [
    "idx = 184\n",
    "image = db[idx]['img']\n",
    "image_id = db.df.iloc[idx].img_id\n",
    "image_mask = db[idx]['lesion_mask']\n",
    "selected_cc_mask = md.predict(image, image_id)\n",
    "selected_cc = np.unique(selected_cc_mask)\n",
    "\n",
    "TP_mask = (selected_cc_mask > 0) & (image_mask > 0)\n",
    "TP = np.unique(image_mask[TP_mask])\n",
    "\n",
    "img_res = {'img_id': image_id, 'TP': len(TP), 'FP': len(selected_cc) - len(TP),\n",
    "            'FN': len(np.unique(image_mask)) - len(TP) - 1}\n",
    "img_res"
   ]
  },
  {
   "cell_type": "code",
   "execution_count": 7,
   "metadata": {},
   "outputs": [
    {
     "name": "stderr",
     "output_type": "stream",
     "text": [
      "100%|██████████| 311/311 [54:12<00:00, 10.46s/it]  \n"
     ]
    }
   ],
   "source": [
    "res = []\n",
    "\n",
    "for idx in tqdm(range(len(db))):\n",
    "    image = db[idx]['img']\n",
    "    image_id = db.df.iloc[idx].img_id\n",
    "    image_mask = db[idx]['lesion_mask']\n",
    "    selected_cc_mask = md.predict(image, image_id)\n",
    "    selected_cc = np.unique(selected_cc_mask)\n",
    "\n",
    "    TP_mask = (selected_cc_mask > 0) & (image_mask > 0)\n",
    "    TP = np.unique(image_mask[TP_mask])\n",
    "\n",
    "    img_res = {'img_id': image_id, 'TP': len(TP), 'FP': len(selected_cc) - len(TP),\n",
    "               'FN': len(np.unique(image_mask)) - len(TP) - 1}\n",
    "    res.append(img_res)\n"
   ]
  },
  {
   "cell_type": "code",
   "execution_count": 8,
   "metadata": {},
   "outputs": [
    {
     "data": {
      "application/javascript": "\n        if (window._pyforest_update_imports_cell) { window._pyforest_update_imports_cell('import pandas as pd'); }\n    ",
      "text/plain": [
       "<IPython.core.display.Javascript object>"
      ]
     },
     "metadata": {},
     "output_type": "display_data"
    },
    {
     "data": {
      "text/plain": [
       "<AxesSubplot:>"
      ]
     },
     "execution_count": 8,
     "metadata": {},
     "output_type": "execute_result"
    },
    {
     "data": {
      "image/png": "[encoded data removed]",
      "text/plain": [
       "<Figure size 432x288 with 1 Axes>"
      ]
     },
     "metadata": {
      "needs_background": "light"
     },
     "output_type": "display_data"
    }
   ],
   "source": [
    "res_df = pd.DataFrame(res)\n",
    "res_df['sensitivity'] = res_df.TP / (res_df.TP + res_df.FN)\n",
    "res_df.sensitivity.plot.box()"
   ]
  },
  {
   "cell_type": "code",
   "execution_count": 10,
   "metadata": {},
   "outputs": [
    {
     "data": {
      "text/plain": [
       "<AxesSubplot:ylabel='Frequency'>"
      ]
     },
     "execution_count": 10,
     "metadata": {},
     "output_type": "execute_result"
    },
    {
     "data": {
      "image/png": "[encoded data removed]",
      "text/plain": [
       "<Figure size 432x288 with 1 Axes>"
      ]
     },
     "metadata": {
      "needs_background": "light"
     },
     "output_type": "display_data"
    }
   ],
   "source": [
    "res_df['sensitivity'].T.plot.hist()"
   ]
  },
  {
   "cell_type": "code",
   "execution_count": 11,
   "metadata": {},
   "outputs": [
    {
     "data": {
      "application/javascript": "\n        if (window._pyforest_update_imports_cell) { window._pyforest_update_imports_cell('import matplotlib.pyplot as plt\\nimport pandas as pd'); }\n    ",
      "text/plain": [
       "<IPython.core.display.Javascript object>"
      ]
     },
     "metadata": {},
     "output_type": "display_data"
    },
    {
     "data": {
      "text/plain": [
       "<matplotlib.collections.PathCollection at 0x7f26de9f21c0>"
      ]
     },
     "execution_count": 11,
     "metadata": {},
     "output_type": "execute_result"
    },
    {
     "data": {
      "image/png": "[encoded data removed]",
      "text/plain": [
       "<Figure size 432x288 with 1 Axes>"
      ]
     },
     "metadata": {
      "needs_background": "light"
     },
     "output_type": "display_data"
    }
   ],
   "source": [
    "plt.scatter(res_df.FP.values, res_df.sensitivity.values)\n"
   ]
  },
  {
   "cell_type": "code",
   "execution_count": 12,
   "metadata": {},
   "outputs": [
    {
     "data": {
      "text/html": [
       "<div>\n",
       "<style scoped>\n",
       "    .dataframe tbody tr th:only-of-type {\n",
       "        vertical-align: middle;\n",
       "    }\n",
       "\n",
       "    .dataframe tbody tr th {\n",
       "        vertical-align: top;\n",
       "    }\n",
       "\n",
       "    .dataframe thead th {\n",
       "        text-align: right;\n",
       "    }\n",
       "</style>\n",
       "<table border=\"1\" class=\"dataframe\">\n",
       "  <thead>\n",
       "    <tr style=\"text-align: right;\">\n",
       "      <th></th>\n",
       "      <th>img_id</th>\n",
       "      <th>TP</th>\n",
       "      <th>FP</th>\n",
       "      <th>FN</th>\n",
       "      <th>sensitivity</th>\n",
       "    </tr>\n",
       "  </thead>\n",
       "  <tbody>\n",
       "    <tr>\n",
       "      <th>282</th>\n",
       "      <td>53582422</td>\n",
       "      <td>0</td>\n",
       "      <td>2343</td>\n",
       "      <td>2</td>\n",
       "      <td>0.0</td>\n",
       "    </tr>\n",
       "    <tr>\n",
       "      <th>81</th>\n",
       "      <td>22670094</td>\n",
       "      <td>0</td>\n",
       "      <td>3949</td>\n",
       "      <td>1</td>\n",
       "      <td>0.0</td>\n",
       "    </tr>\n",
       "    <tr>\n",
       "      <th>72</th>\n",
       "      <td>22614266</td>\n",
       "      <td>0</td>\n",
       "      <td>3025</td>\n",
       "      <td>1</td>\n",
       "      <td>0.0</td>\n",
       "    </tr>\n",
       "    <tr>\n",
       "      <th>69</th>\n",
       "      <td>22614127</td>\n",
       "      <td>0</td>\n",
       "      <td>5800</td>\n",
       "      <td>1</td>\n",
       "      <td>0.0</td>\n",
       "    </tr>\n",
       "    <tr>\n",
       "      <th>86</th>\n",
       "      <td>22670347</td>\n",
       "      <td>0</td>\n",
       "      <td>2026</td>\n",
       "      <td>1</td>\n",
       "      <td>0.0</td>\n",
       "    </tr>\n",
       "    <tr>\n",
       "      <th>...</th>\n",
       "      <td>...</td>\n",
       "      <td>...</td>\n",
       "      <td>...</td>\n",
       "      <td>...</td>\n",
       "      <td>...</td>\n",
       "    </tr>\n",
       "    <tr>\n",
       "      <th>243</th>\n",
       "      <td>50998467</td>\n",
       "      <td>2</td>\n",
       "      <td>3128</td>\n",
       "      <td>0</td>\n",
       "      <td>1.0</td>\n",
       "    </tr>\n",
       "    <tr>\n",
       "      <th>241</th>\n",
       "      <td>50998413</td>\n",
       "      <td>5</td>\n",
       "      <td>3831</td>\n",
       "      <td>0</td>\n",
       "      <td>1.0</td>\n",
       "    </tr>\n",
       "    <tr>\n",
       "      <th>104</th>\n",
       "      <td>22679008</td>\n",
       "      <td>1</td>\n",
       "      <td>2699</td>\n",
       "      <td>0</td>\n",
       "      <td>1.0</td>\n",
       "    </tr>\n",
       "    <tr>\n",
       "      <th>85</th>\n",
       "      <td>22670301</td>\n",
       "      <td>4</td>\n",
       "      <td>1249</td>\n",
       "      <td>0</td>\n",
       "      <td>1.0</td>\n",
       "    </tr>\n",
       "    <tr>\n",
       "      <th>155</th>\n",
       "      <td>27829134</td>\n",
       "      <td>5</td>\n",
       "      <td>3174</td>\n",
       "      <td>0</td>\n",
       "      <td>1.0</td>\n",
       "    </tr>\n",
       "  </tbody>\n",
       "</table>\n",
       "<p>311 rows × 5 columns</p>\n",
       "</div>"
      ],
      "text/plain": [
       "       img_id  TP    FP  FN  sensitivity\n",
       "282  53582422   0  2343   2          0.0\n",
       "81   22670094   0  3949   1          0.0\n",
       "72   22614266   0  3025   1          0.0\n",
       "69   22614127   0  5800   1          0.0\n",
       "86   22670347   0  2026   1          0.0\n",
       "..        ...  ..   ...  ..          ...\n",
       "243  50998467   2  3128   0          1.0\n",
       "241  50998413   5  3831   0          1.0\n",
       "104  22679008   1  2699   0          1.0\n",
       "85   22670301   4  1249   0          1.0\n",
       "155  27829134   5  3174   0          1.0\n",
       "\n",
       "[311 rows x 5 columns]"
      ]
     },
     "execution_count": 12,
     "metadata": {},
     "output_type": "execute_result"
    }
   ],
   "source": [
    "res_df.sort_values(by=['sensitivity'])"
   ]
  },
  {
   "cell_type": "code",
   "execution_count": 7,
   "metadata": {},
   "outputs": [],
   "source": [
    "md = MorpholohyDetection(rbd_path, 0.97)"
   ]
  },
  {
   "cell_type": "code",
   "execution_count": null,
   "metadata": {},
   "outputs": [],
   "source": []
  }
 ],
 "metadata": {
  "interpreter": {
   "hash": "d785cc99391f1decae0a31664a2bc430e1bb802c6f8076d9d1b38f05ab7f6160"
  },
  "kernelspec": {
   "display_name": "Python 3.9.7 ('calc_det')",
   "language": "python",
   "name": "python3"
  },
  "language_info": {
   "codemirror_mode": {
    "name": "ipython",
    "version": 3
   },
   "file_extension": ".py",
   "mimetype": "text/x-python",
   "name": "python",
   "nbconvert_exporter": "python",
   "pygments_lexer": "ipython3",
   "version": "3.9.7"
  },
  "orig_nbformat": 4
 },
 "nbformat": 4,
 "nbformat_minor": 2
}
