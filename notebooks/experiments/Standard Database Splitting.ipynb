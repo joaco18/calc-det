{
 "cells": [
  {
   "cell_type": "code",
   "execution_count": 1,
   "metadata": {},
   "outputs": [
    {
     "name": "stderr",
     "output_type": "stream",
     "text": [
      "INFO:numexpr.utils:NumExpr defaulting to 8 threads.\n"
     ]
    }
   ],
   "source": [
    "import sys; sys.path.insert(0, '..')\n",
    "from database.dataset import *\n",
    "import time\n",
    "\n",
    "import matplotlib.pyplot as plt\n",
    "from mc_candidate_proposal.hough_mc import HoughCalcificationDetection\n",
    "\n",
    "db = INBreast_Dataset(\n",
    "    return_lesions_mask=True,\n",
    "    level='image',\n",
    "    partitions=['train', 'validation', 'test'],\n",
    "    max_lesion_diam_mm=None,\n",
    "    extract_patches=True,\n",
    "    extract_patches_method='all',\n",
    "    patch_size=224,\n",
    "    stride=100,\n",
    "    min_breast_fraction_roi=0.5,\n",
    "    cropped_imgs=True,\n",
    "    # use_muscle_mask=True,\n",
    "    lesion_types=None\n",
    ")"
   ]
  },
  {
   "cell_type": "code",
   "execution_count": 2,
   "metadata": {},
   "outputs": [],
   "source": [
    "calc_cases = db.rois_df.loc[db.rois_df.lesion_type.isin(['cluster','calcification']), 'case_id'].unique()\n",
    "all_cases = db.df.case_id.unique()\n",
    "non_calc_cases = [i for i in all_cases if i not in calc_cases]"
   ]
  },
  {
   "cell_type": "code",
   "execution_count": 3,
   "metadata": {},
   "outputs": [
    {
     "data": {
      "text/plain": [
       "(91, 108, 17)"
      ]
     },
     "execution_count": 3,
     "metadata": {},
     "output_type": "execute_result"
    }
   ],
   "source": [
    "len(calc_cases), len(all_cases), len(non_calc_cases)"
   ]
  },
  {
   "cell_type": "code",
   "execution_count": 4,
   "metadata": {},
   "outputs": [],
   "source": [
    " np.random.seed(10)\n",
    " train_calc_cases = np.random.choice(calc_cases, replace=False, size=int(np.ceil(len(calc_cases)/2)))\n",
    " train_non_calc_cases = np.random.choice(non_calc_cases, replace=False, size=int(np.ceil(len(non_calc_cases)/2)))\n",
    " test_non_calc_cases = [i for i in non_calc_cases if i not in train_non_calc_cases]\n",
    " test_calc_cases = [i for i in calc_cases if i not in train_calc_cases]"
   ]
  },
  {
   "cell_type": "code",
   "execution_count": 5,
   "metadata": {},
   "outputs": [
    {
     "data": {
      "text/plain": [
       "(46, 45, 9, 8)"
      ]
     },
     "execution_count": 5,
     "metadata": {},
     "output_type": "execute_result"
    }
   ],
   "source": [
    "len(train_calc_cases), len(test_calc_cases), len(train_non_calc_cases), len(test_non_calc_cases)"
   ]
  },
  {
   "cell_type": "code",
   "execution_count": 6,
   "metadata": {},
   "outputs": [
    {
     "name": "stdout",
     "output_type": "stream",
     "text": [
      "55 53\n"
     ]
    }
   ],
   "source": [
    "train_cases = train_calc_cases.tolist() + train_non_calc_cases.tolist()\n",
    "test_cases = test_calc_cases + test_non_calc_cases\n",
    "\n",
    "print(len(train_cases), len(test_cases))"
   ]
  },
  {
   "cell_type": "code",
   "execution_count": 7,
   "metadata": {},
   "outputs": [],
   "source": [
    "train_images = db.df.loc[db.df.case_id.isin(train_cases), 'img_id'].unique()\n",
    "test_images = db.df.loc[db.df.case_id.isin(test_cases), 'img_id'].unique()"
   ]
  },
  {
   "cell_type": "code",
   "execution_count": 10,
   "metadata": {},
   "outputs": [
    {
     "data": {
      "text/plain": [
       "(210, 200)"
      ]
     },
     "execution_count": 10,
     "metadata": {},
     "output_type": "execute_result"
    }
   ],
   "source": [
    "len(train_images), len(test_images)"
   ]
  },
  {
   "cell_type": "code",
   "execution_count": 13,
   "metadata": {},
   "outputs": [],
   "source": [
    "train_data = pd.DataFrame(np.asarray([train_images, ['train']*len(train_images)]).T, columns=['image_id', 'partition'])\n",
    "test_data = pd.DataFrame(np.asarray([test_images, ['test']*len(test_images)]).T, columns=['image_id', 'partition'])\n",
    "\n",
    "partitioning_df = pd.concat([train_data, test_data], ignore_index=True)"
   ]
  },
  {
   "cell_type": "code",
   "execution_count": 15,
   "metadata": {},
   "outputs": [],
   "source": [
    "from pathlib import Path"
   ]
  },
  {
   "cell_type": "code",
   "execution_count": 16,
   "metadata": {},
   "outputs": [],
   "source": [
    "partitioning_df.to_csv(Path.cwd().parent/'data'/'standard_partitions.csv')"
   ]
  }
 ],
 "metadata": {
  "interpreter": {
   "hash": "f094a5cfaa0fb3b1e730adb1bd2a385aed1bdbc34460cd7c5bc1913497751e38"
  },
  "kernelspec": {
   "display_name": "Python 3.9.7 ('calc_det')",
   "language": "python",
   "name": "python3"
  },
  "language_info": {
   "codemirror_mode": {
    "name": "ipython",
    "version": 3
   },
   "file_extension": ".py",
   "mimetype": "text/x-python",
   "name": "python",
   "nbconvert_exporter": "python",
   "pygments_lexer": "ipython3",
   "version": "3.9.7"
  },
  "orig_nbformat": 4
 },
 "nbformat": 4,
 "nbformat_minor": 2
}
