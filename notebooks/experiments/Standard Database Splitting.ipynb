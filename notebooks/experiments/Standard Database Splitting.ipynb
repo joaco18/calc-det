{
 "cells": [
  {
   "cell_type": "markdown",
   "metadata": {},
   "source": [
    "Creating a consistent stratified (in respect to images with calcifications) case-wise split of the database into train/validation/test with test portion having 50% of cases.\n",
    "\n",
    "We have shared this split with our collegues from anothe team."
   ]
  },
  {
   "cell_type": "code",
   "execution_count": 11,
   "metadata": {},
   "outputs": [],
   "source": [
    "import sys; sys.path.insert(0, '../..')"
   ]
  },
  {
   "cell_type": "code",
   "execution_count": 2,
   "metadata": {},
   "outputs": [
    {
     "name": "stderr",
     "output_type": "stream",
     "text": [
      "INFO:numexpr.utils:NumExpr defaulting to 8 threads.\n"
     ]
    }
   ],
   "source": [
    "from pathlib import Path\n",
    "\n",
    "from database.dataset import *\n",
    "\n",
    "db = INBreast_Dataset(\n",
    "    return_lesions_mask=True,\n",
    "    level='image',\n",
    "    partitions=['train', 'validation', 'test'],\n",
    "    max_lesion_diam_mm=None,\n",
    "    extract_patches=True,\n",
    "    extract_patches_method='all',\n",
    "    patch_size=224,\n",
    "    stride=100,\n",
    "    min_breast_fraction_roi=0.5,\n",
    "    cropped_imgs=True,\n",
    "    # use_muscle_mask=True,\n",
    "    lesion_types=None\n",
    ")"
   ]
  },
  {
   "cell_type": "code",
   "execution_count": 3,
   "metadata": {},
   "outputs": [],
   "source": [
    "calc_cases = db.rois_df.loc[db.rois_df.lesion_type.isin(['cluster','calcification']), 'case_id'].unique()\n",
    "all_cases = db.df.case_id.unique()\n",
    "non_calc_cases = [i for i in all_cases if i not in calc_cases]"
   ]
  },
  {
   "cell_type": "code",
   "execution_count": 4,
   "metadata": {},
   "outputs": [
    {
     "data": {
      "text/plain": [
       "(89, 108, 19)"
      ]
     },
     "execution_count": 4,
     "metadata": {},
     "output_type": "execute_result"
    }
   ],
   "source": [
    "len(calc_cases), len(all_cases), len(non_calc_cases)"
   ]
  },
  {
   "cell_type": "code",
   "execution_count": 5,
   "metadata": {},
   "outputs": [],
   "source": [
    " np.random.seed(10)\n",
    " train_calc_cases = np.random.choice(calc_cases, replace=False, size=int(np.ceil(len(calc_cases)/2)))\n",
    " train_non_calc_cases = np.random.choice(non_calc_cases, replace=False, size=int(np.ceil(len(non_calc_cases)/2)))\n",
    " test_non_calc_cases = [i for i in non_calc_cases if i not in train_non_calc_cases]\n",
    " test_calc_cases = [i for i in calc_cases if i not in train_calc_cases]"
   ]
  },
  {
   "cell_type": "code",
   "execution_count": 6,
   "metadata": {},
   "outputs": [
    {
     "data": {
      "text/plain": [
       "(45, 44, 10, 9)"
      ]
     },
     "execution_count": 6,
     "metadata": {},
     "output_type": "execute_result"
    }
   ],
   "source": [
    "len(train_calc_cases), len(test_calc_cases), len(train_non_calc_cases), len(test_non_calc_cases)"
   ]
  },
  {
   "cell_type": "code",
   "execution_count": 7,
   "metadata": {},
   "outputs": [
    {
     "name": "stdout",
     "output_type": "stream",
     "text": [
      "55 53\n"
     ]
    }
   ],
   "source": [
    "train_cases = train_calc_cases.tolist() + train_non_calc_cases.tolist()\n",
    "test_cases = test_calc_cases + test_non_calc_cases\n",
    "\n",
    "print(len(train_cases), len(test_cases))"
   ]
  },
  {
   "cell_type": "code",
   "execution_count": 8,
   "metadata": {},
   "outputs": [],
   "source": [
    "train_images = db.df.loc[db.df.case_id.isin(train_cases), 'img_id'].unique()\n",
    "test_images = db.df.loc[db.df.case_id.isin(test_cases), 'img_id'].unique()"
   ]
  },
  {
   "cell_type": "code",
   "execution_count": 9,
   "metadata": {},
   "outputs": [
    {
     "data": {
      "text/plain": [
       "(210, 200)"
      ]
     },
     "execution_count": 9,
     "metadata": {},
     "output_type": "execute_result"
    }
   ],
   "source": [
    "len(train_images), len(test_images)"
   ]
  },
  {
   "cell_type": "code",
   "execution_count": 10,
   "metadata": {},
   "outputs": [],
   "source": [
    "train_data = pd.DataFrame(np.asarray([train_images, ['train']*len(train_images)]).T, columns=['image_id', 'partition'])\n",
    "test_data = pd.DataFrame(np.asarray([test_images, ['test']*len(test_images)]).T, columns=['image_id', 'partition'])\n",
    "\n",
    "partitioning_df = pd.concat([train_data, test_data], ignore_index=True)"
   ]
  },
  {
   "cell_type": "code",
   "execution_count": 16,
   "metadata": {},
   "outputs": [],
   "source": [
    "partitioning_df.to_csv(Path.cwd().parent/'data'/'standard_partitions.csv')"
   ]
  }
 ],
 "metadata": {
  "kernelspec": {
   "display_name": "Python 3.8.13 ('calc_det')",
   "language": "python",
   "name": "python3"
  },
  "language_info": {
   "codemirror_mode": {
    "name": "ipython",
    "version": 3
   },
   "file_extension": ".py",
   "mimetype": "text/x-python",
   "name": "python",
   "nbconvert_exporter": "python",
   "pygments_lexer": "ipython3",
   "version": "3.8.13"
  },
  "orig_nbformat": 4,
  "vscode": {
   "interpreter": {
    "hash": "d785cc99391f1decae0a31664a2bc430e1bb802c6f8076d9d1b38f05ab7f6160"
   }
  }
 },
 "nbformat": 4,
 "nbformat_minor": 2
}
