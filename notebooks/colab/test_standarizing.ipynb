{
 "cells": [
  {
   "cell_type": "code",
   "execution_count": null,
   "metadata": {},
   "outputs": [],
   "source": [
    "from google.colab import drive\n",
    "drive.mount('/content/drive')\n",
    "from pathlib import Path\n",
    "import os\n",
    "repo_path = Path.cwd()/'drive/MyDrive/calcification-detection-project/calcification_detecion/calc-det/notebooks/'\n",
    "os.chdir(str(repo_path))"
   ]
  },
  {
   "cell_type": "code",
   "execution_count": null,
   "metadata": {},
   "outputs": [],
   "source": [
    "!cp -r /content/drive/MyDrive/calcification-detection-project/calcification_detecion/data_rois.zip /home/\n",
    "!unzip /home/data_rois.zip -d /home\n",
    "!mv /home/home/vzalevskyi/projects/data_rois /home/data_rois\n",
    "!rm -r /home/home"
   ]
  },
  {
   "cell_type": "code",
   "execution_count": 6,
   "metadata": {},
   "outputs": [],
   "source": [
    "from pathlib import Path\n",
    "thispath = Path.cwd().resolve()\n",
    "import yaml"
   ]
  },
  {
   "cell_type": "code",
   "execution_count": 8,
   "metadata": {},
   "outputs": [],
   "source": [
    "cfg_path = str(thispath.parent.parent/'deep_learning/config.yml')\n",
    "with open(cfg_path, \"r\") as ymlfile:\n",
    "    cfg = yaml.safe_load(ymlfile)"
   ]
  },
  {
   "cell_type": "code",
   "execution_count": 9,
   "metadata": {},
   "outputs": [],
   "source": [
    "cfg = {\n",
    "    'model': {\n",
    "        'activation': 'LeakyReLU',\n",
    "        'dropout': 0.2,\n",
    "        'fc_dims': [512, 512],\n",
    "        'freeze_weights': False,\n",
    "        'backbone': 'resnet18',\n",
    "        'pretrained': True\n",
    "    },\n",
    "    'dataset': {\n",
    "        'extract_patches': False,\n",
    "        'delete_previous': False,\n",
    "        'extract_patches_method': 'all',\n",
    "        'patch_size': 224,\n",
    "        'stride': 100,\n",
    "        'min_breast_fraction_roi': 0.5,\n",
    "        'n_jobs': -1,\n",
    "        'cropped_imgs': True,\n",
    "        'ignore_diameter_px': 15,\n",
    "        'patch_images_path': '/home/data_rois/',\n",
    "        'train_neg_to_pos_ratio': 1,\n",
    "        'normalization': 'min_max'\n",
    "    },\n",
    "    'dataloaders': {\n",
    "        'train_batch_size': 128,\n",
    "        'val_batch_size': 128\n",
    "    },\n",
    "    'data_aug': {\n",
    "        'prob': 0\n",
    "    },\n",
    "    'training': {\n",
    "        'criterion': 'BCEWithLogitsLoss',\n",
    "        'optimizer': 'SGD',\n",
    "        'optimizer_args': {\n",
    "            'lr': 0.0001, 'momentum': 0.9\n",
    "        },\n",
    "        'lr_scheduler': 'StepLR',\n",
    "        'lr_scheduler_args': {\n",
    "            'step_size': 10, 'gamma': 0.1\n",
    "        },\n",
    "        'n_epochs': 30,\n",
    "        'best_metric': 'f1_score',\n",
    "        'resume_training': False\n",
    "        },\n",
    "    'experiment_name': 'test_01'\n",
    "}"
   ]
  },
  {
   "cell_type": "code",
   "execution_count": 10,
   "metadata": {},
   "outputs": [],
   "source": [
    "cfg_path = str(thispath.parent.parent/'deep_learning/config_.yml')\n",
    "with open(cfg_path, 'w') as yaml_file:\n",
    "    yaml.dump(cfg, yaml_file, default_flow_style=False)"
   ]
  },
  {
   "cell_type": "code",
   "execution_count": null,
   "metadata": {},
   "outputs": [],
   "source": []
  }
 ],
 "metadata": {
  "kernelspec": {
   "display_name": "Python 3.8.13 ('calc_det')",
   "language": "python",
   "name": "python3"
  },
  "language_info": {
   "codemirror_mode": {
    "name": "ipython",
    "version": 3
   },
   "file_extension": ".py",
   "mimetype": "text/x-python",
   "name": "python",
   "nbconvert_exporter": "python",
   "pygments_lexer": "ipython3",
   "version": "3.8.13"
  },
  "orig_nbformat": 4,
  "vscode": {
   "interpreter": {
    "hash": "f094a5cfaa0fb3b1e730adb1bd2a385aed1bdbc34460cd7c5bc1913497751e38"
   }
  }
 },
 "nbformat": 4,
 "nbformat_minor": 2
}
