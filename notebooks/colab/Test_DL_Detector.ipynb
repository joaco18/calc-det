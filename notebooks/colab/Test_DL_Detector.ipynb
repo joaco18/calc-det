{
  "cells": [
    {
      "cell_type": "code",
      "source": [
        "from google.colab import drive\n",
        "drive.mount('/content/drive')"
      ],
      "metadata": {
        "colab": {
          "base_uri": "https://localhost:8080/"
        },
        "id": "HmRFqKltordM",
        "outputId": "a52d3d83-c49b-44da-fe84-60881c55d257"
      },
      "execution_count": 1,
      "outputs": [
        {
          "output_type": "stream",
          "name": "stdout",
          "text": [
            "Drive already mounted at /content/drive; to attempt to forcibly remount, call drive.mount(\"/content/drive\", force_remount=True).\n"
          ]
        }
      ]
    },
    {
      "cell_type": "code",
      "source": [
        "# !cp -r /content/drive/MyDrive/calcification-detection-project/calcification_detecion/new_data_rois/data_rois.zip /home/\n",
        "# !unzip /home/data_rois.zip -d /home\n",
        "# !mv /home/home/vzalevskyi/projects/data_rois /home/data_rois\n",
        "# !rm -r /home/home"
      ],
      "metadata": {
        "id": "9yJ9R5JToraf"
      },
      "execution_count": 2,
      "outputs": []
    },
    {
      "cell_type": "code",
      "source": [
        "from pathlib import Path\n",
        "import os\n",
        "# Vlad's drive\n",
        "repo_path = Path.cwd()/'drive/MyDrive/calcification-detection-project/calcification_detecion/calc-det/notebooks'\n",
        "# Joaquin's drive\n",
        "# repo_path = Path.cwd()/'drive/MyDrive/calcification_detection/calc-det/notebooks'\n",
        "os.chdir(str(repo_path))\n",
        "\n",
        "thispath = Path.cwd().resolve()\n",
        "import sys; sys.path.insert(0, str(thispath.parent))"
      ],
      "metadata": {
        "id": "JORtIptYYupJ"
      },
      "execution_count": 3,
      "outputs": []
    },
    {
      "cell_type": "code",
      "execution_count": 4,
      "metadata": {
        "id": "oaEfBzsRol73"
      },
      "outputs": [],
      "source": [
        "from deep_learning.dataset.dataset import INBreast_Dataset_pytorch\n",
        "\n",
        "import copy\n",
        "import torch\n",
        "import time\n",
        "import random\n",
        "import pickle\n",
        "from general_utils.plots import simple_im_show, simple_im_show2\n",
        "from collections import Counter\n",
        "\n",
        "from metrics.metrics import froc_curve\n",
        "from metrics.metrics_utils import get_froc_df_of_img, get_froc_df_of_many_imgs_features, get_tp_fp_fn_center_patch_criteria\n",
        "\n",
        "from deep_learning.dataset.dataset import ImgCropsDataset\n",
        "import numpy as np\n",
        "import matplotlib.pyplot as plt\n",
        "import torch.nn as nn\n",
        "import torch.optim as optim\n",
        "import torchvision.transforms as T\n",
        "import torch\n",
        "from torch.optim import lr_scheduler\n",
        "from torchvision import models\n",
        "from torch.utils.data import DataLoader\n",
        "from torch.utils.tensorboard import SummaryWriter\n",
        "from tqdm import tqdm\n",
        "import pandas as pd\n",
        "\n",
        "from database.dataset import INBreast_Dataset\n",
        "import torchvision.transforms.functional as F\n",
        "from torchvision.utils import draw_bounding_boxes\n",
        "from deep_learning.models.base_classifier import CNNClasssifier\n",
        "from deep_learning.models.detect_based_detector import DetectionBasedDetector\n",
        "import torchvision\n",
        "from torchvision.models.detection.faster_rcnn import FastRCNNPredictor\n",
        "from torchvision.models.detection.mask_rcnn import MaskRCNNPredictor\n",
        "from general_utils.plots import plot_froc\n",
        "from general_utils.utils import get_center_bboxes\n",
        "from torchvision.models.detection import FasterRCNN\n",
        "from torchvision.models.detection.rpn import AnchorGenerator\n"
      ]
    },
    {
      "cell_type": "code",
      "execution_count": 5,
      "metadata": {
        "colab": {
          "base_uri": "https://localhost:8080/"
        },
        "id": "VbcfTzZ-ol7_",
        "outputId": "bbf0a30e-20fd-4aa4-d02d-0bf39ced9399"
      },
      "outputs": [
        {
          "output_type": "stream",
          "name": "stderr",
          "text": [
            "/content/drive/MyDrive/calcification-detection-project/calcification_detecion/calc-det/deep_learning/dataset/dataset.py:52: DtypeWarning: Columns (16,17) have mixed types.Specify dtype option on import or set low_memory=False.\n",
            "  return_lesions_mask=get_lesion_bboxes, max_lesion_diam_mm=None, use_muscle_mask=False\n"
          ]
        }
      ],
      "source": [
        "dataset_arguments = {\n",
        "        'extract_patches': False,\n",
        "        'delete_previous': False,\n",
        "        'extract_patches_method': 'all',\n",
        "        'patch_size': 224,\n",
        "        'stride': 100,\n",
        "        'min_breast_fraction_roi': 0.7,\n",
        "        'n_jobs': -1,\n",
        "        'cropped_imgs': True,\n",
        "        'ignore_diameter_px': 15,\n",
        "        'train_neg_to_pos_ratio': None,\n",
        "        'balancing_seed': 0,\n",
        "        'normalization': 'min_max',\n",
        "        'get_lesion_bboxes': True,\n",
        "        'for_detection_net': True,\n",
        "        'patch_images_path': Path('/home/data_rois/'),\n",
        "        'detection_bbox_size':14}\n",
        "\n",
        "image_datasets = {\n",
        "    'train': INBreast_Dataset_pytorch(\n",
        "        partitions=['train'],\n",
        "        **dataset_arguments\n",
        "    ),\n",
        "    'val': INBreast_Dataset_pytorch(\n",
        "        partitions=['validation'],\n",
        "\n",
        "        **dataset_arguments\n",
        "    ),\n",
        "    \n",
        "}\n",
        "\n",
        "device = torch.device('cuda') if torch.cuda.is_available() else torch.device('cpu')"
      ]
    },
    {
      "cell_type": "code",
      "source": [
        "chkp_path = \"/content/drive/MyDrive/calcification-detection-project/calcification_detecion/data/deepl_runs/dns121ptr0/dns121ptr0_AP_IoU_0.50_all.pt\"\n",
        "chkp_model = torch.load(chkp_path)\n",
        "det = DetectionBasedDetector(chkp_model, True, 224, 200, None, 8, 14, device, True, iou_threshold=0.5)\n"
      ],
      "metadata": {
        "id": "5CBVz6CePi9B"
      },
      "execution_count": 8,
      "outputs": []
    },
    {
      "cell_type": "code",
      "source": [
        "list(p for p in det.model.parameters() if p.requires_grad)"
      ],
      "metadata": {
        "colab": {
          "base_uri": "https://localhost:8080/"
        },
        "id": "5B-TiBjnf553",
        "outputId": "9eb04dd2-693f-4470-81f7-e351e4036bab"
      },
      "execution_count": 9,
      "outputs": [
        {
          "output_type": "execute_result",
          "data": {
            "text/plain": [
              "[]"
            ]
          },
          "metadata": {},
          "execution_count": 9
        }
      ]
    },
    {
      "cell_type": "markdown",
      "source": [
        "Plotting some results"
      ],
      "metadata": {
        "id": "LY_eHTuawaYa"
      }
    },
    {
      "cell_type": "code",
      "execution_count": 10,
      "metadata": {
        "id": "deXuPygdol8F"
      },
      "outputs": [],
      "source": [
        "# for i in range(3):\n",
        "\n",
        "#     timage, ttarget = image_datasets['val'][i]\n",
        "#     with torch.no_grad():\n",
        "#         pred_target = model([timage.to(device)])[0]\n",
        "\n",
        "\n",
        "#     result = draw_bounding_boxes((255*timage).to(torch.uint8), ttarget['boxes'], colors=['blue']*len(ttarget['boxes']),  width=1)\n",
        "#     show(result)\n",
        "#     result = draw_bounding_boxes((255*timage).to(torch.uint8), pred_target['boxes'], colors=['red']*len(pred_target['boxes']),  width=1)\n",
        "#     show(result)\n",
        "\n",
        "#     print(ttarget['boxes'])\n",
        "#     print(pred_target['boxes'])\n",
        "    \n",
        "#     plt.show()"
      ]
    },
    {
      "cell_type": "markdown",
      "source": [
        "```AttributeError: 'NoneType' object has no attribute 'min'``` might indicate that you dont have the patches in the path provided to the database classes at `patch_images_path`"
      ],
      "metadata": {
        "id": "CekJT4E0wM6-"
      }
    },
    {
      "cell_type": "code",
      "execution_count": 11,
      "metadata": {
        "id": "UjU4UdEBol8G"
      },
      "outputs": [],
      "source": [
        "full_imgs_db = INBreast_Dataset(\n",
        "    return_lesions_mask=True,\n",
        "    level='image',\n",
        "    max_lesion_diam_mm=None,\n",
        "    extract_patches=False,\n",
        "    partitions=['validation'],\n",
        "    lesion_types=['calcification', 'cluster'],\n",
        "    cropped_imgs=True,\n",
        "    keep_just_images_of_lesion_type=False,\n",
        "    use_muscle_mask=False,\n",
        "    ignore_diameter_px=15\n",
        ")"
      ]
    },
    {
      "cell_type": "markdown",
      "source": [
        ""
      ],
      "metadata": {
        "id": "k6GXnM6YLq18"
      }
    },
    {
      "cell_type": "code",
      "execution_count": 12,
      "metadata": {
        "colab": {
          "base_uri": "https://localhost:8080/",
          "height": 446
        },
        "id": "ZrciWO2_ol8H",
        "outputId": "ec1683a5-dfee-43da-e7f8-26fdceeb5670"
      },
      "outputs": [
        {
          "output_type": "stream",
          "name": "stderr",
          "text": [
            "\r  0%|          | 0/62 [00:00<?, ?it/s]/usr/local/lib/python3.7/dist-packages/torch/utils/data/dataloader.py:490: UserWarning: This DataLoader will create 4 worker processes in total. Our suggested max number of worker in current system is 2, which is smaller than what this DataLoader is going to create. Please be aware that excessive worker creation might get DataLoader running slow or even freeze, lower the worker number to avoid potential slowness/freeze if necessary.\n",
            "  cpuset_checked))\n",
            "  5%|▍         | 3/62 [00:30<10:01, 10.20s/it]\n"
          ]
        },
        {
          "output_type": "error",
          "ename": "KeyboardInterrupt",
          "evalue": "ignored",
          "traceback": [
            "\u001b[0;31m---------------------------------------------------------------------------\u001b[0m",
            "\u001b[0;31mKeyboardInterrupt\u001b[0m                         Traceback (most recent call last)",
            "\u001b[0;32m<ipython-input-12-4f9ead4bb76b>\u001b[0m in \u001b[0;36m<module>\u001b[0;34m()\u001b[0m\n\u001b[1;32m      8\u001b[0m \u001b[0;34m\u001b[0m\u001b[0m\n\u001b[1;32m      9\u001b[0m \u001b[0;32mfor\u001b[0m \u001b[0midx\u001b[0m \u001b[0;32min\u001b[0m \u001b[0mtqdm\u001b[0m\u001b[0;34m(\u001b[0m\u001b[0mrange\u001b[0m\u001b[0;34m(\u001b[0m\u001b[0mlen\u001b[0m\u001b[0;34m(\u001b[0m\u001b[0mfull_imgs_db\u001b[0m\u001b[0;34m)\u001b[0m\u001b[0;34m)\u001b[0m\u001b[0;34m)\u001b[0m\u001b[0;34m:\u001b[0m\u001b[0;34m\u001b[0m\u001b[0;34m\u001b[0m\u001b[0m\n\u001b[0;32m---> 10\u001b[0;31m     \u001b[0mimg\u001b[0m \u001b[0;34m=\u001b[0m \u001b[0mfull_imgs_db\u001b[0m\u001b[0;34m[\u001b[0m\u001b[0midx\u001b[0m\u001b[0;34m]\u001b[0m\u001b[0;34m[\u001b[0m\u001b[0;34m'img'\u001b[0m\u001b[0;34m]\u001b[0m\u001b[0;34m\u001b[0m\u001b[0;34m\u001b[0m\u001b[0m\n\u001b[0m\u001b[1;32m     11\u001b[0m     \u001b[0mlesion_bboxes\u001b[0m \u001b[0;34m=\u001b[0m \u001b[0mfull_imgs_db\u001b[0m\u001b[0;34m[\u001b[0m\u001b[0midx\u001b[0m\u001b[0;34m]\u001b[0m\u001b[0;34m[\u001b[0m\u001b[0;34m'lesion_bboxes'\u001b[0m\u001b[0;34m]\u001b[0m\u001b[0;34m\u001b[0m\u001b[0;34m\u001b[0m\u001b[0m\n\u001b[1;32m     12\u001b[0m     \u001b[0mimg_id\u001b[0m \u001b[0;34m=\u001b[0m \u001b[0mfull_imgs_db\u001b[0m\u001b[0;34m[\u001b[0m\u001b[0midx\u001b[0m\u001b[0;34m]\u001b[0m\u001b[0;34m[\u001b[0m\u001b[0;34m'img_id'\u001b[0m\u001b[0;34m]\u001b[0m\u001b[0;34m\u001b[0m\u001b[0;34m\u001b[0m\u001b[0m\n",
            "\u001b[0;32m/content/drive/MyDrive/calcification-detection-project/calcification_detecion/calc-det/database/dataset.py\u001b[0m in \u001b[0;36m__getitem__\u001b[0;34m(self, idx)\u001b[0m\n\u001b[1;32m    826\u001b[0m             \u001b[0mfilename\u001b[0m \u001b[0;34m=\u001b[0m \u001b[0mPath\u001b[0m\u001b[0;34m(\u001b[0m\u001b[0mself\u001b[0m\u001b[0;34m.\u001b[0m\u001b[0mdf\u001b[0m\u001b[0;34m[\u001b[0m\u001b[0;34m'filename'\u001b[0m\u001b[0;34m]\u001b[0m\u001b[0;34m.\u001b[0m\u001b[0miloc\u001b[0m\u001b[0;34m[\u001b[0m\u001b[0midx\u001b[0m\u001b[0;34m]\u001b[0m\u001b[0;34m)\u001b[0m\u001b[0;34m.\u001b[0m\u001b[0mname\u001b[0m\u001b[0;34m\u001b[0m\u001b[0;34m\u001b[0m\u001b[0m\n\u001b[1;32m    827\u001b[0m             \u001b[0mimg_path\u001b[0m \u001b[0;34m=\u001b[0m \u001b[0mself\u001b[0m\u001b[0;34m.\u001b[0m\u001b[0mfull_img_path\u001b[0m \u001b[0;34m/\u001b[0m \u001b[0mfilename\u001b[0m\u001b[0;34m\u001b[0m\u001b[0;34m\u001b[0m\u001b[0m\n\u001b[0;32m--> 828\u001b[0;31m             \u001b[0mimg\u001b[0m \u001b[0;34m=\u001b[0m \u001b[0mcv2\u001b[0m\u001b[0;34m.\u001b[0m\u001b[0mimread\u001b[0m\u001b[0;34m(\u001b[0m\u001b[0mstr\u001b[0m\u001b[0;34m(\u001b[0m\u001b[0mimg_path\u001b[0m\u001b[0;34m)\u001b[0m\u001b[0;34m,\u001b[0m \u001b[0mcv2\u001b[0m\u001b[0;34m.\u001b[0m\u001b[0mIMREAD_ANYDEPTH\u001b[0m\u001b[0;34m)\u001b[0m\u001b[0;34m\u001b[0m\u001b[0;34m\u001b[0m\u001b[0m\n\u001b[0m\u001b[1;32m    829\u001b[0m         \u001b[0;32melse\u001b[0m\u001b[0;34m:\u001b[0m\u001b[0;34m\u001b[0m\u001b[0;34m\u001b[0m\u001b[0m\n\u001b[1;32m    830\u001b[0m             \u001b[0mimg_path\u001b[0m \u001b[0;34m=\u001b[0m \u001b[0mself\u001b[0m\u001b[0;34m.\u001b[0m\u001b[0mpatch_img_path\u001b[0m \u001b[0;34m/\u001b[0m \u001b[0mself\u001b[0m\u001b[0;34m.\u001b[0m\u001b[0mdf\u001b[0m\u001b[0;34m[\u001b[0m\u001b[0;34m'filename'\u001b[0m\u001b[0;34m]\u001b[0m\u001b[0;34m.\u001b[0m\u001b[0miloc\u001b[0m\u001b[0;34m[\u001b[0m\u001b[0midx\u001b[0m\u001b[0;34m]\u001b[0m\u001b[0;34m\u001b[0m\u001b[0;34m\u001b[0m\u001b[0m\n",
            "\u001b[0;31mKeyboardInterrupt\u001b[0m: "
          ]
        }
      ],
      "source": [
        "tps = []\n",
        "fps = []\n",
        "fns = []\n",
        "ignoreds = []\n",
        "\n",
        "R = 8 # radius of the patch (for now hardcoded since we've used 14x14 patches for training)\n",
        "\n",
        "\n",
        "for idx in tqdm(range(len(full_imgs_db))):\n",
        "    img = full_imgs_db[idx]['img']\n",
        "    lesion_bboxes = full_imgs_db[idx]['lesion_bboxes']\n",
        "    img_id = full_imgs_db[idx]['img_id']\n",
        "    lesion_mask = full_imgs_db[idx]['lesion_mask']\n",
        "\n",
        "    cands = det.detect(img)\n",
        "    \n",
        "    # convert predictions from [x1, x2, y1, y2] to (x_center, y_center, radius) convention\n",
        "    # used by labelling\n",
        "    cands_xyr = get_center_bboxes([((x[0], x[2]), (x[1], x[3])) for x in cands])\n",
        "    \n",
        "    # add radius column\n",
        "    cands_xyr = np.append(cands_xyr, R*np.ones((len(cands_xyr), 1)), axis=1)\n",
        "\n",
        "    # add score column\n",
        "    cands_xyr = np.append(cands_xyr, cands[:,4].reshape(-1, 1), axis=1)\n",
        "\n",
        "    tp, fp, fn, ignored = get_tp_fp_fn_center_patch_criteria(cands_xyr, lesion_mask, None, 14, True, scores_passed=True)\n",
        "    \n",
        "    tp['img_id'] = img_id\n",
        "    fp['img_id'] = img_id\n",
        "    fn['img_id'] = img_id\n",
        "    ignored['img_id'] = img_id\n",
        "    tps.append(tp)\n",
        "    fps.append(fp)\n",
        "    fns.append(fn)\n",
        "    ignoreds.append(ignored)"
      ]
    },
    {
      "cell_type": "code",
      "source": [
        "test_features = pd.concat(tps + fps)\n",
        "fns_df = pd.concat(fns)\n",
        "ignoreds_df = pd.concat(ignoreds)"
      ],
      "metadata": {
        "id": "XEeoJXvQ7Bx2"
      },
      "execution_count": 41,
      "outputs": []
    },
    {
      "cell_type": "code",
      "source": [
        "test_features['candidate_coordinates'] = [[r['x'] , r['y'] , r['radius']] for idx, r in test_features.iterrows()]\n",
        "test_features['label'] = test_features.label == 'TP'\n",
        "test_features.head()"
      ],
      "metadata": {
        "id": "bGyyAwbH6f36",
        "colab": {
          "base_uri": "https://localhost:8080/",
          "height": 206
        },
        "outputId": "df0310eb-1b5f-49d7-fd52-cc1d6c1dfd69"
      },
      "execution_count": 42,
      "outputs": [
        {
          "output_type": "execute_result",
          "data": {
            "text/plain": [
              "        x       y  radius     score  label  repeted_idxs matching_gt  \\\n",
              "0  1515.0  1551.0     8.0  0.486264   True             0           1   \n",
              "1   988.0  2653.0     8.0  0.481735   True             1           2   \n",
              "0   542.0   226.0     8.0  0.495512   True             0           5   \n",
              "1   533.0   217.0     8.0  0.473210   True             1           4   \n",
              "2   533.0   226.0     8.0  0.471606   True             2           4   \n",
              "\n",
              "     img_id  candidate_coordinates  \n",
              "0  20587294  [1515.0, 1551.0, 8.0]  \n",
              "1  20587294   [988.0, 2653.0, 8.0]  \n",
              "0  20587320    [542.0, 226.0, 8.0]  \n",
              "1  20587320    [533.0, 217.0, 8.0]  \n",
              "2  20587320    [533.0, 226.0, 8.0]  "
            ],
            "text/html": [
              "\n",
              "  <div id=\"df-64beeb1b-d845-4cf0-bb6a-790ed833f30a\">\n",
              "    <div class=\"colab-df-container\">\n",
              "      <div>\n",
              "<style scoped>\n",
              "    .dataframe tbody tr th:only-of-type {\n",
              "        vertical-align: middle;\n",
              "    }\n",
              "\n",
              "    .dataframe tbody tr th {\n",
              "        vertical-align: top;\n",
              "    }\n",
              "\n",
              "    .dataframe thead th {\n",
              "        text-align: right;\n",
              "    }\n",
              "</style>\n",
              "<table border=\"1\" class=\"dataframe\">\n",
              "  <thead>\n",
              "    <tr style=\"text-align: right;\">\n",
              "      <th></th>\n",
              "      <th>x</th>\n",
              "      <th>y</th>\n",
              "      <th>radius</th>\n",
              "      <th>score</th>\n",
              "      <th>label</th>\n",
              "      <th>repeted_idxs</th>\n",
              "      <th>matching_gt</th>\n",
              "      <th>img_id</th>\n",
              "      <th>candidate_coordinates</th>\n",
              "    </tr>\n",
              "  </thead>\n",
              "  <tbody>\n",
              "    <tr>\n",
              "      <th>0</th>\n",
              "      <td>1515.0</td>\n",
              "      <td>1551.0</td>\n",
              "      <td>8.0</td>\n",
              "      <td>0.486264</td>\n",
              "      <td>True</td>\n",
              "      <td>0</td>\n",
              "      <td>1</td>\n",
              "      <td>20587294</td>\n",
              "      <td>[1515.0, 1551.0, 8.0]</td>\n",
              "    </tr>\n",
              "    <tr>\n",
              "      <th>1</th>\n",
              "      <td>988.0</td>\n",
              "      <td>2653.0</td>\n",
              "      <td>8.0</td>\n",
              "      <td>0.481735</td>\n",
              "      <td>True</td>\n",
              "      <td>1</td>\n",
              "      <td>2</td>\n",
              "      <td>20587294</td>\n",
              "      <td>[988.0, 2653.0, 8.0]</td>\n",
              "    </tr>\n",
              "    <tr>\n",
              "      <th>0</th>\n",
              "      <td>542.0</td>\n",
              "      <td>226.0</td>\n",
              "      <td>8.0</td>\n",
              "      <td>0.495512</td>\n",
              "      <td>True</td>\n",
              "      <td>0</td>\n",
              "      <td>5</td>\n",
              "      <td>20587320</td>\n",
              "      <td>[542.0, 226.0, 8.0]</td>\n",
              "    </tr>\n",
              "    <tr>\n",
              "      <th>1</th>\n",
              "      <td>533.0</td>\n",
              "      <td>217.0</td>\n",
              "      <td>8.0</td>\n",
              "      <td>0.473210</td>\n",
              "      <td>True</td>\n",
              "      <td>1</td>\n",
              "      <td>4</td>\n",
              "      <td>20587320</td>\n",
              "      <td>[533.0, 217.0, 8.0]</td>\n",
              "    </tr>\n",
              "    <tr>\n",
              "      <th>2</th>\n",
              "      <td>533.0</td>\n",
              "      <td>226.0</td>\n",
              "      <td>8.0</td>\n",
              "      <td>0.471606</td>\n",
              "      <td>True</td>\n",
              "      <td>2</td>\n",
              "      <td>4</td>\n",
              "      <td>20587320</td>\n",
              "      <td>[533.0, 226.0, 8.0]</td>\n",
              "    </tr>\n",
              "  </tbody>\n",
              "</table>\n",
              "</div>\n",
              "      <button class=\"colab-df-convert\" onclick=\"convertToInteractive('df-64beeb1b-d845-4cf0-bb6a-790ed833f30a')\"\n",
              "              title=\"Convert this dataframe to an interactive table.\"\n",
              "              style=\"display:none;\">\n",
              "        \n",
              "  <svg xmlns=\"http://www.w3.org/2000/svg\" height=\"24px\"viewBox=\"0 0 24 24\"\n",
              "       width=\"24px\">\n",
              "    <path d=\"M0 0h24v24H0V0z\" fill=\"none\"/>\n",
              "    <path d=\"M18.56 5.44l.94 2.06.94-2.06 2.06-.94-2.06-.94-.94-2.06-.94 2.06-2.06.94zm-11 1L8.5 8.5l.94-2.06 2.06-.94-2.06-.94L8.5 2.5l-.94 2.06-2.06.94zm10 10l.94 2.06.94-2.06 2.06-.94-2.06-.94-.94-2.06-.94 2.06-2.06.94z\"/><path d=\"M17.41 7.96l-1.37-1.37c-.4-.4-.92-.59-1.43-.59-.52 0-1.04.2-1.43.59L10.3 9.45l-7.72 7.72c-.78.78-.78 2.05 0 2.83L4 21.41c.39.39.9.59 1.41.59.51 0 1.02-.2 1.41-.59l7.78-7.78 2.81-2.81c.8-.78.8-2.07 0-2.86zM5.41 20L4 18.59l7.72-7.72 1.47 1.35L5.41 20z\"/>\n",
              "  </svg>\n",
              "      </button>\n",
              "      \n",
              "  <style>\n",
              "    .colab-df-container {\n",
              "      display:flex;\n",
              "      flex-wrap:wrap;\n",
              "      gap: 12px;\n",
              "    }\n",
              "\n",
              "    .colab-df-convert {\n",
              "      background-color: #E8F0FE;\n",
              "      border: none;\n",
              "      border-radius: 50%;\n",
              "      cursor: pointer;\n",
              "      display: none;\n",
              "      fill: #1967D2;\n",
              "      height: 32px;\n",
              "      padding: 0 0 0 0;\n",
              "      width: 32px;\n",
              "    }\n",
              "\n",
              "    .colab-df-convert:hover {\n",
              "      background-color: #E2EBFA;\n",
              "      box-shadow: 0px 1px 2px rgba(60, 64, 67, 0.3), 0px 1px 3px 1px rgba(60, 64, 67, 0.15);\n",
              "      fill: #174EA6;\n",
              "    }\n",
              "\n",
              "    [theme=dark] .colab-df-convert {\n",
              "      background-color: #3B4455;\n",
              "      fill: #D2E3FC;\n",
              "    }\n",
              "\n",
              "    [theme=dark] .colab-df-convert:hover {\n",
              "      background-color: #434B5C;\n",
              "      box-shadow: 0px 1px 3px 1px rgba(0, 0, 0, 0.15);\n",
              "      filter: drop-shadow(0px 1px 2px rgba(0, 0, 0, 0.3));\n",
              "      fill: #FFFFFF;\n",
              "    }\n",
              "  </style>\n",
              "\n",
              "      <script>\n",
              "        const buttonEl =\n",
              "          document.querySelector('#df-64beeb1b-d845-4cf0-bb6a-790ed833f30a button.colab-df-convert');\n",
              "        buttonEl.style.display =\n",
              "          google.colab.kernel.accessAllowed ? 'block' : 'none';\n",
              "\n",
              "        async function convertToInteractive(key) {\n",
              "          const element = document.querySelector('#df-64beeb1b-d845-4cf0-bb6a-790ed833f30a');\n",
              "          const dataTable =\n",
              "            await google.colab.kernel.invokeFunction('convertToInteractive',\n",
              "                                                     [key], {});\n",
              "          if (!dataTable) return;\n",
              "\n",
              "          const docLinkHtml = 'Like what you see? Visit the ' +\n",
              "            '<a target=\"_blank\" href=https://colab.research.google.com/notebooks/data_table.ipynb>data table notebook</a>'\n",
              "            + ' to learn more about interactive tables.';\n",
              "          element.innerHTML = '';\n",
              "          dataTable['output_type'] = 'display_data';\n",
              "          await google.colab.output.renderOutput(dataTable, element);\n",
              "          const docLink = document.createElement('div');\n",
              "          docLink.innerHTML = docLinkHtml;\n",
              "          element.appendChild(docLink);\n",
              "        }\n",
              "      </script>\n",
              "    </div>\n",
              "  </div>\n",
              "  "
            ]
          },
          "metadata": {},
          "execution_count": 42
        }
      ]
    },
    {
      "cell_type": "code",
      "execution_count": null,
      "metadata": {
        "id": "cEWADkSCol8L"
      },
      "outputs": [],
      "source": [
        "normal_imgs_ids = full_imgs_db.get_normal_imgs_ids()\n",
        "\n",
        "\n",
        "froc_df_1st = get_froc_df_of_many_imgs_features(\n",
        "    test_features[['candidate_coordinates', 'label', 'img_id', 'matching_gt', 'repeted_idxs']],\n",
        "    fns_df,\n",
        "    test_features.score.values,\n",
        "    normal_imgs_ids\n",
        ")\n",
        "\n",
        "sens1, avgs_fp_per_image1, _ = froc_curve(froc_df_1st, non_max_supression=True, cut_on_50fpi=True)\n"
      ]
    },
    {
      "cell_type": "code",
      "source": [
        "fig, axs = plt.subplots(1, 1, figsize=(15, 10))\n",
        "plot_froc(avgs_fp_per_image1, sens1, title='FROC DL', cut_on_50fpi=True, ax=axs)\n",
        "\n"
      ],
      "metadata": {
        "id": "-Uqcldw83iFG"
      },
      "execution_count": null,
      "outputs": []
    },
    {
      "cell_type": "code",
      "source": [
        ""
      ],
      "metadata": {
        "id": "7RUe610ch7Um"
      },
      "execution_count": null,
      "outputs": []
    }
  ],
  "metadata": {
    "kernelspec": {
      "display_name": "Python 3.9.7 ('calc_det')",
      "language": "python",
      "name": "python3"
    },
    "language_info": {
      "codemirror_mode": {
        "name": "ipython",
        "version": 3
      },
      "file_extension": ".py",
      "mimetype": "text/x-python",
      "name": "python",
      "nbconvert_exporter": "python",
      "pygments_lexer": "ipython3",
      "version": "3.9.7"
    },
    "orig_nbformat": 4,
    "vscode": {
      "interpreter": {
        "hash": "d785cc99391f1decae0a31664a2bc430e1bb802c6f8076d9d1b38f05ab7f6160"
      }
    },
    "colab": {
      "name": "Test DL Detector.ipynb",
      "provenance": [],
      "collapsed_sections": []
    },
    "accelerator": "GPU",
    "gpuClass": "standard"
  },
  "nbformat": 4,
  "nbformat_minor": 0
}