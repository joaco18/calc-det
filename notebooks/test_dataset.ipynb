{
 "cells": [
  {
   "cell_type": "code",
   "execution_count": 1,
   "id": "a834f175",
   "metadata": {},
   "outputs": [],
   "source": [
    "import sys; sys.path.insert(0, '../database/')\n",
    "from dataset import *\n",
    "import pyforest"
   ]
  },
  {
   "cell_type": "code",
   "execution_count": 2,
   "id": "c65c5090",
   "metadata": {},
   "outputs": [],
   "source": [
    "def easy_plot(i):\n",
    "    plt.figure()\n",
    "    plt.imshow(db[i]['img'], cmap='gray' )\n",
    "    plt.imshow(db[i]['lesion_mask'])\n",
    "    plt.axis('off')\n",
    "    plt.show()"
   ]
  },
  {
   "cell_type": "code",
   "execution_count": 3,
   "id": "8e12748d",
   "metadata": {},
   "outputs": [
    {
     "name": "stdout",
     "output_type": "stream",
     "text": [
      "0      abnormal\n",
      "1      abnormal\n",
      "2      abnormal\n",
      "3      abnormal\n",
      "4      abnormal\n",
      "         ...   \n",
      "291    abnormal\n",
      "292    abnormal\n",
      "293    abnormal\n",
      "294    abnormal\n",
      "295    abnormal\n",
      "Name: img_label, Length: 289, dtype: object\n"
     ]
    }
   ],
   "source": [
    "db = INBreast_Dataset(\n",
    "        return_lesions_mask=True,\n",
    "        level='image',\n",
    "        max_lesion_diam_mm=1.0,\n",
    "        extract_patches=True,\n",
    "        extract_patches_method='all',  # 'centered'\n",
    "        patch_size=256,\n",
    "        stride=256,\n",
    "        min_breast_fraction_roi=0.5,\n",
    "        normalize=None,\n",
    "        cropped_imgs=False,\n",
    "        n_jobs=-1,\n",
    ")"
   ]
  },
  {
   "cell_type": "code",
   "execution_count": 4,
   "id": "4dff9621",
   "metadata": {},
   "outputs": [
    {
     "ename": "NameError",
     "evalue": "name 'db' is not defined",
     "output_type": "error",
     "traceback": [
      "\u001b[0;31m---------------------------------------------------------------------------\u001b[0m",
      "\u001b[0;31mNameError\u001b[0m                                 Traceback (most recent call last)",
      "\u001b[0;32m/tmp/ipykernel_252772/3359798285.py\u001b[0m in \u001b[0;36m<module>\u001b[0;34m\u001b[0m\n\u001b[1;32m      1\u001b[0m \u001b[0mimg_id\u001b[0m \u001b[0;34m=\u001b[0m  \u001b[0;36m22579730\u001b[0m \u001b[0;31m# one image for which the problem exists\u001b[0m\u001b[0;34m\u001b[0m\u001b[0;34m\u001b[0m\u001b[0m\n\u001b[1;32m      2\u001b[0m \u001b[0;34m\u001b[0m\u001b[0m\n\u001b[0;32m----> 3\u001b[0;31m \u001b[0mdb\u001b[0m\u001b[0;34m.\u001b[0m\u001b[0mdf\u001b[0m\u001b[0;34m[\u001b[0m\u001b[0mdb\u001b[0m\u001b[0;34m.\u001b[0m\u001b[0mdf\u001b[0m\u001b[0;34m.\u001b[0m\u001b[0mimg_id\u001b[0m \u001b[0;34m==\u001b[0m \u001b[0mimg_id\u001b[0m\u001b[0;34m]\u001b[0m\u001b[0;34m.\u001b[0m\u001b[0mindex\u001b[0m\u001b[0;34m\u001b[0m\u001b[0;34m\u001b[0m\u001b[0m\n\u001b[0m",
      "\u001b[0;31mNameError\u001b[0m: name 'db' is not defined"
     ]
    }
   ],
   "source": [
    "img_id =  22579730 # one image for which the problem exists\n",
    "\n",
    "db.df[db.df.img_id == img_id].index"
   ]
  },
  {
   "cell_type": "code",
   "execution_count": 5,
   "id": "4e8dc0dc",
   "metadata": {},
   "outputs": [
    {
     "name": "stdout",
     "output_type": "stream",
     "text": [
      "normal\n",
      "['[(2367, 1675), (2367, 1675)]' '[(2429, 1516), (2429, 1516)]'\n",
      " '[(2233, 1435), (2233, 1435)]' '[(2456, 1436), (2456, 1436)]'\n",
      " '[(2462, 1437), (2462, 1437)]' '[(2462, 1431), (2462, 1431)]'\n",
      " '[(2049, 1949), (2049, 1949)]' '[(2126, 1624), (2126, 1624)]'\n",
      " '[(2350, 1675), (2350, 1675)]' '[(2349, 1656), (2349, 1656)]'\n",
      " '[(2353, 1662), (2353, 1662)]' '[(2358, 1653), (2358, 1653)]'\n",
      " '[(2359, 1664), (2359, 1664)]' '[(2293, 1752), (2293, 1752)]'\n",
      " '[(2531, 1442), (2531, 1442)]']\n",
      "normal\n",
      "['[(2367, 1675), (2367, 1675)]' '[(2429, 1516), (2429, 1516)]'\n",
      " '[(2233, 1435), (2233, 1435)]' '[(2456, 1436), (2456, 1436)]'\n",
      " '[(2462, 1437), (2462, 1437)]' '[(2462, 1431), (2462, 1431)]'\n",
      " '[(2049, 1949), (2049, 1949)]' '[(2126, 1624), (2126, 1624)]'\n",
      " '[(2350, 1675), (2350, 1675)]' '[(2349, 1656), (2349, 1656)]'\n",
      " '[(2353, 1662), (2353, 1662)]' '[(2358, 1653), (2358, 1653)]'\n",
      " '[(2359, 1664), (2359, 1664)]' '[(2293, 1752), (2293, 1752)]'\n",
      " '[(2531, 1442), (2531, 1442)]']\n"
     ]
    },
    {
     "data": {
      "application/javascript": "\n        if (window._pyforest_update_imports_cell) { window._pyforest_update_imports_cell('import matplotlib.pyplot as plt'); }\n    ",
      "text/plain": [
       "<IPython.core.display.Javascript object>"
      ]
     },
     "metadata": {},
     "output_type": "display_data"
    },
    {
     "data": {
      "application/javascript": "\n        if (window._pyforest_update_imports_cell) { window._pyforest_update_imports_cell('import matplotlib.pyplot as plt'); }\n    ",
      "text/plain": [
       "<IPython.core.display.Javascript object>"
      ]
     },
     "metadata": {},
     "output_type": "display_data"
    },
    {
     "name": "stdout",
     "output_type": "stream",
     "text": [
      "normal\n",
      "['[(2367, 1675), (2367, 1675)]' '[(2429, 1516), (2429, 1516)]'\n",
      " '[(2233, 1435), (2233, 1435)]' '[(2456, 1436), (2456, 1436)]'\n",
      " '[(2462, 1437), (2462, 1437)]' '[(2462, 1431), (2462, 1431)]'\n",
      " '[(2049, 1949), (2049, 1949)]' '[(2126, 1624), (2126, 1624)]'\n",
      " '[(2350, 1675), (2350, 1675)]' '[(2349, 1656), (2349, 1656)]'\n",
      " '[(2353, 1662), (2353, 1662)]' '[(2358, 1653), (2358, 1653)]'\n",
      " '[(2359, 1664), (2359, 1664)]' '[(2293, 1752), (2293, 1752)]'\n",
      " '[(2531, 1442), (2531, 1442)]']\n"
     ]
    },
    {
     "data": {
      "application/javascript": "\n        if (window._pyforest_update_imports_cell) { window._pyforest_update_imports_cell('import matplotlib.pyplot as plt'); }\n    ",
      "text/plain": [
       "<IPython.core.display.Javascript object>"
      ]
     },
     "metadata": {},
     "output_type": "display_data"
    },
    {
     "data": {
      "application/javascript": "\n        if (window._pyforest_update_imports_cell) { window._pyforest_update_imports_cell('import matplotlib.pyplot as plt'); }\n    ",
      "text/plain": [
       "<IPython.core.display.Javascript object>"
      ]
     },
     "metadata": {},
     "output_type": "display_data"
    },
    {
     "data": {
      "application/javascript": "\n        if (window._pyforest_update_imports_cell) { window._pyforest_update_imports_cell('import matplotlib.pyplot as plt'); }\n    ",
      "text/plain": [
       "<IPython.core.display.Javascript object>"
      ]
     },
     "metadata": {},
     "output_type": "display_data"
    },
    {
     "data": {
      "image/png": "[encoded data removed]",
      "text/plain": [
       "<Figure size 432x288 with 1 Axes>"
      ]
     },
     "metadata": {
      "needs_background": "light"
     },
     "output_type": "display_data"
    }
   ],
   "source": [
    "roi_mask = np.zeros(db[38]['img'].shape)\n",
    "for i in db[38]['lesion_bboxes']:\n",
    "    roi_mask = cv2.rectangle(roi_mask, (i[0][0]-50, i[0][1]-50), (i[1][0]+50, i[1][1]+50), 255, 3)\n",
    "plt.figure()\n",
    "plt.imshow(db[38]['img'], cmap='gray' )\n",
    "plt.imshow(roi_mask, alpha=0.5)\n",
    "plt.axis('off')\n",
    "plt.show()"
   ]
  },
  {
   "cell_type": "code",
   "execution_count": 6,
   "id": "cf9a1505",
   "metadata": {},
   "outputs": [
    {
     "name": "stdout",
     "output_type": "stream",
     "text": [
      "normal\n",
      "['[(2367, 1675), (2367, 1675)]' '[(2429, 1516), (2429, 1516)]'\n",
      " '[(2233, 1435), (2233, 1435)]' '[(2456, 1436), (2456, 1436)]'\n",
      " '[(2462, 1437), (2462, 1437)]' '[(2462, 1431), (2462, 1431)]'\n",
      " '[(2049, 1949), (2049, 1949)]' '[(2126, 1624), (2126, 1624)]'\n",
      " '[(2350, 1675), (2350, 1675)]' '[(2349, 1656), (2349, 1656)]'\n",
      " '[(2353, 1662), (2353, 1662)]' '[(2358, 1653), (2358, 1653)]'\n",
      " '[(2359, 1664), (2359, 1664)]' '[(2293, 1752), (2293, 1752)]'\n",
      " '[(2531, 1442), (2531, 1442)]']\n"
     ]
    },
    {
     "data": {
      "text/plain": [
       "'R'"
      ]
     },
     "execution_count": 6,
     "metadata": {},
     "output_type": "execute_result"
    }
   ],
   "source": [
    "db[38]['side']"
   ]
  },
  {
   "cell_type": "code",
   "execution_count": 6,
   "id": "d1afa401",
   "metadata": {},
   "outputs": [
    {
     "name": "stderr",
     "output_type": "stream",
     "text": [
      "100%|██████████| 296/296 [01:03<00:00,  4.69it/s]\n",
      "100%|██████████| 296/296 [06:20<00:00,  1.28s/it]\n"
     ]
    }
   ],
   "source": [
    "db =  INBreast_Dataset(\n",
    "        return_lesions_mask=True,\n",
    "        level='rois',\n",
    "        max_lesion_diam_mm=1.0,\n",
    "        extract_patches=True,\n",
    "        extract_patches_method='center',  # 'centered'\n",
    "        patch_size=128,\n",
    "        stride=64,\n",
    "        min_breast_fraction_roi=0.9,\n",
    "        cropped_imgs=False,\n",
    "        normalize='min_max',\n",
    "        n_jobs=3\n",
    ")"
   ]
  },
  {
   "cell_type": "code",
   "execution_count": null,
   "id": "8c6c4c8e",
   "metadata": {},
   "outputs": [],
   "source": [
    "# db.df.loc[db.df.img_id==22614499]"
   ]
  },
  {
   "cell_type": "code",
   "execution_count": null,
   "id": "6835db9d",
   "metadata": {},
   "outputs": [],
   "source": [
    "for i in range(300):\n",
    "    if db[i]['lab'] == 'abnormal':\n",
    "        easy_plot(i)"
   ]
  },
  {
   "cell_type": "code",
   "execution_count": 3,
   "id": "24724145",
   "metadata": {},
   "outputs": [
    {
     "ename": "TypeError",
     "evalue": "__init__() got an unexpected keyword argument 'max_lesion_size_mm'",
     "output_type": "error",
     "traceback": [
      "\u001b[0;31m---------------------------------------------------------------------------\u001b[0m",
      "\u001b[0;31mTypeError\u001b[0m                                 Traceback (most recent call last)",
      "\u001b[0;32m/tmp/ipykernel_138846/4203422615.py\u001b[0m in \u001b[0;36m<module>\u001b[0;34m\u001b[0m\n\u001b[0;32m----> 1\u001b[0;31m db = INBreast_Dataset(\n\u001b[0m\u001b[1;32m      2\u001b[0m         \u001b[0mreturn_lesions_mask\u001b[0m\u001b[0;34m=\u001b[0m\u001b[0;32mTrue\u001b[0m\u001b[0;34m,\u001b[0m\u001b[0;34m\u001b[0m\u001b[0;34m\u001b[0m\u001b[0m\n\u001b[1;32m      3\u001b[0m         \u001b[0mlevel\u001b[0m\u001b[0;34m=\u001b[0m\u001b[0;34m'rois'\u001b[0m\u001b[0;34m,\u001b[0m\u001b[0;34m\u001b[0m\u001b[0;34m\u001b[0m\u001b[0m\n\u001b[1;32m      4\u001b[0m         \u001b[0mmax_lesion_size_mm\u001b[0m\u001b[0;34m=\u001b[0m\u001b[0;36m1.0\u001b[0m\u001b[0;34m,\u001b[0m\u001b[0;34m\u001b[0m\u001b[0;34m\u001b[0m\u001b[0m\n\u001b[1;32m      5\u001b[0m         \u001b[0mextract_rois\u001b[0m\u001b[0;34m=\u001b[0m\u001b[0;32mFalse\u001b[0m\u001b[0;34m,\u001b[0m\u001b[0;34m\u001b[0m\u001b[0;34m\u001b[0m\u001b[0m\n",
      "\u001b[0;31mTypeError\u001b[0m: __init__() got an unexpected keyword argument 'max_lesion_size_mm'"
     ]
    }
   ],
   "source": [
    "db = INBreast_Dataset(\n",
    "        return_lesions_mask=True,\n",
    "        level='rois',\n",
    "        max_lesion_size_mm=1.0,\n",
    "        extract_rois=False,\n",
    "        extract_rois_method='all',  # 'centered'\n",
    "        roi_size=256,\n",
    "        stride=256,\n",
    "        min_breast_fraction_roi=0.8,\n",
    "        normalize=None,\n",
    "        n_jobs=-1,\n",
    ")"
   ]
  }
 ],
 "metadata": {
  "kernelspec": {
   "display_name": "Python 3 (ipykernel)",
   "language": "python",
   "name": "python3"
  },
  "language_info": {
   "codemirror_mode": {
    "name": "ipython",
    "version": 3
   },
   "file_extension": ".py",
   "mimetype": "text/x-python",
   "name": "python",
   "nbconvert_exporter": "python",
   "pygments_lexer": "ipython3",
   "version": "3.9.7"
  }
 },
 "nbformat": 4,
 "nbformat_minor": 5
}
