{
 "cells": [
  {
   "cell_type": "code",
   "execution_count": 38,
   "id": "a834f175",
   "metadata": {},
   "outputs": [],
   "source": [
    "import sys; sys.path.insert(0, '..')\n",
    "from database.dataset import *\n",
    "import pyforest\n",
    "import matplotlib.pyplot as plt"
   ]
  },
  {
   "cell_type": "code",
   "execution_count": 2,
   "id": "c65c5090",
   "metadata": {},
   "outputs": [],
   "source": [
    "def easy_plot(i):\n",
    "    plt.figure()\n",
    "    plt.imshow(db[i]['img'], cmap='gray' )\n",
    "    plt.imshow(db[i]['lesion_mask'])\n",
    "    plt.axis('off')\n",
    "    plt.show()"
   ]
  },
  {
   "cell_type": "code",
   "execution_count": 3,
   "id": "8e12748d",
   "metadata": {},
   "outputs": [],
   "source": [
    "db = INBreast_Dataset(\n",
    "        return_lesions_mask=True,\n",
    "        level='image',\n",
    "        max_lesion_diam_mm=1.0,\n",
    "        normalize=None,\n",
    "        n_jobs=-1,\n",
    ")"
   ]
  },
  {
   "cell_type": "code",
   "execution_count": 4,
   "id": "9db4cf27",
   "metadata": {},
   "outputs": [
    {
     "data": {
      "text/plain": [
       "img_id                                                      20586908\n",
       "n_rois                                                            42\n",
       "side                                                               R\n",
       "view                                                              CC\n",
       "filename           /home/acortinau/projects/calc-det/data/INbreas...\n",
       "acr                                                                2\n",
       "artifact                                                       False\n",
       "birads                                                             2\n",
       "case_id                                             6c613a14b80a8591\n",
       "finding_notes                           nodulo mama direita + micros\n",
       "lesion_annot                                                     yes\n",
       "pectoral_muscle                                                False\n",
       "mass                                                            True\n",
       "micros                                                          True\n",
       "distortion                                                     False\n",
       "asymmetry                                                      False\n",
       "breast_bbox                               [(1374, 64), (3328, 3527)]\n",
       "partition                                                      train\n",
       "img_size                                                (3463, 1954)\n",
       "case_label                                                  abnormal\n",
       "img_label                                                   abnormal\n",
       "label                                                       abnormal\n",
       "Name: 0, dtype: object"
      ]
     },
     "execution_count": 4,
     "metadata": {},
     "output_type": "execute_result"
    }
   ],
   "source": [
    "db.df.loc[0]"
   ]
  },
  {
   "cell_type": "code",
   "execution_count": 9,
   "id": "d1afa401",
   "metadata": {},
   "outputs": [
    {
     "name": "stderr",
     "output_type": "stream",
     "text": [
      "100%|██████████| 310/310 [01:12<00:00,  4.27it/s]\n"
     ]
    }
   ],
   "source": [
    "db =  INBreast_Dataset(\n",
    "        return_lesions_mask=True,\n",
    "        level='rois',\n",
    "        max_lesion_size_mm=1.0,\n",
    "        extract_patches=True,\n",
    "        extract_patches_method='all',  # 'centered'\n",
    "        patch_size=512,\n",
    "        stride=256,\n",
    "        min_breast_fraction_roi=0.5,\n",
    "        normalize=None,\n",
    "        n_jobs=-1)"
   ]
  },
  {
   "cell_type": "code",
   "execution_count": 34,
   "id": "168a62af",
   "metadata": {},
   "outputs": [],
   "source": [
    "def get_patches_from_candidates(image_array: np.ndarray, lesion_candidates: list[tuple], patch_size: int):\n",
    "    \"\"\"Returns patches of given size centered at each lesion center coordinates.\n",
    "\n",
    "    Args:\n",
    "        image_array (np.ndarray): image or mask to extract patches.\n",
    "        lesion_candidates (list): corresponding list of lesion candidates. Each candidate be a tuple of int coordinates (row,column).\n",
    "        patch_size (int): dimension of the extracted patch (patch_size,patch_size).\n",
    "\n",
    "    Returns:\n",
    "        candidate_patches (np.ndarray): extracted patches array. Dim (no_patches,patch_size,patch_size)\n",
    "    \"\"\"\n",
    "    no_lesions = np.shape(lesion_candidates)[0]  \n",
    "    candidates_patches = np.zeros((no_lesions,patch_size,patch_size))\n",
    "       \n",
    "    for k,(x_coord,y_coord) in enumerate(lesion_candidates):\n",
    "        \n",
    "        patch_half_size = int(patch_size / 2)\n",
    "        \n",
    "        # Get the coordinates of the patch centered in the lesion\n",
    "        patch_x1 = x_coord - patch_half_size\n",
    "        patch_y1 = y_coord - patch_half_size\n",
    "        if patch_x1 < 0:\n",
    "            patch_x1 = 0\n",
    "            patch_x2 = patch_size\n",
    "        else:\n",
    "            patch_x2 = x_coord + patch_size - patch_half_size\n",
    "        if patch_y1 < 0:\n",
    "            patch_y1 = 0\n",
    "            patch_y2 = patch_size\n",
    "        else:\n",
    "            patch_y2 = y_coord + patch_size - patch_half_size\n",
    "\n",
    "        if patch_x2 > image_array.shape[1]:\n",
    "            image_array = np.pad(\n",
    "                image_array, ((0, 0), (0, patch_size)), mode='constant', constant_values=0\n",
    "            )\n",
    "            \n",
    "        if patch_y2 > image_array.shape[0]:\n",
    "            image_array = np.pad(\n",
    "                image_array, ((0, patch_size), (0, 0)), mode='constant', constant_values=0\n",
    "            )\n",
    "            \n",
    "        # Crop the patch\n",
    "        candidates_patches[k] = image_array[patch_y1:patch_y2, patch_x1:patch_x2]\n",
    "        \n",
    "    return candidates_patches\n"
   ]
  },
  {
   "cell_type": "code",
   "execution_count": 35,
   "id": "ad7cbe37",
   "metadata": {},
   "outputs": [],
   "source": [
    "blob_coord = list(db.rois_df.loc[db.rois_df.img_id == db.df.loc[0,'img_id'],'center_crop'])\n",
    "\n"
   ]
  },
  {
   "cell_type": "code",
   "execution_count": 51,
   "id": "085485a6",
   "metadata": {},
   "outputs": [],
   "source": [
    "can_patches = get_patches_from_candidates(db[0]['img'],blob_coord,200)"
   ]
  },
  {
   "cell_type": "code",
   "execution_count": 42,
   "id": "24724145",
   "metadata": {},
   "outputs": [],
   "source": [
    "db = INBreast_Dataset(\n",
    "        return_lesions_mask=True,\n",
    "        level='rois',\n",
    "        max_lesion_size_mm=1.0,\n",
    "        extract_rois=False,\n",
    "        extract_rois_method='all',  # 'centered'\n",
    "        roi_size=256,\n",
    "        stride=256,\n",
    "        min_breast_fraction_roi=0.8,\n",
    "        normalize=None,\n",
    "        n_jobs=-1,\n",
    ")"
   ]
  }
 ],
 "metadata": {
  "kernelspec": {
   "display_name": "Python 3 (ipykernel)",
   "language": "python",
   "name": "python3"
  },
  "language_info": {
   "codemirror_mode": {
    "name": "ipython",
    "version": 3
   },
   "file_extension": ".py",
   "mimetype": "text/x-python",
   "name": "python",
   "nbconvert_exporter": "python",
   "pygments_lexer": "ipython3",
   "version": "3.9.7"
  }
 },
 "nbformat": 4,
 "nbformat_minor": 5
}
