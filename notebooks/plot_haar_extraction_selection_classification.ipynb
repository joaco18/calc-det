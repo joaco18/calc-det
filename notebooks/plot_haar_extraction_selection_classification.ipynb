{
  "cells": [
    {
      "cell_type": "code",
      "execution_count": 1,
      "metadata": {
        "collapsed": false
      },
      "outputs": [],
      "source": [
        "from skimage.feature import haar_like_feature_coord\n",
        "from skimage.feature import draw_haar_like_feature"
      ]
    },
    {
      "cell_type": "code",
      "execution_count": 2,
      "metadata": {},
      "outputs": [
        {
          "name": "stderr",
          "output_type": "stream",
          "text": [
            "INFO:numexpr.utils:NumExpr defaulting to 8 threads.\n"
          ]
        },
        {
          "ename": "ModuleNotFoundError",
          "evalue": "No module named 'models'",
          "output_type": "error",
          "traceback": [
            "\u001b[0;31m---------------------------------------------------------------------------\u001b[0m",
            "\u001b[0;31mModuleNotFoundError\u001b[0m                       Traceback (most recent call last)",
            "\u001b[0;32m/tmp/ipykernel_118504/719596835.py\u001b[0m in \u001b[0;36m<module>\u001b[0;34m\u001b[0m\n\u001b[1;32m      4\u001b[0m \u001b[0;32mfrom\u001b[0m \u001b[0mdatabase\u001b[0m\u001b[0;34m.\u001b[0m\u001b[0mdataset\u001b[0m \u001b[0;32mimport\u001b[0m \u001b[0mINBreast_Dataset\u001b[0m\u001b[0;34m\u001b[0m\u001b[0;34m\u001b[0m\u001b[0m\n\u001b[1;32m      5\u001b[0m \u001b[0;32mfrom\u001b[0m \u001b[0mmc_candidate_proposal\u001b[0m\u001b[0;34m.\u001b[0m\u001b[0mhough_mc\u001b[0m \u001b[0;32mimport\u001b[0m \u001b[0mHoughCalcificationDetection\u001b[0m\u001b[0;34m\u001b[0m\u001b[0;34m\u001b[0m\u001b[0m\n\u001b[0;32m----> 6\u001b[0;31m \u001b[0;32mfrom\u001b[0m \u001b[0mmodels\u001b[0m\u001b[0;34m.\u001b[0m\u001b[0mbria2014\u001b[0m\u001b[0;34m.\u001b[0m\u001b[0mhaar_extractor\u001b[0m \u001b[0;32mimport\u001b[0m \u001b[0mHaarFeatureExtractor\u001b[0m\u001b[0;34m\u001b[0m\u001b[0;34m\u001b[0m\u001b[0m\n\u001b[0m\u001b[1;32m      7\u001b[0m \u001b[0;32mfrom\u001b[0m \u001b[0mmetrics\u001b[0m\u001b[0;34m.\u001b[0m\u001b[0mmetrics\u001b[0m \u001b[0;32mimport\u001b[0m \u001b[0mget_tp_fp_fn\u001b[0m\u001b[0;34m\u001b[0m\u001b[0;34m\u001b[0m\u001b[0m\n\u001b[1;32m      8\u001b[0m \u001b[0;32mfrom\u001b[0m \u001b[0msklearn\u001b[0m\u001b[0;34m.\u001b[0m\u001b[0mmodel_selection\u001b[0m \u001b[0;32mimport\u001b[0m \u001b[0mtrain_test_split\u001b[0m\u001b[0;34m\u001b[0m\u001b[0;34m\u001b[0m\u001b[0m\n",
            "\u001b[0;31mModuleNotFoundError\u001b[0m: No module named 'models'"
          ]
        }
      ],
      "source": [
        "import cv2\n",
        "import sys; sys.path.insert(0, '..')\n",
        "\n",
        "from database.dataset import INBreast_Dataset\n",
        "from mc_candidate_proposal.hough_mc import HoughCalcificationDetection\n",
        "from models.bria2014.haar_extractor import HaarFeatureExtractor\n",
        "from metrics.metrics import get_tp_fp_fn\n",
        "from sklearn.model_selection import train_test_split\n",
        "import general_utils.utils as utils\n",
        "from pathlib import Path\n",
        "from tqdm import tqdm\n",
        "import pandas as pd\n",
        "import numpy as np\n",
        "from time import time\n",
        "\n",
        "db = INBreast_Dataset(\n",
        "    return_lesions_mask=True,\n",
        "    level='image',\n",
        "    max_lesion_diam_mm=1.,\n",
        "    extract_patches=False,\n",
        "    extract_patches_method='all',  # 'centered'\n",
        "    patch_size=256,\n",
        "    stride=256,\n",
        "    min_breast_fraction_roi=0.5,\n",
        "    normalize=None,\n",
        "    n_jobs=-1,\n",
        "    partitions=['train', 'validation']\n",
        ")\n",
        "BASE_PATH = Path('/home/jseia/Desktop/ml-dl/data_rois/haar_features')\n",
        "all_features = []\n",
        "for idx in tqdm(range(30), total=30):\n",
        "    image_id = db.df.iloc[idx].img_id\n",
        "    features = pd.read_feather(BASE_PATH/f'{image_id}.fth')\n",
        "    all_features.append(features)\n",
        "all_features = np.concatenate(all_features, axis=0)\n",
        "all_features = pd.DataFrame(all_features, columns=features.columns)\n",
        "print(all_features.label.value_counts())"
      ]
    },
    {
      "cell_type": "code",
      "execution_count": 2,
      "metadata": {},
      "outputs": [],
      "source": [
        "all_features = pd.concat([all_features.loc[all_features.label==1], all_features.loc[all_features.label==0].sample(4212)], ignore_index=True)"
      ]
    },
    {
      "cell_type": "code",
      "execution_count": 31,
      "metadata": {},
      "outputs": [
        {
          "data": {
            "text/plain": [
              "((336, 21255), 226)"
            ]
          },
          "execution_count": 31,
          "metadata": {},
          "output_type": "execute_result"
        }
      ],
      "source": []
    },
    {
      "cell_type": "code",
      "execution_count": 4,
      "metadata": {},
      "outputs": [],
      "source": [
        "X_train, X_test, y_train, y_test = train_test_split(\n",
        "    all_features.loc[:, all_features.columns!='label'].values,\n",
        "    all_features['label'].values, train_size=0.7,\n",
        "    random_state=0, stratify=all_features['label'].values)"
      ]
    },
    {
      "cell_type": "code",
      "execution_count": 8,
      "metadata": {},
      "outputs": [],
      "source": [
        "# Extract all possible features\n",
        "feature_coord, feature_type = \\\n",
        "    haar_like_feature_coord(width=14, height=14,\n",
        "                            feature_type=['type-2-x', 'type-2-y', 'type-3-x', 'type-3-y', 'type-4'])"
      ]
    },
    {
      "cell_type": "code",
      "execution_count": 12,
      "metadata": {},
      "outputs": [],
      "source": [
        "case = db[idx]\n",
        "image = case['img']\n",
        "image_id = db.df.iloc[idx].img_id\n",
        "radiouses = case['radiuses']\n",
        "true_bboxes = db[idx]['lesion_bboxes']\n",
        "\n",
        "dehazing_params = {'omega': 0.9, 'window_size': 11, 'radius': 40, 'eps': 1e-5}\n",
        "\n",
        "hough1_params = {'method': cv2.HOUGH_GRADIENT, 'dp': 1, 'minDist': 20,\n",
        "                    'param1': 300, 'param2': 8,  'minRadius': 2, 'maxRadius': 20}\n",
        "\n",
        "hough2_params = {'method': cv2.HOUGH_GRADIENT, 'dp': 1, 'minDist': 20,\n",
        "                    'param1': 300, 'param2': 10,  'minRadius': 2, 'maxRadius': 20}\n",
        "back_ext_radius = 50\n",
        "erosion_iter = 20\n",
        "erosion_size = 5\n",
        "\n",
        "path = Path('/home/jseia/Desktop/ml-dl/data/hough')\n",
        "path.mkdir(exist_ok=True, parents=True)\n",
        "\n",
        "hd = HoughCalcificationDetection(\n",
        "    dehazing_params, back_ext_radius,\n",
        "    path,\n",
        "    hough1_params, hough2_params,\n",
        "    erosion_iter=erosion_iter,\n",
        "    erosion_size=erosion_size\n",
        ")\n",
        "_, h2_circles = hd.detect(\n",
        "    image, image_id, load_processed_images=True, hough2=True)\n",
        "\n",
        "tp, fp, fn, gt_d, close_fp = get_tp_fp_fn(true_bboxes, radiouses, h2_circles, 7, 0.0)\n",
        "\n",
        "h2_circles = np.concatenate((tp, fp), axis=0)\n",
        "\n",
        "images = np.empty((len(h2_circles), 14, 14))\n",
        "# generate a patches array to distribute computation\n",
        "for j, location in enumerate(h2_circles):\n",
        "    # Get the patch arround center\n",
        "    x1, x2, y1, y2 = utils.patch_coordinates_from_center(\n",
        "        center=(location[0], location[1]), image_shape=image.shape,\n",
        "        patch_size=14, use_padding=False)\n",
        "    images[j, :, :] = image[y1:y2, x1:x2]"
      ]
    },
    {
      "cell_type": "code",
      "execution_count": 15,
      "metadata": {},
      "outputs": [
        {
          "data": {
            "image/png": "[encoded data removed]",
            "text/plain": [
              "<Figure size 432x288 with 6 Axes>"
            ]
          },
          "metadata": {},
          "output_type": "display_data"
        }
      ],
      "source": [
        "import sys\n",
        "from time import time\n",
        "\n",
        "import numpy as np\n",
        "import matplotlib.pyplot as plt\n",
        "\n",
        "from sklearn.ensemble import RandomForestClassifier\n",
        "from sklearn.model_selection import train_test_split\n",
        "from sklearn.metrics import roc_auc_score, roc_curve\n",
        "\n",
        "# Train a random forest classifier and assess its performance\n",
        "clf = RandomForestClassifier(n_estimators=1000, max_depth=None, n_jobs=-1, random_state=0)\n",
        "t_start = time()\n",
        "clf.fit(X_train, y_train)\n",
        "time_full_train = time() - t_start\n",
        "auc_full_features = roc_auc_score(y_test, clf.predict_proba(X_test)[:, 1])\n",
        "\n",
        "# Sort features in order of importance and plot the six most significant\n",
        "idx_sorted = np.argsort(clf.feature_importances_)[::-1]"
      ]
    },
    {
      "cell_type": "code",
      "execution_count": 17,
      "metadata": {},
      "outputs": [
        {
          "data": {
            "image/png": "[encoded data removed]",
            "text/plain": [
              "<Figure size 432x288 with 6 Axes>"
            ]
          },
          "metadata": {},
          "output_type": "display_data"
        }
      ],
      "source": [
        "fig, axes = plt.subplots(3, 2)\n",
        "for idx, ax in enumerate(axes.ravel()):\n",
        "    image = utils.min_max_norm(images[2], 255).astype('uint8')\n",
        "    image = draw_haar_like_feature(image, 0, 0,\n",
        "                                   images.shape[2],\n",
        "                                   images.shape[1],\n",
        "                                   [feature_coord[idx_sorted[idx]]])\n",
        "    ax.imshow(image)\n",
        "    ax.set_xticks([])\n",
        "    ax.set_yticks([])\n",
        "\n",
        "_ = fig.suptitle('The most important features')"
      ]
    },
    {
      "cell_type": "code",
      "execution_count": 18,
      "metadata": {},
      "outputs": [
        {
          "data": {
            "text/plain": [
              "0.997034479650697"
            ]
          },
          "execution_count": 18,
          "metadata": {},
          "output_type": "execute_result"
        }
      ],
      "source": [
        "auc_full_features"
      ]
    },
    {
      "cell_type": "code",
      "execution_count": 19,
      "metadata": {},
      "outputs": [
        {
          "data": {
            "text/plain": [
              "[<matplotlib.lines.Line2D at 0x7f1a9e29bbe0>]"
            ]
          },
          "execution_count": 19,
          "metadata": {},
          "output_type": "execute_result"
        },
        {
          "data": {
            "image/png": "[encoded data removed]",
            "text/plain": [
              "<Figure size 432x288 with 1 Axes>"
            ]
          },
          "metadata": {
            "needs_background": "light"
          },
          "output_type": "display_data"
        }
      ],
      "source": [
        "from sklearn.metrics import roc_auc_score, roc_curve\n",
        "fpr, tpr, _ = roc_curve(y_test, clf.predict_proba(X_test)[:, 1])\n",
        "\n",
        "plt.plot(fpr, tpr)"
      ]
    },
    {
      "cell_type": "code",
      "execution_count": 20,
      "metadata": {},
      "outputs": [
        {
          "data": {
            "text/plain": [
              "<AxesSubplot:ylabel='Count'>"
            ]
          },
          "execution_count": 20,
          "metadata": {},
          "output_type": "execute_result"
        },
        {
          "data": {
            "image/png": "[encoded data removed]",
            "text/plain": [
              "<Figure size 432x288 with 1 Axes>"
            ]
          },
          "metadata": {
            "needs_background": "light"
          },
          "output_type": "display_data"
        }
      ],
      "source": [
        "import seaborn as sns\n",
        "sns.histplot(x=clf.predict_proba(X_test)[:, 1], hue=y_test)"
      ]
    },
    {
      "cell_type": "code",
      "execution_count": 21,
      "metadata": {},
      "outputs": [],
      "source": [
        "BASE_PATH = Path('/home/jseia/Desktop/ml-dl/data_rois/haar_features')\n",
        "image_id = db.df.iloc[50].img_id\n",
        "features_test = pd.read_feather(BASE_PATH/f'{image_id}.fth')"
      ]
    },
    {
      "cell_type": "code",
      "execution_count": null,
      "metadata": {},
      "outputs": [],
      "source": [
        "self.features_r = feature_instantiator(patch_size, 'rot')"
      ]
    },
    {
      "cell_type": "code",
      "execution_count": 28,
      "metadata": {
        "collapsed": false
      },
      "outputs": [
        {
          "name": "stdout",
          "output_type": "stream",
          "text": [
            "2545 features, or 12.0%, account for 70% of branch points in the random forest.\n"
          ]
        }
      ],
      "source": [
        "cdf_feature_importances = np.cumsum(clf.feature_importances_[idx_sorted])\n",
        "cdf_feature_importances /= cdf_feature_importances[-1]  # divide by max value\n",
        "sig_feature_count = np.count_nonzero(cdf_feature_importances < 0.6)\n",
        "sig_feature_percent = round(sig_feature_count /\n",
        "                            len(cdf_feature_importances) * 100, 1)\n",
        "print((f'{sig_feature_count} features, or {sig_feature_percent}%, '\n",
        "       f'account for 70% of branch points in the random forest.'))\n",
        "\n",
        "# Select the determined number of most informative features\n",
        "# feature_coord_sel = feature_coord[idx_sorted[:sig_feature_count]]\n",
        "# feature_type_sel = feature_type[idx_sorted[:sig_feature_count]]\n",
        "# Note: it is also possible to select the features directly from the matrix X,\n",
        "# but we would like to emphasize the usage of `feature_coord` and `feature_type`\n",
        "# to recompute a subset of desired features.\n",
        "\n",
        "# Build the computational graph using Dask\n",
        "# X = delayed(extract_feature_image(img, feature_type_sel, feature_coord_sel)\n",
        "#             for img in images)\n",
        "# # Compute the result\n",
        "# t_start = time()\n",
        "# X = np.array(X.compute(scheduler='single-threaded'))\n",
        "# time_subs_feature_comp = time() - t_start\n",
        "\n",
        "# y = np.array([1] * len(tp) + [0] * len(fp))\n",
        "# X_train, X_test, y_train, y_test = train_test_split(X, y, train_size=0.7,\n",
        "#                                                     random_state=0,\n",
        "#                                                     stratify=y)"
      ]
    },
    {
      "cell_type": "code",
      "execution_count": 16,
      "metadata": {},
      "outputs": [
        {
          "name": "stdout",
          "output_type": "stream",
          "text": [
            "Computing the full feature set took 48.719s, plus 4.570s training, for an AUC of 1.00. Computing the restricted feature set took 0.638s, plus 2.149s training, for an AUC of 1.00.\n"
          ]
        }
      ],
      "source": [
        "t_start = time()\n",
        "clf.fit(X_train, y_train)\n",
        "time_subs_train = time() - t_start\n",
        "\n",
        "auc_subs_features = roc_auc_score(y_test, clf.predict_proba(X_test)[:, 1])\n",
        "\n",
        "summary = ((f'Computing the full feature set took '\n",
        "            f'{time_full_feature_comp:.3f}s, '\n",
        "            f'plus {time_full_train:.3f}s training, '\n",
        "            f'for an AUC of {auc_full_features:.2f}. '\n",
        "            f'Computing the restricted feature set took '\n",
        "            f'{time_subs_feature_comp:.3f}s, plus {time_subs_train:.3f}s '\n",
        "            f'training, for an AUC of {auc_subs_features:.2f}.'))\n",
        "\n",
        "print(summary)\n",
        "plt.show()"
      ]
    },
    {
      "cell_type": "code",
      "execution_count": 23,
      "metadata": {},
      "outputs": [
        {
          "data": {
            "text/plain": [
              "51.330018281936646"
            ]
          },
          "execution_count": 23,
          "metadata": {},
          "output_type": "execute_result"
        }
      ],
      "source": [
        "import xgboost as xgb\n",
        "from sklearn.metrics import mean_squared_error\n",
        "import pandas as pd\n",
        "import numpy as np"
      ]
    },
    {
      "cell_type": "markdown",
      "metadata": {},
      "source": [
        "A random forest classifier can be trained in order to select the most\n",
        "salient features, specifically for face classification. The idea is to\n",
        "determine which features are most often used by the ensemble of trees.\n",
        "By using only the most salient features in subsequent steps, we can\n",
        "drastically speed up the computation while retaining accuracy.\n",
        "\n"
      ]
    },
    {
      "cell_type": "code",
      "execution_count": null,
      "metadata": {
        "collapsed": false
      },
      "outputs": [],
      "source": [
        "# Train a random forest classifier and assess its performance\n",
        "clf = RandomForestClassifier(n_estimators=1000, max_depth=None,\n",
        "                             max_features=100, n_jobs=-1, random_state=0)\n",
        "t_start = time()\n",
        "clf.fit(X_train, y_train)\n",
        "time_full_train = time() - t_start\n",
        "auc_full_features = roc_auc_score(y_test, clf.predict_proba(X_test)[:, 1])\n",
        "\n",
        "# Sort features in order of importance and plot the six most significant\n",
        "idx_sorted = np.argsort(clf.feature_importances_)[::-1]\n",
        "\n",
        "fig, axes = plt.subplots(3, 2)\n",
        "for idx, ax in enumerate(axes.ravel()):\n",
        "    image = images[0]\n",
        "    image = draw_haar_like_feature(image, 0, 0,\n",
        "                                   images.shape[2],\n",
        "                                   images.shape[1],\n",
        "                                   [feature_coord[idx_sorted[idx]]])\n",
        "    ax.imshow(image)\n",
        "    ax.set_xticks([])\n",
        "    ax.set_yticks([])\n",
        "\n",
        "_ = fig.suptitle('The most important features')"
      ]
    },
    {
      "cell_type": "markdown",
      "metadata": {},
      "source": [
        "We can select the most important features by checking the cumulative sum\n",
        "of the feature importance. In this example, we keep the features\n",
        "representing 70% of the cumulative value (which corresponds to using only 3%\n",
        "of the total number of features).\n",
        "\n"
      ]
    },
    {
      "cell_type": "code",
      "execution_count": null,
      "metadata": {
        "collapsed": false
      },
      "outputs": [],
      "source": [
        "cdf_feature_importances = np.cumsum(clf.feature_importances_[idx_sorted])\n",
        "cdf_feature_importances /= cdf_feature_importances[-1]  # divide by max value\n",
        "sig_feature_count = np.count_nonzero(cdf_feature_importances < 0.7)\n",
        "sig_feature_percent = round(sig_feature_count /\n",
        "                            len(cdf_feature_importances) * 100, 1)\n",
        "print((f'{sig_feature_count} features, or {sig_feature_percent}%, '\n",
        "       f'account for 70% of branch points in the random forest.'))\n",
        "\n",
        "# Select the determined number of most informative features\n",
        "feature_coord_sel = feature_coord[idx_sorted[:sig_feature_count]]\n",
        "feature_type_sel = feature_type[idx_sorted[:sig_feature_count]]\n",
        "# Note: it is also possible to select the features directly from the matrix X,\n",
        "# but we would like to emphasize the usage of `feature_coord` and `feature_type`\n",
        "# to recompute a subset of desired features.\n",
        "\n",
        "# Build the computational graph using Dask\n",
        "X = delayed(extract_feature_image(img, feature_type_sel, feature_coord_sel)\n",
        "            for img in images)\n",
        "# Compute the result\n",
        "t_start = time()\n",
        "X = np.array(X.compute(scheduler='single-threaded'))\n",
        "time_subs_feature_comp = time() - t_start\n",
        "\n",
        "y = np.array([1] * 100 + [0] * 100)\n",
        "X_train, X_test, y_train, y_test = train_test_split(X, y, train_size=150,\n",
        "                                                    random_state=0,\n",
        "                                                    stratify=y)"
      ]
    },
    {
      "cell_type": "markdown",
      "metadata": {},
      "source": [
        "Once the features are extracted, we can train and test a new classifier.\n",
        "\n"
      ]
    },
    {
      "cell_type": "code",
      "execution_count": null,
      "metadata": {
        "collapsed": false
      },
      "outputs": [],
      "source": [
        "t_start = time()\n",
        "clf.fit(X_train, y_train)\n",
        "time_subs_train = time() - t_start\n",
        "\n",
        "auc_subs_features = roc_auc_score(y_test, clf.predict_proba(X_test)[:, 1])\n",
        "\n",
        "summary = ((f'Computing the full feature set took '\n",
        "            f'{time_full_feature_comp:.3f}s, '\n",
        "            f'plus {time_full_train:.3f}s training, '\n",
        "            f'for an AUC of {auc_full_features:.2f}. '\n",
        "            f'Computing the restricted feature set took '\n",
        "            f'{time_subs_feature_comp:.3f}s, plus {time_subs_train:.3f}s '\n",
        "            f'training, for an AUC of {auc_subs_features:.2f}.'))\n",
        "\n",
        "print(summary)\n",
        "plt.show()"
      ]
    }
  ],
  "metadata": {
    "interpreter": {
      "hash": "f094a5cfaa0fb3b1e730adb1bd2a385aed1bdbc34460cd7c5bc1913497751e38"
    },
    "kernelspec": {
      "display_name": "Python 3.9.7 ('calc_det')",
      "language": "python",
      "name": "python3"
    },
    "language_info": {
      "codemirror_mode": {
        "name": "ipython",
        "version": 3
      },
      "file_extension": ".py",
      "mimetype": "text/x-python",
      "name": "python",
      "nbconvert_exporter": "python",
      "pygments_lexer": "ipython3",
      "version": "3.9.7"
    }
  },
  "nbformat": 4,
  "nbformat_minor": 0
}
