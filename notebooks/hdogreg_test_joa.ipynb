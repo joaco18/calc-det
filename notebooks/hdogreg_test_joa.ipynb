{
 "cells": [
  {
   "cell_type": "code",
   "execution_count": 1,
   "metadata": {},
   "outputs": [],
   "source": [
    "import sys; sys.path.insert(0, '..')\n",
    "from database.dataset import INBreast_Dataset\n",
    "from mc_candidate_proposal.hdog_mc import HDoGCalcificationDetection\n",
    "import matplotlib.pyplot as plt\n",
    "import cv2\n",
    "from math import sqrt\n",
    "from tqdm import tqdm\n",
    "import numpy as np"
   ]
  },
  {
   "cell_type": "code",
   "execution_count": 2,
   "metadata": {},
   "outputs": [],
   "source": [
    "db = INBreast_Dataset(\n",
    "        return_lesions_mask=True,\n",
    "        level='image',\n",
    "        extract_patches=False,\n",
    "        normalize=None,\n",
    "        n_jobs=-1,\n",
    "        partitions=['train']\n",
    "    )"
   ]
  },
  {
   "cell_type": "code",
   "execution_count": 3,
   "metadata": {},
   "outputs": [],
   "source": [
    "list_img_idx = list(range(3))"
   ]
  },
  {
   "cell_type": "markdown",
   "metadata": {},
   "source": [
    "#### Plot functions"
   ]
  },
  {
   "cell_type": "code",
   "execution_count": 4,
   "metadata": {},
   "outputs": [],
   "source": [
    "def plot_img_rois(index: int, colors = ['yellow','orange'], linewidth = 1,radius = 6):\n",
    "    \"\"\"\n",
    "    Plots the original image with rois as markers. Rectangles for rois with bounding boxes\n",
    "    and circles with given radius for point lesions. Both markers with given linewidth and colors.\n",
    "\n",
    "    Args:\n",
    "        index (int): index of item in the database instance INBreast_Dataset\n",
    "        colors (list, optional): color of the marker [rectangles, circles]. Defaults to ['yellow','orange'].\n",
    "        linewidth (int, optional): width of line. Defaults to 1.\n",
    "        radius (int, optional): radius of circles. Defaults to 6.\n",
    "    \"\"\"\n",
    "    f,ax = plt.subplots(1,2,figsize=(10,8))\n",
    "    ax[0].imshow(db[index]['img'],cmap='gray') # display image\n",
    "    \n",
    "    lesion_bbxs = [[bbox[0],bbox[1][0]-bbox[0][0],bbox[1][1]-bbox[0][1]] \\\n",
    "         for bbox in db[index]['lesion_bboxes'] if bbox[0] != bbox[1]] # get lesion boxes\n",
    "\n",
    "    lesion_pts = [bbox[0] for bbox in db[index]['lesion_bboxes'] if bbox[0] == bbox[1]] # get lesion points\n",
    "    \n",
    "    for coords,width,height in lesion_bbxs:\n",
    "        rec = plt.Rectangle(coords, width=width, height=height, color=colors[0], linewidth=linewidth, fill=False)\n",
    "        ax[0].add_patch(rec)\n",
    "    for coords in lesion_pts:\n",
    "        c = plt.Circle(coords, radius=radius, color=colors[1], linewidth=linewidth, fill=False)\n",
    "        ax[0].add_patch(c)\n",
    "    ax[0].set_title('Image with ROIs')\n",
    "    ax[0].axis('off')\n",
    "    ax[1].imshow(db[index]['lesion_mask'])\n",
    "    ax[1].set_title('Image mask')\n",
    "    ax[1].axis('off')\n",
    "    plt.tight_layout()\n",
    "    plt.show()"
   ]
  },
  {
   "cell_type": "code",
   "execution_count": 5,
   "metadata": {},
   "outputs": [],
   "source": [
    "def easy_plot(i: int):\n",
    "    \"\"\"Plots the original image and mask, of instance INBreast_Dataset\n",
    "\n",
    "    Args:\n",
    "        i (int): index of item\n",
    "    \"\"\"\n",
    "    f,ax = plt.subplots(1,2,figsize=(8,6))\n",
    "    ax[0].imshow(db[i]['img'], cmap='gray' )\n",
    "    ax[1].imshow(db[i]['lesion_mask'])\n",
    "    ax[0].axis('off')\n",
    "    ax[1].axis('off')\n",
    "    plt.show()"
   ]
  },
  {
   "cell_type": "code",
   "execution_count": 6,
   "metadata": {},
   "outputs": [],
   "source": [
    "def gaus_plot(i,img_gaus):\n",
    "    f,ax = plt.subplots(1,2,figsize=(8,6))\n",
    "    ax[0].imshow(db[i]['img'], cmap='gray' )\n",
    "    ax[1].imshow(img_gaus,cmap='gray')\n",
    "    ax[0].axis('off')\n",
    "    ax[1].axis('off')\n",
    "    plt.show()"
   ]
  },
  {
   "cell_type": "code",
   "execution_count": 7,
   "metadata": {},
   "outputs": [],
   "source": [
    "import seaborn as sns\n",
    "\n",
    "def plot_img_hist(img):\n",
    "    fig, ax = plt.subplots(1, 2, figsize=(15, 10))\n",
    "    ax[0].imshow(img,cmap='gray')\n",
    "    sns.histplot(img.flatten(), ax=ax[1], bins=1000, element='poly', alpha=0.2)\n",
    "    ax[1].set_yscale(\"log\")"
   ]
  },
  {
   "cell_type": "code",
   "execution_count": 8,
   "metadata": {},
   "outputs": [],
   "source": [
    "def plot_blobs(image,image_blobs):\n",
    "    f,ax = plt.subplots(1,1,figsize=(10,10))\n",
    "    ax.imshow(image,cmap='gray')\n",
    "    for blob in tqdm(image_blobs):\n",
    "        y,x,r = blob\n",
    "        c = plt.Circle((x, y), r, color='yellow', linewidth=1, fill=False)\n",
    "        ax.add_patch(c)\n",
    "    plt.axis('off')\n",
    "    plt.tight_layout()\n",
    "    plt.show()"
   ]
  },
  {
   "cell_type": "markdown",
   "metadata": {},
   "source": [
    "#### Metric functions"
   ]
  },
  {
   "cell_type": "code",
   "execution_count": 9,
   "metadata": {},
   "outputs": [],
   "source": [
    "def circle_comparison(true_bboxes, predicted_roi_circles, mask):\n",
    "    \"\"\"Finds TP, FP and number of FN for a prediction of circles given image mask\n",
    "\n",
    "    Args:\n",
    "        true_bboxes (np.ndarray): Array of shape (n_rois, 2) containing\n",
    "            tl and br bbox coordinates in tuples\n",
    "        predicted_roi_circles (np.ndarray): Array of shape (n_predicted_circ, 3)\n",
    "            with circle_x, circle_y and circle_radius values\n",
    "        mask (np.ndarray): Image mask containing indexes of rois\n",
    "\n",
    "    Returns:\n",
    "        TP (set): contains TP roi indexes\n",
    "        FP (set): contains FP circle indexes (that weren't mapped to any rois)\n",
    "        FN (int): number of rois not mapped to any of the predicted circles\n",
    "    \"\"\"\n",
    "    TP = set()\n",
    "    FP = []\n",
    "\n",
    "    true_mask = mask\n",
    "\n",
    "    for circle_idx, circle in enumerate(tqdm(predicted_roi_circles.astype(int))):\n",
    "        circle_roi_mask=cv2.circle(np.zeros(mask.shape),\n",
    "                                     (circle[0], circle[1]),\n",
    "                                     circle[2], 1, -1).astype(np.bool8)\n",
    "\n",
    "        mapped_rois_idxs=set(\n",
    "            np.unique(true_mask[circle_roi_mask])).difference(set([0]))\n",
    "        if len(mapped_rois_idxs) > 0:\n",
    "            TP = TP.union(mapped_rois_idxs)\n",
    "        else:\n",
    "            FP.append(circle_idx)\n",
    "    FN = len(true_bboxes) - len(TP)\n",
    "    return TP, FP, FN"
   ]
  },
  {
   "cell_type": "code",
   "execution_count": 10,
   "metadata": {},
   "outputs": [],
   "source": [
    "def quick_circle_comparison(true_bboxes, predicted_roi_circles, mask, n_jobs=6):\n",
    "    \"\"\"Finds TP, FP and number of FN for a prediction of circles given image mask\n",
    "\n",
    "    Args:\n",
    "        true_bboxes (np.ndarray): Array of shape (n_rois, 2) containing\n",
    "            tl and br bbox coordinates in tuples\n",
    "        predicted_roi_circles (np.ndarray): Array of shape (n_predicted_circ, 3)\n",
    "            with circle_x, circle_y and circle_radius values\n",
    "        mask (np.ndarray): Image mask containing indexes of rois\n",
    "\n",
    "    Returns:\n",
    "        TP (set): contains TP roi indexes\n",
    "        FP (int): contains FP circle indexes (thate weren't mapped to any rois)\n",
    "        FN (int): number of rois not mapped to any of the predicted circles\n",
    "    \"\"\"\n",
    "    TP = []\n",
    "    FP = 0\n",
    "    FN = 0\n",
    "    \n",
    "    for circle in predicted_roi_circles.astype(int):\n",
    "        cricle_tl = (max(0, circle[0] - circle[2]), max(0, circle[1] - circle[2]))\n",
    "        circle_br = (min(mask.shape[1], circle[0] + circle[2]), min(mask.shape[0], circle[1] + circle[2]))\n",
    "        \n",
    "        intersected_mask_idxs = np.unique(mask[cricle_tl[1]:circle_br[1], cricle_tl[0]:circle_br[0]])\n",
    "        if intersected_mask_idxs.sum()>0:\n",
    "            TP.extend(intersected_mask_idxs)\n",
    "        else:\n",
    "            FP+=1\n",
    "    TP = set(np.unique(TP)).difference(set([0]))\n",
    "    FN = len(true_bboxes) - len(TP)\n",
    "    return TP, FP, FN"
   ]
  },
  {
   "cell_type": "markdown",
   "metadata": {},
   "source": [
    "### Pipe 1"
   ]
  },
  {
   "cell_type": "code",
   "execution_count": 11,
   "metadata": {},
   "outputs": [],
   "source": [
    "def cal_det_se(no_tp,no_fn):\n",
    "    return no_tp/(no_tp+no_fn)\n",
    "\n",
    "def fp_per_unit_area(image_shape,no_fp):\n",
    "    return no_fp/(image_shape[0] * image_shape[1] * (0.070**2)/100)"
   ]
  },
  {
   "cell_type": "code",
   "execution_count": 12,
   "metadata": {},
   "outputs": [],
   "source": [
    "import math\n",
    "def create_binary_mask_from_blobs_a(shape: tuple, blobs_x_y_sigma: list):\n",
    "    img_binary_blobs = np.zeros(shape)\n",
    "    for blob in blobs_x_y_sigma:\n",
    "        img_binary_blobs = cv2.circle(\n",
    "            img_binary_blobs, (blob[1], blob[0]), int(blob[2] / 2), 255, -1\n",
    "        )\n",
    "    return img_binary_blobs"
   ]
  },
  {
   "cell_type": "code",
   "execution_count": 15,
   "metadata": {},
   "outputs": [
    {
     "name": "stderr",
     "output_type": "stream",
     "text": [
      "  0%|          | 0/2 [00:00<?, ?it/s]"
     ]
    },
    {
     "name": "stdout",
     "output_type": "stream",
     "text": [
      "Img: 0, h_thr: 1.14 SE: 0.35135135135135137,FPpua: 1673.479750624485\n",
      "No_blobs: 554936, filtered: 555977\n",
      "Img: 0, h_thr: 0.3 SE: 0.35135135135135137,FPpua: 1673.479750624485\n",
      "No_blobs: 554936, filtered: 555977\n",
      "Img: 0, h_thr: 0.25 SE: 0.35135135135135137,FPpua: 1673.479750624485\n",
      "No_blobs: 554936, filtered: 555977\n",
      "Img: 0, h_thr: 0.24 SE: 0.35135135135135137,FPpua: 1435.5559904716854\n",
      "No_blobs: 476038, filtered: 555977\n",
      "Img: 0, h_thr: 0.23 SE: 0.35135135135135137,FPpua: 1243.3874955718788\n",
      "No_blobs: 412315, filtered: 555977\n"
     ]
    },
    {
     "name": "stderr",
     "output_type": "stream",
     "text": [
      " 50%|█████     | 1/2 [02:13<02:13, 133.03s/it]"
     ]
    },
    {
     "name": "stdout",
     "output_type": "stream",
     "text": [
      "Img: 1, h_thr: 1.14 SE: 0.1016949152542373,FPpua: 1454.0845105629157\n",
      "No_blobs: 397919, filtered: 398140\n",
      "Img: 1, h_thr: 0.3 SE: 0.1016949152542373,FPpua: 1454.0845105629157\n",
      "No_blobs: 397919, filtered: 398140\n",
      "Img: 1, h_thr: 0.25 SE: 0.1016949152542373,FPpua: 1454.0845105629157\n",
      "No_blobs: 397919, filtered: 398140\n",
      "Img: 1, h_thr: 0.24 SE: 0.1016949152542373,FPpua: 1238.491603940109\n",
      "No_blobs: 338924, filtered: 398140\n",
      "Img: 1, h_thr: 0.23 SE: 0.1016949152542373,FPpua: 1063.0688371552158\n",
      "No_blobs: 290920, filtered: 398140\n"
     ]
    },
    {
     "name": "stderr",
     "output_type": "stream",
     "text": [
      "100%|██████████| 2/2 [03:41<00:00, 110.56s/it]\n"
     ]
    }
   ],
   "source": [
    "h_thr_list = [1.14, 0.3, 0.25, 0.24, 0.23]\n",
    "\n",
    "# Default parameters\n",
    "dog_parameters = {\n",
    "    'min_sigma': 1.18,\n",
    "    'max_sigma': 3.1,\n",
    "    'sigma_ratio': 1.05,\n",
    "    'n_scales': None,\n",
    "    'dog_blob_th': 0.006,\n",
    "    'dog_overlap': 1\n",
    "}\n",
    "\n",
    "hessian_parameters = {\n",
    "    'method': 'marasinou',\n",
    "    'hessian_threshold': 1.4,\n",
    "    'hessian_th_divider': 200.\n",
    "}\n",
    "\n",
    "processed_imgs_path = '/home/jseia/Desktop/ml-dl/data/hdog_preprocessed_images'\n",
    "detections_path = '/home/jseia/Desktop/ml-dl/data/hdog_detections'\n",
    "\n",
    "for idx in tqdm(range(0, 2), total=2):\n",
    "    for h_thr in h_thr_list:\n",
    "        hessian_parameters['hessian_threshold'] = h_thr\n",
    "        detector = HDoGCalcificationDetection(dog_parameters, hessian_parameters, processed_imgs_path, detections_path)\n",
    "        detections, candidate_detections = detector.detect(db[idx]['img'], db.df.at[idx, 'img_id'])\n",
    "        img_mask = create_binary_mask_from_blobs_a(db[idx]['img'].shape, detections.astype(int))\n",
    "        detections = detections.copy()\n",
    "        detections[:, 2] = detections[:, 2]*sqrt(2)\n",
    "        TP, FP, FN = quick_circle_comparison(\n",
    "            db[idx]['lesion_bboxes'], (detections).astype(int), db[idx]['lesion_mask']\n",
    "        )\n",
    "        print(f'Img: {idx}, h_thr: {h_thr} SE: {cal_det_se(len(TP),FN)},FPpua: {fp_per_unit_area(img_mask.shape,FP)}')\n",
    "        print(f'No_blobs: {len(detections)}, filtered: {len(candidate_detections)}')\n",
    "    detector.delete_hdog_file()"
   ]
  },
  {
   "cell_type": "code",
   "execution_count": 16,
   "metadata": {},
   "outputs": [],
   "source": [
    "import h5py\n",
    "path = '/home/jseia/Desktop/ml-dl/data/hdog_detections/det_ms-1.18_sr-1.05_Ms-3.1_m-marasinou_dth-0.006_hdiv-200.0_hth-1.14.hdf5'\n",
    "with h5py.File(path, 'r') as f:\n",
    "    raw_detections = f[f'{db.df.at[idx, \"img_id\"]}/hessian_detections'][:]"
   ]
  },
  {
   "cell_type": "code",
   "execution_count": 17,
   "metadata": {},
   "outputs": [
    {
     "data": {
      "text/plain": [
       "array([[   2,    0,    1],\n",
       "       [   2,    9,    1],\n",
       "       [   3,   15,    1],\n",
       "       ...,\n",
       "       [3323,  192,    2],\n",
       "       [3324,   30,    2],\n",
       "       [2006,  510,    2]])"
      ]
     },
     "execution_count": 17,
     "metadata": {},
     "output_type": "execute_result"
    }
   ],
   "source": [
    "raw_detections.astype(int)"
   ]
  },
  {
   "cell_type": "code",
   "execution_count": 9,
   "metadata": {},
   "outputs": [],
   "source": [
    "# plot_img_hist(db[3]['img'])\n",
    "# plot_img_hist(img_mask)"
   ]
  },
  {
   "cell_type": "markdown",
   "metadata": {},
   "source": [
    "### Test run of images subset"
   ]
  },
  {
   "cell_type": "code",
   "execution_count": 8,
   "metadata": {},
   "outputs": [],
   "source": [
    "# # img_list = np.asarray([i for i in range(db.df.shape[0])])\n",
    "# # img_list_sample =  np.random.choice(img_list,size=30,replace=False)\n",
    "# img_list_sample = np.asarray([\n",
    "#        111, 175,  12, 218, 205,  74, 210, 173, 189, 216,  73,  15, 258,\n",
    "#        106,  22, 226, 252, 135, 234, 290,  64, 152, 239, 201,  89,  52,\n",
    "#        122, 248, 280,  63\n",
    "# ])\n"
   ]
  },
  {
   "cell_type": "code",
   "execution_count": 1,
   "metadata": {},
   "outputs": [],
   "source": [
    "# list_imgs = [] \n",
    "# for img_idx in tqdm(img_list_sample,total=img_list_sample.shape[0]):\n",
    "#     imgs_binary_blobs = {}\n",
    "#     img_mask,blob_list,no_blobs,no_blobs_filtered = get_image_blobs_2(db[img_idx]['img'])\n",
    "#     imgs_binary_blobs['img_index'] = img_idx\n",
    "#     blob_list_arr = np.array(blob_list.copy())\n",
    "#     blob_list_arr[:,2] = blob_list_arr[:,2]*sqrt(2)\n",
    "#     blob_list_arr[:,[0, 1]] = blob_list_arr[:,[1, 0]]\n",
    "#     TP, FP, FN = quick_circle_comparison(db[img_idx]['lesion_bboxes'],(blob_list_arr).astype(int),db[img_idx]['lesion_mask'])\n",
    "    \n",
    "#     pred_se = cal_det_se(len(TP),FN)\n",
    "#     print(f'Sensitivity of image {img_idx}: {pred_se}')\n",
    "#     fp_pua = fp_per_unit_area(img_mask.shape,FP)\n",
    "#     print(f'FP per unit area (sqr cm): {fp_pua}')\n",
    "    \n",
    "#     imgs_binary_blobs['Sensitivity'] = pred_se\n",
    "#     imgs_binary_blobs['FP_pua'] = fp_pua\n",
    "#     imgs_binary_blobs['No_blobs'] = no_blobs\n",
    "#     imgs_binary_blobs['No_filtered_blobs'] = no_blobs_filtered\n",
    "#     list_imgs.append(imgs_binary_blobs)\n",
    "\n",
    "\n",
    "# # Default parameters\n",
    "# dog_parameters = {\n",
    "#     'min_sigma': 1.18,\n",
    "#     'max_sigma': 3.1,\n",
    "#     'sigma_ratio': 1.05,\n",
    "#     'n_scales': None,\n",
    "#     'dog_blob_th': 0.006,\n",
    "#     'dog_overlap': 1\n",
    "# }\n",
    "\n",
    "# hessian_parameters = {\n",
    "#     'method': 'marasinou',\n",
    "#     'hessian_threshold': 1.4,\n",
    "#     'hessian_th_divider': 200.\n",
    "# }\n",
    "\n",
    "# processed_imgs_path = '/home/jseia/Desktop/ml-dl/data/hdog_preprocessed_images'\n",
    "# detections_path = '/home/jseia/Desktop/ml-dl/data/hdog_detections'\n",
    "\n",
    "# for idx in (range(1, 4)):\n",
    "#     for h_thr in h_thr_list:\n",
    "#         hessian_parameters['hessian_threshold'] = h_thr\n",
    "#         detector = HDoGCalcificationDetection(dog_parameters, hessian_parameters, processed_imgs_path, detections_path)\n",
    "#         detections, candidate_detections = detector.detect(db[idx]['img'], db.df.at[idx, 'img_id'])\n",
    "        \n",
    "#         img_mask = create_binary_mask_from_blobs(db[idx]['img'].shape, detections.astype(int))\n",
    "#         detections = detections.copy()\n",
    "#         detections[:, 2] = detections[:, 2]*sqrt(2)\n",
    "#         TP, FP, FN = quick_circle_comparison(\n",
    "#             db[idx]['lesion_bboxes'], (detections).astype(int), db[idx]['lesion_mask']\n",
    "#         )\n",
    "#         print(f'Img: {idx}, h_thr: {h_thr} SE: {cal_det_se(len(TP),FN)},FPpua: {fp_per_unit_area(img_mask.shape,FP)}')\n",
    "#         print(f'    No_blobs: {len(detections)}, filtered: {len(candidate_detections)}')\n",
    "#     detector.delete_hdog_file()\n"
   ]
  },
  {
   "cell_type": "code",
   "execution_count": 7,
   "metadata": {},
   "outputs": [],
   "source": [
    "# se_values = [ins['Sensitivity']for ins in list_imgs]\n",
    "# plt.boxplot(se_values)\n",
    "# plt.title('Sensitivity of 30 samples')\n",
    "# plt.grid('on')"
   ]
  },
  {
   "cell_type": "code",
   "execution_count": 6,
   "metadata": {},
   "outputs": [],
   "source": [
    "# print(np.asarray(se_values).mean())\n",
    "# print(np.asarray(se_values).std())"
   ]
  },
  {
   "cell_type": "code",
   "execution_count": 5,
   "metadata": {},
   "outputs": [],
   "source": [
    "# #fp_values = [30.909901284623576, 10.394047736381305,74.53340210271118,4.683384256286333,1.9745396263295723,3.4205948119680607,23.121054198602593,0.858674514666902,13.590545289117077,4.548411690608931,11.44532675171463,0.7802536954658975,8.896454882951506,1.6205186178142958,5.1301042633063005,4.4459818382810194,31.862220640220453,1.528085390293803,3.9626919300853216,56.922418975116756,74.89201789237066,7.83489492062152,27.935772460361054,12.111962100020257,11.594564969328971,22.73265521421926,5.820922509759327,0.36262608735698704,16.280833219844524,8.264114117760382]\n",
    "# fp_values = [ins['FP_pua']for ins in list_imgs]\n",
    "# plt.boxplot(fp_values)\n",
    "# plt.title('FP per unit area (sqr cm) of 30 samples')\n",
    "# plt.grid('on')"
   ]
  },
  {
   "cell_type": "code",
   "execution_count": 37,
   "metadata": {},
   "outputs": [
    {
     "data": {
      "text/plain": [
       "{'img_index': 111,\n",
       " 'Sensitivity': 0.875,\n",
       " 'FP_pua': 0.875,\n",
       " 'No_blobs': 125234,\n",
       " 'No_filtered_blobs': 8058}"
      ]
     },
     "execution_count": 37,
     "metadata": {},
     "output_type": "execute_result"
    }
   ],
   "source": [
    "list_imgs[0]"
   ]
  },
  {
   "cell_type": "code",
   "execution_count": 3,
   "metadata": {},
   "outputs": [],
   "source": [
    "# for im_index,image_results in enumerate(list_imgs):\n",
    "#     no_fp = image_results['FP']\n",
    "#     no_tp = len(image_results['TP'])\n",
    "#     no_fn = image_results['FN']\n",
    "#     print(f'Sensitivity of image {im_index}: {cal_det_se(no_tp,no_fn)}')\n",
    "#     fp_pua = fp_per_unit_area(image_results['img_mask'].shape,no_fp)\n",
    "#     print(f'FP per unit area (sqr cm): {fp_pua}')"
   ]
  },
  {
   "cell_type": "code",
   "execution_count": 2,
   "metadata": {},
   "outputs": [],
   "source": [
    "# list_imgs = [] \n",
    "# for img_idx in range(10):\n",
    "#     imgs_binary_blobs = {}\n",
    "#     img_mask,blob_list = get_image_blobs(list_img[img_idx],hess_fil_type=2)\n",
    "#     imgs_binary_blobs['img_mask'] = img_mask\n",
    "#     imgs_binary_blobs['blobs_coords'] = blob_list\n",
    "    \n",
    "#     blob_list_arr = np.array(blob_list.copy())\n",
    "#     blob_list_arr[:,2] = blob_list_arr[:,2]*sqrt(2)\n",
    "#     blob_list_arr[:,[0, 1]] = blob_list_arr[:,[1, 0]]\n",
    "#     TP, FP, FN = quick_circle_comparison(db[img_idx]['lesion_bboxes'],(blob_list_arr).astype(int),db[img_idx]['lesion_mask'])\n",
    "#     imgs_binary_blobs['TP'] = TP\n",
    "#     imgs_binary_blobs['FP'] = FP\n",
    "#     imgs_binary_blobs['FN'] = FN\n",
    "#     list_imgs.append(imgs_binary_blobs)"
   ]
  },
  {
   "cell_type": "code",
   "execution_count": 4,
   "metadata": {},
   "outputs": [],
   "source": [
    "# for im_index,image_results in enumerate(list_imgs):\n",
    "#     no_fp = image_results['FP']\n",
    "#     no_tp = len(image_results['TP'])\n",
    "#     no_fn = image_results['FN']\n",
    "#     print(f'Sensitivity of image {im_index}: {cal_det_se(no_tp,no_fn)}')\n",
    "#     fp_pua = fp_per_unit_area(image_results['img_mask'].shape,no_fp)\n",
    "#     print(f'FP per unit area (sqr cm): {fp_pua}')"
   ]
  }
 ],
 "metadata": {
  "interpreter": {
   "hash": "8ab45429292b8c8d52adfccac89ea4e289d08f2268b5660b680af7ba70e29507"
  },
  "kernelspec": {
   "display_name": "Python 3.9.7 ('calc_det')",
   "language": "python",
   "name": "python3"
  },
  "language_info": {
   "codemirror_mode": {
    "name": "ipython",
    "version": 3
   },
   "file_extension": ".py",
   "mimetype": "text/x-python",
   "name": "python",
   "nbconvert_exporter": "python",
   "pygments_lexer": "ipython3",
   "version": "3.9.7"
  },
  "orig_nbformat": 4
 },
 "nbformat": 4,
 "nbformat_minor": 2
}
