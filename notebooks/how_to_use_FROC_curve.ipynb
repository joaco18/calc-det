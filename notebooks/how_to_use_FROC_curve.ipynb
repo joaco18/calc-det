{
 "cells": [
  {
   "cell_type": "code",
   "execution_count": 125,
   "metadata": {},
   "outputs": [
    {
     "ename": "ImportError",
     "evalue": "cannot import name 'get_froc_df_of_many_imgs_features' from 'metrics.metrics' (/home/jseia/Desktop/ml-dl/calc-det/notebooks/../metrics/metrics.py)",
     "output_type": "error",
     "traceback": [
      "\u001b[0;31m---------------------------------------------------------------------------\u001b[0m",
      "\u001b[0;31mImportError\u001b[0m                               Traceback (most recent call last)",
      "\u001b[0;32m/tmp/ipykernel_209245/2479907101.py\u001b[0m in \u001b[0;36m<module>\u001b[0;34m\u001b[0m\n\u001b[1;32m     14\u001b[0m \u001b[0;32mimport\u001b[0m \u001b[0mgeneral_utils\u001b[0m\u001b[0;34m.\u001b[0m\u001b[0mutils\u001b[0m \u001b[0;32mas\u001b[0m \u001b[0mutils\u001b[0m\u001b[0;34m\u001b[0m\u001b[0;34m\u001b[0m\u001b[0m\n\u001b[1;32m     15\u001b[0m \u001b[0;32mfrom\u001b[0m \u001b[0mgeneral_utils\u001b[0m\u001b[0;34m.\u001b[0m\u001b[0mplots\u001b[0m \u001b[0;32mimport\u001b[0m \u001b[0mplot_froc\u001b[0m\u001b[0;34m,\u001b[0m \u001b[0mplot_bootstrap_froc\u001b[0m\u001b[0;34m\u001b[0m\u001b[0;34m\u001b[0m\u001b[0m\n\u001b[0;32m---> 16\u001b[0;31m \u001b[0;32mfrom\u001b[0m \u001b[0mmetrics\u001b[0m\u001b[0;34m.\u001b[0m\u001b[0mmetrics\u001b[0m \u001b[0;32mimport\u001b[0m \u001b[0mfroc_curve\u001b[0m\u001b[0;34m,\u001b[0m \u001b[0mfroc_curve_bootstrap\u001b[0m\u001b[0;34m,\u001b[0m \u001b[0mget_froc_df_of_img\u001b[0m\u001b[0;34m,\u001b[0m \u001b[0mget_froc_df_of_many_imgs_features\u001b[0m\u001b[0;34m\u001b[0m\u001b[0;34m\u001b[0m\u001b[0m\n\u001b[0m\u001b[1;32m     17\u001b[0m \u001b[0;32mfrom\u001b[0m \u001b[0mmc_candidate_proposal\u001b[0m\u001b[0;34m.\u001b[0m\u001b[0mcandidate_utils\u001b[0m \u001b[0;32mimport\u001b[0m \u001b[0mbalance_candidates\u001b[0m\u001b[0;34m\u001b[0m\u001b[0;34m\u001b[0m\u001b[0m\n\u001b[1;32m     18\u001b[0m \u001b[0;34m\u001b[0m\u001b[0m\n",
      "\u001b[0;31mImportError\u001b[0m: cannot import name 'get_froc_df_of_many_imgs_features' from 'metrics.metrics' (/home/jseia/Desktop/ml-dl/calc-det/notebooks/../metrics/metrics.py)"
     ]
    }
   ],
   "source": [
    "import sys; sys.path.insert(0, '..')\n",
    "\n",
    "import numpy as np\n",
    "import pickle\n",
    "import matplotlib.pyplot as plt\n",
    "\n",
    "from sklearn.ensemble import RandomForestClassifier\n",
    "from sklearn.metrics import roc_auc_score\n",
    "\n",
    "from database.dataset import *\n",
    "from mc_candidate_proposal.hough_mc import HoughCalcificationDetection\n",
    "from feature_extraction.feature_extraction import CandidatesFeatureExtraction\n",
    "import feature_extraction.haar_features.haar_modules as hm\n",
    "import general_utils.utils as utils\n",
    "from general_utils.plots import plot_froc, plot_bootstrap_froc\n",
    "from metrics.metrics import froc_curve, froc_curve_bootstrap, get_froc_df_of_img, get_froc_df_of_many_imgs_features\n",
    "from mc_candidate_proposal.candidate_utils import balance_candidates\n",
    "\n",
    "cmap = plt.get_cmap(\"tab10\")"
   ]
  },
  {
   "cell_type": "code",
   "execution_count": 9,
   "metadata": {},
   "outputs": [],
   "source": [
    "db = INBreast_Dataset(\n",
    "        return_lesions_mask=True,\n",
    "        level='image',\n",
    "        max_lesion_diam_mm=1.0,\n",
    "        partitions=['train', 'validation'],  # This is not working as you want since last update, to do so include validation\n",
    "        extract_patches=True,\n",
    "        extract_patches_method='all',  # 'centered'\n",
    "        patch_size=256,\n",
    "        stride=256,\n",
    "        min_breast_fraction_roi=0.5,\n",
    "        normalize=None,\n",
    "        n_jobs=-1,\n",
    ")"
   ]
  },
  {
   "cell_type": "markdown",
   "metadata": {},
   "source": [
    "# Settings"
   ]
  },
  {
   "cell_type": "code",
   "execution_count": 56,
   "metadata": {},
   "outputs": [],
   "source": [
    "CENTER_CROP_PATCH = 7\n",
    "PATCH_SIZE = 30\n",
    "\n",
    "hd = HoughCalcificationDetection()\n",
    "\n",
    "# Feature extractor\n",
    "haar_params = {\n",
    "    'skimage': {\n",
    "        'feature_type': [], 'feature_coord': []\n",
    "    },\n",
    "    'ours': {\n",
    "        'horizontal_feature_types': [(hm.Feature3h3v, 3, 3)],\n",
    "        'rotated_feature_types': None,\n",
    "        'horizontal_feature_selection': None,\n",
    "        'rotated_feature_selection': None,\n",
    "    },\n",
    "    'patch_size': 14\n",
    "}\n",
    "\n",
    "cfe = CandidatesFeatureExtraction(patch_size=PATCH_SIZE, fos=False, haar_params=haar_params)"
   ]
  },
  {
   "cell_type": "markdown",
   "metadata": {},
   "source": [
    "# Example of how to train / validate a model with my changes\n",
    "# (using feature arrays of all candidates)"
   ]
  },
  {
   "cell_type": "code",
   "execution_count": 124,
   "metadata": {},
   "outputs": [
    {
     "name": "stdout",
     "output_type": "stream",
     "text": [
      "Auc test: 0.949213838294348\n"
     ]
    },
    {
     "data": {
      "image/png": "[encoded data removed]",
      "text/plain": [
       "<Figure size 576x576 with 1 Axes>"
      ]
     },
     "metadata": {
      "needs_background": "light"
     },
     "output_type": "display_data"
    },
    {
     "data": {
      "image/png": "[encoded data removed]",
      "text/plain": [
       "<Figure size 576x576 with 1 Axes>"
      ]
     },
     "metadata": {
      "needs_background": "light"
     },
     "output_type": "display_data"
    }
   ],
   "source": [
    "test_img_id = db.df.img_id.unique()[:50] \n",
    "fdf = []\n",
    "fns_df = []\n",
    "for idx in tqdm(range(len(db))):\n",
    "    # Get image to process\n",
    "    db_sample = db[idx]\n",
    "    image = db_sample['img']\n",
    "    image_id = db_sample['img_id']\n",
    "    image_mask = db_sample['lesion_mask']\n",
    "\n",
    "    # candidate detection\n",
    "    candidates = hd.detect(image, image_id, load_processed_images=True, hough2=False)[0]\n",
    "\n",
    "    # labeling of candidates:\n",
    "    tp, fp, fn = utils.get_tp_fp_fn_center_patch_criteria(\n",
    "        candidates, image_mask, CENTER_CROP_PATCH, PATCH_SIZE)\n",
    "\n",
    "    # Balancing the candidates\n",
    "    tp, fp = balance_candidates(tp, fp, fp2tp_sample=10)\n",
    "\n",
    "    # Extracting features\n",
    "    candidates = tp + fp\n",
    "    labels = np.array([True] * len(tp) + [False] * len(fp))\n",
    "    \n",
    "    X = cfe.extract_features(np.asarray(candidates), image)\n",
    "\n",
    "    # Get features dfs\n",
    "    res = pd.DataFrame(data=X, columns=cfe.feature_names)\n",
    "    res['labels'] = labels\n",
    "    res['img_id'] = image_id\n",
    "\n",
    "    # Generate a fn dataframe to compute frocs\n",
    "    fn_df = pd.DataFrame(fn, columns=['x', 'y', 'radius'])\n",
    "    fn_df['labels'] = 'FN'\n",
    "    fn_df['img_id'] = image_id\n",
    "    fns_df.append(fn_df)\n",
    "\n",
    "    fdf.append(res)\n",
    "\n",
    "data = pd.concat(fdf, ignore_index=True)\n",
    "fns_df = pd.concat(fns_df, ignore_index=True)\n",
    "\n",
    "# Divide train and test based on cases (cross validation image wise)\n",
    "train_df = data[~data.img_id.isin(test_img_id)]\n",
    "train_fns_df = fns_df[~fns_df.img_id.isin(test_img_id)]\n",
    "test_df = data[data.img_id.isin(test_img_id)]\n",
    "test_fns_df = fns_df[fns_df.img_id.isin(test_img_id)]\n",
    "\n",
    "# Generate features and labels datasets\n",
    "train_X = train_df.drop(columns=['patch_coordinates', 'candidate_coordinates', 'labels', 'img_id'])\n",
    "train_y = (train_df.labels).astype(int)\n",
    "test_X = test_df.drop(columns=['patch_coordinates', 'candidate_coordinates', 'labels', 'img_id'])\n",
    "test_y = (test_df.labels).astype(int)\n",
    "\n",
    "#Train a random forest classifier\n",
    "clf = RandomForestClassifier(n_estimators=1000, max_depth=None, n_jobs=-1, random_state=0)\n",
    "clf.fit(train_X, train_y)\n",
    "\n",
    "# Store the trained models\n",
    "path = (Path.cwd().parent.parent / 'data')\n",
    "filename = f'test_roc_clf.sav'\n",
    "pickle.dump(clf, open(path / filename, 'wb'))\n",
    "\n",
    "# Asses performance\n",
    "test_y_predicted = clf.predict_proba(test_X)[:, 1]\n",
    "train_y_predicted = clf.predict_proba(train_X)[:, 1]\n",
    "\n",
    "auc_test = roc_auc_score(test_y, test_y_predicted)\n",
    "\n",
    "print(f'Auc test: {auc_test}')\n",
    "\n",
    "froc_df = get_froc_df_of_many_imgs_features(\n",
    "    test_df[['candidate_coordinates', 'labels', 'img_id']],\n",
    "    test_fns_df,\n",
    "    test_y_predicted\n",
    ")\n",
    "\n",
    "froc_df_train = get_froc_df_of_many_imgs_features(\n",
    "    train_df[['candidate_coordinates', 'labels', 'img_id']],\n",
    "    train_fns_df,\n",
    "    train_y_predicted\n",
    ")\n",
    "\n",
    "sens, avgs_fp_per_image, _ = froc_curve(froc_df)\n",
    "plot_froc(avgs_fp_per_image, sens, label='test')\n",
    "sens, avgs_fp_per_image, _ = froc_curve(froc_df_train)\n",
    "plot_froc(avgs_fp_per_image, sens, label='train')\n",
    "\n",
    "# avg_sensitivities, std_sensitivities, avg_avgs_fp_per_image, _, _ = froc_curve_bootstrap(froc_df, n_sets=30)\n",
    "# plot_bootstrap_froc(avg_avgs_fp_per_image, avg_sensitivities, std_sensitivities)"
   ]
  },
  {
   "cell_type": "markdown",
   "metadata": {},
   "source": [
    "# Example of how to test image by image a model with my changes"
   ]
  },
  {
   "cell_type": "code",
   "execution_count": 50,
   "metadata": {},
   "outputs": [
    {
     "name": "stderr",
     "output_type": "stream",
     "text": [
      "100%|██████████| 154/154 [03:24<00:00,  1.33s/it]\n"
     ]
    }
   ],
   "source": [
    "# Save the model to disk\n",
    "test_img_id = db.df.img_id.unique()[:50]\n",
    "filename = f'test_roc_clf.sav'\n",
    "clf = pickle.load(open(path / filename, 'rb'))\n",
    "\n",
    "froc_dfs = []\n",
    "for idx in tqdm(range(len(db))):\n",
    "    # Get image to process\n",
    "    db_sample = db[idx]\n",
    "    image = db_sample['img']\n",
    "    image_id = db_sample['img_id']\n",
    "    if image_id not in test_img_id:\n",
    "        continue\n",
    "    \n",
    "    image_mask = db_sample['lesion_mask']\n",
    "\n",
    "    # candidate detection\n",
    "    candidates = hd.detect(image, image_id, load_processed_images=True, hough2=False)[0]\n",
    "\n",
    "    # labeling of candidates:\n",
    "    tp, fp, fn = utils.get_tp_fp_fn_center_patch_criteria(\n",
    "        candidates, image_mask, CENTER_CROP_PATCH, PATCH_SIZE)\n",
    "\n",
    "    # Balancing the candidates\n",
    "    tp, fp = balance_candidates(tp, fp, fp2tp_sample=10)\n",
    "\n",
    "    # Extracting features\n",
    "    candidates = tp + fp\n",
    "    labels = np.array([True] * len(tp) + [False] * len(fp))\n",
    "    \n",
    "    X = cfe.extract_features(np.asarray(candidates), image)\n",
    "    \n",
    "    predictions = clf.predict_proba(X[:,:-2])[:, 1]\n",
    "    \n",
    "    froc_df = get_froc_df_of_img(tp, fp, fn, predictions, image_id)\n",
    "    froc_dfs.append(froc_df)\n",
    "\n",
    "froc_df = pd.concat(froc_dfs, ignore_index=True)\n",
    "\n",
    "sens, avgs_fp_per_image, _ = froc_curve(froc_df)\n",
    "plot_froc(avgs_fp_per_image, sens)\n",
    "\n",
    "avg_sensitivities, std_sensitivities, avg_avgs_fp_per_image, _, _ = froc_curve_bootstrap(froc_df, n_sets=30)\n",
    "plot_bootstrap_froc(avg_avgs_fp_per_image, avg_sensitivities, std_sensitivities)"
   ]
  }
 ],
 "metadata": {
  "interpreter": {
   "hash": "f094a5cfaa0fb3b1e730adb1bd2a385aed1bdbc34460cd7c5bc1913497751e38"
  },
  "kernelspec": {
   "display_name": "Python 3.9.7 ('calc_det')",
   "language": "python",
   "name": "python3"
  },
  "language_info": {
   "codemirror_mode": {
    "name": "ipython",
    "version": 3
   },
   "file_extension": ".py",
   "mimetype": "text/x-python",
   "name": "python",
   "nbconvert_exporter": "python",
   "pygments_lexer": "ipython3",
   "version": "3.9.7"
  },
  "orig_nbformat": 4
 },
 "nbformat": 4,
 "nbformat_minor": 2
}
